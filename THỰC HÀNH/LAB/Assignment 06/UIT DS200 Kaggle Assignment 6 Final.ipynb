{
  "nbformat": 4,
  "nbformat_minor": 0,
  "metadata": {
    "colab": {
      "name": "UIT DS200 Kaggle Assignment 6 Final.ipynb",
      "provenance": [],
      "collapsed_sections": [
        "g6JEWF_Y-tM8"
      ],
      "toc_visible": true
    },
    "kernelspec": {
      "name": "python3",
      "display_name": "Python 3"
    },
    "language_info": {
      "name": "python"
    }
  },
  "cells": [
    {
      "cell_type": "markdown",
      "metadata": {
        "id": "V11tiprMtAWA"
      },
      "source": [
        "**Thành Viên: Phạm Đức Thể, Trần Triệu Vũ, Võ Minh Trí**\n",
        "\n",
        "**MSSV: 19522253, 19522539, 19522396**\n",
        "\n",
        "**Lớp: DS200.M21**\n",
        "\n",
        "**Nội Dung: [Bài tập Kaggle 2](https://www.kaggle.com/competitions/kaggle-assignment-2)**\n",
        "\n",
        "**[Dataset](https://drive.google.com/drive/folders/1_4D3P1j26LUR2DJ5hQQ7P3HID9Sd2Tfu?usp=sharing)**\n",
        "\n",
        "**Ngày: 26/05/2022** \n",
        "\n",
        "[![Open In Colab](https://colab.research.google.com/assets/colab-badge.svg)](https://colab.research.google.com/drive/10xQLBclmnk7uEE5JpD_cscgEVDslIfXT?usp=sharing)"
      ]
    },
    {
      "cell_type": "markdown",
      "metadata": {
        "id": "C5PruyWuWFUN"
      },
      "source": [
        "# **Big Data - UIT DS200 Kaggle Assignment 6**"
      ]
    },
    {
      "cell_type": "markdown",
      "metadata": {
        "id": "atEuesrX1gry"
      },
      "source": [
        "## **Import Library**"
      ]
    },
    {
      "cell_type": "code",
      "execution_count": null,
      "metadata": {
        "colab": {
          "base_uri": "https://localhost:8080/"
        },
        "id": "pKRJrT4rfL4v",
        "outputId": "52956001-c8dd-4f11-dd02-e1531c386301"
      },
      "outputs": [
        {
          "output_type": "stream",
          "name": "stdout",
          "text": [
            "Looking in indexes: https://pypi.org/simple, https://us-python.pkg.dev/colab-wheels/public/simple/\n",
            "Collecting pyspark==3.0.1\n",
            "  Downloading pyspark-3.0.1.tar.gz (204.2 MB)\n",
            "\u001b[K     |████████████████████████████████| 204.2 MB 39 kB/s \n",
            "\u001b[?25hCollecting py4j==0.10.9\n",
            "  Downloading py4j-0.10.9-py2.py3-none-any.whl (198 kB)\n",
            "\u001b[K     |████████████████████████████████| 198 kB 65.3 MB/s \n",
            "\u001b[?25hBuilding wheels for collected packages: pyspark\n",
            "  Building wheel for pyspark (setup.py) ... \u001b[?25l\u001b[?25hdone\n",
            "  Created wheel for pyspark: filename=pyspark-3.0.1-py2.py3-none-any.whl size=204612243 sha256=2e539403a9605289de230a69d5104074a1d5e88d7ffd4eebbc9f86801aeae482\n",
            "  Stored in directory: /root/.cache/pip/wheels/5e/34/fa/b37b5cef503fc5148b478b2495043ba61b079120b7ff379f9b\n",
            "Successfully built pyspark\n",
            "Installing collected packages: py4j, pyspark\n",
            "Successfully installed py4j-0.10.9 pyspark-3.0.1\n"
          ]
        }
      ],
      "source": [
        "!pip install pyspark==3.0.1"
      ]
    },
    {
      "cell_type": "code",
      "execution_count": null,
      "metadata": {
        "colab": {
          "base_uri": "https://localhost:8080/",
          "height": 224
        },
        "id": "grQqXOIa1nck",
        "outputId": "cb5b1287-8935-450b-a6b6-f1e4c49edfb7"
      },
      "outputs": [
        {
          "output_type": "execute_result",
          "data": {
            "text/plain": [
              "<pyspark.sql.session.SparkSession at 0x7f7fda92bcd0>"
            ],
            "text/html": [
              "\n",
              "            <div>\n",
              "                <p><b>SparkSession - in-memory</b></p>\n",
              "                \n",
              "        <div>\n",
              "            <p><b>SparkContext</b></p>\n",
              "\n",
              "            <p><a href=\"http://bde674595360:4040\">Spark UI</a></p>\n",
              "\n",
              "            <dl>\n",
              "              <dt>Version</dt>\n",
              "                <dd><code>v3.0.1</code></dd>\n",
              "              <dt>Master</dt>\n",
              "                <dd><code>local[*]</code></dd>\n",
              "              <dt>AppName</dt>\n",
              "                <dd><code>BigDataAssignment6</code></dd>\n",
              "            </dl>\n",
              "        </div>\n",
              "        \n",
              "            </div>\n",
              "        "
            ]
          },
          "metadata": {},
          "execution_count": 2
        }
      ],
      "source": [
        "import numpy as np\n",
        "import pandas\n",
        "import time\n",
        "import seaborn as sns\n",
        "import matplotlib.pyplot as plt\n",
        "\n",
        "from IPython.core.display import display\n",
        "from pyspark.sql import SparkSession\n",
        "from pyspark.sql.types import FloatType\n",
        "from pyspark.sql import functions as f\n",
        "from pyspark.sql import Row\n",
        "from pyspark.ml.feature import StringIndexer, OneHotEncoder, VectorAssembler, StopWordsRemover, RegexTokenizer, HashingTF, IDF, Tokenizer, CountVectorizer, Word2Vec\n",
        "from pyspark.ml import Pipeline\n",
        "from pyspark.ml.classification import LogisticRegression\n",
        "from pyspark.ml.evaluation import RegressionEvaluator, MulticlassClassificationEvaluator\n",
        "from pyspark.ml.tuning import CrossValidator, ParamGridBuilder\n",
        "from pprint import pprint\n",
        "from textblob import TextBlob\n",
        "\n",
        "sns.set()\n",
        "\n",
        "spark = SparkSession.builder.appName('BigDataAssignment6').config(\"spark.executor.memory\",\"8g\").getOrCreate()\n",
        "spark"
      ]
    },
    {
      "cell_type": "markdown",
      "metadata": {
        "id": "rd4of2D31xEH"
      },
      "source": [
        "## **Read Data**"
      ]
    },
    {
      "cell_type": "code",
      "execution_count": null,
      "metadata": {
        "id": "UcRJS6Iq17vG"
      },
      "outputs": [],
      "source": [
        "PATH = '/content/drive/MyDrive/TÀI LIỆU HỌC TẬP ĐẠI HỌC 2019-2023/NĂM 3 2021-2022/HỌC KỲ 2 2021 - 2022/DS200.M21 - PHÂN TÍCH DỮ LIỆU LỚN/THỰC HÀNH/LAB/Assignment06 - 25 05 2022/Dataset/'\n",
        "schemaTrain = 'polarity FLOAT, id LONG, date_time STRING, query STRING, user STRING, text STRING'\n",
        "schemaTest = \"id LONG, date_time STRING, query STRING, user STRING, text STRING\""
      ]
    },
    {
      "cell_type": "code",
      "execution_count": null,
      "metadata": {
        "colab": {
          "base_uri": "https://localhost:8080/"
        },
        "id": "zuQHTcNl-MFU",
        "outputId": "a535df71-2545-4a7c-d4c2-359d5eee8783"
      },
      "outputs": [
        {
          "output_type": "stream",
          "name": "stdout",
          "text": [
            "root\n",
            " |-- polarity: float (nullable = true)\n",
            " |-- id: long (nullable = true)\n",
            " |-- date_time: string (nullable = true)\n",
            " |-- query: string (nullable = true)\n",
            " |-- user: string (nullable = true)\n",
            " |-- text: string (nullable = true)\n",
            "\n",
            "+--------+----------+----------------------------+--------+---------------+---------------------------------------------------------------------------------------------------------------------+\n",
            "|polarity|id        |date_time                   |query   |user           |text                                                                                                                 |\n",
            "+--------+----------+----------------------------+--------+---------------+---------------------------------------------------------------------------------------------------------------------+\n",
            "|0.0     |1467810369|Mon Apr 06 22:19:45 PDT 2009|NO_QUERY|_TheSpecialOne_|@switchfoot http://twitpic.com/2y1zl - Awww, that's a bummer.  You shoulda got David Carr of Third Day to do it. ;D  |\n",
            "|0.0     |1467810672|Mon Apr 06 22:19:49 PDT 2009|NO_QUERY|scotthamilton  |is upset that he can't update his Facebook by texting it... and might cry as a result  School today also. Blah!      |\n",
            "|0.0     |1467810917|Mon Apr 06 22:19:53 PDT 2009|NO_QUERY|mattycus       |@Kenichan I dived many times for the ball. Managed to save 50%  The rest go out of bounds                            |\n",
            "|0.0     |1467811184|Mon Apr 06 22:19:57 PDT 2009|NO_QUERY|ElleCTF        |my whole body feels itchy and like its on fire                                                                       |\n",
            "|0.0     |1467811193|Mon Apr 06 22:19:57 PDT 2009|NO_QUERY|Karoli         |@nationwideclass no, it's not behaving at all. i'm mad. why am i here? because I can't see you all over there.       |\n",
            "|0.0     |1467811372|Mon Apr 06 22:20:00 PDT 2009|NO_QUERY|joy_wolf       |@Kwesidei not the whole crew                                                                                         |\n",
            "|0.0     |1467811592|Mon Apr 06 22:20:03 PDT 2009|NO_QUERY|mybirch        |Need a hug                                                                                                           |\n",
            "|0.0     |1467811594|Mon Apr 06 22:20:03 PDT 2009|NO_QUERY|coZZ           |@LOLTrish hey  long time no see! Yes.. Rains a bit ,only a bit  LOL , I'm fine thanks , how's you ?                  |\n",
            "|0.0     |1467811795|Mon Apr 06 22:20:05 PDT 2009|NO_QUERY|2Hood4Hollywood|@Tatiana_K nope they didn't have it                                                                                  |\n",
            "|0.0     |1467812025|Mon Apr 06 22:20:09 PDT 2009|NO_QUERY|mimismo        |@twittera que me muera ?                                                                                             |\n",
            "|0.0     |1467812416|Mon Apr 06 22:20:16 PDT 2009|NO_QUERY|erinx3leannexo |spring break in plain city... it's snowing                                                                           |\n",
            "|0.0     |1467812579|Mon Apr 06 22:20:17 PDT 2009|NO_QUERY|pardonlauren   |I just re-pierced my ears                                                                                            |\n",
            "|0.0     |1467812723|Mon Apr 06 22:20:19 PDT 2009|NO_QUERY|TLeC           |@caregiving I couldn't bear to watch it.  And I thought the UA loss was embarrassing . . . . .                       |\n",
            "|0.0     |1467812771|Mon Apr 06 22:20:19 PDT 2009|NO_QUERY|robrobbierobert|@octolinz16 It it counts, idk why I did either. you never talk to me anymore                                         |\n",
            "|0.0     |1467812784|Mon Apr 06 22:20:20 PDT 2009|NO_QUERY|bayofwolves    |@smarrison i would've been the first, but i didn't have a gun.    not really though, zac snyder's just a doucheclown.|\n",
            "|0.0     |1467812799|Mon Apr 06 22:20:20 PDT 2009|NO_QUERY|HairByJess     |@iamjazzyfizzle I wish I got to watch it with you!! I miss you and @iamlilnicki  how was the premiere?!              |\n",
            "|0.0     |1467812964|Mon Apr 06 22:20:22 PDT 2009|NO_QUERY|lovesongwriter |Hollis' death scene will hurt me severely to watch on film  wry is directors cut not out now?                        |\n",
            "|0.0     |1467813137|Mon Apr 06 22:20:25 PDT 2009|NO_QUERY|armotley       |about to file taxes                                                                                                  |\n",
            "|0.0     |1467813579|Mon Apr 06 22:20:31 PDT 2009|NO_QUERY|starkissed     |@LettyA ahh ive always wanted to see rent  love the soundtrack!!                                                     |\n",
            "|0.0     |1467813782|Mon Apr 06 22:20:34 PDT 2009|NO_QUERY|gi_gi_bee      |@FakerPattyPattz Oh dear. Were you drinking out of the forgotten table drinks?                                       |\n",
            "+--------+----------+----------------------------+--------+---------------+---------------------------------------------------------------------------------------------------------------------+\n",
            "only showing top 20 rows\n",
            "\n"
          ]
        },
        {
          "output_type": "execute_result",
          "data": {
            "text/plain": [
              "1600000"
            ]
          },
          "metadata": {},
          "execution_count": 4
        }
      ],
      "source": [
        "# Read train.csv\n",
        "train_data = spark.read.csv(PATH+'train.csv', header=True, schema=schemaTrain)\n",
        "train_data.printSchema()\n",
        "train_data.show(20,False)\n",
        "train_data.count()"
      ]
    },
    {
      "cell_type": "code",
      "execution_count": null,
      "metadata": {
        "colab": {
          "base_uri": "https://localhost:8080/"
        },
        "id": "_EFaMR2-SRGQ",
        "outputId": "9709efb4-b459-4822-c43f-ebca9a9aa02d"
      },
      "outputs": [
        {
          "output_type": "stream",
          "name": "stdout",
          "text": [
            "root\n",
            " |-- id: long (nullable = true)\n",
            " |-- date_time: string (nullable = true)\n",
            " |-- query: string (nullable = true)\n",
            " |-- user: string (nullable = true)\n",
            " |-- text: string (nullable = true)\n",
            "\n",
            "+---+----------------------------+-------+--------------+--------------------------------------------------------------------------------------------------------------------------------------------+\n",
            "|id |date_time                   |query  |user          |text                                                                                                                                        |\n",
            "+---+----------------------------+-------+--------------+--------------------------------------------------------------------------------------------------------------------------------------------+\n",
            "|3  |Mon May 11 03:17:40 UTC 2009|kindle2|tpryan        |@stellargirl I loooooooovvvvvveee my Kindle2. Not that the DX is cool, but the 2 is fantastic in its own right.                             |\n",
            "|4  |Mon May 11 03:18:03 UTC 2009|kindle2|vcu451        |Reading my kindle2...  Love it... Lee childs is good read.                                                                                  |\n",
            "|5  |Mon May 11 03:18:54 UTC 2009|kindle2|chadfu        |Ok, first assesment of the #kindle2 ...it fucking rocks!!!                                                                                  |\n",
            "|6  |Mon May 11 03:19:04 UTC 2009|kindle2|SIX15         |@kenburbary You'll love your Kindle2. I've had mine for a few months and never looked back. The new big one is huge! No need for remorse! :)|\n",
            "|7  |Mon May 11 03:21:41 UTC 2009|kindle2|yamarama      |@mikefish  Fair enough. But i have the Kindle2 and I think it's perfect  :)                                                                 |\n",
            "|8  |Mon May 11 03:22:00 UTC 2009|kindle2|GeorgeVHulme  |@richardebaker no. it is too big. I'm quite happy with the Kindle2.                                                                         |\n",
            "|9  |Mon May 11 03:22:30 UTC 2009|aig    |Seth937       |Fuck this economy. I hate aig and their non loan given asses.                                                                               |\n",
            "|10 |Mon May 11 03:26:10 UTC 2009|jquery |dcostalis     |Jquery is my new best friend.                                                                                                               |\n",
            "|11 |Mon May 11 03:27:15 UTC 2009|twitter|PJ_King       |Loves twitter                                                                                                                               |\n",
            "|12 |Mon May 11 03:29:20 UTC 2009|obama  |mandanicole   |how can you not love Obama? he makes jokes about himself.                                                                                   |\n",
            "|13 |Mon May 11 03:32:42 UTC 2009|obama  |jpeb          |Check this video out -- President Obama at the White House Correspondents' Dinner http://bit.ly/IMXUM                                       |\n",
            "|14 |Mon May 11 03:32:48 UTC 2009|obama  |kylesellers   |@Karoli I firmly believe that Obama/Pelosi have ZERO desire to be civil.  It's a charade and a slogan, but they want to destroy conservatism|\n",
            "|15 |Mon May 11 03:33:38 UTC 2009|obama  |theviewfans   |House Correspondents dinner was last night whoopi, barbara &amp; sherri went, Obama got a standing ovation                                  |\n",
            "|16 |Mon May 11 05:05:58 UTC 2009|nike   |MumsFP        |Watchin Espn..Jus seen this new Nike Commerical with a Puppet Lebron..sh*t was hilarious...LMAO!!!                                          |\n",
            "|17 |Mon May 11 05:06:22 UTC 2009|nike   |vincentx24x   |dear nike, stop with the flywire. that shit is a waste of science. and ugly. love, @vincentx24x                                             |\n",
            "|18 |Mon May 11 05:20:15 UTC 2009|lebron |cameronwylie  |#lebron best athlete of our generation, if not all time (basketball related) I don't want to get into inter-sport debates about   __1/2     |\n",
            "|19 |Mon May 11 05:20:28 UTC 2009|lebron |luv8242       |I was talking to this guy last night and he was telling me that he is a die hard Spurs fan.  He also told me that he hates LeBron James.    |\n",
            "|20 |Mon May 11 05:21:04 UTC 2009|lebron |mtgillikin    |i love lebron. http://bit.ly/PdHur                                                                                                          |\n",
            "|21 |Mon May 11 05:21:37 UTC 2009|lebron |ursecretdezire|@ludajuice Lebron is a Beast, but I'm still cheering 4 the A..til the end.                                                                  |\n",
            "|22 |Mon May 11 05:21:45 UTC 2009|lebron |Native_01     |@Pmillzz lebron IS THE BOSS                                                                                                                 |\n",
            "+---+----------------------------+-------+--------------+--------------------------------------------------------------------------------------------------------------------------------------------+\n",
            "only showing top 20 rows\n",
            "\n"
          ]
        },
        {
          "output_type": "execute_result",
          "data": {
            "text/plain": [
              "498"
            ]
          },
          "metadata": {},
          "execution_count": 5
        }
      ],
      "source": [
        "# Read train.csv\n",
        "test_data = spark.read.csv(PATH+'test.csv', header=True, schema=schemaTest)\n",
        "test_data.printSchema()\n",
        "test_data.show(20,False)\n",
        "test_data.count()"
      ]
    },
    {
      "cell_type": "code",
      "execution_count": null,
      "metadata": {
        "colab": {
          "base_uri": "https://localhost:8080/"
        },
        "id": "nI6sJU6CRAbS",
        "outputId": "61331e76-e8e0-420d-f0c9-8dbcf57570c1"
      },
      "outputs": [
        {
          "output_type": "stream",
          "name": "stdout",
          "text": [
            "root\n",
            " |-- id: long (nullable = true)\n",
            " |-- text: string (nullable = true)\n",
            " |-- polarity: float (nullable = true)\n",
            "\n",
            "+----------+---------------------------------------------------------------------------------------------------------------------+--------+\n",
            "|id        |text                                                                                                                 |polarity|\n",
            "+----------+---------------------------------------------------------------------------------------------------------------------+--------+\n",
            "|1467810369|@switchfoot http://twitpic.com/2y1zl - Awww, that's a bummer.  You shoulda got David Carr of Third Day to do it. ;D  |0.0     |\n",
            "|1467810672|is upset that he can't update his Facebook by texting it... and might cry as a result  School today also. Blah!      |0.0     |\n",
            "|1467810917|@Kenichan I dived many times for the ball. Managed to save 50%  The rest go out of bounds                            |0.0     |\n",
            "|1467811184|my whole body feels itchy and like its on fire                                                                       |0.0     |\n",
            "|1467811193|@nationwideclass no, it's not behaving at all. i'm mad. why am i here? because I can't see you all over there.       |0.0     |\n",
            "|1467811372|@Kwesidei not the whole crew                                                                                         |0.0     |\n",
            "|1467811592|Need a hug                                                                                                           |0.0     |\n",
            "|1467811594|@LOLTrish hey  long time no see! Yes.. Rains a bit ,only a bit  LOL , I'm fine thanks , how's you ?                  |0.0     |\n",
            "|1467811795|@Tatiana_K nope they didn't have it                                                                                  |0.0     |\n",
            "|1467812025|@twittera que me muera ?                                                                                             |0.0     |\n",
            "|1467812416|spring break in plain city... it's snowing                                                                           |0.0     |\n",
            "|1467812579|I just re-pierced my ears                                                                                            |0.0     |\n",
            "|1467812723|@caregiving I couldn't bear to watch it.  And I thought the UA loss was embarrassing . . . . .                       |0.0     |\n",
            "|1467812771|@octolinz16 It it counts, idk why I did either. you never talk to me anymore                                         |0.0     |\n",
            "|1467812784|@smarrison i would've been the first, but i didn't have a gun.    not really though, zac snyder's just a doucheclown.|0.0     |\n",
            "|1467812799|@iamjazzyfizzle I wish I got to watch it with you!! I miss you and @iamlilnicki  how was the premiere?!              |0.0     |\n",
            "|1467812964|Hollis' death scene will hurt me severely to watch on film  wry is directors cut not out now?                        |0.0     |\n",
            "|1467813137|about to file taxes                                                                                                  |0.0     |\n",
            "|1467813579|@LettyA ahh ive always wanted to see rent  love the soundtrack!!                                                     |0.0     |\n",
            "|1467813782|@FakerPattyPattz Oh dear. Were you drinking out of the forgotten table drinks?                                       |0.0     |\n",
            "+----------+---------------------------------------------------------------------------------------------------------------------+--------+\n",
            "only showing top 20 rows\n",
            "\n"
          ]
        },
        {
          "output_type": "execute_result",
          "data": {
            "text/plain": [
              "1600000"
            ]
          },
          "metadata": {},
          "execution_count": 6
        }
      ],
      "source": [
        "# Chọn các thuộc tính để training\n",
        "train = train_data.select('id','text','polarity')\n",
        "train.printSchema()\n",
        "train.show(20,False)\n",
        "train.count()"
      ]
    },
    {
      "cell_type": "code",
      "execution_count": null,
      "metadata": {
        "colab": {
          "base_uri": "https://localhost:8080/"
        },
        "id": "OMDKkq6DRMkG",
        "outputId": "df5f7f1b-cf75-4ff7-bc9e-9a19d8f3142c"
      },
      "outputs": [
        {
          "output_type": "stream",
          "name": "stdout",
          "text": [
            "root\n",
            " |-- id: long (nullable = true)\n",
            " |-- text: string (nullable = true)\n",
            "\n",
            "+---+--------------------------------------------------------------------------------------------------------------------------------------------+\n",
            "|id |text                                                                                                                                        |\n",
            "+---+--------------------------------------------------------------------------------------------------------------------------------------------+\n",
            "|3  |@stellargirl I loooooooovvvvvveee my Kindle2. Not that the DX is cool, but the 2 is fantastic in its own right.                             |\n",
            "|4  |Reading my kindle2...  Love it... Lee childs is good read.                                                                                  |\n",
            "|5  |Ok, first assesment of the #kindle2 ...it fucking rocks!!!                                                                                  |\n",
            "|6  |@kenburbary You'll love your Kindle2. I've had mine for a few months and never looked back. The new big one is huge! No need for remorse! :)|\n",
            "|7  |@mikefish  Fair enough. But i have the Kindle2 and I think it's perfect  :)                                                                 |\n",
            "|8  |@richardebaker no. it is too big. I'm quite happy with the Kindle2.                                                                         |\n",
            "|9  |Fuck this economy. I hate aig and their non loan given asses.                                                                               |\n",
            "|10 |Jquery is my new best friend.                                                                                                               |\n",
            "|11 |Loves twitter                                                                                                                               |\n",
            "|12 |how can you not love Obama? he makes jokes about himself.                                                                                   |\n",
            "|13 |Check this video out -- President Obama at the White House Correspondents' Dinner http://bit.ly/IMXUM                                       |\n",
            "|14 |@Karoli I firmly believe that Obama/Pelosi have ZERO desire to be civil.  It's a charade and a slogan, but they want to destroy conservatism|\n",
            "|15 |House Correspondents dinner was last night whoopi, barbara &amp; sherri went, Obama got a standing ovation                                  |\n",
            "|16 |Watchin Espn..Jus seen this new Nike Commerical with a Puppet Lebron..sh*t was hilarious...LMAO!!!                                          |\n",
            "|17 |dear nike, stop with the flywire. that shit is a waste of science. and ugly. love, @vincentx24x                                             |\n",
            "|18 |#lebron best athlete of our generation, if not all time (basketball related) I don't want to get into inter-sport debates about   __1/2     |\n",
            "|19 |I was talking to this guy last night and he was telling me that he is a die hard Spurs fan.  He also told me that he hates LeBron James.    |\n",
            "|20 |i love lebron. http://bit.ly/PdHur                                                                                                          |\n",
            "|21 |@ludajuice Lebron is a Beast, but I'm still cheering 4 the A..til the end.                                                                  |\n",
            "|22 |@Pmillzz lebron IS THE BOSS                                                                                                                 |\n",
            "+---+--------------------------------------------------------------------------------------------------------------------------------------------+\n",
            "only showing top 20 rows\n",
            "\n"
          ]
        },
        {
          "output_type": "execute_result",
          "data": {
            "text/plain": [
              "498"
            ]
          },
          "metadata": {},
          "execution_count": 7
        }
      ],
      "source": [
        "# Chọn các thuộc tính để test model vừa training được\n",
        "test = test_data.select('id','text')\n",
        "test.printSchema()\n",
        "test.show(20,False)\n",
        "test.count()"
      ]
    },
    {
      "cell_type": "markdown",
      "metadata": {
        "id": "rj8qt16UeNAI"
      },
      "source": [
        "### distribution of polarity train"
      ]
    },
    {
      "cell_type": "code",
      "execution_count": null,
      "metadata": {
        "colab": {
          "base_uri": "https://localhost:8080/",
          "height": 361
        },
        "id": "gx2n-BY6W8fk",
        "outputId": "f2473e1f-58d7-4a72-86c8-5111812dc8ed"
      },
      "outputs": [
        {
          "output_type": "stream",
          "name": "stdout",
          "text": [
            "No of rows with Polarity: 1600000/1600000\n"
          ]
        },
        {
          "output_type": "stream",
          "name": "stderr",
          "text": [
            "/usr/local/lib/python3.7/dist-packages/seaborn/distributions.py:2619: FutureWarning: `distplot` is a deprecated function and will be removed in a future version. Please adapt your code to use either `displot` (a figure-level function with similar flexibility) or `histplot` (an axes-level function for histograms).\n",
            "  warnings.warn(msg, FutureWarning)\n"
          ]
        },
        {
          "output_type": "execute_result",
          "data": {
            "text/plain": [
              "<matplotlib.axes._subplots.AxesSubplot at 0x7f7fda937110>"
            ]
          },
          "metadata": {},
          "execution_count": 8
        },
        {
          "output_type": "display_data",
          "data": {
            "text/plain": [
              "<Figure size 432x288 with 1 Axes>"
            ],
            "image/png": "[encoded data removed]"
          },
          "metadata": {}
        }
      ],
      "source": [
        "df = train.select('polarity').na.drop()\n",
        "print(f'No of rows with Polarity: {df.count()}/{train.count()}')\n",
        "# Xem phân phối của các label của tập dữ liệu\n",
        "sns.distplot(df.toPandas())"
      ]
    },
    {
      "cell_type": "code",
      "execution_count": null,
      "metadata": {
        "colab": {
          "base_uri": "https://localhost:8080/",
          "height": 112
        },
        "id": "cUNZq4_ZW8iT",
        "outputId": "4ab055a7-481d-4bf4-fabf-e688937481e4"
      },
      "outputs": [
        {
          "output_type": "execute_result",
          "data": {
            "text/plain": [
              "   polarity   count\n",
              "0       4.0  800000\n",
              "1       0.0  800000"
            ],
            "text/html": [
              "\n",
              "  <div id=\"df-fa432fc1-bfab-4d33-ab31-dd7d006e1d34\">\n",
              "    <div class=\"colab-df-container\">\n",
              "      <div>\n",
              "<style scoped>\n",
              "    .dataframe tbody tr th:only-of-type {\n",
              "        vertical-align: middle;\n",
              "    }\n",
              "\n",
              "    .dataframe tbody tr th {\n",
              "        vertical-align: top;\n",
              "    }\n",
              "\n",
              "    .dataframe thead th {\n",
              "        text-align: right;\n",
              "    }\n",
              "</style>\n",
              "<table border=\"1\" class=\"dataframe\">\n",
              "  <thead>\n",
              "    <tr style=\"text-align: right;\">\n",
              "      <th></th>\n",
              "      <th>polarity</th>\n",
              "      <th>count</th>\n",
              "    </tr>\n",
              "  </thead>\n",
              "  <tbody>\n",
              "    <tr>\n",
              "      <th>0</th>\n",
              "      <td>4.0</td>\n",
              "      <td>800000</td>\n",
              "    </tr>\n",
              "    <tr>\n",
              "      <th>1</th>\n",
              "      <td>0.0</td>\n",
              "      <td>800000</td>\n",
              "    </tr>\n",
              "  </tbody>\n",
              "</table>\n",
              "</div>\n",
              "      <button class=\"colab-df-convert\" onclick=\"convertToInteractive('df-fa432fc1-bfab-4d33-ab31-dd7d006e1d34')\"\n",
              "              title=\"Convert this dataframe to an interactive table.\"\n",
              "              style=\"display:none;\">\n",
              "        \n",
              "  <svg xmlns=\"http://www.w3.org/2000/svg\" height=\"24px\"viewBox=\"0 0 24 24\"\n",
              "       width=\"24px\">\n",
              "    <path d=\"M0 0h24v24H0V0z\" fill=\"none\"/>\n",
              "    <path d=\"M18.56 5.44l.94 2.06.94-2.06 2.06-.94-2.06-.94-.94-2.06-.94 2.06-2.06.94zm-11 1L8.5 8.5l.94-2.06 2.06-.94-2.06-.94L8.5 2.5l-.94 2.06-2.06.94zm10 10l.94 2.06.94-2.06 2.06-.94-2.06-.94-.94-2.06-.94 2.06-2.06.94z\"/><path d=\"M17.41 7.96l-1.37-1.37c-.4-.4-.92-.59-1.43-.59-.52 0-1.04.2-1.43.59L10.3 9.45l-7.72 7.72c-.78.78-.78 2.05 0 2.83L4 21.41c.39.39.9.59 1.41.59.51 0 1.02-.2 1.41-.59l7.78-7.78 2.81-2.81c.8-.78.8-2.07 0-2.86zM5.41 20L4 18.59l7.72-7.72 1.47 1.35L5.41 20z\"/>\n",
              "  </svg>\n",
              "      </button>\n",
              "      \n",
              "  <style>\n",
              "    .colab-df-container {\n",
              "      display:flex;\n",
              "      flex-wrap:wrap;\n",
              "      gap: 12px;\n",
              "    }\n",
              "\n",
              "    .colab-df-convert {\n",
              "      background-color: #E8F0FE;\n",
              "      border: none;\n",
              "      border-radius: 50%;\n",
              "      cursor: pointer;\n",
              "      display: none;\n",
              "      fill: #1967D2;\n",
              "      height: 32px;\n",
              "      padding: 0 0 0 0;\n",
              "      width: 32px;\n",
              "    }\n",
              "\n",
              "    .colab-df-convert:hover {\n",
              "      background-color: #E2EBFA;\n",
              "      box-shadow: 0px 1px 2px rgba(60, 64, 67, 0.3), 0px 1px 3px 1px rgba(60, 64, 67, 0.15);\n",
              "      fill: #174EA6;\n",
              "    }\n",
              "\n",
              "    [theme=dark] .colab-df-convert {\n",
              "      background-color: #3B4455;\n",
              "      fill: #D2E3FC;\n",
              "    }\n",
              "\n",
              "    [theme=dark] .colab-df-convert:hover {\n",
              "      background-color: #434B5C;\n",
              "      box-shadow: 0px 1px 3px 1px rgba(0, 0, 0, 0.15);\n",
              "      filter: drop-shadow(0px 1px 2px rgba(0, 0, 0, 0.3));\n",
              "      fill: #FFFFFF;\n",
              "    }\n",
              "  </style>\n",
              "\n",
              "      <script>\n",
              "        const buttonEl =\n",
              "          document.querySelector('#df-fa432fc1-bfab-4d33-ab31-dd7d006e1d34 button.colab-df-convert');\n",
              "        buttonEl.style.display =\n",
              "          google.colab.kernel.accessAllowed ? 'block' : 'none';\n",
              "\n",
              "        async function convertToInteractive(key) {\n",
              "          const element = document.querySelector('#df-fa432fc1-bfab-4d33-ab31-dd7d006e1d34');\n",
              "          const dataTable =\n",
              "            await google.colab.kernel.invokeFunction('convertToInteractive',\n",
              "                                                     [key], {});\n",
              "          if (!dataTable) return;\n",
              "\n",
              "          const docLinkHtml = 'Like what you see? Visit the ' +\n",
              "            '<a target=\"_blank\" href=https://colab.research.google.com/notebooks/data_table.ipynb>data table notebook</a>'\n",
              "            + ' to learn more about interactive tables.';\n",
              "          element.innerHTML = '';\n",
              "          dataTable['output_type'] = 'display_data';\n",
              "          await google.colab.output.renderOutput(dataTable, element);\n",
              "          const docLink = document.createElement('div');\n",
              "          docLink.innerHTML = docLinkHtml;\n",
              "          element.appendChild(docLink);\n",
              "        }\n",
              "      </script>\n",
              "    </div>\n",
              "  </div>\n",
              "  "
            ]
          },
          "metadata": {},
          "execution_count": 9
        }
      ],
      "source": [
        "polarity_df = train.select('polarity').cache()\n",
        "\n",
        "polarity_df.groupBy('polarity').count().toPandas()"
      ]
    },
    {
      "cell_type": "markdown",
      "metadata": {
        "id": "-o2znjpLzjLp"
      },
      "source": [
        "### Encode train polarity"
      ]
    },
    {
      "cell_type": "code",
      "execution_count": null,
      "metadata": {
        "id": "XUfS4SRUzut3"
      },
      "outputs": [],
      "source": [
        "# train = train.withColumn('polarity',f.when(f.col('polarity')==4, 2).otherwise(0))"
      ]
    },
    {
      "cell_type": "code",
      "execution_count": null,
      "metadata": {
        "id": "2uik7FqH0MJC"
      },
      "outputs": [],
      "source": [
        "# df = train.select('polarity').na.drop()\n",
        "# print(f'No of rows with Polarity: {df.count()}/{train.count()}')\n",
        "\n",
        "# sns.distplot(df.toPandas())"
      ]
    },
    {
      "cell_type": "code",
      "execution_count": null,
      "metadata": {
        "id": "fjCLo-NF0MLC"
      },
      "outputs": [],
      "source": [
        "# polarity_df = train.select('polarity').cache()\n",
        "\n",
        "# polarity_df.groupBy('polarity').count().toPandas()"
      ]
    },
    {
      "cell_type": "markdown",
      "metadata": {
        "id": "7Ybjk1VQBUeo"
      },
      "source": [
        "## **Text Pre-processing**"
      ]
    },
    {
      "cell_type": "code",
      "execution_count": null,
      "metadata": {
        "id": "HyLNokXx-MIy"
      },
      "outputs": [],
      "source": [
        "user_regex = r\"(@\\w{1,15})\"\n",
        "hashtag_replace_regex = \"#(\\w{1,})\"\n",
        "url_regex = r\"((https?|ftp|file):\\/{2,3})+([-\\w+&@#/%=~|$?!:,.]*)|(www.)+([-\\w+&@#/%=~|$?!:,.]*)\"\n",
        "email_regex = r\"[\\w.-]+@[\\w.-]+\\.[a-zA-Z]{1,}\"\n",
        "i_regex = r\"i \"\n",
        "# Định nghĩa hàm chuẩn hóa lại text trong tập dữ liệu\n",
        "def cleaning_process(data):\n",
        "          # Loại bỏ @Mention khỏi text\n",
        "  data_new=(data.withColumn(\"text\",f.regexp_replace(f.col(\"text\"), user_regex, \"\")) \n",
        "          # Loại bỏ #Hashtag khỏi text\n",
        "          .withColumn(\"text\",f.regexp_replace(f.col(\"text\"), hashtag_replace_regex, \"$1\"))\n",
        "          # Loại bỏ URL khỏi text\n",
        "          .withColumn(\"text\",f.regexp_replace(f.col(\"text\"), url_regex, \"\")) \n",
        "          # Loại bỏ Email khỏi text\n",
        "          .withColumn(\"text\",f.regexp_replace(f.col(\"text\"), email_regex, \"\"))\n",
        "          # Loại bỏ số cũng như các ký tự khỏi đoạn text\n",
        "          .withColumn(\"text\",f.regexp_replace(f.col(\"text\"), \"[^a-zA-Z]\", \" \"))\n",
        "          # Loại bỏ các khoảng trắng thừa trong câu\n",
        "          .withColumn(\"text\",f.regexp_replace(f.col(\"text\"), \" +\", \" \"))\n",
        "          # Loại vỏ các khoảng trắng đầu và cuối câu\n",
        "          .withColumn(\"text\",f.trim(f.col(\"text\")))\n",
        "          # Chuẩn hoá viết thường\n",
        "          .withColumn(\"text\",f.lower(f.col(\"text\")))\n",
        "          # Loại bỏ các dữ liệu mà text không có nôi dung\n",
        "          .filter(f.col(\"text\") != \"\"))\n",
        "  return data_new"
      ]
    },
    {
      "cell_type": "code",
      "execution_count": null,
      "metadata": {
        "id": "6SHkksv0-MMq",
        "colab": {
          "base_uri": "https://localhost:8080/"
        },
        "outputId": "f018f79d-38ec-47b7-dbf8-260b29249a6a"
      },
      "outputs": [
        {
          "output_type": "stream",
          "name": "stdout",
          "text": [
            "+----------+---------------------------------------------------------------------------------------------------------+--------+\n",
            "|id        |text                                                                                                     |polarity|\n",
            "+----------+---------------------------------------------------------------------------------------------------------+--------+\n",
            "|1467810369|a that s a bummer you shoulda got david carr of third day to do it d                                     |0.0     |\n",
            "|1467810672|is upset that he can t update his facebook by texting it and might cry as a result school today also blah|0.0     |\n",
            "|1467810917|i dived many times for the ball managed to save the rest go out of bounds                                |0.0     |\n",
            "|1467811184|my whole body feels itchy and like its on fire                                                           |0.0     |\n",
            "|1467811193|no it s not behaving at all i m mad why am i here because i can t see you all over there                 |0.0     |\n",
            "|1467811372|not the whole crew                                                                                       |0.0     |\n",
            "|1467811592|need a hug                                                                                               |0.0     |\n",
            "|1467811594|hey long time no see yes rains a bit only a bit lol i m fine thanks how s you                            |0.0     |\n",
            "|1467811795|nope they didn t have it                                                                                 |0.0     |\n",
            "|1467812025|que me muera                                                                                             |0.0     |\n",
            "+----------+---------------------------------------------------------------------------------------------------------+--------+\n",
            "only showing top 10 rows\n",
            "\n"
          ]
        },
        {
          "output_type": "execute_result",
          "data": {
            "text/plain": [
              "1596303"
            ]
          },
          "metadata": {},
          "execution_count": 14
        }
      ],
      "source": [
        "Train = cleaning_process(train)\n",
        "Train.show(10, False)\n",
        "Train.count()"
      ]
    },
    {
      "cell_type": "code",
      "source": [
        "Test = cleaning_process(test)\n",
        "Test.show(10, False)\n",
        "Test.count()"
      ],
      "metadata": {
        "colab": {
          "base_uri": "https://localhost:8080/"
        },
        "id": "mw9foDiytS-W",
        "outputId": "05f13919-005c-4840-b1d7-64f816997d4e"
      },
      "execution_count": null,
      "outputs": [
        {
          "output_type": "stream",
          "name": "stdout",
          "text": [
            "+---+------------------------------------------------------------------------------------------------------------------------+\n",
            "|id |text                                                                                                                    |\n",
            "+---+------------------------------------------------------------------------------------------------------------------------+\n",
            "|3  |i loooooooovvvvvveee my kindle not that the dx is cool but the is fantastic in its own right                            |\n",
            "|4  |reading my kindle love it lee childs is good read                                                                       |\n",
            "|5  |ok first assesment of the kindle it fucking rocks                                                                       |\n",
            "|6  |you ll love your kindle i ve had mine for a few months and never looked back the new big one is huge no need for remorse|\n",
            "|7  |fair enough but i have the kindle and i think it s perfect                                                              |\n",
            "|8  |no it is too big i m quite happy with the kindle                                                                        |\n",
            "|9  |fuck this economy i hate aig and their non loan given asses                                                             |\n",
            "|10 |jquery is my new best friend                                                                                            |\n",
            "|11 |loves twitter                                                                                                           |\n",
            "|12 |how can you not love obama he makes jokes about himself                                                                 |\n",
            "+---+------------------------------------------------------------------------------------------------------------------------+\n",
            "only showing top 10 rows\n",
            "\n"
          ]
        },
        {
          "output_type": "execute_result",
          "data": {
            "text/plain": [
              "498"
            ]
          },
          "metadata": {},
          "execution_count": 15
        }
      ]
    },
    {
      "cell_type": "markdown",
      "metadata": {
        "id": "4o8uB24A3rlM"
      },
      "source": [
        "## **Build Model**"
      ]
    },
    {
      "cell_type": "markdown",
      "metadata": {
        "id": "JniDOFyiEAfe"
      },
      "source": [
        "### Build Pipeline"
      ]
    },
    {
      "cell_type": "code",
      "execution_count": null,
      "metadata": {
        "id": "v4aF3v1ZB6eZ"
      },
      "outputs": [],
      "source": [
        "# Create pipeline processing data and model\n",
        "regexTokenizer = RegexTokenizer(inputCol=\"text\", outputCol=\"words\", pattern=\"\\\\W\")\n",
        "stopwords_remover = StopWordsRemover(inputCol=\"words\", outputCol=\"words1\", \n",
        "                                     stopWords=StopWordsRemover.loadDefaultStopWords(\"english\"))\n",
        "hashtf = HashingTF(numFeatures=2**16, inputCol=\"words1\", outputCol='tf')\n",
        "idf = IDF(inputCol='tf', outputCol=\"features\", minDocFreq=5)\n",
        "\n",
        "lr = LogisticRegression(maxIter=100, regParam = 0.005, featuresCol=\"features\", labelCol=\"polarity\")\n",
        "\n",
        "pipeline = Pipeline(stages=[regexTokenizer, stopwords_remover, hashtf, idf, lr])"
      ]
    },
    {
      "cell_type": "markdown",
      "source": [
        "### Training model"
      ],
      "metadata": {
        "id": "RSyRGDhyjtvp"
      }
    },
    {
      "cell_type": "code",
      "execution_count": null,
      "metadata": {
        "colab": {
          "base_uri": "https://localhost:8080/"
        },
        "id": "SGx_br7N2WGW",
        "outputId": "f5119dfa-febf-4a64-df5f-917b4353a3c4"
      },
      "outputs": [
        {
          "output_type": "stream",
          "name": "stdout",
          "text": [
            "CPU times: user 1.53 s, sys: 192 ms, total: 1.73 s\n",
            "Wall time: 5min 10s\n"
          ]
        }
      ],
      "source": [
        "%%time\n",
        "# Training model\n",
        "model = pipeline.fit(Train)"
      ]
    },
    {
      "cell_type": "code",
      "execution_count": null,
      "metadata": {
        "colab": {
          "base_uri": "https://localhost:8080/"
        },
        "id": "BkLdfAT6YVa2",
        "outputId": "c23d8e26-a202-4481-ca90-4b9a48d5f003"
      },
      "outputs": [
        {
          "output_type": "stream",
          "name": "stdout",
          "text": [
            "+----------+--------------------+--------+--------------------+--------------------+--------------------+--------------------+--------------------+--------------------+----------+\n",
            "|        id|                text|polarity|               words|              words1|                  tf|            features|       rawPrediction|         probability|prediction|\n",
            "+----------+--------------------+--------+--------------------+--------------------+--------------------+--------------------+--------------------+--------------------+----------+\n",
            "|1467810369|a that s a bummer...|     0.0|[a, that, s, a, b...|[bummer, shoulda,...|(65536,[21640,239...|(65536,[21640,239...|[9.22189861454139...|[0.89417954448215...|       0.0|\n",
            "|1467810672|is upset that he ...|     0.0|[is, upset, that,...|[upset, update, f...|(65536,[16064,193...|(65536,[16064,193...|[10.0752906505553...|[0.97896901959093...|       0.0|\n",
            "|1467810917|i dived many time...|     0.0|[i, dived, many, ...|[dived, many, tim...|(65536,[2548,2888...|(65536,[2548,2888...|[8.91784396236835...|[0.82139102417935...|       0.0|\n",
            "|1467811184|my whole body fee...|     0.0|[my, whole, body,...|[whole, body, fee...|(65536,[11650,151...|(65536,[11650,151...|[9.0104433853459,...|[0.84704427967305...|       0.0|\n",
            "|1467811193|no it s not behav...|     0.0|[no, it, s, not, ...|[behaving, m, mad...|(65536,[1968,8538...|(65536,[1968,8538...|[8.67391471117305...|[0.73862849370304...|       0.0|\n",
            "|1467811372|  not the whole crew|     0.0|[not, the, whole,...|       [whole, crew]|(65536,[15171,563...|(65536,[15171,563...|[7.95831774001003...|[0.40322455036438...|       4.0|\n",
            "|1467811592|          need a hug|     0.0|      [need, a, hug]|         [need, hug]|(65536,[106,17625...|(65536,[106,17625...|[8.40755892484397...|[0.62396946358069...|       0.0|\n",
            "|1467811594|hey long time no ...|     0.0|[hey, long, time,...|[hey, long, time,...|(65536,[6693,6964...|(65536,[6693,6964...|[5.94725970342933...|[0.01194038246530...|       4.0|\n",
            "|1467811795|nope they didn t ...|     0.0|[nope, they, didn...|        [nope, didn]|(65536,[28418,347...|(65536,[28418,347...|[8.71157904635715...|[0.75295922952996...|       0.0|\n",
            "|1467812025|        que me muera|     0.0|    [que, me, muera]|        [que, muera]|(65536,[3403,3328...|(65536,[3403,3328...|[8.02591967468075...|[0.43614293088147...|       4.0|\n",
            "|1467812416|spring break in p...|     0.0|[spring, break, i...|[spring, break, p...|(65536,[5284,3293...|(65536,[5284,3293...|[7.60953231935489...|[0.25159409361963...|       4.0|\n",
            "|1467812579|i just re pierced...|     0.0|[i, just, re, pie...| [re, pierced, ears]|(65536,[21814,500...|(65536,[21814,500...|[7.36905694058725...|[0.17211158877172...|       4.0|\n",
            "|1467812723|i couldn t bear t...|     0.0|[i, couldn, t, be...|[couldn, bear, wa...|(65536,[8997,1127...|(65536,[8997,1127...|[9.18402299963692...|[0.88680725277617...|       0.0|\n",
            "|1467812771|it it counts idk ...|     0.0|[it, it, counts, ...|[counts, idk, eit...|(65536,[6589,1383...|(65536,[6589,1383...|[9.36982930391328...|[0.91911046840426...|       0.0|\n",
            "|1467812784|i would ve been t...|     0.0|[i, would, ve, be...|[ve, first, didn,...|(65536,[3861,5573...|(65536,[3861,5573...|[8.42074070068336...|[0.62990235926790...|       0.0|\n",
            "|1467812799|i wish i got to w...|     0.0|[i, wish, i, got,...|[wish, got, watch...|(65536,[20719,292...|(65536,[20719,292...|[9.83035270262228...|[0.96615530841324...|       0.0|\n",
            "|1467812964|hollis death scen...|     0.0|[hollis, death, s...|[hollis, death, s...|(65536,[4166,1265...|(65536,[4166,1265...|[9.52701075366917...|[0.93958004668650...|       0.0|\n",
            "|1467813137| about to file taxes|     0.0|[about, to, file,...|       [file, taxes]|(65536,[13828,541...|(65536,[13828,541...|[8.63214569921774...|[0.72224271341673...|       0.0|\n",
            "|1467813579|ahh ive always wa...|     0.0|[ahh, ive, always...|[ahh, ive, always...|(65536,[8538,1424...|(65536,[8538,1424...|[7.77876412084450...|[0.32035525718160...|       4.0|\n",
            "|1467813782|oh dear were you ...|     0.0|[oh, dear, were, ...|[oh, dear, drinki...|(65536,[2830,5656...|(65536,[2830,5656...|[8.24055442840432...|[0.54282188308436...|       0.0|\n",
            "+----------+--------------------+--------+--------------------+--------------------+--------------------+--------------------+--------------------+--------------------+----------+\n",
            "only showing top 20 rows\n",
            "\n"
          ]
        }
      ],
      "source": [
        "# Prediction on Train\n",
        "Trained = model.transform(Train)\n",
        "Trained.show()"
      ]
    },
    {
      "cell_type": "code",
      "execution_count": null,
      "metadata": {
        "colab": {
          "base_uri": "https://localhost:8080/"
        },
        "id": "jFOaDaxiOvKk",
        "outputId": "7a3267cd-007c-46fb-a1af-53171c6dee0f"
      },
      "outputs": [
        {
          "output_type": "stream",
          "name": "stdout",
          "text": [
            "===============Training Data===============\n",
            "Accuracy: 79.05561%\n",
            "CPU times: user 440 ms, sys: 53.7 ms, total: 493 ms\n",
            "Wall time: 1min 19s\n"
          ]
        }
      ],
      "source": [
        "%%time\n",
        "# Tính Accuracy đạt được trên tập train\n",
        "evaluator = MulticlassClassificationEvaluator(labelCol='polarity', metricName='accuracy')\n",
        "accuracy_train = evaluator.evaluate(Trained)\n",
        "\n",
        "print('='*15+'Training Data'+'='*15)\n",
        "print(f'Accuracy: {accuracy_train*100:.5f}%')"
      ]
    },
    {
      "cell_type": "markdown",
      "metadata": {
        "id": "g6JEWF_Y-tM8"
      },
      "source": [
        "## **Prediction**"
      ]
    },
    {
      "cell_type": "markdown",
      "metadata": {
        "id": "NLNMNW79NzxQ"
      },
      "source": [
        "### Predict on Test"
      ]
    },
    {
      "cell_type": "code",
      "execution_count": null,
      "metadata": {
        "id": "PugUYspcMouT",
        "colab": {
          "base_uri": "https://localhost:8080/"
        },
        "outputId": "be53fb8b-fc74-4d20-b92c-d66be1818ad2"
      },
      "outputs": [
        {
          "output_type": "stream",
          "name": "stdout",
          "text": [
            "+---+--------------------+--------------------+--------------------+--------------------+--------------------+--------------------+--------------------+----------+\n",
            "| id|                text|               words|              words1|                  tf|            features|       rawPrediction|         probability|prediction|\n",
            "+---+--------------------+--------------------+--------------------+--------------------+--------------------+--------------------+--------------------+----------+\n",
            "|  3|i loooooooovvvvvv...|[i, loooooooovvvv...|[loooooooovvvvvve...|(65536,[2568,1792...|(65536,[2568,1792...|[7.49297259141157...|[0.21025761182210...|       4.0|\n",
            "|  4|reading my kindle...|[reading, my, kin...|[reading, kindle,...|(65536,[7472,4789...|(65536,[7472,4789...|[7.14973683689246...|[0.11815470628759...|       4.0|\n",
            "|  5|ok first assesmen...|[ok, first, asses...|[ok, first, asses...|(65536,[1527,1589...|(65536,[1527,1589...|[7.47802048905373...|[0.20533512629511...|       4.0|\n",
            "|  6|you ll love your ...|[you, ll, love, y...|[ll, love, kindle...|(65536,[1198,1546...|(65536,[1198,1546...|[8.63942979421053...|[0.72471771992731...|       0.0|\n",
            "|  7|fair enough but i...|[fair, enough, bu...|[fair, enough, ki...|(65536,[22351,323...|(65536,[22351,323...|[8.16315514936478...|[0.50428193261109...|       0.0|\n",
            "|  8|no it is too big ...|[no, it, is, too,...|[big, m, quite, h...|(65536,[4616,4181...|(65536,[4616,4181...|[7.26795937183600...|[0.14514280637435...|       4.0|\n",
            "|  9|fuck this economy...|[fuck, this, econ...|[fuck, economy, h...|(65536,[4014,7173...|(65536,[4014,7173...|[10.0052408137661...|[0.97589269109037...|       0.0|\n",
            "| 10|jquery is my new ...|[jquery, is, my, ...|[jquery, new, bes...|(65536,[8984,2429...|(65536,[8984,2429...|[7.29367118900886...|[0.15165939991052...|       4.0|\n",
            "| 11|       loves twitter|    [loves, twitter]|    [loves, twitter]|(65536,[1512,4986...|(65536,[1512,4986...|[7.36795005179424...|[0.17182208842118...|       4.0|\n",
            "| 12|how can you not l...|[how, can, you, n...|[love, obama, mak...|(65536,[2973,2777...|(65536,[2973,2777...|[7.32180794678288...|[0.15904202091329...|       4.0|\n",
            "| 13|check this video ...|[check, this, vid...|[check, video, pr...|(65536,[6397,1003...|(65536,[6397,1003...|[7.42845402975338...|[0.18957251659826...|       4.0|\n",
            "| 14|i firmly believe ...|[i, firmly, belie...|[firmly, believe,...|(65536,[1393,2333...|(65536,[1393,2333...|[9.48852732542575...|[0.93503766823887...|       0.0|\n",
            "| 15|house corresponde...|[house, correspon...|[house, correspon...|(65536,[5381,6077...|(65536,[5381,6077...|[8.11626678286777...|[0.48048531691643...|       4.0|\n",
            "| 16|watchin espn jus ...|[watchin, espn, j...|[watchin, espn, j...|(65536,[790,11430...|(65536,[790,11430...|[7.51157124104148...|[0.21632398773189...|       4.0|\n",
            "| 17|dear nike stop wi...|[dear, nike, stop...|[dear, nike, stop...|(65536,[2830,5660...|(65536,[2830,5660...|[8.30530816539160...|[0.57464806296620...|       0.0|\n",
            "| 18|lebron best athle...|[lebron, best, at...|[lebron, best, at...|(65536,[26913,291...|(65536,[26913,291...|[8.21337580620700...|[0.52905406331193...|       0.0|\n",
            "| 19|i was talking to ...|[i, was, talking,...|[talking, guy, la...|(65536,[2437,5381...|(65536,[2437,5381...|[9.38214198510962...|[0.92082240627705...|       0.0|\n",
            "| 20|       i love lebron|   [i, love, lebron]|      [love, lebron]|(65536,[55408,645...|(65536,[55408,645...|[7.71453656843856...|[0.29326503584389...|       4.0|\n",
            "| 21|lebron is a beast...|[lebron, is, a, b...|[lebron, beast, m...|(65536,[25845,315...|(65536,[25845,315...|[8.77941385458961...|[0.77717835408215...|       0.0|\n",
            "| 22|  lebron is the boss|[lebron, is, the,...|      [lebron, boss]|(65536,[48128,645...|(65536,[48128,645...|[8.07892438460228...|[0.46236530572019...|       4.0|\n",
            "+---+--------------------+--------------------+--------------------+--------------------+--------------------+--------------------+--------------------+----------+\n",
            "only showing top 20 rows\n",
            "\n"
          ]
        },
        {
          "output_type": "execute_result",
          "data": {
            "text/plain": [
              "498"
            ]
          },
          "metadata": {},
          "execution_count": 20
        }
      ],
      "source": [
        "# Model dự đoán trên tập test\n",
        "predictions = model.transform(Test)\n",
        "predictions.show()\n",
        "predictions.count()"
      ]
    },
    {
      "cell_type": "code",
      "execution_count": null,
      "metadata": {
        "id": "c3OS-qh2MoxA",
        "colab": {
          "base_uri": "https://localhost:8080/"
        },
        "outputId": "28d574db-76c6-4aaa-fff9-f4183719bcae"
      },
      "outputs": [
        {
          "output_type": "stream",
          "name": "stdout",
          "text": [
            "+---+--------------------+--------------------+----------+\n",
            "| id|                text|         probability|prediction|\n",
            "+---+--------------------+--------------------+----------+\n",
            "|  3|i loooooooovvvvvv...|[0.21025761182210...|       4.0|\n",
            "|  4|reading my kindle...|[0.11815470628759...|       4.0|\n",
            "|  5|ok first assesmen...|[0.20533512629511...|       4.0|\n",
            "|  6|you ll love your ...|[0.72471771992731...|       0.0|\n",
            "|  7|fair enough but i...|[0.50428193261109...|       0.0|\n",
            "|  8|no it is too big ...|[0.14514280637435...|       4.0|\n",
            "|  9|fuck this economy...|[0.97589269109037...|       0.0|\n",
            "| 10|jquery is my new ...|[0.15165939991052...|       4.0|\n",
            "| 11|       loves twitter|[0.17182208842118...|       4.0|\n",
            "| 12|how can you not l...|[0.15904202091329...|       4.0|\n",
            "| 13|check this video ...|[0.18957251659826...|       4.0|\n",
            "| 14|i firmly believe ...|[0.93503766823887...|       0.0|\n",
            "| 15|house corresponde...|[0.48048531691643...|       4.0|\n",
            "| 16|watchin espn jus ...|[0.21632398773189...|       4.0|\n",
            "| 17|dear nike stop wi...|[0.57464806296620...|       0.0|\n",
            "| 18|lebron best athle...|[0.52905406331193...|       0.0|\n",
            "| 19|i was talking to ...|[0.92082240627705...|       0.0|\n",
            "| 20|       i love lebron|[0.29326503584389...|       4.0|\n",
            "| 21|lebron is a beast...|[0.77717835408215...|       0.0|\n",
            "| 22|  lebron is the boss|[0.46236530572019...|       4.0|\n",
            "+---+--------------------+--------------------+----------+\n",
            "only showing top 20 rows\n",
            "\n"
          ]
        },
        {
          "output_type": "execute_result",
          "data": {
            "text/plain": [
              "498"
            ]
          },
          "metadata": {},
          "execution_count": 21
        }
      ],
      "source": [
        "# Chọn ra các thuộc tính cần thiết để tính toán và xử lý.\n",
        "pred = predictions.select('id', 'text', 'probability', 'prediction')\n",
        "pred.show()\n",
        "pred.count()"
      ]
    },
    {
      "cell_type": "code",
      "execution_count": null,
      "metadata": {
        "id": "2ssZnAKcMozc"
      },
      "outputs": [],
      "source": [
        "# Sử dụng phương thức TextBlob để dự đoán cảm xúc trên tập test, để so sánh với mô hình training, từ đó tiến hành chuẩn hóa lại label test.\n",
        "def get_polarity(s):\n",
        "  return TextBlob(s).sentiment.polarity"
      ]
    },
    {
      "cell_type": "code",
      "execution_count": null,
      "metadata": {
        "id": "mJN0aYV4Mo1v",
        "colab": {
          "base_uri": "https://localhost:8080/"
        },
        "outputId": "483a7eae-3f63-4b85-ea90-851b4653b3c2"
      },
      "outputs": [
        {
          "output_type": "stream",
          "name": "stdout",
          "text": [
            "+---+--------------------+--------------------+----------+-----------+\n",
            "| id|                text|         probability|prediction|  sentiment|\n",
            "+---+--------------------+--------------------+----------+-----------+\n",
            "|  3|i loooooooovvvvvv...|[0.21025761182210...|       4.0| 0.40892857|\n",
            "|  4|reading my kindle...|[0.11815470628759...|       4.0|        0.6|\n",
            "|  5|ok first assesmen...|[0.20533512629511...|       4.0|       0.05|\n",
            "|  6|you ll love your ...|[0.72471771992731...|       0.0| 0.13939394|\n",
            "|  7|fair enough but i...|[0.50428193261109...|       0.0| 0.56666666|\n",
            "|  8|no it is too big ...|[0.14514280637435...|       4.0|        0.4|\n",
            "|  9|fuck this economy...|[0.97589269109037...|       0.0|       -0.6|\n",
            "| 10|jquery is my new ...|[0.15165939991052...|       4.0|  0.5681818|\n",
            "| 11|       loves twitter|[0.17182208842118...|       4.0|        0.0|\n",
            "| 12|how can you not l...|[0.15904202091329...|       4.0|      -0.25|\n",
            "| 13|check this video ...|[0.18957251659826...|       4.0|        0.0|\n",
            "| 14|i firmly believe ...|[0.93503766823887...|       0.0|       -0.2|\n",
            "| 15|house corresponde...|[0.48048531691643...|       4.0|        0.0|\n",
            "| 16|watchin espn jus ...|[0.21632398773189...|       4.0|  0.4121212|\n",
            "| 17|dear nike stop wi...|[0.57464806296620...|       0.0|      -0.15|\n",
            "| 18|lebron best athle...|[0.52905406331193...|       0.0|        0.5|\n",
            "| 19|i was talking to ...|[0.92082240627705...|       0.0|-0.14583333|\n",
            "| 20|       i love lebron|[0.29326503584389...|       4.0|        0.5|\n",
            "| 21|lebron is a beast...|[0.77717835408215...|       0.0|        0.0|\n",
            "| 22|  lebron is the boss|[0.46236530572019...|       4.0|        0.0|\n",
            "+---+--------------------+--------------------+----------+-----------+\n",
            "only showing top 20 rows\n",
            "\n"
          ]
        },
        {
          "output_type": "execute_result",
          "data": {
            "text/plain": [
              "498"
            ]
          },
          "metadata": {},
          "execution_count": 23
        }
      ],
      "source": [
        "# Thêm thuộc tính 'sentiment' khi sử dụng TextBlob để dự đoán thuộc tính 'text'\n",
        "UDF = f.udf(get_polarity, FloatType())\n",
        "pred = pred.withColumn('sentiment', UDF(f.col('text')))\n",
        "pred.show()\n",
        "pred.count()"
      ]
    },
    {
      "cell_type": "code",
      "execution_count": null,
      "metadata": {
        "id": "JUAyb9N8Mo4R",
        "colab": {
          "base_uri": "https://localhost:8080/"
        },
        "outputId": "7229d4e4-0b7d-47f1-9eff-23b01fadd333"
      },
      "outputs": [
        {
          "output_type": "stream",
          "name": "stdout",
          "text": [
            "+---+--------------------+--------------------+----------+-----------+--------+\n",
            "| id|                text|         probability|prediction|  sentiment|polarity|\n",
            "+---+--------------------+--------------------+----------+-----------+--------+\n",
            "|  3|i loooooooovvvvvv...|[0.21025761182210...|       4.0| 0.40892857|       4|\n",
            "|  4|reading my kindle...|[0.11815470628759...|       4.0|        0.6|       4|\n",
            "|  5|ok first assesmen...|[0.20533512629511...|       4.0|       0.05|       4|\n",
            "|  6|you ll love your ...|[0.72471771992731...|       0.0| 0.13939394|       4|\n",
            "|  7|fair enough but i...|[0.50428193261109...|       0.0| 0.56666666|       4|\n",
            "|  8|no it is too big ...|[0.14514280637435...|       4.0|        0.4|       4|\n",
            "|  9|fuck this economy...|[0.97589269109037...|       0.0|       -0.6|       0|\n",
            "| 10|jquery is my new ...|[0.15165939991052...|       4.0|  0.5681818|       4|\n",
            "| 11|       loves twitter|[0.17182208842118...|       4.0|        0.0|       2|\n",
            "| 12|how can you not l...|[0.15904202091329...|       4.0|      -0.25|       0|\n",
            "| 13|check this video ...|[0.18957251659826...|       4.0|        0.0|       2|\n",
            "| 14|i firmly believe ...|[0.93503766823887...|       0.0|       -0.2|       0|\n",
            "| 15|house corresponde...|[0.48048531691643...|       4.0|        0.0|       2|\n",
            "| 16|watchin espn jus ...|[0.21632398773189...|       4.0|  0.4121212|       4|\n",
            "| 17|dear nike stop wi...|[0.57464806296620...|       0.0|      -0.15|       0|\n",
            "| 18|lebron best athle...|[0.52905406331193...|       0.0|        0.5|       4|\n",
            "| 19|i was talking to ...|[0.92082240627705...|       0.0|-0.14583333|       0|\n",
            "| 20|       i love lebron|[0.29326503584389...|       4.0|        0.5|       4|\n",
            "| 21|lebron is a beast...|[0.77717835408215...|       0.0|        0.0|       2|\n",
            "| 22|  lebron is the boss|[0.46236530572019...|       4.0|        0.0|       2|\n",
            "+---+--------------------+--------------------+----------+-----------+--------+\n",
            "only showing top 20 rows\n",
            "\n"
          ]
        },
        {
          "output_type": "execute_result",
          "data": {
            "text/plain": [
              "498"
            ]
          },
          "metadata": {},
          "execution_count": 24
        }
      ],
      "source": [
        "# Ở thuộc tính 'sentiment' với các giá trị < 0 thì sẽ được gán là 0 (negative), \n",
        "# với các giá trị = 0 sẽ được gán là 2 (neutral), còn lại được gán là 4 (positive).\n",
        "pred = pred.withColumn('polarity',f.when(f.col('sentiment')<0, 0).when(f.col('sentiment')==0, 2).otherwise(4))\n",
        "pred.show()\n",
        "pred.count()"
      ]
    },
    {
      "cell_type": "code",
      "execution_count": null,
      "metadata": {
        "id": "Veu6g1JlMo6j",
        "colab": {
          "base_uri": "https://localhost:8080/"
        },
        "outputId": "2ba2115d-be06-4f17-8f18-56041ed2d509"
      },
      "outputs": [
        {
          "output_type": "stream",
          "name": "stdout",
          "text": [
            "+---+--------------------+--------------------+----------+-----------+--------+-----+\n",
            "| id|                text|         probability|prediction|  sentiment|polarity| prob|\n",
            "+---+--------------------+--------------------+----------+-----------+--------+-----+\n",
            "|  3|i loooooooovvvvvv...|[0.21025761182210...|       4.0| 0.40892857|       4| 0.21|\n",
            "|  4|reading my kindle...|[0.11815470628759...|       4.0|        0.6|       4|0.118|\n",
            "|  5|ok first assesmen...|[0.20533512629511...|       4.0|       0.05|       4|0.205|\n",
            "|  6|you ll love your ...|[0.72471771992731...|       0.0| 0.13939394|       4|0.724|\n",
            "|  7|fair enough but i...|[0.50428193261109...|       0.0| 0.56666666|       4|0.504|\n",
            "|  8|no it is too big ...|[0.14514280637435...|       4.0|        0.4|       4|0.145|\n",
            "|  9|fuck this economy...|[0.97589269109037...|       0.0|       -0.6|       0|0.975|\n",
            "| 10|jquery is my new ...|[0.15165939991052...|       4.0|  0.5681818|       4|0.151|\n",
            "| 11|       loves twitter|[0.17182208842118...|       4.0|        0.0|       2|0.171|\n",
            "| 12|how can you not l...|[0.15904202091329...|       4.0|      -0.25|       0|0.159|\n",
            "| 13|check this video ...|[0.18957251659826...|       4.0|        0.0|       2|0.189|\n",
            "| 14|i firmly believe ...|[0.93503766823887...|       0.0|       -0.2|       0|0.935|\n",
            "| 15|house corresponde...|[0.48048531691643...|       4.0|        0.0|       2| 0.48|\n",
            "| 16|watchin espn jus ...|[0.21632398773189...|       4.0|  0.4121212|       4|0.216|\n",
            "| 17|dear nike stop wi...|[0.57464806296620...|       0.0|      -0.15|       0|0.574|\n",
            "| 18|lebron best athle...|[0.52905406331193...|       0.0|        0.5|       4|0.529|\n",
            "| 19|i was talking to ...|[0.92082240627705...|       0.0|-0.14583333|       0| 0.92|\n",
            "| 20|       i love lebron|[0.29326503584389...|       4.0|        0.5|       4|0.293|\n",
            "| 21|lebron is a beast...|[0.77717835408215...|       0.0|        0.0|       2|0.777|\n",
            "| 22|  lebron is the boss|[0.46236530572019...|       4.0|        0.0|       2|0.462|\n",
            "+---+--------------------+--------------------+----------+-----------+--------+-----+\n",
            "only showing top 20 rows\n",
            "\n"
          ]
        },
        {
          "output_type": "execute_result",
          "data": {
            "text/plain": [
              "498"
            ]
          },
          "metadata": {},
          "execution_count": 25
        }
      ],
      "source": [
        "# Thêm thuộc tính 'prob' bằng cách lấy từ thuộc tính 'probability' và các giá trị được lấy sau số 0 3 chứ số.\n",
        "pred = pred.withColumn('prob', f.col('probability').cast(\"string\").substr(2,5).cast(\"float\"))\n",
        "pred.show()\n",
        "pred.count()"
      ]
    },
    {
      "cell_type": "markdown",
      "metadata": {
        "id": "4kVJzaWaZEpw"
      },
      "source": [
        "### Final Result"
      ]
    },
    {
      "cell_type": "code",
      "execution_count": null,
      "metadata": {
        "id": "1IcOEPTMMo80",
        "colab": {
          "base_uri": "https://localhost:8080/"
        },
        "outputId": "6c4d1875-899c-4b8e-8ff2-76262ac8a1d3"
      },
      "outputs": [
        {
          "output_type": "stream",
          "name": "stdout",
          "text": [
            "+---+--------------------+--------------------+----------+-----------+--------+-----+\n",
            "| id|                text|         probability|prediction|  sentiment|polarity| prob|\n",
            "+---+--------------------+--------------------+----------+-----------+--------+-----+\n",
            "|  3|i loooooooovvvvvv...|[0.21025761182210...|       4.0| 0.40892857|       4| 0.21|\n",
            "|  4|reading my kindle...|[0.11815470628759...|       4.0|        0.6|       4|0.118|\n",
            "|  5|ok first assesmen...|[0.20533512629511...|       4.0|       0.05|       4|0.205|\n",
            "|  6|you ll love your ...|[0.72471771992731...|       0.0| 0.13939394|       2|0.724|\n",
            "|  7|fair enough but i...|[0.50428193261109...|       0.0| 0.56666666|       4|0.504|\n",
            "|  8|no it is too big ...|[0.14514280637435...|       4.0|        0.4|       4|0.145|\n",
            "|  9|fuck this economy...|[0.97589269109037...|       0.0|       -0.6|       0|0.975|\n",
            "| 10|jquery is my new ...|[0.15165939991052...|       4.0|  0.5681818|       4|0.151|\n",
            "| 11|       loves twitter|[0.17182208842118...|       4.0|        0.0|       2|0.171|\n",
            "| 12|how can you not l...|[0.15904202091329...|       4.0|      -0.25|       0|0.159|\n",
            "| 13|check this video ...|[0.18957251659826...|       4.0|        0.0|       2|0.189|\n",
            "| 14|i firmly believe ...|[0.93503766823887...|       0.0|       -0.2|       0|0.935|\n",
            "| 15|house corresponde...|[0.48048531691643...|       4.0|        0.0|       2| 0.48|\n",
            "| 16|watchin espn jus ...|[0.21632398773189...|       4.0|  0.4121212|       4|0.216|\n",
            "| 17|dear nike stop wi...|[0.57464806296620...|       0.0|      -0.15|       0|0.574|\n",
            "| 18|lebron best athle...|[0.52905406331193...|       0.0|        0.5|       4|0.529|\n",
            "| 19|i was talking to ...|[0.92082240627705...|       0.0|-0.14583333|       0| 0.92|\n",
            "| 20|       i love lebron|[0.29326503584389...|       4.0|        0.5|       4|0.293|\n",
            "| 21|lebron is a beast...|[0.77717835408215...|       0.0|        0.0|       2|0.777|\n",
            "| 22|  lebron is the boss|[0.46236530572019...|       4.0|        0.0|       2|0.462|\n",
            "+---+--------------------+--------------------+----------+-----------+--------+-----+\n",
            "only showing top 20 rows\n",
            "\n"
          ]
        },
        {
          "output_type": "execute_result",
          "data": {
            "text/plain": [
              "498"
            ]
          },
          "metadata": {},
          "execution_count": 26
        }
      ],
      "source": [
        "# Thêm thuộc tính 'polarity'. \n",
        "# Với các giá trị 'polarity' = 4 và 'prob' > 0.57 thì giá trị tương ứng tại 'polarity' = 2, ngược lại các giá trị sẽ được giữ nguyên.\n",
        "final = pred.withColumn('polarity', f.when((f.col('polarity')==4) & (f.col('prob')>0.57),2).otherwise(f.col('polarity')))\n",
        "final.show()\n",
        "final.count()"
      ]
    },
    {
      "cell_type": "code",
      "execution_count": null,
      "metadata": {
        "id": "L9gXheuXMo-6",
        "colab": {
          "base_uri": "https://localhost:8080/"
        },
        "outputId": "664ab5f4-f111-4bc0-9785-9abb8ee00348"
      },
      "outputs": [
        {
          "output_type": "stream",
          "name": "stdout",
          "text": [
            "+---+--------------------+--------------------+----------+-----------+--------+-----+\n",
            "| id|                text|         probability|prediction|  sentiment|polarity| prob|\n",
            "+---+--------------------+--------------------+----------+-----------+--------+-----+\n",
            "|  3|i loooooooovvvvvv...|[0.21025761182210...|       4.0| 0.40892857|       4| 0.21|\n",
            "|  4|reading my kindle...|[0.11815470628759...|       4.0|        0.6|       4|0.118|\n",
            "|  5|ok first assesmen...|[0.20533512629511...|       4.0|       0.05|       4|0.205|\n",
            "|  6|you ll love your ...|[0.72471771992731...|       0.0| 0.13939394|       0|0.724|\n",
            "|  7|fair enough but i...|[0.50428193261109...|       0.0| 0.56666666|       4|0.504|\n",
            "|  8|no it is too big ...|[0.14514280637435...|       4.0|        0.4|       4|0.145|\n",
            "|  9|fuck this economy...|[0.97589269109037...|       0.0|       -0.6|       0|0.975|\n",
            "| 10|jquery is my new ...|[0.15165939991052...|       4.0|  0.5681818|       4|0.151|\n",
            "| 11|       loves twitter|[0.17182208842118...|       4.0|        0.0|       2|0.171|\n",
            "| 12|how can you not l...|[0.15904202091329...|       4.0|      -0.25|       0|0.159|\n",
            "| 13|check this video ...|[0.18957251659826...|       4.0|        0.0|       2|0.189|\n",
            "| 14|i firmly believe ...|[0.93503766823887...|       0.0|       -0.2|       0|0.935|\n",
            "| 15|house corresponde...|[0.48048531691643...|       4.0|        0.0|       2| 0.48|\n",
            "| 16|watchin espn jus ...|[0.21632398773189...|       4.0|  0.4121212|       4|0.216|\n",
            "| 17|dear nike stop wi...|[0.57464806296620...|       0.0|      -0.15|       0|0.574|\n",
            "| 18|lebron best athle...|[0.52905406331193...|       0.0|        0.5|       4|0.529|\n",
            "| 19|i was talking to ...|[0.92082240627705...|       0.0|-0.14583333|       0| 0.92|\n",
            "| 20|       i love lebron|[0.29326503584389...|       4.0|        0.5|       4|0.293|\n",
            "| 21|lebron is a beast...|[0.77717835408215...|       0.0|        0.0|       0|0.777|\n",
            "| 22|  lebron is the boss|[0.46236530572019...|       4.0|        0.0|       2|0.462|\n",
            "+---+--------------------+--------------------+----------+-----------+--------+-----+\n",
            "only showing top 20 rows\n",
            "\n"
          ]
        },
        {
          "output_type": "execute_result",
          "data": {
            "text/plain": [
              "498"
            ]
          },
          "metadata": {},
          "execution_count": 27
        }
      ],
      "source": [
        "# Thêm thuộc tính 'polarity'. \n",
        "# Với các giá trị 'polarity' = 2 và 'prob' > 0.62 thì giá trị tương ứng tại 'polarity' = 0, ngược lại các giá trị sẽ được giữ nguyên.\n",
        "final = final.withColumn('polarity', f.when((f.col('polarity')==2) & (f.col('prob')>0.62),0).otherwise(f.col('polarity')))\n",
        "final.show()\n",
        "final.count()"
      ]
    },
    {
      "cell_type": "code",
      "execution_count": null,
      "metadata": {
        "id": "Nx_7XWn9MpBm",
        "colab": {
          "base_uri": "https://localhost:8080/"
        },
        "outputId": "4120df0b-5e05-4fc0-af83-90705699f31e"
      },
      "outputs": [
        {
          "output_type": "stream",
          "name": "stdout",
          "text": [
            "+--------+---------------+\n",
            "|polarity|count(polarity)|\n",
            "+--------+---------------+\n",
            "|       4|            183|\n",
            "|       2|            131|\n",
            "|       0|            184|\n",
            "+--------+---------------+\n",
            "\n"
          ]
        }
      ],
      "source": [
        "# Đếm số lượng mỗi label sau khi đã xử lý trong tập test\n",
        "final.groupBy('polarity').agg(f.count(f.col('polarity'))).show()"
      ]
    },
    {
      "cell_type": "code",
      "execution_count": null,
      "metadata": {
        "id": "uE8Kqk32QwF1"
      },
      "outputs": [],
      "source": [
        "# Submit\n",
        "final_df = final.select('id','polarity').toPandas()\n",
        "final_df.to_csv('submission.csv', header=True, index=False)"
      ]
    },
    {
      "cell_type": "code",
      "source": [
        "final_df"
      ],
      "metadata": {
        "colab": {
          "base_uri": "https://localhost:8080/",
          "height": 424
        },
        "id": "n6ka_RYTma6X",
        "outputId": "ae6e85ab-dc65-4a3d-c61a-b1f528e34fd8"
      },
      "execution_count": null,
      "outputs": [
        {
          "output_type": "execute_result",
          "data": {
            "text/plain": [
              "        id  polarity\n",
              "0        3         4\n",
              "1        4         4\n",
              "2        5         4\n",
              "3        6         0\n",
              "4        7         4\n",
              "..     ...       ...\n",
              "493  14072         2\n",
              "494  14073         0\n",
              "495  14074         4\n",
              "496  14075         0\n",
              "497  14076         0\n",
              "\n",
              "[498 rows x 2 columns]"
            ],
            "text/html": [
              "\n",
              "  <div id=\"df-8552b6a4-9855-4f74-8899-51264800c6c4\">\n",
              "    <div class=\"colab-df-container\">\n",
              "      <div>\n",
              "<style scoped>\n",
              "    .dataframe tbody tr th:only-of-type {\n",
              "        vertical-align: middle;\n",
              "    }\n",
              "\n",
              "    .dataframe tbody tr th {\n",
              "        vertical-align: top;\n",
              "    }\n",
              "\n",
              "    .dataframe thead th {\n",
              "        text-align: right;\n",
              "    }\n",
              "</style>\n",
              "<table border=\"1\" class=\"dataframe\">\n",
              "  <thead>\n",
              "    <tr style=\"text-align: right;\">\n",
              "      <th></th>\n",
              "      <th>id</th>\n",
              "      <th>polarity</th>\n",
              "    </tr>\n",
              "  </thead>\n",
              "  <tbody>\n",
              "    <tr>\n",
              "      <th>0</th>\n",
              "      <td>3</td>\n",
              "      <td>4</td>\n",
              "    </tr>\n",
              "    <tr>\n",
              "      <th>1</th>\n",
              "      <td>4</td>\n",
              "      <td>4</td>\n",
              "    </tr>\n",
              "    <tr>\n",
              "      <th>2</th>\n",
              "      <td>5</td>\n",
              "      <td>4</td>\n",
              "    </tr>\n",
              "    <tr>\n",
              "      <th>3</th>\n",
              "      <td>6</td>\n",
              "      <td>0</td>\n",
              "    </tr>\n",
              "    <tr>\n",
              "      <th>4</th>\n",
              "      <td>7</td>\n",
              "      <td>4</td>\n",
              "    </tr>\n",
              "    <tr>\n",
              "      <th>...</th>\n",
              "      <td>...</td>\n",
              "      <td>...</td>\n",
              "    </tr>\n",
              "    <tr>\n",
              "      <th>493</th>\n",
              "      <td>14072</td>\n",
              "      <td>2</td>\n",
              "    </tr>\n",
              "    <tr>\n",
              "      <th>494</th>\n",
              "      <td>14073</td>\n",
              "      <td>0</td>\n",
              "    </tr>\n",
              "    <tr>\n",
              "      <th>495</th>\n",
              "      <td>14074</td>\n",
              "      <td>4</td>\n",
              "    </tr>\n",
              "    <tr>\n",
              "      <th>496</th>\n",
              "      <td>14075</td>\n",
              "      <td>0</td>\n",
              "    </tr>\n",
              "    <tr>\n",
              "      <th>497</th>\n",
              "      <td>14076</td>\n",
              "      <td>0</td>\n",
              "    </tr>\n",
              "  </tbody>\n",
              "</table>\n",
              "<p>498 rows × 2 columns</p>\n",
              "</div>\n",
              "      <button class=\"colab-df-convert\" onclick=\"convertToInteractive('df-8552b6a4-9855-4f74-8899-51264800c6c4')\"\n",
              "              title=\"Convert this dataframe to an interactive table.\"\n",
              "              style=\"display:none;\">\n",
              "        \n",
              "  <svg xmlns=\"http://www.w3.org/2000/svg\" height=\"24px\"viewBox=\"0 0 24 24\"\n",
              "       width=\"24px\">\n",
              "    <path d=\"M0 0h24v24H0V0z\" fill=\"none\"/>\n",
              "    <path d=\"M18.56 5.44l.94 2.06.94-2.06 2.06-.94-2.06-.94-.94-2.06-.94 2.06-2.06.94zm-11 1L8.5 8.5l.94-2.06 2.06-.94-2.06-.94L8.5 2.5l-.94 2.06-2.06.94zm10 10l.94 2.06.94-2.06 2.06-.94-2.06-.94-.94-2.06-.94 2.06-2.06.94z\"/><path d=\"M17.41 7.96l-1.37-1.37c-.4-.4-.92-.59-1.43-.59-.52 0-1.04.2-1.43.59L10.3 9.45l-7.72 7.72c-.78.78-.78 2.05 0 2.83L4 21.41c.39.39.9.59 1.41.59.51 0 1.02-.2 1.41-.59l7.78-7.78 2.81-2.81c.8-.78.8-2.07 0-2.86zM5.41 20L4 18.59l7.72-7.72 1.47 1.35L5.41 20z\"/>\n",
              "  </svg>\n",
              "      </button>\n",
              "      \n",
              "  <style>\n",
              "    .colab-df-container {\n",
              "      display:flex;\n",
              "      flex-wrap:wrap;\n",
              "      gap: 12px;\n",
              "    }\n",
              "\n",
              "    .colab-df-convert {\n",
              "      background-color: #E8F0FE;\n",
              "      border: none;\n",
              "      border-radius: 50%;\n",
              "      cursor: pointer;\n",
              "      display: none;\n",
              "      fill: #1967D2;\n",
              "      height: 32px;\n",
              "      padding: 0 0 0 0;\n",
              "      width: 32px;\n",
              "    }\n",
              "\n",
              "    .colab-df-convert:hover {\n",
              "      background-color: #E2EBFA;\n",
              "      box-shadow: 0px 1px 2px rgba(60, 64, 67, 0.3), 0px 1px 3px 1px rgba(60, 64, 67, 0.15);\n",
              "      fill: #174EA6;\n",
              "    }\n",
              "\n",
              "    [theme=dark] .colab-df-convert {\n",
              "      background-color: #3B4455;\n",
              "      fill: #D2E3FC;\n",
              "    }\n",
              "\n",
              "    [theme=dark] .colab-df-convert:hover {\n",
              "      background-color: #434B5C;\n",
              "      box-shadow: 0px 1px 3px 1px rgba(0, 0, 0, 0.15);\n",
              "      filter: drop-shadow(0px 1px 2px rgba(0, 0, 0, 0.3));\n",
              "      fill: #FFFFFF;\n",
              "    }\n",
              "  </style>\n",
              "\n",
              "      <script>\n",
              "        const buttonEl =\n",
              "          document.querySelector('#df-8552b6a4-9855-4f74-8899-51264800c6c4 button.colab-df-convert');\n",
              "        buttonEl.style.display =\n",
              "          google.colab.kernel.accessAllowed ? 'block' : 'none';\n",
              "\n",
              "        async function convertToInteractive(key) {\n",
              "          const element = document.querySelector('#df-8552b6a4-9855-4f74-8899-51264800c6c4');\n",
              "          const dataTable =\n",
              "            await google.colab.kernel.invokeFunction('convertToInteractive',\n",
              "                                                     [key], {});\n",
              "          if (!dataTable) return;\n",
              "\n",
              "          const docLinkHtml = 'Like what you see? Visit the ' +\n",
              "            '<a target=\"_blank\" href=https://colab.research.google.com/notebooks/data_table.ipynb>data table notebook</a>'\n",
              "            + ' to learn more about interactive tables.';\n",
              "          element.innerHTML = '';\n",
              "          dataTable['output_type'] = 'display_data';\n",
              "          await google.colab.output.renderOutput(dataTable, element);\n",
              "          const docLink = document.createElement('div');\n",
              "          docLink.innerHTML = docLinkHtml;\n",
              "          element.appendChild(docLink);\n",
              "        }\n",
              "      </script>\n",
              "    </div>\n",
              "  </div>\n",
              "  "
            ]
          },
          "metadata": {},
          "execution_count": 30
        }
      ]
    },
    {
      "cell_type": "code",
      "source": [
        ""
      ],
      "metadata": {
        "id": "AGZ03UPSmbyt"
      },
      "execution_count": null,
      "outputs": []
    }
  ]
}
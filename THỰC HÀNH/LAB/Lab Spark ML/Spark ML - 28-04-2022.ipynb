{
  "nbformat": 4,
  "nbformat_minor": 0,
  "metadata": {
    "colab": {
      "name": "Spark ML - 28/04/2022.ipynb",
      "provenance": [],
      "collapsed_sections": [],
      "toc_visible": true
    },
    "kernelspec": {
      "name": "python3",
      "display_name": "Python 3"
    },
    "language_info": {
      "name": "python"
    }
  },
  "cells": [
    {
      "cell_type": "markdown",
      "source": [
        "Họ và tên: Phạm Đức Thể\n",
        "\n",
        "MSSV: 19522253\n",
        "\n",
        "Lớp: DS200.M21\n",
        "\n",
        "PySpark - 28/04/2022\n",
        "\n",
        "[![Open In Colab](https://colab.research.google.com/assets/colab-badge.svg)](https://colab.research.google.com/drive/1Ld3wcEp0zwZjFV3pLl6pe7i2FGxETeq2?usp=sharing)"
      ],
      "metadata": {
        "id": "V11tiprMtAWA"
      }
    },
    {
      "cell_type": "markdown",
      "source": [
        "# **Big Data - Spark ML**"
      ],
      "metadata": {
        "id": "-y_FrSNxwBZl"
      }
    },
    {
      "cell_type": "markdown",
      "source": [
        "## Spark Machine Learning"
      ],
      "metadata": {
        "id": "BCcMnqd55rMg"
      }
    },
    {
      "cell_type": "markdown",
      "source": [
        "### Spark Mllib Utilities"
      ],
      "metadata": {
        "id": "YPGB8vrB5zRI"
      }
    },
    {
      "cell_type": "markdown",
      "source": [
        "#### Linear Algebra"
      ],
      "metadata": {
        "id": "RNnvFC-956Hs"
      }
    },
    {
      "cell_type": "code",
      "source": [
        "!pip install pyspark==3.0.1"
      ],
      "metadata": {
        "colab": {
          "base_uri": "https://localhost:8080/"
        },
        "id": "9ntK1fLP6UX6",
        "outputId": "68f7739e-c99d-44c7-f48d-9c3d9179fcbc"
      },
      "execution_count": 1,
      "outputs": [
        {
          "output_type": "stream",
          "name": "stdout",
          "text": [
            "Collecting pyspark==3.0.1\n",
            "  Downloading pyspark-3.0.1.tar.gz (204.2 MB)\n",
            "\u001b[K     |████████████████████████████████| 204.2 MB 32 kB/s \n",
            "\u001b[?25hCollecting py4j==0.10.9\n",
            "  Downloading py4j-0.10.9-py2.py3-none-any.whl (198 kB)\n",
            "\u001b[K     |████████████████████████████████| 198 kB 40.9 MB/s \n",
            "\u001b[?25hBuilding wheels for collected packages: pyspark\n",
            "  Building wheel for pyspark (setup.py) ... \u001b[?25l\u001b[?25hdone\n",
            "  Created wheel for pyspark: filename=pyspark-3.0.1-py2.py3-none-any.whl size=204612243 sha256=d7d4206c047e5a5643bc6a851abe1d8410c030c3c17132fa893c56f9e41a5b4f\n",
            "  Stored in directory: /root/.cache/pip/wheels/5e/34/fa/b37b5cef503fc5148b478b2495043ba61b079120b7ff379f9b\n",
            "Successfully built pyspark\n",
            "Installing collected packages: py4j, pyspark\n",
            "Successfully installed py4j-0.10.9 pyspark-3.0.1\n"
          ]
        }
      ]
    },
    {
      "cell_type": "code",
      "execution_count": 2,
      "metadata": {
        "id": "Y5y7moXv3HuK"
      },
      "outputs": [],
      "source": [
        "import pyspark\n",
        "from pyspark.sql import SparkSession\n",
        "spark = SparkSession.builder.getOrCreate()"
      ]
    },
    {
      "cell_type": "code",
      "source": [
        "import numpy as np\n",
        "import scipy.sparse as sps\n",
        "from pyspark.ml.linalg import Vectors"
      ],
      "metadata": {
        "id": "cGddY23cHaRZ"
      },
      "execution_count": 3,
      "outputs": []
    },
    {
      "cell_type": "markdown",
      "source": [
        "##### Sparse Vector Example"
      ],
      "metadata": {
        "id": "gIu4VKsx64en"
      }
    },
    {
      "cell_type": "code",
      "source": [
        "# Use a Numpy array as a dense vector\n",
        "dv1 = np.array([1.0, 0.0, 3.0])\n",
        "print(dv1)"
      ],
      "metadata": {
        "id": "bJmNAlrx4_2j",
        "colab": {
          "base_uri": "https://localhost:8080/"
        },
        "outputId": "a5fc6387-ccd3-4a93-8eea-6183017aaa34"
      },
      "execution_count": 4,
      "outputs": [
        {
          "output_type": "stream",
          "name": "stdout",
          "text": [
            "[1. 0. 3.]\n"
          ]
        }
      ]
    },
    {
      "cell_type": "code",
      "source": [
        "# Create a SparseVector\n",
        "sv1 = Vectors.sparse(3, [0, 2], [1.0, 3.0])\n",
        "print(sv1)"
      ],
      "metadata": {
        "colab": {
          "base_uri": "https://localhost:8080/"
        },
        "id": "7XJ5-RZoIBnC",
        "outputId": "00b66719-54d8-4aa9-fb5a-bb0a76246b6e"
      },
      "execution_count": 5,
      "outputs": [
        {
          "output_type": "stream",
          "name": "stdout",
          "text": [
            "(3,[0,2],[1.0,3.0])\n"
          ]
        }
      ]
    },
    {
      "cell_type": "markdown",
      "source": [
        "##### Dense Vector Example"
      ],
      "metadata": {
        "id": "hloNlpiE6-l8"
      }
    },
    {
      "cell_type": "code",
      "source": [
        "# Use a Python list as a densen vector\n",
        "dv2 = [1.0, 0.0, 3.0]\n",
        "print(dv2)"
      ],
      "metadata": {
        "id": "tbTtoNEz4_5I",
        "colab": {
          "base_uri": "https://localhost:8080/"
        },
        "outputId": "e94fa538-931a-42e9-96a8-8992a3609b78"
      },
      "execution_count": 6,
      "outputs": [
        {
          "output_type": "stream",
          "name": "stdout",
          "text": [
            "[1.0, 0.0, 3.0]\n"
          ]
        }
      ]
    },
    {
      "cell_type": "code",
      "source": [
        "# Use a single-column Scipy csc_matrix as a sparse vector\n",
        "sv2 = sps.csc_matrix((np.array([1.0, 3.0]), np.array([0, 2]), np.array([0, 2])), shape=(3, 1))\n",
        "print(sv2)"
      ],
      "metadata": {
        "colab": {
          "base_uri": "https://localhost:8080/"
        },
        "id": "3LICZEtBIWKH",
        "outputId": "9bd39c71-a878-41ca-b6da-3205d5ab3182"
      },
      "execution_count": 7,
      "outputs": [
        {
          "output_type": "stream",
          "name": "stdout",
          "text": [
            "  (0, 0)\t1.0\n",
            "  (2, 0)\t3.0\n"
          ]
        }
      ]
    },
    {
      "cell_type": "markdown",
      "source": [
        "##### Dense Matrix"
      ],
      "metadata": {
        "id": "iwdB4f307F0r"
      }
    },
    {
      "cell_type": "code",
      "source": [
        "from pyspark.ml.linalg import Matrix, Matrices\n",
        "\n",
        "# Create a dense matrix ((1.0, 2.0), (3.0, 4.0), (5.0, 6.0))\n",
        "dm = Matrices.dense(3, 2, [1, 3, 5, 2, 4, 6])\n",
        "print(dm)"
      ],
      "metadata": {
        "id": "KlHDxj2w4_7w",
        "colab": {
          "base_uri": "https://localhost:8080/"
        },
        "outputId": "bd08afb2-2ef4-4fc7-eb4b-0d66a1c2486b"
      },
      "execution_count": 8,
      "outputs": [
        {
          "output_type": "stream",
          "name": "stdout",
          "text": [
            "DenseMatrix([[1., 2.],\n",
            "             [3., 4.],\n",
            "             [5., 6.]])\n"
          ]
        }
      ]
    },
    {
      "cell_type": "markdown",
      "source": [
        "##### Sparse Matrix"
      ],
      "metadata": {
        "id": "KR52C8Oe7LKq"
      }
    },
    {
      "cell_type": "code",
      "source": [
        "# Create a sparse matrix ((9.0, 0.0), (0.0, 8.0), (0.0, 6.0))\n",
        "sm = Matrices.sparse(3, 2, [0, 1, 3], [0, 2, 1], [9, 6, 8])\n",
        "print(sm)"
      ],
      "metadata": {
        "id": "nKnJw8hG4_-N",
        "colab": {
          "base_uri": "https://localhost:8080/"
        },
        "outputId": "ca690557-aeef-4a39-d844-e9f8a577fba5"
      },
      "execution_count": 9,
      "outputs": [
        {
          "output_type": "stream",
          "name": "stdout",
          "text": [
            "3 X 2 CSCMatrix\n",
            "(0,0) 9.0\n",
            "(2,1) 6.0\n",
            "(1,1) 8.0\n"
          ]
        }
      ]
    },
    {
      "cell_type": "markdown",
      "source": [
        "#### Data Sources"
      ],
      "metadata": {
        "id": "KCFs7iNW7Rqa"
      }
    },
    {
      "cell_type": "code",
      "source": [
        "import pyspark\n",
        "from pyspark.sql import SparkSession\n",
        "spark = SparkSession.builder.getOrCreate()"
      ],
      "metadata": {
        "id": "G2bKWQ7W5AAf"
      },
      "execution_count": 10,
      "outputs": []
    },
    {
      "cell_type": "code",
      "source": [
        "!git clone https://github.com/apache/spark.git"
      ],
      "metadata": {
        "id": "IZCDdddw5ADJ",
        "colab": {
          "base_uri": "https://localhost:8080/"
        },
        "outputId": "760ddb38-a268-4161-bd3d-4dbd29a24fdb"
      },
      "execution_count": 11,
      "outputs": [
        {
          "output_type": "stream",
          "name": "stdout",
          "text": [
            "Cloning into 'spark'...\n",
            "remote: Enumerating objects: 904746, done.\u001b[K\n",
            "remote: Counting objects: 100% (136/136), done.\u001b[K\n",
            "remote: Compressing objects: 100% (86/86), done.\u001b[K\n",
            "remote: Total 904746 (delta 48), reused 66 (delta 25), pack-reused 904610\u001b[K\n",
            "Receiving objects: 100% (904746/904746), 409.69 MiB | 14.52 MiB/s, done.\n",
            "Resolving deltas: 100% (395550/395550), done.\n",
            "Checking out files: 100% (18432/18432), done.\n"
          ]
        }
      ]
    },
    {
      "cell_type": "code",
      "source": [
        "PATH = '/content/spark/data/mllib/images/origin/kittens'\n",
        "\n",
        "df = spark.read.format('image').option('dropInvalid', True).load(PATH).select('image.origin',\n",
        "                                                                              'image.height',\n",
        "                                                                              'image.width',\n",
        "                                                                              'image.nChannels',\n",
        "                                                                              'image.mode',\n",
        "                                                                              'image.data')\n",
        "df.toPandas()"
      ],
      "metadata": {
        "id": "NAFdkLFT5AF4",
        "colab": {
          "base_uri": "https://localhost:8080/",
          "height": 175
        },
        "outputId": "8d4be7cb-5be0-4144-bb56-b472a3e8f66b"
      },
      "execution_count": 12,
      "outputs": [
        {
          "output_type": "execute_result",
          "data": {
            "text/plain": [
              "                                              origin  height  width  \\\n",
              "0  file:///content/spark/data/mllib/images/origin...     311    300   \n",
              "1  file:///content/spark/data/mllib/images/origin...     313    199   \n",
              "2  file:///content/spark/data/mllib/images/origin...     200    300   \n",
              "3  file:///content/spark/data/mllib/images/origin...     296    300   \n",
              "\n",
              "   nChannels  mode                                               data  \n",
              "0          3    16  [193, 193, 193, 194, 194, 194, 194, 194, 194, ...  \n",
              "1          3    16  [208, 229, 237, 202, 223, 231, 210, 231, 239, ...  \n",
              "2          3    16  [88, 93, 96, 88, 93, 96, 88, 93, 96, 89, 94, 9...  \n",
              "3          3    16  [203, 230, 244, 202, 229, 243, 201, 228, 242, ...  "
            ],
            "text/html": [
              "\n",
              "  <div id=\"df-86a12776-c187-4ac7-af95-c939ef479a3c\">\n",
              "    <div class=\"colab-df-container\">\n",
              "      <div>\n",
              "<style scoped>\n",
              "    .dataframe tbody tr th:only-of-type {\n",
              "        vertical-align: middle;\n",
              "    }\n",
              "\n",
              "    .dataframe tbody tr th {\n",
              "        vertical-align: top;\n",
              "    }\n",
              "\n",
              "    .dataframe thead th {\n",
              "        text-align: right;\n",
              "    }\n",
              "</style>\n",
              "<table border=\"1\" class=\"dataframe\">\n",
              "  <thead>\n",
              "    <tr style=\"text-align: right;\">\n",
              "      <th></th>\n",
              "      <th>origin</th>\n",
              "      <th>height</th>\n",
              "      <th>width</th>\n",
              "      <th>nChannels</th>\n",
              "      <th>mode</th>\n",
              "      <th>data</th>\n",
              "    </tr>\n",
              "  </thead>\n",
              "  <tbody>\n",
              "    <tr>\n",
              "      <th>0</th>\n",
              "      <td>file:///content/spark/data/mllib/images/origin...</td>\n",
              "      <td>311</td>\n",
              "      <td>300</td>\n",
              "      <td>3</td>\n",
              "      <td>16</td>\n",
              "      <td>[193, 193, 193, 194, 194, 194, 194, 194, 194, ...</td>\n",
              "    </tr>\n",
              "    <tr>\n",
              "      <th>1</th>\n",
              "      <td>file:///content/spark/data/mllib/images/origin...</td>\n",
              "      <td>313</td>\n",
              "      <td>199</td>\n",
              "      <td>3</td>\n",
              "      <td>16</td>\n",
              "      <td>[208, 229, 237, 202, 223, 231, 210, 231, 239, ...</td>\n",
              "    </tr>\n",
              "    <tr>\n",
              "      <th>2</th>\n",
              "      <td>file:///content/spark/data/mllib/images/origin...</td>\n",
              "      <td>200</td>\n",
              "      <td>300</td>\n",
              "      <td>3</td>\n",
              "      <td>16</td>\n",
              "      <td>[88, 93, 96, 88, 93, 96, 88, 93, 96, 89, 94, 9...</td>\n",
              "    </tr>\n",
              "    <tr>\n",
              "      <th>3</th>\n",
              "      <td>file:///content/spark/data/mllib/images/origin...</td>\n",
              "      <td>296</td>\n",
              "      <td>300</td>\n",
              "      <td>3</td>\n",
              "      <td>16</td>\n",
              "      <td>[203, 230, 244, 202, 229, 243, 201, 228, 242, ...</td>\n",
              "    </tr>\n",
              "  </tbody>\n",
              "</table>\n",
              "</div>\n",
              "      <button class=\"colab-df-convert\" onclick=\"convertToInteractive('df-86a12776-c187-4ac7-af95-c939ef479a3c')\"\n",
              "              title=\"Convert this dataframe to an interactive table.\"\n",
              "              style=\"display:none;\">\n",
              "        \n",
              "  <svg xmlns=\"http://www.w3.org/2000/svg\" height=\"24px\"viewBox=\"0 0 24 24\"\n",
              "       width=\"24px\">\n",
              "    <path d=\"M0 0h24v24H0V0z\" fill=\"none\"/>\n",
              "    <path d=\"M18.56 5.44l.94 2.06.94-2.06 2.06-.94-2.06-.94-.94-2.06-.94 2.06-2.06.94zm-11 1L8.5 8.5l.94-2.06 2.06-.94-2.06-.94L8.5 2.5l-.94 2.06-2.06.94zm10 10l.94 2.06.94-2.06 2.06-.94-2.06-.94-.94-2.06-.94 2.06-2.06.94z\"/><path d=\"M17.41 7.96l-1.37-1.37c-.4-.4-.92-.59-1.43-.59-.52 0-1.04.2-1.43.59L10.3 9.45l-7.72 7.72c-.78.78-.78 2.05 0 2.83L4 21.41c.39.39.9.59 1.41.59.51 0 1.02-.2 1.41-.59l7.78-7.78 2.81-2.81c.8-.78.8-2.07 0-2.86zM5.41 20L4 18.59l7.72-7.72 1.47 1.35L5.41 20z\"/>\n",
              "  </svg>\n",
              "      </button>\n",
              "      \n",
              "  <style>\n",
              "    .colab-df-container {\n",
              "      display:flex;\n",
              "      flex-wrap:wrap;\n",
              "      gap: 12px;\n",
              "    }\n",
              "\n",
              "    .colab-df-convert {\n",
              "      background-color: #E8F0FE;\n",
              "      border: none;\n",
              "      border-radius: 50%;\n",
              "      cursor: pointer;\n",
              "      display: none;\n",
              "      fill: #1967D2;\n",
              "      height: 32px;\n",
              "      padding: 0 0 0 0;\n",
              "      width: 32px;\n",
              "    }\n",
              "\n",
              "    .colab-df-convert:hover {\n",
              "      background-color: #E2EBFA;\n",
              "      box-shadow: 0px 1px 2px rgba(60, 64, 67, 0.3), 0px 1px 3px 1px rgba(60, 64, 67, 0.15);\n",
              "      fill: #174EA6;\n",
              "    }\n",
              "\n",
              "    [theme=dark] .colab-df-convert {\n",
              "      background-color: #3B4455;\n",
              "      fill: #D2E3FC;\n",
              "    }\n",
              "\n",
              "    [theme=dark] .colab-df-convert:hover {\n",
              "      background-color: #434B5C;\n",
              "      box-shadow: 0px 1px 3px 1px rgba(0, 0, 0, 0.15);\n",
              "      filter: drop-shadow(0px 1px 2px rgba(0, 0, 0, 0.3));\n",
              "      fill: #FFFFFF;\n",
              "    }\n",
              "  </style>\n",
              "\n",
              "      <script>\n",
              "        const buttonEl =\n",
              "          document.querySelector('#df-86a12776-c187-4ac7-af95-c939ef479a3c button.colab-df-convert');\n",
              "        buttonEl.style.display =\n",
              "          google.colab.kernel.accessAllowed ? 'block' : 'none';\n",
              "\n",
              "        async function convertToInteractive(key) {\n",
              "          const element = document.querySelector('#df-86a12776-c187-4ac7-af95-c939ef479a3c');\n",
              "          const dataTable =\n",
              "            await google.colab.kernel.invokeFunction('convertToInteractive',\n",
              "                                                     [key], {});\n",
              "          if (!dataTable) return;\n",
              "\n",
              "          const docLinkHtml = 'Like what you see? Visit the ' +\n",
              "            '<a target=\"_blank\" href=https://colab.research.google.com/notebooks/data_table.ipynb>data table notebook</a>'\n",
              "            + ' to learn more about interactive tables.';\n",
              "          element.innerHTML = '';\n",
              "          dataTable['output_type'] = 'display_data';\n",
              "          await google.colab.output.renderOutput(dataTable, element);\n",
              "          const docLink = document.createElement('div');\n",
              "          docLink.innerHTML = docLinkHtml;\n",
              "          element.appendChild(docLink);\n",
              "        }\n",
              "      </script>\n",
              "    </div>\n",
              "  </div>\n",
              "  "
            ]
          },
          "metadata": {},
          "execution_count": 12
        }
      ]
    },
    {
      "cell_type": "code",
      "source": [
        "df.printSchema()"
      ],
      "metadata": {
        "id": "9Nf1BHx45ALA",
        "colab": {
          "base_uri": "https://localhost:8080/"
        },
        "outputId": "a3963b19-6db5-46c1-f2d7-d10c1ae2986d"
      },
      "execution_count": 13,
      "outputs": [
        {
          "output_type": "stream",
          "name": "stdout",
          "text": [
            "root\n",
            " |-- origin: string (nullable = true)\n",
            " |-- height: integer (nullable = true)\n",
            " |-- width: integer (nullable = true)\n",
            " |-- nChannels: integer (nullable = true)\n",
            " |-- mode: integer (nullable = true)\n",
            " |-- data: binary (nullable = true)\n",
            "\n"
          ]
        }
      ]
    },
    {
      "cell_type": "markdown",
      "source": [
        "### Spark MLlib Pipelines"
      ],
      "metadata": {
        "id": "UJiTJEMtR8sX"
      }
    },
    {
      "cell_type": "markdown",
      "source": [
        "5 Key Concepts: \n",
        "- DataFrame\n",
        "- Estimator\n",
        "```python\n",
        "# A Transformer is an abstraction that includes feature tranformers and learned models.\n",
        "# Technically, a transformer implements a method .transformer(), which converts on DataFrame \n",
        "# into another, generally by appending one or more columns.\n",
        "model_out = Estimator.fit(df_in)\n",
        "```\n",
        "- Transformer\n",
        "```python\n",
        "# An astimator abstracts the concept of a learning algorithm or any algorithm that fits or trains on data.\n",
        "# Technically, an Estimator implements a method .fit(), which accepts a DataFrame \n",
        "# and produces a model which is a transformer.\n",
        "df_out = Transformer.tranform(df_in)\n",
        "```\n",
        "- Parameters\n",
        "- Pipeline\n",
        "  + Pipelines consist of a sequence of stages that run in order.\n",
        "  + Each stage is either a transformer or an estimator."
      ],
      "metadata": {
        "id": "LrvRRXnZSZsm"
      }
    },
    {
      "cell_type": "markdown",
      "source": [
        "#### Classification and regression"
      ],
      "metadata": {
        "id": "dmpEBaLiWN_Q"
      }
    },
    {
      "cell_type": "code",
      "source": [
        "import pyspark\n",
        "from pyspark.sql import SparkSession\n",
        "spark = SparkSession.builder.getOrCreate()"
      ],
      "metadata": {
        "id": "QTuxXRaZ5ANV"
      },
      "execution_count": 14,
      "outputs": []
    },
    {
      "cell_type": "code",
      "source": [
        "# Load and parse the data file, converting it to a DataFrame.\n",
        "sample_libsvm_data = spark.read.format('libsvm').load('/content/spark/data/mllib/sample_libsvm_data.txt')\n",
        "sample_libsvm_data.printSchema()\n",
        "sample_libsvm_data.show()"
      ],
      "metadata": {
        "id": "H95mnqFN5AP1",
        "colab": {
          "base_uri": "https://localhost:8080/"
        },
        "outputId": "eea4b203-08e2-4074-8e7b-98c5b1eb91a0"
      },
      "execution_count": 15,
      "outputs": [
        {
          "output_type": "stream",
          "name": "stdout",
          "text": [
            "root\n",
            " |-- label: double (nullable = true)\n",
            " |-- features: vector (nullable = true)\n",
            "\n",
            "+-----+--------------------+\n",
            "|label|            features|\n",
            "+-----+--------------------+\n",
            "|  0.0|(692,[127,128,129...|\n",
            "|  1.0|(692,[158,159,160...|\n",
            "|  1.0|(692,[124,125,126...|\n",
            "|  1.0|(692,[152,153,154...|\n",
            "|  1.0|(692,[151,152,153...|\n",
            "|  0.0|(692,[129,130,131...|\n",
            "|  1.0|(692,[158,159,160...|\n",
            "|  1.0|(692,[99,100,101,...|\n",
            "|  0.0|(692,[154,155,156...|\n",
            "|  0.0|(692,[127,128,129...|\n",
            "|  1.0|(692,[154,155,156...|\n",
            "|  0.0|(692,[153,154,155...|\n",
            "|  0.0|(692,[151,152,153...|\n",
            "|  1.0|(692,[129,130,131...|\n",
            "|  0.0|(692,[154,155,156...|\n",
            "|  1.0|(692,[150,151,152...|\n",
            "|  0.0|(692,[124,125,126...|\n",
            "|  0.0|(692,[152,153,154...|\n",
            "|  1.0|(692,[97,98,99,12...|\n",
            "|  1.0|(692,[124,125,126...|\n",
            "+-----+--------------------+\n",
            "only showing top 20 rows\n",
            "\n"
          ]
        }
      ]
    },
    {
      "cell_type": "markdown",
      "source": [
        "#### DecisionTreeClassifier"
      ],
      "metadata": {
        "id": "lTEKRETKe37W"
      }
    },
    {
      "cell_type": "code",
      "source": [
        "from pyspark.ml import Pipeline\n",
        "from pyspark.ml.classification import DecisionTreeClassifier\n",
        "from pyspark.ml.feature import StringIndexer, VectorIndexer\n",
        "from pyspark.ml.evaluation import MulticlassClassificationEvaluator"
      ],
      "metadata": {
        "id": "3oNCJXp05ASf"
      },
      "execution_count": 16,
      "outputs": []
    },
    {
      "cell_type": "markdown",
      "source": [
        "##### Feature Transformers"
      ],
      "metadata": {
        "id": "1u8o0CzAf02K"
      }
    },
    {
      "cell_type": "code",
      "source": [
        "label_indexer = StringIndexer(inputCol='label', \n",
        "                              outputCol='indexedLabel').fit(sample_libsvm_data)\n",
        "print(type(label_indexer))\n",
        "label_indexer.transform(sample_libsvm_data).show()"
      ],
      "metadata": {
        "id": "A2YN6Tgt5AYU",
        "colab": {
          "base_uri": "https://localhost:8080/"
        },
        "outputId": "34831175-f250-4350-a219-5420a0e70204"
      },
      "execution_count": 17,
      "outputs": [
        {
          "output_type": "stream",
          "name": "stdout",
          "text": [
            "<class 'pyspark.ml.feature.StringIndexerModel'>\n",
            "+-----+--------------------+------------+\n",
            "|label|            features|indexedLabel|\n",
            "+-----+--------------------+------------+\n",
            "|  0.0|(692,[127,128,129...|         1.0|\n",
            "|  1.0|(692,[158,159,160...|         0.0|\n",
            "|  1.0|(692,[124,125,126...|         0.0|\n",
            "|  1.0|(692,[152,153,154...|         0.0|\n",
            "|  1.0|(692,[151,152,153...|         0.0|\n",
            "|  0.0|(692,[129,130,131...|         1.0|\n",
            "|  1.0|(692,[158,159,160...|         0.0|\n",
            "|  1.0|(692,[99,100,101,...|         0.0|\n",
            "|  0.0|(692,[154,155,156...|         1.0|\n",
            "|  0.0|(692,[127,128,129...|         1.0|\n",
            "|  1.0|(692,[154,155,156...|         0.0|\n",
            "|  0.0|(692,[153,154,155...|         1.0|\n",
            "|  0.0|(692,[151,152,153...|         1.0|\n",
            "|  1.0|(692,[129,130,131...|         0.0|\n",
            "|  0.0|(692,[154,155,156...|         1.0|\n",
            "|  1.0|(692,[150,151,152...|         0.0|\n",
            "|  0.0|(692,[124,125,126...|         1.0|\n",
            "|  0.0|(692,[152,153,154...|         1.0|\n",
            "|  1.0|(692,[97,98,99,12...|         0.0|\n",
            "|  1.0|(692,[124,125,126...|         0.0|\n",
            "+-----+--------------------+------------+\n",
            "only showing top 20 rows\n",
            "\n"
          ]
        }
      ]
    },
    {
      "cell_type": "code",
      "source": [
        "# Automatically identify categorical features, and index them.\n",
        "# We specify maxCategories so feature with > 4 distinct values are treated as continuous.\n",
        "feature_indexer = VectorIndexer(inputCol='features',\n",
        "                                outputCol='indexedFeatures',\n",
        "                                maxCategories=4).fit(sample_libsvm_data)\n",
        "\n",
        "feature_indexer.transform(sample_libsvm_data).show(truncate=40)"
      ],
      "metadata": {
        "colab": {
          "base_uri": "https://localhost:8080/"
        },
        "id": "JjwsRzKpfBgM",
        "outputId": "406c07fd-8d06-4b95-e133-f018e8e2feb7"
      },
      "execution_count": 18,
      "outputs": [
        {
          "output_type": "stream",
          "name": "stdout",
          "text": [
            "+-----+----------------------------------------+----------------------------------------+\n",
            "|label|                                features|                         indexedFeatures|\n",
            "+-----+----------------------------------------+----------------------------------------+\n",
            "|  0.0|(692,[127,128,129,130,131,154,155,156...|(692,[127,128,129,130,131,154,155,156...|\n",
            "|  1.0|(692,[158,159,160,161,185,186,187,188...|(692,[158,159,160,161,185,186,187,188...|\n",
            "|  1.0|(692,[124,125,126,127,151,152,153,154...|(692,[124,125,126,127,151,152,153,154...|\n",
            "|  1.0|(692,[152,153,154,180,181,182,183,208...|(692,[152,153,154,180,181,182,183,208...|\n",
            "|  1.0|(692,[151,152,153,154,179,180,181,182...|(692,[151,152,153,154,179,180,181,182...|\n",
            "|  0.0|(692,[129,130,131,132,156,157,158,159...|(692,[129,130,131,132,156,157,158,159...|\n",
            "|  1.0|(692,[158,159,160,185,186,187,188,189...|(692,[158,159,160,185,186,187,188,189...|\n",
            "|  1.0|(692,[99,100,101,127,128,129,130,154,...|(692,[99,100,101,127,128,129,130,154,...|\n",
            "|  0.0|(692,[154,155,156,157,158,159,182,183...|(692,[154,155,156,157,158,159,182,183...|\n",
            "|  0.0|(692,[127,128,129,130,131,155,156,157...|(692,[127,128,129,130,131,155,156,157...|\n",
            "|  1.0|(692,[154,155,156,181,182,183,184,185...|(692,[154,155,156,181,182,183,184,185...|\n",
            "|  0.0|(692,[153,154,155,156,157,158,159,160...|(692,[153,154,155,156,157,158,159,160...|\n",
            "|  0.0|(692,[151,152,153,154,155,177,178,179...|(692,[151,152,153,154,155,177,178,179...|\n",
            "|  1.0|(692,[129,130,131,132,157,158,159,160...|(692,[129,130,131,132,157,158,159,160...|\n",
            "|  0.0|(692,[154,155,156,157,158,181,182,183...|(692,[154,155,156,157,158,181,182,183...|\n",
            "|  1.0|(692,[150,151,152,153,154,155,156,157...|(692,[150,151,152,153,154,155,156,157...|\n",
            "|  0.0|(692,[124,125,126,127,128,150,151,152...|(692,[124,125,126,127,128,150,151,152...|\n",
            "|  0.0|(692,[152,153,154,155,156,157,158,159...|(692,[152,153,154,155,156,157,158,159...|\n",
            "|  1.0|(692,[97,98,99,124,125,126,127,128,15...|(692,[97,98,99,124,125,126,127,128,15...|\n",
            "|  1.0|(692,[124,125,126,152,153,154,181,182...|(692,[124,125,126,152,153,154,181,182...|\n",
            "+-----+----------------------------------------+----------------------------------------+\n",
            "only showing top 20 rows\n",
            "\n"
          ]
        }
      ]
    },
    {
      "cell_type": "markdown",
      "source": [
        "##### Creating our stage"
      ],
      "metadata": {
        "id": "6yGvJZ0Dldm-"
      }
    },
    {
      "cell_type": "code",
      "source": [
        "# STAGE 1:\n",
        "# Index labels, adding metadata to the label column.\n",
        "# Fit on whole dataset to include all labels in index.\n",
        "\n",
        "label_indexer = StringIndexer(inputCol='label',\n",
        "                              outputCol='indexedLabel').fit(sample_libsvm_data)\n",
        "label_indexer.transform(sample_libsvm_data).show()"
      ],
      "metadata": {
        "colab": {
          "base_uri": "https://localhost:8080/"
        },
        "id": "teByQFvJfBjb",
        "outputId": "2df6d5b1-ba45-410b-a2a9-367234dccc9a"
      },
      "execution_count": 19,
      "outputs": [
        {
          "output_type": "stream",
          "name": "stdout",
          "text": [
            "+-----+--------------------+------------+\n",
            "|label|            features|indexedLabel|\n",
            "+-----+--------------------+------------+\n",
            "|  0.0|(692,[127,128,129...|         1.0|\n",
            "|  1.0|(692,[158,159,160...|         0.0|\n",
            "|  1.0|(692,[124,125,126...|         0.0|\n",
            "|  1.0|(692,[152,153,154...|         0.0|\n",
            "|  1.0|(692,[151,152,153...|         0.0|\n",
            "|  0.0|(692,[129,130,131...|         1.0|\n",
            "|  1.0|(692,[158,159,160...|         0.0|\n",
            "|  1.0|(692,[99,100,101,...|         0.0|\n",
            "|  0.0|(692,[154,155,156...|         1.0|\n",
            "|  0.0|(692,[127,128,129...|         1.0|\n",
            "|  1.0|(692,[154,155,156...|         0.0|\n",
            "|  0.0|(692,[153,154,155...|         1.0|\n",
            "|  0.0|(692,[151,152,153...|         1.0|\n",
            "|  1.0|(692,[129,130,131...|         0.0|\n",
            "|  0.0|(692,[154,155,156...|         1.0|\n",
            "|  1.0|(692,[150,151,152...|         0.0|\n",
            "|  0.0|(692,[124,125,126...|         1.0|\n",
            "|  0.0|(692,[152,153,154...|         1.0|\n",
            "|  1.0|(692,[97,98,99,12...|         0.0|\n",
            "|  1.0|(692,[124,125,126...|         0.0|\n",
            "+-----+--------------------+------------+\n",
            "only showing top 20 rows\n",
            "\n"
          ]
        }
      ]
    },
    {
      "cell_type": "code",
      "source": [
        "# STAGE 2:\n",
        "# Automatically identify categorical features, and index them.\n",
        "# We specify maxCategories so feature with > 4 distinct values are treated as continuous.\n",
        "\n",
        "feature_indexer = VectorIndexer(inputCol='features',\n",
        "                                outputCol='indexedFeatures',\n",
        "                                maxCategories=4).fit(sample_libsvm_data)\n",
        "\n",
        "feature_indexer.transform(sample_libsvm_data).show(truncate=40)"
      ],
      "metadata": {
        "colab": {
          "base_uri": "https://localhost:8080/"
        },
        "id": "shdf3SoPfBms",
        "outputId": "ad4818b7-c9ee-4baf-d014-07458417e8cd"
      },
      "execution_count": 20,
      "outputs": [
        {
          "output_type": "stream",
          "name": "stdout",
          "text": [
            "+-----+----------------------------------------+----------------------------------------+\n",
            "|label|                                features|                         indexedFeatures|\n",
            "+-----+----------------------------------------+----------------------------------------+\n",
            "|  0.0|(692,[127,128,129,130,131,154,155,156...|(692,[127,128,129,130,131,154,155,156...|\n",
            "|  1.0|(692,[158,159,160,161,185,186,187,188...|(692,[158,159,160,161,185,186,187,188...|\n",
            "|  1.0|(692,[124,125,126,127,151,152,153,154...|(692,[124,125,126,127,151,152,153,154...|\n",
            "|  1.0|(692,[152,153,154,180,181,182,183,208...|(692,[152,153,154,180,181,182,183,208...|\n",
            "|  1.0|(692,[151,152,153,154,179,180,181,182...|(692,[151,152,153,154,179,180,181,182...|\n",
            "|  0.0|(692,[129,130,131,132,156,157,158,159...|(692,[129,130,131,132,156,157,158,159...|\n",
            "|  1.0|(692,[158,159,160,185,186,187,188,189...|(692,[158,159,160,185,186,187,188,189...|\n",
            "|  1.0|(692,[99,100,101,127,128,129,130,154,...|(692,[99,100,101,127,128,129,130,154,...|\n",
            "|  0.0|(692,[154,155,156,157,158,159,182,183...|(692,[154,155,156,157,158,159,182,183...|\n",
            "|  0.0|(692,[127,128,129,130,131,155,156,157...|(692,[127,128,129,130,131,155,156,157...|\n",
            "|  1.0|(692,[154,155,156,181,182,183,184,185...|(692,[154,155,156,181,182,183,184,185...|\n",
            "|  0.0|(692,[153,154,155,156,157,158,159,160...|(692,[153,154,155,156,157,158,159,160...|\n",
            "|  0.0|(692,[151,152,153,154,155,177,178,179...|(692,[151,152,153,154,155,177,178,179...|\n",
            "|  1.0|(692,[129,130,131,132,157,158,159,160...|(692,[129,130,131,132,157,158,159,160...|\n",
            "|  0.0|(692,[154,155,156,157,158,181,182,183...|(692,[154,155,156,157,158,181,182,183...|\n",
            "|  1.0|(692,[150,151,152,153,154,155,156,157...|(692,[150,151,152,153,154,155,156,157...|\n",
            "|  0.0|(692,[124,125,126,127,128,150,151,152...|(692,[124,125,126,127,128,150,151,152...|\n",
            "|  0.0|(692,[152,153,154,155,156,157,158,159...|(692,[152,153,154,155,156,157,158,159...|\n",
            "|  1.0|(692,[97,98,99,124,125,126,127,128,15...|(692,[97,98,99,124,125,126,127,128,15...|\n",
            "|  1.0|(692,[124,125,126,152,153,154,181,182...|(692,[124,125,126,152,153,154,181,182...|\n",
            "+-----+----------------------------------------+----------------------------------------+\n",
            "only showing top 20 rows\n",
            "\n"
          ]
        }
      ]
    },
    {
      "cell_type": "code",
      "source": [
        "# STAGE 3:\n",
        "# Train a DecisionTree model.\n",
        "\n",
        "DTC_model = DecisionTreeClassifier(labelCol='indexedLabel', \n",
        "                                   featuresCol='indexedFeatures')\n",
        "print(type(DTC_model))"
      ],
      "metadata": {
        "colab": {
          "base_uri": "https://localhost:8080/"
        },
        "id": "2-kvQDNQfBqP",
        "outputId": "200c9265-8fc3-473e-c3c7-a67212f3da73"
      },
      "execution_count": 21,
      "outputs": [
        {
          "output_type": "stream",
          "name": "stdout",
          "text": [
            "<class 'pyspark.ml.classification.DecisionTreeClassifier'>\n"
          ]
        }
      ]
    },
    {
      "cell_type": "markdown",
      "source": [
        "##### Creating our Pipeline"
      ],
      "metadata": {
        "id": "TZBKP_lqoBNI"
      }
    },
    {
      "cell_type": "code",
      "source": [
        "# Chain indexers and tree in a Pipeline\n",
        "pipeline = Pipeline(stages=[label_indexer, # STAGE 1\n",
        "                            feature_indexer, # STAGE 2\n",
        "                            DTC_model, # STAGE 3\n",
        "                            ])"
      ],
      "metadata": {
        "id": "uI-m5fNzfBtR"
      },
      "execution_count": 22,
      "outputs": []
    },
    {
      "cell_type": "markdown",
      "source": [
        "##### Training model"
      ],
      "metadata": {
        "id": "7R1DGquBo7UU"
      }
    },
    {
      "cell_type": "code",
      "source": [
        "# Split the data into training and test sets (30% held out for testing)\n",
        "(training_data, test_data) = sample_libsvm_data.randomSplit([0.7, 0.3])"
      ],
      "metadata": {
        "id": "7_k5GbmofBwJ"
      },
      "execution_count": 23,
      "outputs": []
    },
    {
      "cell_type": "code",
      "source": [
        "# Train model. This also runs the indexers.\n",
        "model = pipeline.fit(training_data)"
      ],
      "metadata": {
        "id": "8Jy-TtBXfBzC"
      },
      "execution_count": 24,
      "outputs": []
    },
    {
      "cell_type": "markdown",
      "source": [
        "##### Prediction"
      ],
      "metadata": {
        "id": "bcg1nYrdpvsN"
      }
    },
    {
      "cell_type": "code",
      "source": [
        "# Makes predictions.\n",
        "predictions = model.transform(test_data)\n",
        "predictions.show()"
      ],
      "metadata": {
        "colab": {
          "base_uri": "https://localhost:8080/"
        },
        "id": "0PxN4yTCfB2h",
        "outputId": "47e61839-70b7-4fd2-82f1-b4956c30719a"
      },
      "execution_count": 25,
      "outputs": [
        {
          "output_type": "stream",
          "name": "stdout",
          "text": [
            "+-----+--------------------+------------+--------------------+-------------+-----------+----------+\n",
            "|label|            features|indexedLabel|     indexedFeatures|rawPrediction|probability|prediction|\n",
            "+-----+--------------------+------------+--------------------+-------------+-----------+----------+\n",
            "|  0.0|(692,[95,96,97,12...|         1.0|(692,[95,96,97,12...|   [0.0,32.0]|  [0.0,1.0]|       1.0|\n",
            "|  0.0|(692,[98,99,100,1...|         1.0|(692,[98,99,100,1...|   [0.0,32.0]|  [0.0,1.0]|       1.0|\n",
            "|  0.0|(692,[122,123,148...|         1.0|(692,[122,123,148...|   [0.0,32.0]|  [0.0,1.0]|       1.0|\n",
            "|  0.0|(692,[124,125,126...|         1.0|(692,[124,125,126...|   [0.0,32.0]|  [0.0,1.0]|       1.0|\n",
            "|  0.0|(692,[124,125,126...|         1.0|(692,[124,125,126...|   [0.0,32.0]|  [0.0,1.0]|       1.0|\n",
            "|  0.0|(692,[125,126,127...|         1.0|(692,[125,126,127...|   [0.0,32.0]|  [0.0,1.0]|       1.0|\n",
            "|  0.0|(692,[126,127,128...|         1.0|(692,[126,127,128...|   [0.0,32.0]|  [0.0,1.0]|       1.0|\n",
            "|  0.0|(692,[127,128,129...|         1.0|(692,[127,128,129...|   [0.0,32.0]|  [0.0,1.0]|       1.0|\n",
            "|  0.0|(692,[152,153,154...|         1.0|(692,[152,153,154...|   [0.0,32.0]|  [0.0,1.0]|       1.0|\n",
            "|  0.0|(692,[153,154,155...|         1.0|(692,[153,154,155...|   [0.0,32.0]|  [0.0,1.0]|       1.0|\n",
            "|  0.0|(692,[154,155,156...|         1.0|(692,[154,155,156...|   [0.0,32.0]|  [0.0,1.0]|       1.0|\n",
            "|  1.0|(692,[100,101,102...|         0.0|(692,[100,101,102...|   [37.0,0.0]|  [1.0,0.0]|       0.0|\n",
            "|  1.0|(692,[119,120,121...|         0.0|(692,[119,120,121...|   [37.0,0.0]|  [1.0,0.0]|       0.0|\n",
            "|  1.0|(692,[123,124,125...|         0.0|(692,[123,124,125...|   [37.0,0.0]|  [1.0,0.0]|       0.0|\n",
            "|  1.0|(692,[124,125,126...|         0.0|(692,[124,125,126...|   [37.0,0.0]|  [1.0,0.0]|       0.0|\n",
            "|  1.0|(692,[124,125,126...|         0.0|(692,[124,125,126...|   [37.0,0.0]|  [1.0,0.0]|       0.0|\n",
            "|  1.0|(692,[125,126,127...|         0.0|(692,[125,126,127...|   [37.0,0.0]|  [1.0,0.0]|       0.0|\n",
            "|  1.0|(692,[126,127,128...|         0.0|(692,[126,127,128...|   [37.0,0.0]|  [1.0,0.0]|       0.0|\n",
            "|  1.0|(692,[127,128,129...|         0.0|(692,[127,128,129...|   [37.0,0.0]|  [1.0,0.0]|       0.0|\n",
            "|  1.0|(692,[127,128,129...|         0.0|(692,[127,128,129...|   [37.0,0.0]|  [1.0,0.0]|       0.0|\n",
            "+-----+--------------------+------------+--------------------+-------------+-----------+----------+\n",
            "only showing top 20 rows\n",
            "\n"
          ]
        }
      ]
    },
    {
      "cell_type": "code",
      "source": [
        "# Select example rows to display.\n",
        "predictions.select('prediction', 'indexedLabel', 'features').show()"
      ],
      "metadata": {
        "colab": {
          "base_uri": "https://localhost:8080/"
        },
        "id": "gB9WekyZfB5M",
        "outputId": "0034c17f-5d5f-4ea4-b068-a6d837d19066"
      },
      "execution_count": 26,
      "outputs": [
        {
          "output_type": "stream",
          "name": "stdout",
          "text": [
            "+----------+------------+--------------------+\n",
            "|prediction|indexedLabel|            features|\n",
            "+----------+------------+--------------------+\n",
            "|       1.0|         1.0|(692,[95,96,97,12...|\n",
            "|       1.0|         1.0|(692,[98,99,100,1...|\n",
            "|       1.0|         1.0|(692,[122,123,148...|\n",
            "|       1.0|         1.0|(692,[124,125,126...|\n",
            "|       1.0|         1.0|(692,[124,125,126...|\n",
            "|       1.0|         1.0|(692,[125,126,127...|\n",
            "|       1.0|         1.0|(692,[126,127,128...|\n",
            "|       1.0|         1.0|(692,[127,128,129...|\n",
            "|       1.0|         1.0|(692,[152,153,154...|\n",
            "|       1.0|         1.0|(692,[153,154,155...|\n",
            "|       1.0|         1.0|(692,[154,155,156...|\n",
            "|       0.0|         0.0|(692,[100,101,102...|\n",
            "|       0.0|         0.0|(692,[119,120,121...|\n",
            "|       0.0|         0.0|(692,[123,124,125...|\n",
            "|       0.0|         0.0|(692,[124,125,126...|\n",
            "|       0.0|         0.0|(692,[124,125,126...|\n",
            "|       0.0|         0.0|(692,[125,126,127...|\n",
            "|       0.0|         0.0|(692,[126,127,128...|\n",
            "|       0.0|         0.0|(692,[127,128,129...|\n",
            "|       0.0|         0.0|(692,[127,128,129...|\n",
            "+----------+------------+--------------------+\n",
            "only showing top 20 rows\n",
            "\n"
          ]
        }
      ]
    },
    {
      "cell_type": "code",
      "source": [
        "# Select (prediction, true label) and compute test error\n",
        "evaluator = MulticlassClassificationEvaluator(labelCol='indexedLabel',\n",
        "                                              predictionCol='prediction',\n",
        "                                              metricName='accuracy')\n",
        "accuracy = evaluator.evaluate(predictions)\n",
        "print(f'Accuracy = {accuracy:.5f}')\n",
        "print(f'Test Error = {1.0 - accuracy:.5f}')"
      ],
      "metadata": {
        "colab": {
          "base_uri": "https://localhost:8080/"
        },
        "id": "1POR0vRBfB72",
        "outputId": "9d83f2e3-8d7e-4245-c4fd-c1d69ca2ca14"
      },
      "execution_count": 27,
      "outputs": [
        {
          "output_type": "stream",
          "name": "stdout",
          "text": [
            "Accuracy = 1.00000\n",
            "Test Error = 0.00000\n"
          ]
        }
      ]
    },
    {
      "cell_type": "code",
      "source": [
        "# You can see that the Pipeline and the PipelineModel have same stages\n",
        "print(pipeline.getStages())\n",
        "print(model.stages)"
      ],
      "metadata": {
        "colab": {
          "base_uri": "https://localhost:8080/"
        },
        "id": "vOP2VEn7fB-U",
        "outputId": "2a1a0a02-5d96-4e35-9514-039c89850255"
      },
      "execution_count": 28,
      "outputs": [
        {
          "output_type": "stream",
          "name": "stdout",
          "text": [
            "[StringIndexerModel: uid=StringIndexer_9705cbb4c739, handleInvalid=error, VectorIndexerModel: uid=VectorIndexer_dacff6966f69, numFeatures=692, handleInvalid=error, DecisionTreeClassifier_fd72ff399c02]\n",
            "[StringIndexerModel: uid=StringIndexer_9705cbb4c739, handleInvalid=error, VectorIndexerModel: uid=VectorIndexer_dacff6966f69, numFeatures=692, handleInvalid=error, DecisionTreeClassificationModel: uid=DecisionTreeClassifier_fd72ff399c02, depth=2, numNodes=5, numClasses=2, numFeatures=692]\n"
          ]
        }
      ]
    },
    {
      "cell_type": "markdown",
      "source": [
        "#### Random Forest Regression"
      ],
      "metadata": {
        "id": "5hNl7Y3FtfT-"
      }
    },
    {
      "cell_type": "code",
      "source": [
        "from pyspark.ml import Pipeline\n",
        "from pyspark.ml.regression import RandomForestRegressor\n",
        "from pyspark.ml.feature import VectorIndexer\n",
        "from pyspark.ml.evaluation import RegressionEvaluator\n",
        "\n",
        "sample_libsvm_data.show()"
      ],
      "metadata": {
        "colab": {
          "base_uri": "https://localhost:8080/"
        },
        "id": "sMD8yDa9fCAz",
        "outputId": "bcc27c5b-b935-45de-ce55-1ef5ba44f8e6"
      },
      "execution_count": 29,
      "outputs": [
        {
          "output_type": "stream",
          "name": "stdout",
          "text": [
            "+-----+--------------------+\n",
            "|label|            features|\n",
            "+-----+--------------------+\n",
            "|  0.0|(692,[127,128,129...|\n",
            "|  1.0|(692,[158,159,160...|\n",
            "|  1.0|(692,[124,125,126...|\n",
            "|  1.0|(692,[152,153,154...|\n",
            "|  1.0|(692,[151,152,153...|\n",
            "|  0.0|(692,[129,130,131...|\n",
            "|  1.0|(692,[158,159,160...|\n",
            "|  1.0|(692,[99,100,101,...|\n",
            "|  0.0|(692,[154,155,156...|\n",
            "|  0.0|(692,[127,128,129...|\n",
            "|  1.0|(692,[154,155,156...|\n",
            "|  0.0|(692,[153,154,155...|\n",
            "|  0.0|(692,[151,152,153...|\n",
            "|  1.0|(692,[129,130,131...|\n",
            "|  0.0|(692,[154,155,156...|\n",
            "|  1.0|(692,[150,151,152...|\n",
            "|  0.0|(692,[124,125,126...|\n",
            "|  0.0|(692,[152,153,154...|\n",
            "|  1.0|(692,[97,98,99,12...|\n",
            "|  1.0|(692,[124,125,126...|\n",
            "+-----+--------------------+\n",
            "only showing top 20 rows\n",
            "\n"
          ]
        }
      ]
    },
    {
      "cell_type": "markdown",
      "source": [
        "##### Creating our stages"
      ],
      "metadata": {
        "id": "HdtbPeLMuVo3"
      }
    },
    {
      "cell_type": "code",
      "source": [
        "# STAGE 1:\n",
        "# Automatically identify categorical features, and index them.\n",
        "feature_indexer = VectorIndexer(inputCol='features',\n",
        "                                outputCol='indexedFeatures',\n",
        "                                # Set maxCategories so features with > 4 distinct values are treated as continuous. \n",
        "                                maxCategories=4,).fit(sample_libsvm_data)"
      ],
      "metadata": {
        "id": "31u-XU5dfCDV"
      },
      "execution_count": 30,
      "outputs": []
    },
    {
      "cell_type": "code",
      "source": [
        "# STAGE 2:\n",
        "# Train a RandomForest model.\n",
        "RF_model = RandomForestRegressor(featuresCol='indexedFeatures')"
      ],
      "metadata": {
        "id": "ytdneL0ZfCHi"
      },
      "execution_count": 31,
      "outputs": []
    },
    {
      "cell_type": "markdown",
      "source": [
        "##### Creating our Pipeline"
      ],
      "metadata": {
        "id": "z8rvCIwhv1PX"
      }
    },
    {
      "cell_type": "code",
      "source": [
        "# Chain indexer and forest in a Pipeline\n",
        "pipeline = Pipeline(stages=[feature_indexer, RF_model])"
      ],
      "metadata": {
        "id": "V2KOp-bIfCJ4"
      },
      "execution_count": 32,
      "outputs": []
    },
    {
      "cell_type": "markdown",
      "source": [
        "##### Training model"
      ],
      "metadata": {
        "id": "owO74BJuwTcI"
      }
    },
    {
      "cell_type": "code",
      "source": [
        "# Split the data into training and test sets (30% held out for testing)\n",
        "(training_data, test_data) = sample_libsvm_data.randomSplit([0.7, 0.3])"
      ],
      "metadata": {
        "id": "hAwjYctBwTcN"
      },
      "execution_count": 33,
      "outputs": []
    },
    {
      "cell_type": "code",
      "source": [
        "# Train model. This also runs the indexers.\n",
        "model = pipeline.fit(training_data)"
      ],
      "metadata": {
        "id": "R6_fuoZuwTcP"
      },
      "execution_count": 34,
      "outputs": []
    },
    {
      "cell_type": "markdown",
      "source": [
        "##### Prediction"
      ],
      "metadata": {
        "id": "5oWbq7dpwbTU"
      }
    },
    {
      "cell_type": "code",
      "source": [
        "# Makes predictions.\n",
        "predictions = model.transform(test_data)\n",
        "predictions.show()"
      ],
      "metadata": {
        "colab": {
          "base_uri": "https://localhost:8080/"
        },
        "outputId": "a2ff5001-fc07-4671-d9e0-ef5787e7141b",
        "id": "PwlO7GdjwbTV"
      },
      "execution_count": 35,
      "outputs": [
        {
          "output_type": "stream",
          "name": "stdout",
          "text": [
            "+-----+--------------------+--------------------+----------+\n",
            "|label|            features|     indexedFeatures|prediction|\n",
            "+-----+--------------------+--------------------+----------+\n",
            "|  0.0|(692,[95,96,97,12...|(692,[95,96,97,12...|       0.0|\n",
            "|  0.0|(692,[98,99,100,1...|(692,[98,99,100,1...|       0.0|\n",
            "|  0.0|(692,[121,122,123...|(692,[121,122,123...|       0.0|\n",
            "|  0.0|(692,[123,124,125...|(692,[123,124,125...|       0.0|\n",
            "|  0.0|(692,[123,124,125...|(692,[123,124,125...|       0.0|\n",
            "|  0.0|(692,[124,125,126...|(692,[124,125,126...|       0.0|\n",
            "|  0.0|(692,[124,125,126...|(692,[124,125,126...|       0.0|\n",
            "|  0.0|(692,[126,127,128...|(692,[126,127,128...|       0.0|\n",
            "|  0.0|(692,[126,127,128...|(692,[126,127,128...|       0.0|\n",
            "|  0.0|(692,[126,127,128...|(692,[126,127,128...|       0.0|\n",
            "|  0.0|(692,[150,151,152...|(692,[150,151,152...|       0.1|\n",
            "|  0.0|(692,[152,153,154...|(692,[152,153,154...|       0.1|\n",
            "|  0.0|(692,[153,154,155...|(692,[153,154,155...|       0.0|\n",
            "|  0.0|(692,[154,155,156...|(692,[154,155,156...|       0.2|\n",
            "|  0.0|(692,[155,156,180...|(692,[155,156,180...|       0.0|\n",
            "|  0.0|(692,[234,235,237...|(692,[234,235,237...|       0.1|\n",
            "|  1.0|(692,[100,101,102...|(692,[100,101,102...|       1.0|\n",
            "|  1.0|(692,[124,125,126...|(692,[124,125,126...|       1.0|\n",
            "|  1.0|(692,[124,125,126...|(692,[124,125,126...|       1.0|\n",
            "|  1.0|(692,[126,127,128...|(692,[126,127,128...|       1.0|\n",
            "+-----+--------------------+--------------------+----------+\n",
            "only showing top 20 rows\n",
            "\n"
          ]
        }
      ]
    },
    {
      "cell_type": "code",
      "source": [
        "# Select example rows to display.\n",
        "predictions.select('prediction', 'label', 'features').show()"
      ],
      "metadata": {
        "colab": {
          "base_uri": "https://localhost:8080/"
        },
        "outputId": "a1ac8a26-a164-495f-8a7f-759b341532e7",
        "id": "cqVwTJ_WwbTY"
      },
      "execution_count": 36,
      "outputs": [
        {
          "output_type": "stream",
          "name": "stdout",
          "text": [
            "+----------+-----+--------------------+\n",
            "|prediction|label|            features|\n",
            "+----------+-----+--------------------+\n",
            "|       0.0|  0.0|(692,[95,96,97,12...|\n",
            "|       0.0|  0.0|(692,[98,99,100,1...|\n",
            "|       0.0|  0.0|(692,[121,122,123...|\n",
            "|       0.0|  0.0|(692,[123,124,125...|\n",
            "|       0.0|  0.0|(692,[123,124,125...|\n",
            "|       0.0|  0.0|(692,[124,125,126...|\n",
            "|       0.0|  0.0|(692,[124,125,126...|\n",
            "|       0.0|  0.0|(692,[126,127,128...|\n",
            "|       0.0|  0.0|(692,[126,127,128...|\n",
            "|       0.0|  0.0|(692,[126,127,128...|\n",
            "|       0.1|  0.0|(692,[150,151,152...|\n",
            "|       0.1|  0.0|(692,[152,153,154...|\n",
            "|       0.0|  0.0|(692,[153,154,155...|\n",
            "|       0.2|  0.0|(692,[154,155,156...|\n",
            "|       0.0|  0.0|(692,[155,156,180...|\n",
            "|       0.1|  0.0|(692,[234,235,237...|\n",
            "|       1.0|  1.0|(692,[100,101,102...|\n",
            "|       1.0|  1.0|(692,[124,125,126...|\n",
            "|       1.0|  1.0|(692,[124,125,126...|\n",
            "|       1.0|  1.0|(692,[126,127,128...|\n",
            "+----------+-----+--------------------+\n",
            "only showing top 20 rows\n",
            "\n"
          ]
        }
      ]
    },
    {
      "cell_type": "code",
      "source": [
        "# Select (prediction, true label) and compute test error\n",
        "evaluator = RegressionEvaluator(labelCol='label',\n",
        "                                predictionCol='prediction',\n",
        "                                metricName='rmse')\n",
        "RMSE = evaluator.evaluate(predictions)\n",
        "\n",
        "print(f'Root Mean Squared Error (RMSE) on test data = {RMSE:.5f}')"
      ],
      "metadata": {
        "colab": {
          "base_uri": "https://localhost:8080/"
        },
        "outputId": "b55eb9a6-7c0d-4b1b-c21b-039994d709ad",
        "id": "gO88SM7VwbTa"
      },
      "execution_count": 37,
      "outputs": [
        {
          "output_type": "stream",
          "name": "stdout",
          "text": [
            "Root Mean Squared Error (RMSE) on test data = 0.05159\n"
          ]
        }
      ]
    },
    {
      "cell_type": "code",
      "source": [
        "# You can see that the Pipeline and the PipelineModel have same stages\n",
        "print(pipeline.getStages())\n",
        "print(model.stages)"
      ],
      "metadata": {
        "colab": {
          "base_uri": "https://localhost:8080/"
        },
        "outputId": "bab4627e-20d4-4fdf-8e4a-1d4bb99cbd3a",
        "id": "NIrF_bMcwbTc"
      },
      "execution_count": 38,
      "outputs": [
        {
          "output_type": "stream",
          "name": "stdout",
          "text": [
            "[VectorIndexerModel: uid=VectorIndexer_29fc8b0186e1, numFeatures=692, handleInvalid=error, RandomForestRegressor_1d8a172b8eac]\n",
            "[VectorIndexerModel: uid=VectorIndexer_29fc8b0186e1, numFeatures=692, handleInvalid=error, RandomForestRegressionModel: uid=RandomForestRegressor_1d8a172b8eac, numTrees=20, numFeatures=692]\n"
          ]
        }
      ]
    },
    {
      "cell_type": "code",
      "source": [
        "# The last stage in a PipelineModel is usually the most informative \n",
        "print(model.stages[-1])"
      ],
      "metadata": {
        "colab": {
          "base_uri": "https://localhost:8080/"
        },
        "id": "FyBT-dRffCMB",
        "outputId": "0275e408-04eb-42a1-953e-e5b8dbd34efe"
      },
      "execution_count": 39,
      "outputs": [
        {
          "output_type": "stream",
          "name": "stdout",
          "text": [
            "RandomForestRegressionModel: uid=RandomForestRegressor_1d8a172b8eac, numTrees=20, numFeatures=692\n"
          ]
        }
      ]
    },
    {
      "cell_type": "code",
      "source": [
        "# Here you can see that pipeline and model are PipelineModel classes\n",
        "print('pipeline: ', type(pipeline))\n",
        "print('model:', type(model))"
      ],
      "metadata": {
        "colab": {
          "base_uri": "https://localhost:8080/"
        },
        "id": "VYmiyWc8fCOf",
        "outputId": "18b47a8c-59fd-4f4d-d671-295753a8a1c3"
      },
      "execution_count": 40,
      "outputs": [
        {
          "output_type": "stream",
          "name": "stdout",
          "text": [
            "pipeline:  <class 'pyspark.ml.pipeline.Pipeline'>\n",
            "model: <class 'pyspark.ml.pipeline.PipelineModel'>\n"
          ]
        }
      ]
    },
    {
      "cell_type": "markdown",
      "source": [
        "### Spark MLlib Persistence"
      ],
      "metadata": {
        "id": "1hYlTAxh7BQT"
      }
    },
    {
      "cell_type": "markdown",
      "source": [
        "![image.png](data:image/png;base64,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)"
      ],
      "metadata": {
        "id": "2xz08dtr7XNk"
      }
    },
    {
      "cell_type": "markdown",
      "source": [
        "![image.png](data:image/png;base64,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)"
      ],
      "metadata": {
        "id": "us--v_8f7gJn"
      }
    },
    {
      "cell_type": "markdown",
      "source": [
        "### Spark MLlib Parameters"
      ],
      "metadata": {
        "id": "rGVzPRKl7k2W"
      }
    },
    {
      "cell_type": "markdown",
      "source": [
        "- Param: A named paremeter with self-contained documentation\n",
        "```\n",
        ".extractParams()\n",
        "```\n",
        "- ParamMap: a set of (parameter, value) pairs\n",
        "```\n",
        ".extractParamMap()\n",
        "```\n"
      ],
      "metadata": {
        "id": "WvZmmuG17xBR"
      }
    },
    {
      "cell_type": "code",
      "source": [
        "from IPython.core.display import display, HTML\n",
        "from pyspark.sql import SparkSession\n",
        "from pyspark.ml.linalg import Vectors\n",
        "from pyspark.ml.classification import LogisticRegression\n",
        "\n",
        "spark = SparkSession.builder.getOrCreate()"
      ],
      "metadata": {
        "id": "QR7uSmeufCQ2"
      },
      "execution_count": 41,
      "outputs": []
    },
    {
      "cell_type": "code",
      "source": [
        "# Prepare training data from a list of (label, features) tuples.\n",
        "training = spark.createDataFrame([(1.0, Vectors.dense([0.0, 1.1, 0.1])),\n",
        "                                  (0.0, Vectors.dense([2.0, 1.0, -1.0])),\n",
        "                                  (0.0, Vectors.dense([2.0, 1.3, 1.0])),\n",
        "                                  (1.0, Vectors.dense([0.0, 1.2, -0.5]))],\n",
        "                                 ['label', 'features'])"
      ],
      "metadata": {
        "id": "PP2ZwXTUfCTW"
      },
      "execution_count": 42,
      "outputs": []
    },
    {
      "cell_type": "code",
      "source": [
        "# Prepare test data \n",
        "test = spark.createDataFrame([(1.0, Vectors.dense([-1.0, 1.5, 1.3])),\n",
        "                              (0.0, Vectors.dense([3.0, 2.0, -0.1])),\n",
        "                              (1.0, Vectors.dense([0.0, 2.2, -1.5]))],\n",
        "                             ['label', 'features'])"
      ],
      "metadata": {
        "id": "MIHJIIZ6fCVm"
      },
      "execution_count": 43,
      "outputs": []
    },
    {
      "cell_type": "code",
      "source": [
        "# Create a LogisticRegression instance. This instance is an Estimator.\n",
        "# maxIter and regParam are parameters\n",
        "lr = LogisticRegression(maxIter=10, regParam=0.01)"
      ],
      "metadata": {
        "id": "zP4ddxjhfCay"
      },
      "execution_count": 44,
      "outputs": []
    },
    {
      "cell_type": "code",
      "source": [
        "# Print out the parameter, documentation, and any default values.\n",
        "print(f'LogisticRegression parameter: \\n{lr.explainParams()}')"
      ],
      "metadata": {
        "colab": {
          "base_uri": "https://localhost:8080/"
        },
        "id": "msSckIygfCdW",
        "outputId": "3feccf55-49d6-4631-bdb2-cca737bd42af"
      },
      "execution_count": 45,
      "outputs": [
        {
          "output_type": "stream",
          "name": "stdout",
          "text": [
            "LogisticRegression parameter: \n",
            "aggregationDepth: suggested depth for treeAggregate (>= 2). (default: 2)\n",
            "elasticNetParam: the ElasticNet mixing parameter, in range [0, 1]. For alpha = 0, the penalty is an L2 penalty. For alpha = 1, it is an L1 penalty. (default: 0.0)\n",
            "family: The name of family which is a description of the label distribution to be used in the model. Supported options: auto, binomial, multinomial (default: auto)\n",
            "featuresCol: features column name. (default: features)\n",
            "fitIntercept: whether to fit an intercept term. (default: True)\n",
            "labelCol: label column name. (default: label)\n",
            "lowerBoundsOnCoefficients: The lower bounds on coefficients if fitting under bound constrained optimization. The bound matrix must be compatible with the shape (1, number of features) for binomial regression, or (number of classes, number of features) for multinomial regression. (undefined)\n",
            "lowerBoundsOnIntercepts: The lower bounds on intercepts if fitting under bound constrained optimization. The bounds vector size must beequal with 1 for binomial regression, or the number oflasses for multinomial regression. (undefined)\n",
            "maxIter: max number of iterations (>= 0). (default: 100, current: 10)\n",
            "predictionCol: prediction column name. (default: prediction)\n",
            "probabilityCol: Column name for predicted class conditional probabilities. Note: Not all models output well-calibrated probability estimates! These probabilities should be treated as confidences, not precise probabilities. (default: probability)\n",
            "rawPredictionCol: raw prediction (a.k.a. confidence) column name. (default: rawPrediction)\n",
            "regParam: regularization parameter (>= 0). (default: 0.0, current: 0.01)\n",
            "standardization: whether to standardize the training features before fitting the model. (default: True)\n",
            "threshold: Threshold in binary classification prediction, in range [0, 1]. If threshold and thresholds are both set, they must match.e.g. if threshold is p, then thresholds must be equal to [1-p, p]. (default: 0.5)\n",
            "thresholds: Thresholds in multi-class classification to adjust the probability of predicting each class. Array must have length equal to the number of classes, with values > 0, excepting that at most one value may be 0. The class with largest value p/t is predicted, where p is the original probability of that class and t is the class's threshold. (undefined)\n",
            "tol: the convergence tolerance for iterative algorithms (>= 0). (default: 1e-06)\n",
            "upperBoundsOnCoefficients: The upper bounds on coefficients if fitting under bound constrained optimization. The bound matrix must be compatible with the shape (1, number of features) for binomial regression, or (number of classes, number of features) for multinomial regression. (undefined)\n",
            "upperBoundsOnIntercepts: The upper bounds on intercepts if fitting under bound constrained optimization. The bound vector size must be equal with 1 for binomial regression, or the number of classes for multinomial regression. (undefined)\n",
            "weightCol: weight column name. If this is not set or empty, we treat all instance weights as 1.0. (undefined)\n"
          ]
        }
      ]
    },
    {
      "cell_type": "code",
      "source": [
        "# Learn a LogisticRegression model. This user the parameters stored in lr\n",
        "model1 = lr.fit(training)"
      ],
      "metadata": {
        "id": "F9f9bLP4fCgG"
      },
      "execution_count": 46,
      "outputs": []
    },
    {
      "cell_type": "code",
      "source": [
        "# Since model1 is a Model (i.e., a transformer produced by an Estimator),\n",
        "# we can view the parameter it userd during fit()\n",
        "# This prints the parameter (name: value) pairs, where names are unique IDs for this\n",
        "# LogisticRegression instance.\n",
        "print('Model 1 was fit using parameter:\\n', model1.extractParamMap())"
      ],
      "metadata": {
        "colab": {
          "base_uri": "https://localhost:8080/"
        },
        "id": "8lREIraTfCi0",
        "outputId": "344504a5-d861-4d99-af03-68c8f01a1c59"
      },
      "execution_count": 47,
      "outputs": [
        {
          "output_type": "stream",
          "name": "stdout",
          "text": [
            "Model 1 was fit using parameter:\n",
            " {Param(parent='LogisticRegression_ec074ffc0d3b', name='aggregationDepth', doc='suggested depth for treeAggregate (>= 2).'): 2, Param(parent='LogisticRegression_ec074ffc0d3b', name='elasticNetParam', doc='the ElasticNet mixing parameter, in range [0, 1]. For alpha = 0, the penalty is an L2 penalty. For alpha = 1, it is an L1 penalty.'): 0.0, Param(parent='LogisticRegression_ec074ffc0d3b', name='family', doc='The name of family which is a description of the label distribution to be used in the model. Supported options: auto, binomial, multinomial'): 'auto', Param(parent='LogisticRegression_ec074ffc0d3b', name='featuresCol', doc='features column name.'): 'features', Param(parent='LogisticRegression_ec074ffc0d3b', name='fitIntercept', doc='whether to fit an intercept term.'): True, Param(parent='LogisticRegression_ec074ffc0d3b', name='labelCol', doc='label column name.'): 'label', Param(parent='LogisticRegression_ec074ffc0d3b', name='maxIter', doc='max number of iterations (>= 0).'): 10, Param(parent='LogisticRegression_ec074ffc0d3b', name='predictionCol', doc='prediction column name.'): 'prediction', Param(parent='LogisticRegression_ec074ffc0d3b', name='probabilityCol', doc='Column name for predicted class conditional probabilities. Note: Not all models output well-calibrated probability estimates! These probabilities should be treated as confidences, not precise probabilities.'): 'probability', Param(parent='LogisticRegression_ec074ffc0d3b', name='rawPredictionCol', doc='raw prediction (a.k.a. confidence) column name.'): 'rawPrediction', Param(parent='LogisticRegression_ec074ffc0d3b', name='regParam', doc='regularization parameter (>= 0).'): 0.01, Param(parent='LogisticRegression_ec074ffc0d3b', name='standardization', doc='whether to standardize the training features before fitting the model.'): True, Param(parent='LogisticRegression_ec074ffc0d3b', name='threshold', doc='Threshold in binary classification prediction, in range [0, 1]. If threshold and thresholds are both set, they must match.e.g. if threshold is p, then thresholds must be equal to [1-p, p].'): 0.5, Param(parent='LogisticRegression_ec074ffc0d3b', name='tol', doc='the convergence tolerance for iterative algorithms (>= 0).'): 1e-06}\n"
          ]
        }
      ]
    },
    {
      "cell_type": "code",
      "source": [
        "# We may alternatively specify parameters using a Python dictionnary as a paramMap\n",
        "paramMap = {lr.maxIter: 20}\n",
        "paramMap[lr.maxIter] = 30 # Specify 1 Param, overwriting the original maxIter.\n",
        "paramMap.update({lr.regParam: 0.1, lr.threshold: 0.55}) # Specify multiple Params"
      ],
      "metadata": {
        "id": "yvevtRngfCl8"
      },
      "execution_count": 48,
      "outputs": []
    },
    {
      "cell_type": "code",
      "source": [
        "# You can combine paramMaps, which are python dictionaries\n",
        "paramMap2 = {lr.probabilityCol: 'myProbability'} # Change output column name\n",
        "paramMap2 = {lr.maxIter: 10}\n",
        "paramMapCombined = paramMap.copy()\n",
        "paramMapCombined.update(paramMap2)"
      ],
      "metadata": {
        "id": "IHJC5NwSfCok"
      },
      "execution_count": 49,
      "outputs": []
    },
    {
      "cell_type": "code",
      "source": [
        "# Now learn a new model using the paramMapCombined parameters.\n",
        "# papramMapCombined overrieds all parameter set earlier via lr.set*method.\n",
        "model2 = lr.fit(training, paramMapCombined)"
      ],
      "metadata": {
        "id": "TBjEKePvfCtC"
      },
      "execution_count": 50,
      "outputs": []
    },
    {
      "cell_type": "code",
      "source": [
        "print('Model 2 fit used these parameters:\\n', model2.extractParamMap)"
      ],
      "metadata": {
        "colab": {
          "base_uri": "https://localhost:8080/"
        },
        "id": "uVUKKgUvfCv6",
        "outputId": "0be2c92e-d36d-4439-fdb6-54bfc923262b"
      },
      "execution_count": 51,
      "outputs": [
        {
          "output_type": "stream",
          "name": "stdout",
          "text": [
            "Model 2 fit used these parameters:\n",
            " <bound method Params.extractParamMap of LogisticRegressionModel: uid=LogisticRegression_ec074ffc0d3b, numClasses=2, numFeatures=3>\n"
          ]
        }
      ]
    },
    {
      "cell_type": "code",
      "source": [
        "# Make predictions on test data using the Transformer.transform() method.\n",
        "# LogisticRegression.transform will only use the 'feature' column.\n",
        "# Note that model2.transform() outputs a 'myProbability' column instead of the usual\n",
        "# 'probability' column since we renamed the lr.probabilityCol parameter previously.\n",
        "prediction = model2.transform(test)\n",
        "result = prediction.select('features', 'label', 'probability', 'prediction').collect()\n",
        "\n",
        "for row in result:\n",
        "  print('features=%s, label=%s -> prob=%s, prediction=%s' %(row.features, \n",
        "                                                            row.label, \n",
        "                                                            row.probability, \n",
        "                                                            row.prediction))"
      ],
      "metadata": {
        "colab": {
          "base_uri": "https://localhost:8080/"
        },
        "id": "u1qLiB3kfCyg",
        "outputId": "00fddb6c-1ec1-47b9-da15-48653c5fc590"
      },
      "execution_count": 52,
      "outputs": [
        {
          "output_type": "stream",
          "name": "stdout",
          "text": [
            "features=[-1.0,1.5,1.3], label=1.0 -> prob=[0.048292952323907005,0.951707047676093], prediction=1.0\n",
            "features=[3.0,2.0,-0.1], label=0.0 -> prob=[0.8640003852994569,0.13599961470054317], prediction=0.0\n",
            "features=[0.0,2.2,-1.5], label=1.0 -> prob=[0.05044615025400578,0.9495538497459942], prediction=1.0\n"
          ]
        }
      ]
    },
    {
      "cell_type": "markdown",
      "source": [
        "### Spark MLlib Featurization"
      ],
      "metadata": {
        "id": "r61d4UxZ2xJn"
      }
    },
    {
      "cell_type": "markdown",
      "source": [
        "#### QuantileDiscretizer"
      ],
      "metadata": {
        "id": "z41MPoh5evEe"
      }
    },
    {
      "cell_type": "code",
      "source": [
        "from pyspark.ml.feature import QuantileDiscretizer\n",
        "\n",
        "data = [(0, 18.0), (1, 19.0), (2, 8.0), (3, 5.0), (4, 2.2)]\n",
        "df = spark.createDataFrame(data, ['id', 'hour'])\n",
        "df.show()\n",
        "\n",
        "discretizer = QuantileDiscretizer(numBuckets=3, inputCol='hour', outputCol='result')\n",
        "\n",
        "result = discretizer.fit(df).transform(df)\n",
        "result.show()"
      ],
      "metadata": {
        "colab": {
          "base_uri": "https://localhost:8080/"
        },
        "id": "kUjUEpbwfC03",
        "outputId": "65abe0fe-34a8-4ae2-c8a8-86d912148054"
      },
      "execution_count": 53,
      "outputs": [
        {
          "output_type": "stream",
          "name": "stdout",
          "text": [
            "+---+----+\n",
            "| id|hour|\n",
            "+---+----+\n",
            "|  0|18.0|\n",
            "|  1|19.0|\n",
            "|  2| 8.0|\n",
            "|  3| 5.0|\n",
            "|  4| 2.2|\n",
            "+---+----+\n",
            "\n",
            "+---+----+------+\n",
            "| id|hour|result|\n",
            "+---+----+------+\n",
            "|  0|18.0|   2.0|\n",
            "|  1|19.0|   2.0|\n",
            "|  2| 8.0|   1.0|\n",
            "|  3| 5.0|   1.0|\n",
            "|  4| 2.2|   0.0|\n",
            "+---+----+------+\n",
            "\n"
          ]
        }
      ]
    },
    {
      "cell_type": "markdown",
      "source": [
        "#### Word2Vec"
      ],
      "metadata": {
        "id": "EdcNpJf8e6rX"
      }
    },
    {
      "cell_type": "code",
      "source": [
        "from pyspark.ml.feature import Word2Vec\n",
        "\n",
        "# import data: Each row is a bag of words from a sentence or document.\n",
        "documentDF = spark.createDataFrame([('Hi I heard about Spark'.split(' '),),\n",
        "                                    ('I wish Java could use case classes'.split(' '),),\n",
        "                                    ('Logistic regression models are neat'.split(' '),),],['text'])\n",
        "\n",
        "documentDF.show(truncate=False)"
      ],
      "metadata": {
        "id": "x1um8ocYfC3a",
        "colab": {
          "base_uri": "https://localhost:8080/"
        },
        "outputId": "b338cbd3-514e-488f-d11e-a91c7bfd3b84"
      },
      "execution_count": 54,
      "outputs": [
        {
          "output_type": "stream",
          "name": "stdout",
          "text": [
            "+------------------------------------------+\n",
            "|text                                      |\n",
            "+------------------------------------------+\n",
            "|[Hi, I, heard, about, Spark]              |\n",
            "|[I, wish, Java, could, use, case, classes]|\n",
            "|[Logistic, regression, models, are, neat] |\n",
            "+------------------------------------------+\n",
            "\n"
          ]
        }
      ]
    },
    {
      "cell_type": "code",
      "source": [
        "# Learn a mapping from words to Vectors.\n",
        "word2Vec = Word2Vec(vectorSize=3, minCount=0, inputCol='text', outputCol='result')\n",
        "model = word2Vec.fit(documentDF)"
      ],
      "metadata": {
        "id": "jYLIvzvlutdk"
      },
      "execution_count": 55,
      "outputs": []
    },
    {
      "cell_type": "code",
      "source": [
        "result = model.transform(documentDF)\n",
        "for row in result.collect():\n",
        "  text, vector = row\n",
        "  print(f'Text: {text} => \\nVector: {vector}\\n')"
      ],
      "metadata": {
        "id": "4tArWF_6utk0",
        "colab": {
          "base_uri": "https://localhost:8080/"
        },
        "outputId": "f205e6ac-7024-4a2a-d3a9-0f08f2fb6ee4"
      },
      "execution_count": 56,
      "outputs": [
        {
          "output_type": "stream",
          "name": "stdout",
          "text": [
            "Text: ['Hi', 'I', 'heard', 'about', 'Spark'] => \n",
            "Vector: [0.051668847724795346,-0.003416680544614792,0.03179488629102707]\n",
            "\n",
            "Text: ['I', 'wish', 'Java', 'could', 'use', 'case', 'classes'] => \n",
            "Vector: [-0.037760873923876455,0.01811806218964713,0.035015806555747986]\n",
            "\n",
            "Text: ['Logistic', 'regression', 'models', 'are', 'neat'] => \n",
            "Vector: [0.037150276079773906,-0.032672193553298715,0.025237275660037996]\n",
            "\n"
          ]
        }
      ]
    },
    {
      "cell_type": "markdown",
      "source": [
        "#### FeatureHasher"
      ],
      "metadata": {
        "id": "MplBpDjxe9g3"
      }
    },
    {
      "cell_type": "code",
      "source": [
        "from pyspark.ml.feature import FeatureHasher\n",
        "\n",
        "dataset = spark.createDataFrame([(2.2, True, '1', 'foo'),\n",
        "                                 (3.3, False, '2', 'bar'),\n",
        "                                 (4.4, False, '3', 'baz'),\n",
        "                                 (5.5, False, '4', 'foo')],\n",
        "                                ['real', 'bool', 'stringNum', 'string'],)\n",
        "dataset.show(truncate=False)"
      ],
      "metadata": {
        "id": "wJsQSzXxutma",
        "colab": {
          "base_uri": "https://localhost:8080/"
        },
        "outputId": "6c32de77-d40c-4c63-eb15-6468b97ad491"
      },
      "execution_count": 57,
      "outputs": [
        {
          "output_type": "stream",
          "name": "stdout",
          "text": [
            "+----+-----+---------+------+\n",
            "|real|bool |stringNum|string|\n",
            "+----+-----+---------+------+\n",
            "|2.2 |true |1        |foo   |\n",
            "|3.3 |false|2        |bar   |\n",
            "|4.4 |false|3        |baz   |\n",
            "|5.5 |false|4        |foo   |\n",
            "+----+-----+---------+------+\n",
            "\n"
          ]
        }
      ]
    },
    {
      "cell_type": "code",
      "source": [
        "hasher = FeatureHasher(inputCols=['real', 'bool', 'stringNum', 'string'], outputCol='features')\n",
        "featurized = hasher.transform(dataset)\n",
        "featurized.show(truncate=False)"
      ],
      "metadata": {
        "id": "Ogqkb-G1utot",
        "colab": {
          "base_uri": "https://localhost:8080/"
        },
        "outputId": "40e42728-773b-4436-e8df-22ca4208bc30"
      },
      "execution_count": 58,
      "outputs": [
        {
          "output_type": "stream",
          "name": "stdout",
          "text": [
            "+----+-----+---------+------+--------------------------------------------------------+\n",
            "|real|bool |stringNum|string|features                                                |\n",
            "+----+-----+---------+------+--------------------------------------------------------+\n",
            "|2.2 |true |1        |foo   |(262144,[174475,247670,257907,262126],[2.2,1.0,1.0,1.0])|\n",
            "|3.3 |false|2        |bar   |(262144,[70644,89673,173866,174475],[1.0,1.0,1.0,3.3])  |\n",
            "|4.4 |false|3        |baz   |(262144,[22406,70644,174475,187923],[1.0,1.0,4.4,1.0])  |\n",
            "|5.5 |false|4        |foo   |(262144,[70644,101499,174475,257907],[1.0,1.0,5.5,1.0]) |\n",
            "+----+-----+---------+------+--------------------------------------------------------+\n",
            "\n"
          ]
        }
      ]
    },
    {
      "cell_type": "markdown",
      "source": [
        "#### StringIndexer"
      ],
      "metadata": {
        "id": "xnC1Eqmne_jb"
      }
    },
    {
      "cell_type": "code",
      "source": [
        "from pyspark.ml.feature import StringIndexer\n",
        "\n",
        "df = spark.createDataFrame([(0, 'a'),\n",
        "                            (1, 'b'),\n",
        "                            (2, 'c'),\n",
        "                            (3, 'a'),\n",
        "                            (4, 'a'),\n",
        "                            (5, 'c'),\n",
        "                            (6, 'd'),\n",
        "                            (7, 'a'),\n",
        "                            (8, 'd')],\n",
        "                           ['id', 'category'])\n",
        "df.show()"
      ],
      "metadata": {
        "id": "vogES8LjutrM",
        "colab": {
          "base_uri": "https://localhost:8080/"
        },
        "outputId": "54ea0e7c-edca-48c0-9367-5d79571a0f0a"
      },
      "execution_count": 59,
      "outputs": [
        {
          "output_type": "stream",
          "name": "stdout",
          "text": [
            "+---+--------+\n",
            "| id|category|\n",
            "+---+--------+\n",
            "|  0|       a|\n",
            "|  1|       b|\n",
            "|  2|       c|\n",
            "|  3|       a|\n",
            "|  4|       a|\n",
            "|  5|       c|\n",
            "|  6|       d|\n",
            "|  7|       a|\n",
            "|  8|       d|\n",
            "+---+--------+\n",
            "\n"
          ]
        }
      ]
    },
    {
      "cell_type": "code",
      "source": [
        "indexer = StringIndexer(inputCol='category', outputCol='categoryIndex')\n",
        "indexed = indexer.fit(df).transform(df)\n",
        "indexed.show()"
      ],
      "metadata": {
        "id": "a_r_8xyduttg",
        "colab": {
          "base_uri": "https://localhost:8080/"
        },
        "outputId": "e92df4c6-b09a-4e90-839b-a3c9fc00d247"
      },
      "execution_count": 60,
      "outputs": [
        {
          "output_type": "stream",
          "name": "stdout",
          "text": [
            "+---+--------+-------------+\n",
            "| id|category|categoryIndex|\n",
            "+---+--------+-------------+\n",
            "|  0|       a|          0.0|\n",
            "|  1|       b|          3.0|\n",
            "|  2|       c|          1.0|\n",
            "|  3|       a|          0.0|\n",
            "|  4|       a|          0.0|\n",
            "|  5|       c|          1.0|\n",
            "|  6|       d|          2.0|\n",
            "|  7|       a|          0.0|\n",
            "|  8|       d|          2.0|\n",
            "+---+--------+-------------+\n",
            "\n"
          ]
        }
      ]
    },
    {
      "cell_type": "markdown",
      "source": [
        "#### VectorIndexer"
      ],
      "metadata": {
        "id": "PoJFrtmCfCcn"
      }
    },
    {
      "cell_type": "code",
      "source": [
        "from pyspark.ml.feature import VectorIndexer\n",
        "data = spark.read.format('libsvm').load('/content/spark/data/mllib/sample_libsvm_data.txt')\n",
        "data.show()"
      ],
      "metadata": {
        "colab": {
          "base_uri": "https://localhost:8080/"
        },
        "id": "1faJWVG8c_vw",
        "outputId": "1bf13fde-5d19-4c93-96a0-469f4fbbf20e"
      },
      "execution_count": 61,
      "outputs": [
        {
          "output_type": "stream",
          "name": "stdout",
          "text": [
            "+-----+--------------------+\n",
            "|label|            features|\n",
            "+-----+--------------------+\n",
            "|  0.0|(692,[127,128,129...|\n",
            "|  1.0|(692,[158,159,160...|\n",
            "|  1.0|(692,[124,125,126...|\n",
            "|  1.0|(692,[152,153,154...|\n",
            "|  1.0|(692,[151,152,153...|\n",
            "|  0.0|(692,[129,130,131...|\n",
            "|  1.0|(692,[158,159,160...|\n",
            "|  1.0|(692,[99,100,101,...|\n",
            "|  0.0|(692,[154,155,156...|\n",
            "|  0.0|(692,[127,128,129...|\n",
            "|  1.0|(692,[154,155,156...|\n",
            "|  0.0|(692,[153,154,155...|\n",
            "|  0.0|(692,[151,152,153...|\n",
            "|  1.0|(692,[129,130,131...|\n",
            "|  0.0|(692,[154,155,156...|\n",
            "|  1.0|(692,[150,151,152...|\n",
            "|  0.0|(692,[124,125,126...|\n",
            "|  0.0|(692,[152,153,154...|\n",
            "|  1.0|(692,[97,98,99,12...|\n",
            "|  1.0|(692,[124,125,126...|\n",
            "+-----+--------------------+\n",
            "only showing top 20 rows\n",
            "\n"
          ]
        }
      ]
    },
    {
      "cell_type": "code",
      "source": [
        "indexer = VectorIndexer(inputCol='features', outputCol='indexed', maxCategories=10)\n",
        "indexerModel = indexer.fit(data)\n",
        "\n",
        "categoricalFeatures = indexerModel.categoryMaps\n",
        "print(f'Chose {len(categoricalFeatures)} categorical features: {[str(k) for k in categoricalFeatures.keys()]}')"
      ],
      "metadata": {
        "colab": {
          "base_uri": "https://localhost:8080/"
        },
        "id": "lroQ8EqBc_zD",
        "outputId": "14dcb944-8b2c-404d-95a0-93d1e847bb27"
      },
      "execution_count": 62,
      "outputs": [
        {
          "output_type": "stream",
          "name": "stdout",
          "text": [
            "Chose 351 categorical features: ['645', '69', '365', '138', '101', '479', '333', '249', '0', '555', '666', '88', '170', '115', '276', '308', '5', '449', '120', '247', '614', '677', '202', '10', '56', '533', '142', '500', '340', '670', '174', '42', '417', '24', '37', '25', '257', '389', '52', '14', '504', '110', '587', '619', '196', '559', '638', '20', '421', '46', '93', '284', '228', '448', '57', '78', '29', '475', '164', '591', '646', '253', '106', '121', '84', '480', '147', '280', '61', '221', '396', '89', '133', '116', '1', '507', '312', '74', '307', '452', '6', '248', '60', '117', '678', '529', '85', '201', '220', '366', '534', '102', '334', '28', '38', '561', '392', '70', '424', '192', '21', '137', '165', '33', '92', '229', '252', '197', '361', '65', '97', '665', '583', '285', '224', '650', '615', '9', '53', '169', '593', '141', '610', '420', '109', '256', '225', '339', '77', '193', '669', '476', '642', '637', '590', '679', '96', '393', '647', '173', '13', '41', '503', '134', '73', '105', '2', '508', '311', '558', '674', '530', '586', '618', '166', '32', '34', '148', '45', '161', '279', '64', '689', '17', '149', '584', '562', '176', '423', '191', '22', '44', '59', '118', '281', '27', '641', '71', '391', '12', '445', '54', '313', '611', '144', '49', '335', '86', '672', '172', '113', '681', '219', '419', '81', '230', '362', '451', '76', '7', '39', '649', '98', '616', '477', '367', '535', '103', '140', '621', '91', '66', '251', '668', '198', '108', '278', '223', '394', '306', '135', '563', '226', '3', '505', '80', '167', '35', '473', '675', '589', '162', '531', '680', '255', '648', '112', '617', '194', '145', '48', '557', '690', '63', '640', '18', '282', '95', '310', '50', '67', '199', '673', '16', '585', '502', '338', '643', '31', '336', '613', '11', '72', '175', '446', '612', '143', '43', '250', '231', '450', '99', '363', '556', '87', '203', '671', '688', '104', '368', '588', '40', '304', '26', '258', '390', '55', '114', '171', '139', '418', '23', '8', '75', '119', '58', '667', '478', '536', '82', '620', '447', '36', '168', '146', '30', '51', '190', '19', '422', '564', '305', '107', '4', '136', '506', '79', '195', '474', '664', '532', '94', '283', '395', '332', '528', '644', '47', '15', '163', '200', '68', '62', '277', '691', '501', '90', '111', '254', '227', '337', '122', '83', '309', '560', '639', '676', '222', '592', '364', '100']\n"
          ]
        }
      ]
    },
    {
      "cell_type": "code",
      "source": [
        "# Create new column 'indexed' with categorical values transformed to indices\n",
        "indexedData = indexerModel.transform(data)\n",
        "indexedData.show()"
      ],
      "metadata": {
        "colab": {
          "base_uri": "https://localhost:8080/"
        },
        "id": "y__SRFR0c_1s",
        "outputId": "ef5c9701-e5d1-4fc8-bfb8-a5cd2c32bbd6"
      },
      "execution_count": 63,
      "outputs": [
        {
          "output_type": "stream",
          "name": "stdout",
          "text": [
            "+-----+--------------------+--------------------+\n",
            "|label|            features|             indexed|\n",
            "+-----+--------------------+--------------------+\n",
            "|  0.0|(692,[127,128,129...|(692,[127,128,129...|\n",
            "|  1.0|(692,[158,159,160...|(692,[158,159,160...|\n",
            "|  1.0|(692,[124,125,126...|(692,[124,125,126...|\n",
            "|  1.0|(692,[152,153,154...|(692,[152,153,154...|\n",
            "|  1.0|(692,[151,152,153...|(692,[151,152,153...|\n",
            "|  0.0|(692,[129,130,131...|(692,[129,130,131...|\n",
            "|  1.0|(692,[158,159,160...|(692,[158,159,160...|\n",
            "|  1.0|(692,[99,100,101,...|(692,[99,100,101,...|\n",
            "|  0.0|(692,[154,155,156...|(692,[154,155,156...|\n",
            "|  0.0|(692,[127,128,129...|(692,[127,128,129...|\n",
            "|  1.0|(692,[154,155,156...|(692,[154,155,156...|\n",
            "|  0.0|(692,[153,154,155...|(692,[153,154,155...|\n",
            "|  0.0|(692,[151,152,153...|(692,[151,152,153...|\n",
            "|  1.0|(692,[129,130,131...|(692,[129,130,131...|\n",
            "|  0.0|(692,[154,155,156...|(692,[154,155,156...|\n",
            "|  1.0|(692,[150,151,152...|(692,[150,151,152...|\n",
            "|  0.0|(692,[124,125,126...|(692,[124,125,126...|\n",
            "|  0.0|(692,[152,153,154...|(692,[152,153,154...|\n",
            "|  1.0|(692,[97,98,99,12...|(692,[97,98,99,12...|\n",
            "|  1.0|(692,[124,125,126...|(692,[124,125,126...|\n",
            "+-----+--------------------+--------------------+\n",
            "only showing top 20 rows\n",
            "\n"
          ]
        }
      ]
    },
    {
      "cell_type": "markdown",
      "source": [
        "#### Bucketizer"
      ],
      "metadata": {
        "id": "huB63HsghLh5"
      }
    },
    {
      "cell_type": "code",
      "source": [
        "from pyspark.ml.feature import Bucketizer\n",
        "\n",
        "splits = [-float('inf'), -0.5, 0.0, 0.5, float('inf')]\n",
        "data = [(-999.9,), (-0.5,), (-0.3,), (-0.4,), (-0.2,), \n",
        "        (0.0,), (0.1,), (0.2,), (0.3,), (999.9,), ]\n",
        "\n",
        "dataFrame = spark.createDataFrame(data, ['features'])\n",
        "dataFrame.show()"
      ],
      "metadata": {
        "colab": {
          "base_uri": "https://localhost:8080/"
        },
        "id": "-iygFe3Vc_4P",
        "outputId": "4bf13a56-f140-46ea-9d1b-12e8ecdef1e8"
      },
      "execution_count": 64,
      "outputs": [
        {
          "output_type": "stream",
          "name": "stdout",
          "text": [
            "+--------+\n",
            "|features|\n",
            "+--------+\n",
            "|  -999.9|\n",
            "|    -0.5|\n",
            "|    -0.3|\n",
            "|    -0.4|\n",
            "|    -0.2|\n",
            "|     0.0|\n",
            "|     0.1|\n",
            "|     0.2|\n",
            "|     0.3|\n",
            "|   999.9|\n",
            "+--------+\n",
            "\n"
          ]
        }
      ]
    },
    {
      "cell_type": "code",
      "source": [
        "bucketizer = Bucketizer(splits=splits, inputCol='features', outputCol='bucketedFeatures')\n",
        "\n",
        "# Transform original data into its bucket index.\n",
        "bucketedData = bucketizer.transform(dataFrame)\n",
        "print(f'Bucketizer output with {len(bucketizer.getSplits())-1} buckets')\n",
        "bucketedData.show()"
      ],
      "metadata": {
        "colab": {
          "base_uri": "https://localhost:8080/"
        },
        "id": "H_Z-GLNPc_6p",
        "outputId": "e1f9f66a-458b-44f4-b56e-cc580ff9bfff"
      },
      "execution_count": 65,
      "outputs": [
        {
          "output_type": "stream",
          "name": "stdout",
          "text": [
            "Bucketizer output with 4 buckets\n",
            "+--------+----------------+\n",
            "|features|bucketedFeatures|\n",
            "+--------+----------------+\n",
            "|  -999.9|             0.0|\n",
            "|    -0.5|             1.0|\n",
            "|    -0.3|             1.0|\n",
            "|    -0.4|             1.0|\n",
            "|    -0.2|             1.0|\n",
            "|     0.0|             2.0|\n",
            "|     0.1|             2.0|\n",
            "|     0.2|             2.0|\n",
            "|     0.3|             2.0|\n",
            "|   999.9|             3.0|\n",
            "+--------+----------------+\n",
            "\n"
          ]
        }
      ]
    },
    {
      "cell_type": "markdown",
      "source": [
        "### Spark MLlib Statistic"
      ],
      "metadata": {
        "id": "S4I12UL06VSL"
      }
    },
    {
      "cell_type": "markdown",
      "source": [
        "- Correlation:\n",
        "```python\n",
        " class pyspark.ml.stat.Correlation: # Supports Pearon's and Spearman's correlation to calculate correlation between two series os data\n",
        "```\n",
        "- Hypothesis testing:\n",
        "```python\n",
        " class pyspark.ml.stat.ChiSquareTest: # Conducts Pearon's independence test for every feature against the label\n",
        " class pyspark.ml.stat.KolmogorovSmirnovTest: # Conducts the two-sided Kolmogorov-Smirnov (KS) test for data sampled from a continuous distribution\n",
        "```\n",
        "- Summarizer:\n",
        "```python\n",
        " class pyspark.ml.stat.Summarizer and class pyspark.ml.stat.SummaryBuilder: # Column-wise summary statistics for vectors\n",
        "```\n",
        "\n"
      ],
      "metadata": {
        "id": "o-fzJP7B5vpC"
      }
    },
    {
      "cell_type": "markdown",
      "source": [
        "### Spark MLlib Recommendation System"
      ],
      "metadata": {
        "id": "QHJzcq5X6cQY"
      }
    },
    {
      "cell_type": "markdown",
      "source": [
        "#### Content-based recommendation system"
      ],
      "metadata": {
        "id": "L1KZVeST8wUk"
      }
    },
    {
      "cell_type": "code",
      "source": [
        ""
      ],
      "metadata": {
        "id": "DdkUBMcIut94"
      },
      "execution_count": 65,
      "outputs": []
    },
    {
      "cell_type": "markdown",
      "source": [
        "#### Collaborative filtering"
      ],
      "metadata": {
        "id": "f48UldZX8ypF"
      }
    },
    {
      "cell_type": "markdown",
      "source": [
        "##### memory based"
      ],
      "metadata": {
        "id": "JzKpLUlj9q0B"
      }
    },
    {
      "cell_type": "markdown",
      "source": [
        "![image.png](data:image/png;base64,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)"
      ],
      "metadata": {
        "id": "jI3rly9_-Bg3"
      }
    },
    {
      "cell_type": "markdown",
      "source": [
        "##### model based"
      ],
      "metadata": {
        "id": "fCbuOAhS9stq"
      }
    },
    {
      "cell_type": "markdown",
      "source": [
        "![image.png](data:image/png;base64,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)"
      ],
      "metadata": {
        "id": "V1TjpMQF-Xru"
      }
    },
    {
      "cell_type": "markdown",
      "source": [
        "##### Altenating Least Squares"
      ],
      "metadata": {
        "id": "jGlJhH2x9z2h"
      }
    },
    {
      "cell_type": "markdown",
      "source": [
        "![image.png](data:image/png;base64,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)"
      ],
      "metadata": {
        "id": "t_8tiQgr-f-3"
      }
    },
    {
      "cell_type": "markdown",
      "source": [
        "##### pyspark.ml"
      ],
      "metadata": {
        "id": "Ba48w29T-kxn"
      }
    },
    {
      "cell_type": "code",
      "source": [
        "import numpy as np\n",
        "\n",
        "from pyspark.sql import SparkSession\n",
        "from pyspark.sql import functions as f\n",
        "from pyspark.ml.recommendation import ALS\n",
        "from pyspark.ml.evaluation import RegressionEvaluator\n",
        "from pyspark.ml.tuning import CrossValidator, ParamGridBuilder\n",
        "from pprint import pprint\n",
        "\n",
        "spark = SparkSession.builder.appName('movieRecommendationPySpark').getOrCreate()"
      ],
      "metadata": {
        "id": "mzaCkDVHuuFk"
      },
      "execution_count": 66,
      "outputs": []
    },
    {
      "cell_type": "code",
      "source": [
        "PATH = '/content/drive/MyDrive/TÀI LIỆU HỌC TẬP ĐẠI HỌC 2019-2023/NĂM 3 2021-2022/HỌC KỲ 2 2021 - 2022/DS200.M21 - PHÂN TÍCH DỮ LIỆU LỚN/THỰC HÀNH/LAB/Lab SparkML - 28 04 2022/Slide 10 - PySpark dataset/'"
      ],
      "metadata": {
        "id": "MJViaEiE_hRw"
      },
      "execution_count": 67,
      "outputs": []
    },
    {
      "cell_type": "code",
      "source": [
        "ratings = (spark.read.csv(path=PATH+'ratings_small.csv', \n",
        "                         sep=',', header=True, quote='\"', \n",
        "                         schema='userId INT, movieId INT, rating DOUBLE, timestamp INT',) \\\n",
        "                         #.withColumn('timestamp', f.to_timestamp(f.from_unixtime('timestamp_unix'))) \\\n",
        "                         .select('userId', 'movieId', 'rating').cache())\n",
        "\n",
        "ratings.printSchema()\n",
        "ratings.show()"
      ],
      "metadata": {
        "id": "x3rSgPPSuuHz",
        "colab": {
          "base_uri": "https://localhost:8080/"
        },
        "outputId": "4f8ddedd-ecaa-47b2-c79b-f23a5b6538e8"
      },
      "execution_count": 68,
      "outputs": [
        {
          "output_type": "stream",
          "name": "stdout",
          "text": [
            "root\n",
            " |-- userId: integer (nullable = true)\n",
            " |-- movieId: integer (nullable = true)\n",
            " |-- rating: double (nullable = true)\n",
            "\n",
            "+------+-------+------+\n",
            "|userId|movieId|rating|\n",
            "+------+-------+------+\n",
            "|     1|      1|   4.0|\n",
            "|     1|      3|   4.0|\n",
            "|     1|      6|   4.0|\n",
            "|     1|     47|   5.0|\n",
            "|     1|     50|   5.0|\n",
            "|     1|     70|   3.0|\n",
            "|     1|    101|   5.0|\n",
            "|     1|    110|   4.0|\n",
            "|     1|    151|   5.0|\n",
            "|     1|    157|   5.0|\n",
            "|     1|    163|   5.0|\n",
            "|     1|    216|   5.0|\n",
            "|     1|    223|   3.0|\n",
            "|     1|    231|   5.0|\n",
            "|     1|    235|   4.0|\n",
            "|     1|    260|   5.0|\n",
            "|     1|    296|   3.0|\n",
            "|     1|    316|   3.0|\n",
            "|     1|    333|   5.0|\n",
            "|     1|    349|   4.0|\n",
            "+------+-------+------+\n",
            "only showing top 20 rows\n",
            "\n"
          ]
        }
      ]
    },
    {
      "cell_type": "code",
      "source": [
        "ratings.summary().show()"
      ],
      "metadata": {
        "id": "BS3k9J_wuuMX",
        "colab": {
          "base_uri": "https://localhost:8080/"
        },
        "outputId": "5ee196a0-63ab-4276-ea35-34bd37ab71d5"
      },
      "execution_count": 69,
      "outputs": [
        {
          "output_type": "stream",
          "name": "stdout",
          "text": [
            "+-------+------------------+----------------+------------------+\n",
            "|summary|            userId|         movieId|            rating|\n",
            "+-------+------------------+----------------+------------------+\n",
            "|  count|            100836|          100836|            100836|\n",
            "|   mean|326.12756356856676|19435.2957177992| 3.501556983616962|\n",
            "| stddev| 182.6184914635004|35530.9871987003|1.0425292390606342|\n",
            "|    min|                 1|               1|               0.5|\n",
            "|    25%|               177|            1199|               3.0|\n",
            "|    50%|               325|            2991|               3.5|\n",
            "|    75%|               477|            8092|               4.0|\n",
            "|    max|               610|          193609|               5.0|\n",
            "+-------+------------------+----------------+------------------+\n",
            "\n"
          ]
        }
      ]
    },
    {
      "cell_type": "code",
      "source": [
        "als = ALS(userCol='userId', itemCol='movieId', ratingCol='rating')\n",
        "\n",
        "(training_data, validation_data) = ratings.randomSplit([8.0, 2.0])\n",
        "\n",
        "evaluator = RegressionEvaluator(metricName='rmse', labelCol='rating', predictionCol='prediction')\n",
        "\n",
        "model = als.fit(training_data)\n",
        "predictions = model.transform(validation_data)"
      ],
      "metadata": {
        "id": "r15N-IAXuuOz"
      },
      "execution_count": 70,
      "outputs": []
    },
    {
      "cell_type": "code",
      "source": [
        "predictions.show()"
      ],
      "metadata": {
        "id": "tX9XoFUHuuQ2",
        "colab": {
          "base_uri": "https://localhost:8080/"
        },
        "outputId": "50893da5-8a54-4a90-b4d0-e753f43a9bc4"
      },
      "execution_count": 71,
      "outputs": [
        {
          "output_type": "stream",
          "name": "stdout",
          "text": [
            "+------+-------+------+----------+\n",
            "|userId|movieId|rating|prediction|\n",
            "+------+-------+------+----------+\n",
            "|   191|    148|   5.0|       NaN|\n",
            "|   385|    471|   4.0| 3.1194832|\n",
            "|   218|    471|   4.0| 3.5703242|\n",
            "|   500|    471|   1.0| 3.4591331|\n",
            "|   216|    471|   3.0| 2.9185586|\n",
            "|   541|    471|   3.0| 3.8962955|\n",
            "|   599|    833|   1.5| 1.1013477|\n",
            "|   609|    833|   3.0| 0.9064443|\n",
            "|   492|    833|   4.0| 1.2179551|\n",
            "|    20|   1088|   4.5| 3.6661148|\n",
            "|   169|   1088|   4.5|  4.136183|\n",
            "|   554|   1088|   5.0|  4.238141|\n",
            "|    41|   1088|   1.5| 3.3271496|\n",
            "|   563|   1088|   4.0| 3.3365254|\n",
            "|   387|   1088|   1.5|  2.702577|\n",
            "|   391|   1088|   1.0| 3.2779942|\n",
            "|   104|   1088|   3.0| 3.4168363|\n",
            "|   385|   1238|   3.0|  3.593553|\n",
            "|   268|   1238|   5.0| 3.8582742|\n",
            "|   387|   1342|   3.0| 2.7908237|\n",
            "+------+-------+------+----------+\n",
            "only showing top 20 rows\n",
            "\n"
          ]
        }
      ]
    },
    {
      "cell_type": "code",
      "source": [
        "rmse = evaluator.evaluate(predictions.na.drop())\n",
        "print(rmse)"
      ],
      "metadata": {
        "id": "lvHMrFHLuuTk",
        "colab": {
          "base_uri": "https://localhost:8080/"
        },
        "outputId": "be9f6fe8-cae5-496b-aa45-7f76731ccaf6"
      },
      "execution_count": 72,
      "outputs": [
        {
          "output_type": "stream",
          "name": "stdout",
          "text": [
            "0.8823633878819495\n"
          ]
        }
      ]
    },
    {
      "cell_type": "code",
      "source": [
        "userFactors = model.userFactors\n",
        "itemFactors = model.itemFactors\n",
        "\n",
        "userFactors.sort('id').show(5, False)\n",
        "itemFactors.sort('id').show(5, False)\n",
        "\n",
        "user91Feature = model.userFactors.filter(f.col('id')==91).select(f.col('features')).rdd.flatMap(lambda x: x).collect()[0]\n",
        "item471Feature = model.itemFactors.filter(f.col('id')==471).select(f.col('features')).rdd.flatMap(lambda x: x).collect()[0]\n",
        "\n",
        "print(user91Feature)\n",
        "print(item471Feature)\n",
        "print('Predicted rating of user 91 for movie 471: ' + str(np.dot(user91Feature, item471Feature)))"
      ],
      "metadata": {
        "id": "doy7hzejuuWA",
        "colab": {
          "base_uri": "https://localhost:8080/"
        },
        "outputId": "d7a7f3f8-7bf6-432a-dee1-972540887d0a"
      },
      "execution_count": 73,
      "outputs": [
        {
          "output_type": "stream",
          "name": "stdout",
          "text": [
            "+---+-----------------------------------------------------------------------------------------------------------------------------+\n",
            "|id |features                                                                                                                     |\n",
            "+---+-----------------------------------------------------------------------------------------------------------------------------+\n",
            "|1  |[-0.7409151, -0.3887517, -0.09881519, -0.59661126, 0.6530133, -0.19814143, -1.4539269, -0.04477215, -1.0860482, 0.42825586]  |\n",
            "|2  |[-0.587514, -0.7067634, -0.23384187, -0.21692672, 0.6834769, -0.2421887, -1.5223663, 0.0011398295, -0.19267265, -0.39549273] |\n",
            "|3  |[0.29503277, -0.6626402, 0.15985425, -1.5991684, -0.42841265, -0.39211014, -0.66361016, 0.046138562, 0.53461194, -0.58740747]|\n",
            "|4  |[-0.35782447, -0.17422721, 1.1291994, -0.16655003, 0.90345263, -0.3177274, -0.421986, -0.4252231, -1.3161756, 0.8625117]     |\n",
            "|5  |[0.074353844, -0.19467258, 0.42222363, -0.12144969, 0.9336939, -0.5697, -1.0596015, -0.43894592, -0.8905258, -0.17901044]    |\n",
            "+---+-----------------------------------------------------------------------------------------------------------------------------+\n",
            "only showing top 5 rows\n",
            "\n",
            "+---+--------------------------------------------------------------------------------------------------------------------------------+\n",
            "|id |features                                                                                                                        |\n",
            "+---+--------------------------------------------------------------------------------------------------------------------------------+\n",
            "|1  |[-0.52811486, -0.6407017, 0.07355358, 0.082812026, 0.75393456, -0.15608363, -1.5887494, -0.4922714, -1.0749693, 0.23729452]     |\n",
            "|2  |[-0.617082, -0.055304084, 0.036345463, -0.3415042, 0.58635783, 0.16023055, -1.6598042, -0.45741796, -0.6456409, -0.11241989]    |\n",
            "|3  |[-0.8473258, -0.1908115, 0.100832574, -0.20400405, 1.032234, -0.47064772, -1.1933812, -0.06634295, -1.0043888, -0.06771836]     |\n",
            "|4  |[-0.541056, 0.057824392, -0.079246804, -0.060371142, 0.55622673, -0.35328862, -1.1132891, -0.40390378, -0.38445798, -0.24393928]|\n",
            "|5  |[-0.91100204, -0.02664352, 0.063293815, -0.2534998, 0.5483764, -0.18497543, -1.4379308, -0.24738456, -0.27257243, 0.1475934]    |\n",
            "+---+--------------------------------------------------------------------------------------------------------------------------------+\n",
            "only showing top 5 rows\n",
            "\n",
            "[-0.05976226553320885, -0.7652586698532104, -0.007740000728517771, -0.8608474135398865, 0.7286017537117004, 0.15413951873779297, -0.7192201018333435, -0.6182188391685486, -0.8931758403778076, -0.2768765389919281]\n",
            "[-0.2686375379562378, -0.093228779733181, -0.30504781007766724, -0.17852488160133362, 0.051128730177879333, -1.0008295774459839, -1.576249361038208, -0.9195894002914429, -0.8746658563613892, 0.7613421082496643]\n",
            "Predicted rating of user 91 for movie 471: 2.399037726668913\n"
          ]
        }
      ]
    },
    {
      "cell_type": "code",
      "source": [
        "parameter_grid = (ParamGridBuilder().addGrid(als.rank, [5, 10]).addGrid(als.maxIter, [20]).addGrid(als.regParam, [0.05, 0.1]).build())"
      ],
      "metadata": {
        "id": "05DoSjZdDf-9"
      },
      "execution_count": 74,
      "outputs": []
    },
    {
      "cell_type": "code",
      "source": [
        "type(parameter_grid)"
      ],
      "metadata": {
        "colab": {
          "base_uri": "https://localhost:8080/"
        },
        "id": "l7lwU5t2DgCC",
        "outputId": "df1908c1-d845-43f0-8dda-118db00b1675"
      },
      "execution_count": 75,
      "outputs": [
        {
          "output_type": "execute_result",
          "data": {
            "text/plain": [
              "list"
            ]
          },
          "metadata": {},
          "execution_count": 75
        }
      ]
    },
    {
      "cell_type": "code",
      "source": [
        "pprint(parameter_grid)"
      ],
      "metadata": {
        "colab": {
          "base_uri": "https://localhost:8080/"
        },
        "id": "8whJrakEDgEx",
        "outputId": "5ac41aa9-d713-41c0-d31c-e61f8f7730c1"
      },
      "execution_count": 76,
      "outputs": [
        {
          "output_type": "stream",
          "name": "stdout",
          "text": [
            "[{Param(parent='ALS_490fb4bab8e8', name='maxIter', doc='max number of iterations (>= 0).'): 20,\n",
            "  Param(parent='ALS_490fb4bab8e8', name='rank', doc='rank of the factorization'): 5,\n",
            "  Param(parent='ALS_490fb4bab8e8', name='regParam', doc='regularization parameter (>= 0).'): 0.05},\n",
            " {Param(parent='ALS_490fb4bab8e8', name='maxIter', doc='max number of iterations (>= 0).'): 20,\n",
            "  Param(parent='ALS_490fb4bab8e8', name='rank', doc='rank of the factorization'): 5,\n",
            "  Param(parent='ALS_490fb4bab8e8', name='regParam', doc='regularization parameter (>= 0).'): 0.1},\n",
            " {Param(parent='ALS_490fb4bab8e8', name='maxIter', doc='max number of iterations (>= 0).'): 20,\n",
            "  Param(parent='ALS_490fb4bab8e8', name='rank', doc='rank of the factorization'): 10,\n",
            "  Param(parent='ALS_490fb4bab8e8', name='regParam', doc='regularization parameter (>= 0).'): 0.05},\n",
            " {Param(parent='ALS_490fb4bab8e8', name='maxIter', doc='max number of iterations (>= 0).'): 20,\n",
            "  Param(parent='ALS_490fb4bab8e8', name='rank', doc='rank of the factorization'): 10,\n",
            "  Param(parent='ALS_490fb4bab8e8', name='regParam', doc='regularization parameter (>= 0).'): 0.1}]\n"
          ]
        }
      ]
    },
    {
      "cell_type": "code",
      "source": [
        "crossvalidator = CrossValidator(estimator=als, estimatorParamMaps=parameter_grid, \n",
        "                                evaluator=evaluator, numFolds=4)"
      ],
      "metadata": {
        "id": "ARj-r-KMJBDM"
      },
      "execution_count": 77,
      "outputs": []
    },
    {
      "cell_type": "code",
      "source": [
        "crossval_model = crossvalidator.fit(training_data)"
      ],
      "metadata": {
        "id": "ZNIdMIg1MyD2"
      },
      "execution_count": 78,
      "outputs": []
    },
    {
      "cell_type": "code",
      "source": [
        "predictions = crossval_model.transform(validation_data)"
      ],
      "metadata": {
        "id": "bW_9WtnAIqLL"
      },
      "execution_count": 79,
      "outputs": []
    },
    {
      "cell_type": "code",
      "source": [
        "rmse = evaluator.evaluate(predictions.na.drop())\n",
        "print(rmse)"
      ],
      "metadata": {
        "id": "8DtZs6o0DgHf",
        "colab": {
          "base_uri": "https://localhost:8080/"
        },
        "outputId": "1f559af4-07fe-4f18-80fb-5ff968be492c"
      },
      "execution_count": 80,
      "outputs": [
        {
          "output_type": "stream",
          "name": "stdout",
          "text": [
            "0.919746958831752\n"
          ]
        }
      ]
    },
    {
      "cell_type": "code",
      "source": [
        "model = crossval_model.bestModel"
      ],
      "metadata": {
        "id": "w8u02l5oDgJ4"
      },
      "execution_count": 81,
      "outputs": []
    },
    {
      "cell_type": "code",
      "source": [
        "model.userFactors.show(5, False)"
      ],
      "metadata": {
        "id": "TvQNZOk3O8oj",
        "colab": {
          "base_uri": "https://localhost:8080/"
        },
        "outputId": "70f47afd-6ae2-4803-b924-196bcb55e6a5"
      },
      "execution_count": 82,
      "outputs": [
        {
          "output_type": "stream",
          "name": "stdout",
          "text": [
            "+---+--------------------------------------------------------------+\n",
            "|id |features                                                      |\n",
            "+---+--------------------------------------------------------------+\n",
            "|10 |[-1.5246798, 0.30252948, -1.0289556, 1.1695187, -0.79579055]  |\n",
            "|20 |[-0.19002794, -0.8987997, -1.8984011, -0.4373558, 0.027029313]|\n",
            "|30 |[-0.8994708, 0.24439979, -1.7684937, 0.5020758, -0.65825325]  |\n",
            "|40 |[0.34635276, -0.7369798, -1.8945789, 0.10690027, 0.37934968]  |\n",
            "|50 |[0.29859948, -0.077665515, -1.3059419, -0.5631328, 0.11465419]|\n",
            "+---+--------------------------------------------------------------+\n",
            "only showing top 5 rows\n",
            "\n"
          ]
        }
      ]
    },
    {
      "cell_type": "code",
      "source": [
        "predictions.toPandas()"
      ],
      "metadata": {
        "id": "z7t3L4xGDgMY",
        "colab": {
          "base_uri": "https://localhost:8080/",
          "height": 424
        },
        "outputId": "41bd6c07-9982-4899-8532-d1b79eacef1e"
      },
      "execution_count": 83,
      "outputs": [
        {
          "output_type": "execute_result",
          "data": {
            "text/plain": [
              "       userId  movieId  rating  prediction\n",
              "0         191      148     5.0         NaN\n",
              "1         385      471     4.0    3.102510\n",
              "2         218      471     4.0    3.783599\n",
              "3         500      471     1.0    4.411137\n",
              "4         216      471     3.0    3.898688\n",
              "...       ...      ...     ...         ...\n",
              "20275     298    79008     4.0    2.694047\n",
              "20276     111    84374     2.5    3.131916\n",
              "20277     448   146688     2.0         NaN\n",
              "20278     210   147378     4.5    2.422547\n",
              "20279     525   147378     3.5    2.151962\n",
              "\n",
              "[20280 rows x 4 columns]"
            ],
            "text/html": [
              "\n",
              "  <div id=\"df-b4eaa03e-fc82-43d8-bc23-17b8bef0b30e\">\n",
              "    <div class=\"colab-df-container\">\n",
              "      <div>\n",
              "<style scoped>\n",
              "    .dataframe tbody tr th:only-of-type {\n",
              "        vertical-align: middle;\n",
              "    }\n",
              "\n",
              "    .dataframe tbody tr th {\n",
              "        vertical-align: top;\n",
              "    }\n",
              "\n",
              "    .dataframe thead th {\n",
              "        text-align: right;\n",
              "    }\n",
              "</style>\n",
              "<table border=\"1\" class=\"dataframe\">\n",
              "  <thead>\n",
              "    <tr style=\"text-align: right;\">\n",
              "      <th></th>\n",
              "      <th>userId</th>\n",
              "      <th>movieId</th>\n",
              "      <th>rating</th>\n",
              "      <th>prediction</th>\n",
              "    </tr>\n",
              "  </thead>\n",
              "  <tbody>\n",
              "    <tr>\n",
              "      <th>0</th>\n",
              "      <td>191</td>\n",
              "      <td>148</td>\n",
              "      <td>5.0</td>\n",
              "      <td>NaN</td>\n",
              "    </tr>\n",
              "    <tr>\n",
              "      <th>1</th>\n",
              "      <td>385</td>\n",
              "      <td>471</td>\n",
              "      <td>4.0</td>\n",
              "      <td>3.102510</td>\n",
              "    </tr>\n",
              "    <tr>\n",
              "      <th>2</th>\n",
              "      <td>218</td>\n",
              "      <td>471</td>\n",
              "      <td>4.0</td>\n",
              "      <td>3.783599</td>\n",
              "    </tr>\n",
              "    <tr>\n",
              "      <th>3</th>\n",
              "      <td>500</td>\n",
              "      <td>471</td>\n",
              "      <td>1.0</td>\n",
              "      <td>4.411137</td>\n",
              "    </tr>\n",
              "    <tr>\n",
              "      <th>4</th>\n",
              "      <td>216</td>\n",
              "      <td>471</td>\n",
              "      <td>3.0</td>\n",
              "      <td>3.898688</td>\n",
              "    </tr>\n",
              "    <tr>\n",
              "      <th>...</th>\n",
              "      <td>...</td>\n",
              "      <td>...</td>\n",
              "      <td>...</td>\n",
              "      <td>...</td>\n",
              "    </tr>\n",
              "    <tr>\n",
              "      <th>20275</th>\n",
              "      <td>298</td>\n",
              "      <td>79008</td>\n",
              "      <td>4.0</td>\n",
              "      <td>2.694047</td>\n",
              "    </tr>\n",
              "    <tr>\n",
              "      <th>20276</th>\n",
              "      <td>111</td>\n",
              "      <td>84374</td>\n",
              "      <td>2.5</td>\n",
              "      <td>3.131916</td>\n",
              "    </tr>\n",
              "    <tr>\n",
              "      <th>20277</th>\n",
              "      <td>448</td>\n",
              "      <td>146688</td>\n",
              "      <td>2.0</td>\n",
              "      <td>NaN</td>\n",
              "    </tr>\n",
              "    <tr>\n",
              "      <th>20278</th>\n",
              "      <td>210</td>\n",
              "      <td>147378</td>\n",
              "      <td>4.5</td>\n",
              "      <td>2.422547</td>\n",
              "    </tr>\n",
              "    <tr>\n",
              "      <th>20279</th>\n",
              "      <td>525</td>\n",
              "      <td>147378</td>\n",
              "      <td>3.5</td>\n",
              "      <td>2.151962</td>\n",
              "    </tr>\n",
              "  </tbody>\n",
              "</table>\n",
              "<p>20280 rows × 4 columns</p>\n",
              "</div>\n",
              "      <button class=\"colab-df-convert\" onclick=\"convertToInteractive('df-b4eaa03e-fc82-43d8-bc23-17b8bef0b30e')\"\n",
              "              title=\"Convert this dataframe to an interactive table.\"\n",
              "              style=\"display:none;\">\n",
              "        \n",
              "  <svg xmlns=\"http://www.w3.org/2000/svg\" height=\"24px\"viewBox=\"0 0 24 24\"\n",
              "       width=\"24px\">\n",
              "    <path d=\"M0 0h24v24H0V0z\" fill=\"none\"/>\n",
              "    <path d=\"M18.56 5.44l.94 2.06.94-2.06 2.06-.94-2.06-.94-.94-2.06-.94 2.06-2.06.94zm-11 1L8.5 8.5l.94-2.06 2.06-.94-2.06-.94L8.5 2.5l-.94 2.06-2.06.94zm10 10l.94 2.06.94-2.06 2.06-.94-2.06-.94-.94-2.06-.94 2.06-2.06.94z\"/><path d=\"M17.41 7.96l-1.37-1.37c-.4-.4-.92-.59-1.43-.59-.52 0-1.04.2-1.43.59L10.3 9.45l-7.72 7.72c-.78.78-.78 2.05 0 2.83L4 21.41c.39.39.9.59 1.41.59.51 0 1.02-.2 1.41-.59l7.78-7.78 2.81-2.81c.8-.78.8-2.07 0-2.86zM5.41 20L4 18.59l7.72-7.72 1.47 1.35L5.41 20z\"/>\n",
              "  </svg>\n",
              "      </button>\n",
              "      \n",
              "  <style>\n",
              "    .colab-df-container {\n",
              "      display:flex;\n",
              "      flex-wrap:wrap;\n",
              "      gap: 12px;\n",
              "    }\n",
              "\n",
              "    .colab-df-convert {\n",
              "      background-color: #E8F0FE;\n",
              "      border: none;\n",
              "      border-radius: 50%;\n",
              "      cursor: pointer;\n",
              "      display: none;\n",
              "      fill: #1967D2;\n",
              "      height: 32px;\n",
              "      padding: 0 0 0 0;\n",
              "      width: 32px;\n",
              "    }\n",
              "\n",
              "    .colab-df-convert:hover {\n",
              "      background-color: #E2EBFA;\n",
              "      box-shadow: 0px 1px 2px rgba(60, 64, 67, 0.3), 0px 1px 3px 1px rgba(60, 64, 67, 0.15);\n",
              "      fill: #174EA6;\n",
              "    }\n",
              "\n",
              "    [theme=dark] .colab-df-convert {\n",
              "      background-color: #3B4455;\n",
              "      fill: #D2E3FC;\n",
              "    }\n",
              "\n",
              "    [theme=dark] .colab-df-convert:hover {\n",
              "      background-color: #434B5C;\n",
              "      box-shadow: 0px 1px 3px 1px rgba(0, 0, 0, 0.15);\n",
              "      filter: drop-shadow(0px 1px 2px rgba(0, 0, 0, 0.3));\n",
              "      fill: #FFFFFF;\n",
              "    }\n",
              "  </style>\n",
              "\n",
              "      <script>\n",
              "        const buttonEl =\n",
              "          document.querySelector('#df-b4eaa03e-fc82-43d8-bc23-17b8bef0b30e button.colab-df-convert');\n",
              "        buttonEl.style.display =\n",
              "          google.colab.kernel.accessAllowed ? 'block' : 'none';\n",
              "\n",
              "        async function convertToInteractive(key) {\n",
              "          const element = document.querySelector('#df-b4eaa03e-fc82-43d8-bc23-17b8bef0b30e');\n",
              "          const dataTable =\n",
              "            await google.colab.kernel.invokeFunction('convertToInteractive',\n",
              "                                                     [key], {});\n",
              "          if (!dataTable) return;\n",
              "\n",
              "          const docLinkHtml = 'Like what you see? Visit the ' +\n",
              "            '<a target=\"_blank\" href=https://colab.research.google.com/notebooks/data_table.ipynb>data table notebook</a>'\n",
              "            + ' to learn more about interactive tables.';\n",
              "          element.innerHTML = '';\n",
              "          dataTable['output_type'] = 'display_data';\n",
              "          await google.colab.output.renderOutput(dataTable, element);\n",
              "          const docLink = document.createElement('div');\n",
              "          docLink.innerHTML = docLinkHtml;\n",
              "          element.appendChild(docLink);\n",
              "        }\n",
              "      </script>\n",
              "    </div>\n",
              "  </div>\n",
              "  "
            ]
          },
          "metadata": {},
          "execution_count": 83
        }
      ]
    },
    {
      "cell_type": "code",
      "source": [
        "# Top 5 Movies for each user, for all users\n",
        "userID = 91\n",
        "\n",
        "rec_all_users = model.recommendForAllUsers(5).cache()\n",
        "rec_all_users.show(5, False)\n",
        "rec_all_users.printSchema()"
      ],
      "metadata": {
        "id": "alStDr90DgPD",
        "colab": {
          "base_uri": "https://localhost:8080/"
        },
        "outputId": "16210627-d988-4fc4-89a1-26876c12d543"
      },
      "execution_count": 84,
      "outputs": [
        {
          "output_type": "stream",
          "name": "stdout",
          "text": [
            "+------+-----------------------------------------------------------------------------------------------+\n",
            "|userId|recommendations                                                                                |\n",
            "+------+-----------------------------------------------------------------------------------------------+\n",
            "|471   |[[158872, 5.921297], [3235, 5.7318325], [26258, 5.66692], [86320, 5.634759], [51931, 5.592551]]|\n",
            "|463   |[[5034, 6.140465], [5485, 5.7708297], [5075, 5.709493], [183897, 5.33297], [3200, 5.3165464]]  |\n",
            "|496   |[[170355, 5.186098], [3030, 5.054731], [1194, 5.0286217], [6380, 4.957958], [2936, 4.76931]]   |\n",
            "|148   |[[1034, 5.8085318], [932, 5.5138655], [1866, 5.4756684], [3682, 5.228907], [1696, 5.200792]]   |\n",
            "|540   |[[232, 5.985216], [8973, 5.8239913], [5034, 5.818137], [1177, 5.750943], [6201, 5.680675]]     |\n",
            "+------+-----------------------------------------------------------------------------------------------+\n",
            "only showing top 5 rows\n",
            "\n",
            "root\n",
            " |-- userId: integer (nullable = false)\n",
            " |-- recommendations: array (nullable = true)\n",
            " |    |-- element: struct (containsNull = true)\n",
            " |    |    |-- movieId: integer (nullable = true)\n",
            " |    |    |-- rating: float (nullable = true)\n",
            "\n"
          ]
        }
      ]
    },
    {
      "cell_type": "code",
      "source": [
        "recommendation_for_user91 = rec_all_users.filter(f.col('userId')==userID) \\\n",
        ".withColumn('rec', f.explode('recommendations')).select('userId', f.col('rec').movieId.alias('movieId'),\n",
        "                                                         f.col('rec').rating.alias('reting'))\n",
        "recommendation_for_user91.show(truncate=False)"
      ],
      "metadata": {
        "id": "fWj9cg3iDgRQ",
        "colab": {
          "base_uri": "https://localhost:8080/"
        },
        "outputId": "bddbacd6-e79e-4b28-f30d-f574e21d71e6"
      },
      "execution_count": 85,
      "outputs": [
        {
          "output_type": "stream",
          "name": "stdout",
          "text": [
            "+------+-------+---------+\n",
            "|userId|movieId|reting   |\n",
            "+------+-------+---------+\n",
            "|91    |6380   |6.088526 |\n",
            "|91    |5075   |5.680013 |\n",
            "|91    |3200   |5.4110036|\n",
            "|91    |86377  |5.3995075|\n",
            "|91    |7842   |5.3581767|\n",
            "+------+-------+---------+\n",
            "\n"
          ]
        }
      ]
    },
    {
      "cell_type": "code",
      "source": [
        "# Top unrated movies for a user\n",
        "userID = 91\n",
        "\n",
        "rateMovies = ratings.filter(f.col('userId')==userID).select('movieId').rdd.flatMap(lambda x: x).collect()\n",
        "# movie which hasn't been rated by userID\n",
        "movies_to_be_rated = ratings.filter(~ f.col('movieID').isin(rateMovies)).select('movieId').distinct().withColumn('userId', f.lit(userID))"
      ],
      "metadata": {
        "id": "DhbRgckgDgW7"
      },
      "execution_count": 86,
      "outputs": []
    },
    {
      "cell_type": "code",
      "source": [
        "movies_to_be_rated.sort('movieId').show(5)\n",
        "user_movie_predictions = model.transform(movies_to_be_rated)\n",
        "user_movie_predictions.filter(~f.isnan('prediction')).orderBy('prediction', ascending=False).show(5)"
      ],
      "metadata": {
        "id": "_t8jOEyQDgZq",
        "colab": {
          "base_uri": "https://localhost:8080/"
        },
        "outputId": "e7d14ed2-e116-4d15-e584-580f901f99e8"
      },
      "execution_count": 87,
      "outputs": [
        {
          "output_type": "stream",
          "name": "stdout",
          "text": [
            "+-------+------+\n",
            "|movieId|userId|\n",
            "+-------+------+\n",
            "|      4|    91|\n",
            "|      5|    91|\n",
            "|      7|    91|\n",
            "|      8|    91|\n",
            "|      9|    91|\n",
            "+-------+------+\n",
            "only showing top 5 rows\n",
            "\n",
            "+-------+------+----------+\n",
            "|movieId|userId|prediction|\n",
            "+-------+------+----------+\n",
            "|   6380|    91|  6.088526|\n",
            "|   5075|    91|  5.680013|\n",
            "|   3200|    91| 5.4110036|\n",
            "|  86377|    91| 5.3995075|\n",
            "|   7842|    91| 5.3581767|\n",
            "+-------+------+----------+\n",
            "only showing top 5 rows\n",
            "\n"
          ]
        }
      ]
    },
    {
      "cell_type": "markdown",
      "source": [
        "### Spark MLlib NLP\n",
        "\n",
        "[Dataset](https://drive.google.com/drive/folders/11dah8AyLOOY-kjpfJ8xd18axDKc-0JPf?usp=sharing)"
      ],
      "metadata": {
        "id": "ynov5jll6uzO"
      }
    },
    {
      "cell_type": "markdown",
      "source": [
        "##### Data exploration"
      ],
      "metadata": {
        "id": "n3zMvUvrZnWQ"
      }
    },
    {
      "cell_type": "code",
      "source": [
        "import pandas as pd\n",
        "import seaborn as sns\n",
        "\n",
        "from IPython.core.display import display\n",
        "from pyspark.sql import SparkSession\n",
        "from pyspark.sql import functions as f\n",
        "\n",
        "sns.set()\n",
        "\n",
        "spark = SparkSession.builder.getOrCreate()\n",
        "\n",
        "schema = 'polarity FLOAT, id LONG, date_time STRING, query STRING, user STRING, text STRING'"
      ],
      "metadata": {
        "id": "ZMvKPW7luubf"
      },
      "execution_count": 88,
      "outputs": []
    },
    {
      "cell_type": "markdown",
      "source": [
        "###### Load data training & test"
      ],
      "metadata": {
        "id": "HEYam-oBeEz_"
      }
    },
    {
      "cell_type": "code",
      "source": [
        "raw_training_data = (spark.read.csv(path=PATH+'training.1600000.processed.noemoticon.csv', \n",
        "                                    sep=',', header=False, quote='\"',\n",
        "                                    schema=schema).cache())\n",
        "\n",
        "raw_training_data.printSchema()\n",
        "raw_training_data.show(truncate=30)\n",
        "print('Overall data count:', raw_training_data.count())\n",
        "raw_training_data.summary().show()"
      ],
      "metadata": {
        "id": "5XK0_9L4aUud",
        "colab": {
          "base_uri": "https://localhost:8080/"
        },
        "outputId": "9bf01e37-84ad-451f-c2c6-12043cd7bff8"
      },
      "execution_count": 89,
      "outputs": [
        {
          "output_type": "stream",
          "name": "stdout",
          "text": [
            "root\n",
            " |-- polarity: float (nullable = true)\n",
            " |-- id: long (nullable = true)\n",
            " |-- date_time: string (nullable = true)\n",
            " |-- query: string (nullable = true)\n",
            " |-- user: string (nullable = true)\n",
            " |-- text: string (nullable = true)\n",
            "\n",
            "+--------+----------+----------------------------+--------+---------------+------------------------------+\n",
            "|polarity|        id|                   date_time|   query|           user|                          text|\n",
            "+--------+----------+----------------------------+--------+---------------+------------------------------+\n",
            "|     0.0|1467810369|Mon Apr 06 22:19:45 PDT 2009|NO_QUERY|_TheSpecialOne_|@switchfoot http://twitpic....|\n",
            "|     0.0|1467810672|Mon Apr 06 22:19:49 PDT 2009|NO_QUERY|  scotthamilton|is upset that he can't upda...|\n",
            "|     0.0|1467810917|Mon Apr 06 22:19:53 PDT 2009|NO_QUERY|       mattycus|@Kenichan I dived many time...|\n",
            "|     0.0|1467811184|Mon Apr 06 22:19:57 PDT 2009|NO_QUERY|        ElleCTF|my whole body feels itchy a...|\n",
            "|     0.0|1467811193|Mon Apr 06 22:19:57 PDT 2009|NO_QUERY|         Karoli|@nationwideclass no, it's n...|\n",
            "|     0.0|1467811372|Mon Apr 06 22:20:00 PDT 2009|NO_QUERY|       joy_wolf| @Kwesidei not the whole crew |\n",
            "|     0.0|1467811592|Mon Apr 06 22:20:03 PDT 2009|NO_QUERY|        mybirch|                   Need a hug |\n",
            "|     0.0|1467811594|Mon Apr 06 22:20:03 PDT 2009|NO_QUERY|           coZZ|@LOLTrish hey  long time no...|\n",
            "|     0.0|1467811795|Mon Apr 06 22:20:05 PDT 2009|NO_QUERY|2Hood4Hollywood|@Tatiana_K nope they didn't...|\n",
            "|     0.0|1467812025|Mon Apr 06 22:20:09 PDT 2009|NO_QUERY|        mimismo|     @twittera que me muera ? |\n",
            "|     0.0|1467812416|Mon Apr 06 22:20:16 PDT 2009|NO_QUERY| erinx3leannexo|spring break in plain city....|\n",
            "|     0.0|1467812579|Mon Apr 06 22:20:17 PDT 2009|NO_QUERY|   pardonlauren|    I just re-pierced my ears |\n",
            "|     0.0|1467812723|Mon Apr 06 22:20:19 PDT 2009|NO_QUERY|           TLeC|@caregiving I couldn't bear...|\n",
            "|     0.0|1467812771|Mon Apr 06 22:20:19 PDT 2009|NO_QUERY|robrobbierobert|@octolinz16 It it counts, i...|\n",
            "|     0.0|1467812784|Mon Apr 06 22:20:20 PDT 2009|NO_QUERY|    bayofwolves|@smarrison i would've been ...|\n",
            "|     0.0|1467812799|Mon Apr 06 22:20:20 PDT 2009|NO_QUERY|     HairByJess|@iamjazzyfizzle I wish I go...|\n",
            "|     0.0|1467812964|Mon Apr 06 22:20:22 PDT 2009|NO_QUERY| lovesongwriter|Hollis' death scene will hu...|\n",
            "|     0.0|1467813137|Mon Apr 06 22:20:25 PDT 2009|NO_QUERY|       armotley|          about to file taxes |\n",
            "|     0.0|1467813579|Mon Apr 06 22:20:31 PDT 2009|NO_QUERY|     starkissed|@LettyA ahh ive always want...|\n",
            "|     0.0|1467813782|Mon Apr 06 22:20:34 PDT 2009|NO_QUERY|      gi_gi_bee|@FakerPattyPattz Oh dear. W...|\n",
            "+--------+----------+----------------------------+--------+---------------+------------------------------+\n",
            "only showing top 20 rows\n",
            "\n",
            "Overall data count: 1600000\n",
            "+-------+------------------+--------------------+--------------------+--------+--------------------+--------------------+\n",
            "|summary|          polarity|                  id|           date_time|   query|                user|                text|\n",
            "+-------+------------------+--------------------+--------------------+--------+--------------------+--------------------+\n",
            "|  count|           1600000|             1600000|             1600000| 1600000|             1600000|             1600000|\n",
            "|   mean|               2.0|1.9988175522956276E9|                null|    null| 4.325887521835714E9|                null|\n",
            "| stddev|2.0000006250002933|1.9357607362269536E8|                null|    null|5.162733218454890...|                null|\n",
            "|    min|               0.0|          1467810369|Fri Apr 17 20:30:...|NO_QUERY|        000catnap000|                 ...|\n",
            "|    25%|               0.0|          1956912288|                null|    null|             32508.0|                null|\n",
            "|    50%|               0.0|          2002093413|                null|    null|            130587.0|                null|\n",
            "|    75%|               4.0|          2177045846|                null|    null|           1100101.0|                null|\n",
            "|    max|               4.0|          2329205794|Wed May 27 07:27:...|NO_QUERY|          zzzzeus111|�����ߧ�ǿ�����ж�؜�...|\n",
            "+-------+------------------+--------------------+--------------------+--------+--------------------+--------------------+\n",
            "\n"
          ]
        }
      ]
    },
    {
      "cell_type": "code",
      "source": [
        "raw_test_data = (spark.read.csv(path=PATH+'testdata.manual.2009.06.14.csv', \n",
        "                                sep=',', header=False, quote='\"', \n",
        "                                schema=schema).cache())\n",
        "\n",
        "raw_test_data.printSchema()\n",
        "raw_test_data.show(truncate=30)\n",
        "print('Overall data count:', raw_test_data.count())\n",
        "raw_test_data.summary().show()"
      ],
      "metadata": {
        "id": "riefklmNW8ZY",
        "colab": {
          "base_uri": "https://localhost:8080/"
        },
        "outputId": "02f60f68-492b-45b7-dc8e-bf12e870e0a5"
      },
      "execution_count": 90,
      "outputs": [
        {
          "output_type": "stream",
          "name": "stdout",
          "text": [
            "root\n",
            " |-- polarity: float (nullable = true)\n",
            " |-- id: long (nullable = true)\n",
            " |-- date_time: string (nullable = true)\n",
            " |-- query: string (nullable = true)\n",
            " |-- user: string (nullable = true)\n",
            " |-- text: string (nullable = true)\n",
            "\n",
            "+--------+---+----------------------------+-------+--------------+------------------------------+\n",
            "|polarity| id|                   date_time|  query|          user|                          text|\n",
            "+--------+---+----------------------------+-------+--------------+------------------------------+\n",
            "|     4.0|  3|Mon May 11 03:17:40 UTC 2009|kindle2|        tpryan|@stellargirl I loooooooovvv...|\n",
            "|     4.0|  4|Mon May 11 03:18:03 UTC 2009|kindle2|        vcu451|Reading my kindle2...  Love...|\n",
            "|     4.0|  5|Mon May 11 03:18:54 UTC 2009|kindle2|        chadfu|Ok, first assesment of the ...|\n",
            "|     4.0|  6|Mon May 11 03:19:04 UTC 2009|kindle2|         SIX15|@kenburbary You'll love you...|\n",
            "|     4.0|  7|Mon May 11 03:21:41 UTC 2009|kindle2|      yamarama|@mikefish  Fair enough. But...|\n",
            "|     4.0|  8|Mon May 11 03:22:00 UTC 2009|kindle2|  GeorgeVHulme|@richardebaker no. it is to...|\n",
            "|     0.0|  9|Mon May 11 03:22:30 UTC 2009|    aig|       Seth937|Fuck this economy. I hate a...|\n",
            "|     4.0| 10|Mon May 11 03:26:10 UTC 2009| jquery|     dcostalis| Jquery is my new best friend.|\n",
            "|     4.0| 11|Mon May 11 03:27:15 UTC 2009|twitter|       PJ_King|                 Loves twitter|\n",
            "|     4.0| 12|Mon May 11 03:29:20 UTC 2009|  obama|   mandanicole|how can you not love Obama?...|\n",
            "|     2.0| 13|Mon May 11 03:32:42 UTC 2009|  obama|          jpeb|Check this video out -- Pre...|\n",
            "|     0.0| 14|Mon May 11 03:32:48 UTC 2009|  obama|   kylesellers|@Karoli I firmly believe th...|\n",
            "|     4.0| 15|Mon May 11 03:33:38 UTC 2009|  obama|   theviewfans|House Correspondents dinner...|\n",
            "|     4.0| 16|Mon May 11 05:05:58 UTC 2009|   nike|        MumsFP|Watchin Espn..Jus seen this...|\n",
            "|     0.0| 17|Mon May 11 05:06:22 UTC 2009|   nike|   vincentx24x|dear nike, stop with the fl...|\n",
            "|     4.0| 18|Mon May 11 05:20:15 UTC 2009| lebron|  cameronwylie|#lebron best athlete of our...|\n",
            "|     0.0| 19|Mon May 11 05:20:28 UTC 2009| lebron|       luv8242|I was talking to this guy l...|\n",
            "|     4.0| 20|Mon May 11 05:21:04 UTC 2009| lebron|    mtgillikin|i love lebron. http://bit.l...|\n",
            "|     0.0| 21|Mon May 11 05:21:37 UTC 2009| lebron|ursecretdezire|@ludajuice Lebron is a Beas...|\n",
            "|     4.0| 22|Mon May 11 05:21:45 UTC 2009| lebron|     Native_01|   @Pmillzz lebron IS THE BOSS|\n",
            "+--------+---+----------------------------+-------+--------------+------------------------------+\n",
            "only showing top 20 rows\n",
            "\n",
            "Overall data count: 498\n",
            "+-------+------------------+------------------+--------------------+-----------------+-------+--------------------+\n",
            "|summary|          polarity|                id|           date_time|            query|   user|                text|\n",
            "+-------+------------------+------------------+--------------------+-----------------+-------+--------------------+\n",
            "|  count|               498|               498|                 498|              498|    498|                 498|\n",
            "|   mean|2.0200803212851404|1867.2269076305222|                null|             46.0|   null|                null|\n",
            "| stddev|1.6996858490577658| 2834.891681137318|                null|5.163977794943222|   null|                null|\n",
            "|    min|               0.0|                 3|Fri May 15 06:45:...| \"\"\"booz allen\"\"\"| 5x1llz|\"\"\"The Republican...|\n",
            "|    25%|               0.0|               388|                null|             40.0|   null|                null|\n",
            "|    50%|               2.0|              1013|                null|             50.0|   null|                null|\n",
            "|    75%|               4.0|              2367|                null|             50.0|   null|                null|\n",
            "|    max|               4.0|             14076|Wed May 27 23:59:...|          yankees|zedomax|zomg!!! I have a ...|\n",
            "+-------+------------------+------------------+--------------------+-----------------+-------+--------------------+\n",
            "\n"
          ]
        }
      ]
    },
    {
      "cell_type": "markdown",
      "source": [
        "###### distribution of polarity"
      ],
      "metadata": {
        "id": "rj8qt16UeNAI"
      }
    },
    {
      "cell_type": "code",
      "source": [
        "df = raw_test_data.select('polarity').na.drop()\n",
        "print(f'No of rows with Polarity: {df.count()}/{raw_test_data.count()}')\n",
        "\n",
        "sns.distplot(df.toPandas())"
      ],
      "metadata": {
        "id": "tOUysh-8W8ci",
        "colab": {
          "base_uri": "https://localhost:8080/",
          "height": 361
        },
        "outputId": "f0b61955-f7cc-44b4-e17e-7abc0a3fd416"
      },
      "execution_count": 91,
      "outputs": [
        {
          "output_type": "stream",
          "name": "stdout",
          "text": [
            "No of rows with Polarity: 498/498\n"
          ]
        },
        {
          "output_type": "stream",
          "name": "stderr",
          "text": [
            "/usr/local/lib/python3.7/dist-packages/seaborn/distributions.py:2619: FutureWarning: `distplot` is a deprecated function and will be removed in a future version. Please adapt your code to use either `displot` (a figure-level function with similar flexibility) or `histplot` (an axes-level function for histograms).\n",
            "  warnings.warn(msg, FutureWarning)\n"
          ]
        },
        {
          "output_type": "execute_result",
          "data": {
            "text/plain": [
              "<matplotlib.axes._subplots.AxesSubplot at 0x7f6132fc9a50>"
            ]
          },
          "metadata": {},
          "execution_count": 91
        },
        {
          "output_type": "display_data",
          "data": {
            "text/plain": [
              "<Figure size 432x288 with 1 Axes>"
            ],
            "image/png": "[encoded data removed]"
          },
          "metadata": {}
        }
      ]
    },
    {
      "cell_type": "code",
      "source": [
        "df = raw_training_data.select('polarity').na.drop()\n",
        "print(f'No of rows with Polarity: {df.count()}/{raw_training_data.count()}')\n",
        "\n",
        "sns.distplot(df.toPandas())"
      ],
      "metadata": {
        "id": "gx2n-BY6W8fk",
        "colab": {
          "base_uri": "https://localhost:8080/",
          "height": 361
        },
        "outputId": "7d67aa4d-eeee-42eb-f495-ba6cea5dfa42"
      },
      "execution_count": 92,
      "outputs": [
        {
          "output_type": "stream",
          "name": "stdout",
          "text": [
            "No of rows with Polarity: 1600000/1600000\n"
          ]
        },
        {
          "output_type": "stream",
          "name": "stderr",
          "text": [
            "/usr/local/lib/python3.7/dist-packages/seaborn/distributions.py:2619: FutureWarning: `distplot` is a deprecated function and will be removed in a future version. Please adapt your code to use either `displot` (a figure-level function with similar flexibility) or `histplot` (an axes-level function for histograms).\n",
            "  warnings.warn(msg, FutureWarning)\n"
          ]
        },
        {
          "output_type": "execute_result",
          "data": {
            "text/plain": [
              "<matplotlib.axes._subplots.AxesSubplot at 0x7f6130a08710>"
            ]
          },
          "metadata": {},
          "execution_count": 92
        },
        {
          "output_type": "display_data",
          "data": {
            "text/plain": [
              "<Figure size 432x288 with 1 Axes>"
            ],
            "image/png": "[encoded data removed]"
          },
          "metadata": {}
        }
      ]
    },
    {
      "cell_type": "code",
      "source": [
        "polarity_df = raw_training_data.select('polarity').cache()\n",
        "\n",
        "polarity_df.groupBy('polarity').count().toPandas()"
      ],
      "metadata": {
        "id": "cUNZq4_ZW8iT",
        "colab": {
          "base_uri": "https://localhost:8080/",
          "height": 112
        },
        "outputId": "e2c442a3-2e1d-41c7-8984-2dcffc93ebc9"
      },
      "execution_count": 93,
      "outputs": [
        {
          "output_type": "execute_result",
          "data": {
            "text/plain": [
              "   polarity   count\n",
              "0       4.0  800000\n",
              "1       0.0  800000"
            ],
            "text/html": [
              "\n",
              "  <div id=\"df-970b7b5d-f24c-488f-955a-cd3a297dd3ac\">\n",
              "    <div class=\"colab-df-container\">\n",
              "      <div>\n",
              "<style scoped>\n",
              "    .dataframe tbody tr th:only-of-type {\n",
              "        vertical-align: middle;\n",
              "    }\n",
              "\n",
              "    .dataframe tbody tr th {\n",
              "        vertical-align: top;\n",
              "    }\n",
              "\n",
              "    .dataframe thead th {\n",
              "        text-align: right;\n",
              "    }\n",
              "</style>\n",
              "<table border=\"1\" class=\"dataframe\">\n",
              "  <thead>\n",
              "    <tr style=\"text-align: right;\">\n",
              "      <th></th>\n",
              "      <th>polarity</th>\n",
              "      <th>count</th>\n",
              "    </tr>\n",
              "  </thead>\n",
              "  <tbody>\n",
              "    <tr>\n",
              "      <th>0</th>\n",
              "      <td>4.0</td>\n",
              "      <td>800000</td>\n",
              "    </tr>\n",
              "    <tr>\n",
              "      <th>1</th>\n",
              "      <td>0.0</td>\n",
              "      <td>800000</td>\n",
              "    </tr>\n",
              "  </tbody>\n",
              "</table>\n",
              "</div>\n",
              "      <button class=\"colab-df-convert\" onclick=\"convertToInteractive('df-970b7b5d-f24c-488f-955a-cd3a297dd3ac')\"\n",
              "              title=\"Convert this dataframe to an interactive table.\"\n",
              "              style=\"display:none;\">\n",
              "        \n",
              "  <svg xmlns=\"http://www.w3.org/2000/svg\" height=\"24px\"viewBox=\"0 0 24 24\"\n",
              "       width=\"24px\">\n",
              "    <path d=\"M0 0h24v24H0V0z\" fill=\"none\"/>\n",
              "    <path d=\"M18.56 5.44l.94 2.06.94-2.06 2.06-.94-2.06-.94-.94-2.06-.94 2.06-2.06.94zm-11 1L8.5 8.5l.94-2.06 2.06-.94-2.06-.94L8.5 2.5l-.94 2.06-2.06.94zm10 10l.94 2.06.94-2.06 2.06-.94-2.06-.94-.94-2.06-.94 2.06-2.06.94z\"/><path d=\"M17.41 7.96l-1.37-1.37c-.4-.4-.92-.59-1.43-.59-.52 0-1.04.2-1.43.59L10.3 9.45l-7.72 7.72c-.78.78-.78 2.05 0 2.83L4 21.41c.39.39.9.59 1.41.59.51 0 1.02-.2 1.41-.59l7.78-7.78 2.81-2.81c.8-.78.8-2.07 0-2.86zM5.41 20L4 18.59l7.72-7.72 1.47 1.35L5.41 20z\"/>\n",
              "  </svg>\n",
              "      </button>\n",
              "      \n",
              "  <style>\n",
              "    .colab-df-container {\n",
              "      display:flex;\n",
              "      flex-wrap:wrap;\n",
              "      gap: 12px;\n",
              "    }\n",
              "\n",
              "    .colab-df-convert {\n",
              "      background-color: #E8F0FE;\n",
              "      border: none;\n",
              "      border-radius: 50%;\n",
              "      cursor: pointer;\n",
              "      display: none;\n",
              "      fill: #1967D2;\n",
              "      height: 32px;\n",
              "      padding: 0 0 0 0;\n",
              "      width: 32px;\n",
              "    }\n",
              "\n",
              "    .colab-df-convert:hover {\n",
              "      background-color: #E2EBFA;\n",
              "      box-shadow: 0px 1px 2px rgba(60, 64, 67, 0.3), 0px 1px 3px 1px rgba(60, 64, 67, 0.15);\n",
              "      fill: #174EA6;\n",
              "    }\n",
              "\n",
              "    [theme=dark] .colab-df-convert {\n",
              "      background-color: #3B4455;\n",
              "      fill: #D2E3FC;\n",
              "    }\n",
              "\n",
              "    [theme=dark] .colab-df-convert:hover {\n",
              "      background-color: #434B5C;\n",
              "      box-shadow: 0px 1px 3px 1px rgba(0, 0, 0, 0.15);\n",
              "      filter: drop-shadow(0px 1px 2px rgba(0, 0, 0, 0.3));\n",
              "      fill: #FFFFFF;\n",
              "    }\n",
              "  </style>\n",
              "\n",
              "      <script>\n",
              "        const buttonEl =\n",
              "          document.querySelector('#df-970b7b5d-f24c-488f-955a-cd3a297dd3ac button.colab-df-convert');\n",
              "        buttonEl.style.display =\n",
              "          google.colab.kernel.accessAllowed ? 'block' : 'none';\n",
              "\n",
              "        async function convertToInteractive(key) {\n",
              "          const element = document.querySelector('#df-970b7b5d-f24c-488f-955a-cd3a297dd3ac');\n",
              "          const dataTable =\n",
              "            await google.colab.kernel.invokeFunction('convertToInteractive',\n",
              "                                                     [key], {});\n",
              "          if (!dataTable) return;\n",
              "\n",
              "          const docLinkHtml = 'Like what you see? Visit the ' +\n",
              "            '<a target=\"_blank\" href=https://colab.research.google.com/notebooks/data_table.ipynb>data table notebook</a>'\n",
              "            + ' to learn more about interactive tables.';\n",
              "          element.innerHTML = '';\n",
              "          dataTable['output_type'] = 'display_data';\n",
              "          await google.colab.output.renderOutput(dataTable, element);\n",
              "          const docLink = document.createElement('div');\n",
              "          docLink.innerHTML = docLinkHtml;\n",
              "          element.appendChild(docLink);\n",
              "        }\n",
              "      </script>\n",
              "    </div>\n",
              "  </div>\n",
              "  "
            ]
          },
          "metadata": {},
          "execution_count": 93
        }
      ]
    },
    {
      "cell_type": "markdown",
      "source": [
        "###### Converting Date column"
      ],
      "metadata": {
        "id": "iY6dIZ-qlm4x"
      }
    },
    {
      "cell_type": "code",
      "source": [
        "spark.sql('set spark.sql.legacy.timeParserPolicy=LEGACY')\n",
        "\n",
        "schema_ddl = ' polarity STRING, id LONG, date_time TIMESTAMP, query STRING, user STRING, text STRING '\n",
        "spark_reader = spark.read.schema(schema_ddl)\n",
        "\n",
        "simple_date_format = 'EEE MMM dd HH:mm:ss zzz yyyy'\n",
        "\n",
        "raw_data = spark_reader.csv(path=PATH+'training.1600000.processed.noemoticon.csv',\n",
        "                            timestampFormat=simple_date_format)\n",
        "raw_data.show(10)\n",
        "raw_data.printSchema()\n",
        "raw_data.summary().show()"
      ],
      "metadata": {
        "id": "U2TtJaBuuuf5",
        "colab": {
          "base_uri": "https://localhost:8080/"
        },
        "outputId": "6a3bb8e5-d095-45cd-e2bd-7e22b2cbddac"
      },
      "execution_count": 94,
      "outputs": [
        {
          "output_type": "stream",
          "name": "stdout",
          "text": [
            "+--------+----------+-------------------+--------+---------------+--------------------+\n",
            "|polarity|        id|          date_time|   query|           user|                text|\n",
            "+--------+----------+-------------------+--------+---------------+--------------------+\n",
            "|       0|1467810369|2009-04-07 05:19:45|NO_QUERY|_TheSpecialOne_|@switchfoot http:...|\n",
            "|       0|1467810672|2009-04-07 05:19:49|NO_QUERY|  scotthamilton|is upset that he ...|\n",
            "|       0|1467810917|2009-04-07 05:19:53|NO_QUERY|       mattycus|@Kenichan I dived...|\n",
            "|       0|1467811184|2009-04-07 05:19:57|NO_QUERY|        ElleCTF|my whole body fee...|\n",
            "|       0|1467811193|2009-04-07 05:19:57|NO_QUERY|         Karoli|@nationwideclass ...|\n",
            "|       0|1467811372|2009-04-07 05:20:00|NO_QUERY|       joy_wolf|@Kwesidei not the...|\n",
            "|       0|1467811592|2009-04-07 05:20:03|NO_QUERY|        mybirch|         Need a hug |\n",
            "|       0|1467811594|2009-04-07 05:20:03|NO_QUERY|           coZZ|@LOLTrish hey  lo...|\n",
            "|       0|1467811795|2009-04-07 05:20:05|NO_QUERY|2Hood4Hollywood|@Tatiana_K nope t...|\n",
            "|       0|1467812025|2009-04-07 05:20:09|NO_QUERY|        mimismo|@twittera que me ...|\n",
            "+--------+----------+-------------------+--------+---------------+--------------------+\n",
            "only showing top 10 rows\n",
            "\n",
            "root\n",
            " |-- polarity: string (nullable = true)\n",
            " |-- id: long (nullable = true)\n",
            " |-- date_time: timestamp (nullable = true)\n",
            " |-- query: string (nullable = true)\n",
            " |-- user: string (nullable = true)\n",
            " |-- text: string (nullable = true)\n",
            "\n",
            "+-------+------------------+--------------------+--------+--------------------+--------------------+\n",
            "|summary|          polarity|                  id|   query|                user|                text|\n",
            "+-------+------------------+--------------------+--------+--------------------+--------------------+\n",
            "|  count|           1600000|             1600000| 1600000|             1600000|             1600000|\n",
            "|   mean|               2.0|1.9988175522956276E9|    null| 4.325887521835714E9|                null|\n",
            "| stddev|2.0000006250002933|1.9357607362269536E8|    null|5.162733218454890...|                null|\n",
            "|    min|                 0|          1467810369|NO_QUERY|        000catnap000|                 ...|\n",
            "|    25%|               0.0|          1956912288|    null|             32508.0|                null|\n",
            "|    50%|               0.0|          2002093413|    null|            130587.0|                null|\n",
            "|    75%|               4.0|          2177045846|    null|           1100101.0|                null|\n",
            "|    max|                 4|          2329205794|NO_QUERY|          zzzzeus111|�����ߧ�ǿ�����ж�؜�...|\n",
            "+-------+------------------+--------------------+--------+--------------------+--------------------+\n",
            "\n"
          ]
        }
      ]
    },
    {
      "cell_type": "markdown",
      "source": [
        "###### Cleaning the tweet text\n",
        "\n",
        "● Remove email-addresses and URLs\n",
        "\n",
        "● Extract and then remove username (@mentions)\n",
        "\n",
        "● Extract and then remove hastag (#hash-tag)"
      ],
      "metadata": {
        "id": "Jf9VoyAbsEzO"
      }
    },
    {
      "cell_type": "code",
      "source": [
        "# extract up to 6 twitter user names/handles to the output column `users_mentioned`\n",
        "\n",
        "user_regex = r'(@\\w{1,15})'\n",
        "\n",
        "raw_data.select(f.array_remove(f.array(f.regexp_extract(f.col('text'), user_regex, 1),\n",
        "                                       f.regexp_extract(f.col('text'), ''.join([f'{user_regex}.*?' for i in range(0,2)]), 2),\n",
        "                                       f.regexp_extract(f.col('text'), ''.join([f'{user_regex}.*?' for i in range(0,3)]), 3),\n",
        "                                       f.regexp_extract(f.col('text'), ''.join([f'{user_regex}.*?' for i in range(0,4)]), 4),\n",
        "                                       f.regexp_extract(f.col('text'), ''.join([f'{user_regex}.*?' for i in range(0,5)]), 5),\n",
        "                                       f.regexp_extract(f.col('text'), ''.join([f'{user_regex}.*?' for i in range(0,6)]), 6),),'',) \\\n",
        "                .alias('users_mentioned'), 'text').toPandas().head(35)"
      ],
      "metadata": {
        "id": "l8hqp2kKluF9",
        "colab": {
          "base_uri": "https://localhost:8080/",
          "height": 1000
        },
        "outputId": "127eeaf2-00ad-4645-aa63-68f8a28022f5"
      },
      "execution_count": 95,
      "outputs": [
        {
          "output_type": "execute_result",
          "data": {
            "text/plain": [
              "                    users_mentioned  \\\n",
              "0                     [@switchfoot]   \n",
              "1                                []   \n",
              "2                       [@Kenichan]   \n",
              "3                                []   \n",
              "4                [@nationwideclass]   \n",
              "5                       [@Kwesidei]   \n",
              "6                                []   \n",
              "7                       [@LOLTrish]   \n",
              "8                      [@Tatiana_K]   \n",
              "9                       [@twittera]   \n",
              "10                               []   \n",
              "11                               []   \n",
              "12                    [@caregiving]   \n",
              "13                    [@octolinz16]   \n",
              "14                     [@smarrison]   \n",
              "15  [@iamjazzyfizzle, @iamlilnicki]   \n",
              "16                               []   \n",
              "17                               []   \n",
              "18                        [@LettyA]   \n",
              "19               [@FakerPattyPattz]   \n",
              "20                    [@alydesigns]   \n",
              "21                               []   \n",
              "22                 [@angry_barista]   \n",
              "23                               []   \n",
              "24                               []   \n",
              "25                               []   \n",
              "26                               []   \n",
              "27                               []   \n",
              "28                               []   \n",
              "29                               []   \n",
              "30                               []   \n",
              "31                     [@alielayus]   \n",
              "32                               []   \n",
              "33                    [@julieebaby]   \n",
              "34                     [@HumpNinja]   \n",
              "\n",
              "                                                 text  \n",
              "0   @switchfoot http://twitpic.com/2y1zl - Awww, t...  \n",
              "1   is upset that he can't update his Facebook by ...  \n",
              "2   @Kenichan I dived many times for the ball. Man...  \n",
              "3     my whole body feels itchy and like its on fire   \n",
              "4   @nationwideclass no, it's not behaving at all....  \n",
              "5                       @Kwesidei not the whole crew   \n",
              "6                                         Need a hug   \n",
              "7   @LOLTrish hey  long time no see! Yes.. Rains a...  \n",
              "8                @Tatiana_K nope they didn't have it   \n",
              "9                           @twittera que me muera ?   \n",
              "10        spring break in plain city... it's snowing   \n",
              "11                         I just re-pierced my ears   \n",
              "12  @caregiving I couldn't bear to watch it.  And ...  \n",
              "13  @octolinz16 It it counts, idk why I did either...  \n",
              "14  @smarrison i would've been the first, but i di...  \n",
              "15  @iamjazzyfizzle I wish I got to watch it with ...  \n",
              "16  Hollis' death scene will hurt me severely to w...  \n",
              "17                               about to file taxes   \n",
              "18  @LettyA ahh ive always wanted to see rent  lov...  \n",
              "19  @FakerPattyPattz Oh dear. Were you drinking ou...  \n",
              "20  @alydesigns i was out most of the day so didn'...  \n",
              "21  one of my friend called me, and asked to meet ...  \n",
              "22   @angry_barista I baked you a cake but I ated it   \n",
              "23             this week is not going as i had hoped   \n",
              "24                         blagh class at 8 tomorrow   \n",
              "25     I hate when I have to call and wake people up   \n",
              "26  Just going to cry myself to sleep after watchi...  \n",
              "27                             im sad now  Miss.Lilly  \n",
              "28  ooooh.... LOL  that leslie.... and ok I won't ...  \n",
              "29  Meh... Almost Lover is the exception... this t...  \n",
              "30  some1 hacked my account on aim  now i have to ...  \n",
              "31  @alielayus I want to go to promote GEAR AND GR...  \n",
              "32  thought sleeping in was an option tomorrow but...  \n",
              "33  @julieebaby awe i love you too!!!! 1 am here  ...  \n",
              "34  @HumpNinja I cry my asian eyes to sleep at night   "
            ],
            "text/html": [
              "\n",
              "  <div id=\"df-e0a9a826-8d95-4a77-905e-3c9852cc8a2d\">\n",
              "    <div class=\"colab-df-container\">\n",
              "      <div>\n",
              "<style scoped>\n",
              "    .dataframe tbody tr th:only-of-type {\n",
              "        vertical-align: middle;\n",
              "    }\n",
              "\n",
              "    .dataframe tbody tr th {\n",
              "        vertical-align: top;\n",
              "    }\n",
              "\n",
              "    .dataframe thead th {\n",
              "        text-align: right;\n",
              "    }\n",
              "</style>\n",
              "<table border=\"1\" class=\"dataframe\">\n",
              "  <thead>\n",
              "    <tr style=\"text-align: right;\">\n",
              "      <th></th>\n",
              "      <th>users_mentioned</th>\n",
              "      <th>text</th>\n",
              "    </tr>\n",
              "  </thead>\n",
              "  <tbody>\n",
              "    <tr>\n",
              "      <th>0</th>\n",
              "      <td>[@switchfoot]</td>\n",
              "      <td>@switchfoot http://twitpic.com/2y1zl - Awww, t...</td>\n",
              "    </tr>\n",
              "    <tr>\n",
              "      <th>1</th>\n",
              "      <td>[]</td>\n",
              "      <td>is upset that he can't update his Facebook by ...</td>\n",
              "    </tr>\n",
              "    <tr>\n",
              "      <th>2</th>\n",
              "      <td>[@Kenichan]</td>\n",
              "      <td>@Kenichan I dived many times for the ball. Man...</td>\n",
              "    </tr>\n",
              "    <tr>\n",
              "      <th>3</th>\n",
              "      <td>[]</td>\n",
              "      <td>my whole body feels itchy and like its on fire</td>\n",
              "    </tr>\n",
              "    <tr>\n",
              "      <th>4</th>\n",
              "      <td>[@nationwideclass]</td>\n",
              "      <td>@nationwideclass no, it's not behaving at all....</td>\n",
              "    </tr>\n",
              "    <tr>\n",
              "      <th>5</th>\n",
              "      <td>[@Kwesidei]</td>\n",
              "      <td>@Kwesidei not the whole crew</td>\n",
              "    </tr>\n",
              "    <tr>\n",
              "      <th>6</th>\n",
              "      <td>[]</td>\n",
              "      <td>Need a hug</td>\n",
              "    </tr>\n",
              "    <tr>\n",
              "      <th>7</th>\n",
              "      <td>[@LOLTrish]</td>\n",
              "      <td>@LOLTrish hey  long time no see! Yes.. Rains a...</td>\n",
              "    </tr>\n",
              "    <tr>\n",
              "      <th>8</th>\n",
              "      <td>[@Tatiana_K]</td>\n",
              "      <td>@Tatiana_K nope they didn't have it</td>\n",
              "    </tr>\n",
              "    <tr>\n",
              "      <th>9</th>\n",
              "      <td>[@twittera]</td>\n",
              "      <td>@twittera que me muera ?</td>\n",
              "    </tr>\n",
              "    <tr>\n",
              "      <th>10</th>\n",
              "      <td>[]</td>\n",
              "      <td>spring break in plain city... it's snowing</td>\n",
              "    </tr>\n",
              "    <tr>\n",
              "      <th>11</th>\n",
              "      <td>[]</td>\n",
              "      <td>I just re-pierced my ears</td>\n",
              "    </tr>\n",
              "    <tr>\n",
              "      <th>12</th>\n",
              "      <td>[@caregiving]</td>\n",
              "      <td>@caregiving I couldn't bear to watch it.  And ...</td>\n",
              "    </tr>\n",
              "    <tr>\n",
              "      <th>13</th>\n",
              "      <td>[@octolinz16]</td>\n",
              "      <td>@octolinz16 It it counts, idk why I did either...</td>\n",
              "    </tr>\n",
              "    <tr>\n",
              "      <th>14</th>\n",
              "      <td>[@smarrison]</td>\n",
              "      <td>@smarrison i would've been the first, but i di...</td>\n",
              "    </tr>\n",
              "    <tr>\n",
              "      <th>15</th>\n",
              "      <td>[@iamjazzyfizzle, @iamlilnicki]</td>\n",
              "      <td>@iamjazzyfizzle I wish I got to watch it with ...</td>\n",
              "    </tr>\n",
              "    <tr>\n",
              "      <th>16</th>\n",
              "      <td>[]</td>\n",
              "      <td>Hollis' death scene will hurt me severely to w...</td>\n",
              "    </tr>\n",
              "    <tr>\n",
              "      <th>17</th>\n",
              "      <td>[]</td>\n",
              "      <td>about to file taxes</td>\n",
              "    </tr>\n",
              "    <tr>\n",
              "      <th>18</th>\n",
              "      <td>[@LettyA]</td>\n",
              "      <td>@LettyA ahh ive always wanted to see rent  lov...</td>\n",
              "    </tr>\n",
              "    <tr>\n",
              "      <th>19</th>\n",
              "      <td>[@FakerPattyPattz]</td>\n",
              "      <td>@FakerPattyPattz Oh dear. Were you drinking ou...</td>\n",
              "    </tr>\n",
              "    <tr>\n",
              "      <th>20</th>\n",
              "      <td>[@alydesigns]</td>\n",
              "      <td>@alydesigns i was out most of the day so didn'...</td>\n",
              "    </tr>\n",
              "    <tr>\n",
              "      <th>21</th>\n",
              "      <td>[]</td>\n",
              "      <td>one of my friend called me, and asked to meet ...</td>\n",
              "    </tr>\n",
              "    <tr>\n",
              "      <th>22</th>\n",
              "      <td>[@angry_barista]</td>\n",
              "      <td>@angry_barista I baked you a cake but I ated it</td>\n",
              "    </tr>\n",
              "    <tr>\n",
              "      <th>23</th>\n",
              "      <td>[]</td>\n",
              "      <td>this week is not going as i had hoped</td>\n",
              "    </tr>\n",
              "    <tr>\n",
              "      <th>24</th>\n",
              "      <td>[]</td>\n",
              "      <td>blagh class at 8 tomorrow</td>\n",
              "    </tr>\n",
              "    <tr>\n",
              "      <th>25</th>\n",
              "      <td>[]</td>\n",
              "      <td>I hate when I have to call and wake people up</td>\n",
              "    </tr>\n",
              "    <tr>\n",
              "      <th>26</th>\n",
              "      <td>[]</td>\n",
              "      <td>Just going to cry myself to sleep after watchi...</td>\n",
              "    </tr>\n",
              "    <tr>\n",
              "      <th>27</th>\n",
              "      <td>[]</td>\n",
              "      <td>im sad now  Miss.Lilly</td>\n",
              "    </tr>\n",
              "    <tr>\n",
              "      <th>28</th>\n",
              "      <td>[]</td>\n",
              "      <td>ooooh.... LOL  that leslie.... and ok I won't ...</td>\n",
              "    </tr>\n",
              "    <tr>\n",
              "      <th>29</th>\n",
              "      <td>[]</td>\n",
              "      <td>Meh... Almost Lover is the exception... this t...</td>\n",
              "    </tr>\n",
              "    <tr>\n",
              "      <th>30</th>\n",
              "      <td>[]</td>\n",
              "      <td>some1 hacked my account on aim  now i have to ...</td>\n",
              "    </tr>\n",
              "    <tr>\n",
              "      <th>31</th>\n",
              "      <td>[@alielayus]</td>\n",
              "      <td>@alielayus I want to go to promote GEAR AND GR...</td>\n",
              "    </tr>\n",
              "    <tr>\n",
              "      <th>32</th>\n",
              "      <td>[]</td>\n",
              "      <td>thought sleeping in was an option tomorrow but...</td>\n",
              "    </tr>\n",
              "    <tr>\n",
              "      <th>33</th>\n",
              "      <td>[@julieebaby]</td>\n",
              "      <td>@julieebaby awe i love you too!!!! 1 am here  ...</td>\n",
              "    </tr>\n",
              "    <tr>\n",
              "      <th>34</th>\n",
              "      <td>[@HumpNinja]</td>\n",
              "      <td>@HumpNinja I cry my asian eyes to sleep at night</td>\n",
              "    </tr>\n",
              "  </tbody>\n",
              "</table>\n",
              "</div>\n",
              "      <button class=\"colab-df-convert\" onclick=\"convertToInteractive('df-e0a9a826-8d95-4a77-905e-3c9852cc8a2d')\"\n",
              "              title=\"Convert this dataframe to an interactive table.\"\n",
              "              style=\"display:none;\">\n",
              "        \n",
              "  <svg xmlns=\"http://www.w3.org/2000/svg\" height=\"24px\"viewBox=\"0 0 24 24\"\n",
              "       width=\"24px\">\n",
              "    <path d=\"M0 0h24v24H0V0z\" fill=\"none\"/>\n",
              "    <path d=\"M18.56 5.44l.94 2.06.94-2.06 2.06-.94-2.06-.94-.94-2.06-.94 2.06-2.06.94zm-11 1L8.5 8.5l.94-2.06 2.06-.94-2.06-.94L8.5 2.5l-.94 2.06-2.06.94zm10 10l.94 2.06.94-2.06 2.06-.94-2.06-.94-.94-2.06-.94 2.06-2.06.94z\"/><path d=\"M17.41 7.96l-1.37-1.37c-.4-.4-.92-.59-1.43-.59-.52 0-1.04.2-1.43.59L10.3 9.45l-7.72 7.72c-.78.78-.78 2.05 0 2.83L4 21.41c.39.39.9.59 1.41.59.51 0 1.02-.2 1.41-.59l7.78-7.78 2.81-2.81c.8-.78.8-2.07 0-2.86zM5.41 20L4 18.59l7.72-7.72 1.47 1.35L5.41 20z\"/>\n",
              "  </svg>\n",
              "      </button>\n",
              "      \n",
              "  <style>\n",
              "    .colab-df-container {\n",
              "      display:flex;\n",
              "      flex-wrap:wrap;\n",
              "      gap: 12px;\n",
              "    }\n",
              "\n",
              "    .colab-df-convert {\n",
              "      background-color: #E8F0FE;\n",
              "      border: none;\n",
              "      border-radius: 50%;\n",
              "      cursor: pointer;\n",
              "      display: none;\n",
              "      fill: #1967D2;\n",
              "      height: 32px;\n",
              "      padding: 0 0 0 0;\n",
              "      width: 32px;\n",
              "    }\n",
              "\n",
              "    .colab-df-convert:hover {\n",
              "      background-color: #E2EBFA;\n",
              "      box-shadow: 0px 1px 2px rgba(60, 64, 67, 0.3), 0px 1px 3px 1px rgba(60, 64, 67, 0.15);\n",
              "      fill: #174EA6;\n",
              "    }\n",
              "\n",
              "    [theme=dark] .colab-df-convert {\n",
              "      background-color: #3B4455;\n",
              "      fill: #D2E3FC;\n",
              "    }\n",
              "\n",
              "    [theme=dark] .colab-df-convert:hover {\n",
              "      background-color: #434B5C;\n",
              "      box-shadow: 0px 1px 3px 1px rgba(0, 0, 0, 0.15);\n",
              "      filter: drop-shadow(0px 1px 2px rgba(0, 0, 0, 0.3));\n",
              "      fill: #FFFFFF;\n",
              "    }\n",
              "  </style>\n",
              "\n",
              "      <script>\n",
              "        const buttonEl =\n",
              "          document.querySelector('#df-e0a9a826-8d95-4a77-905e-3c9852cc8a2d button.colab-df-convert');\n",
              "        buttonEl.style.display =\n",
              "          google.colab.kernel.accessAllowed ? 'block' : 'none';\n",
              "\n",
              "        async function convertToInteractive(key) {\n",
              "          const element = document.querySelector('#df-e0a9a826-8d95-4a77-905e-3c9852cc8a2d');\n",
              "          const dataTable =\n",
              "            await google.colab.kernel.invokeFunction('convertToInteractive',\n",
              "                                                     [key], {});\n",
              "          if (!dataTable) return;\n",
              "\n",
              "          const docLinkHtml = 'Like what you see? Visit the ' +\n",
              "            '<a target=\"_blank\" href=https://colab.research.google.com/notebooks/data_table.ipynb>data table notebook</a>'\n",
              "            + ' to learn more about interactive tables.';\n",
              "          element.innerHTML = '';\n",
              "          dataTable['output_type'] = 'display_data';\n",
              "          await google.colab.output.renderOutput(dataTable, element);\n",
              "          const docLink = document.createElement('div');\n",
              "          docLink.innerHTML = docLinkHtml;\n",
              "          element.appendChild(docLink);\n",
              "        }\n",
              "      </script>\n",
              "    </div>\n",
              "  </div>\n",
              "  "
            ]
          },
          "metadata": {},
          "execution_count": 95
        }
      ]
    },
    {
      "cell_type": "code",
      "source": [
        "raw_data.select(f.regexp_replace(f.col('text'), user_regex, '').alias('text'),\n",
        "                f.col('text').alias('original_text'), ).toPandas().head(20)"
      ],
      "metadata": {
        "id": "jcosnxpTluI6",
        "colab": {
          "base_uri": "https://localhost:8080/",
          "height": 677
        },
        "outputId": "9d357f52-ec25-464d-d7bd-febbc39f1333"
      },
      "execution_count": 96,
      "outputs": [
        {
          "output_type": "execute_result",
          "data": {
            "text/plain": [
              "                                                 text  \\\n",
              "0    http://twitpic.com/2y1zl - Awww, that's a bum...   \n",
              "1   is upset that he can't update his Facebook by ...   \n",
              "2    I dived many times for the ball. Managed to s...   \n",
              "3     my whole body feels itchy and like its on fire    \n",
              "4    no, it's not behaving at all. i'm mad. why am...   \n",
              "5                                 not the whole crew    \n",
              "6                                         Need a hug    \n",
              "7    hey  long time no see! Yes.. Rains a bit ,onl...   \n",
              "8                           nope they didn't have it    \n",
              "9                                     que me muera ?    \n",
              "10        spring break in plain city... it's snowing    \n",
              "11                         I just re-pierced my ears    \n",
              "12   I couldn't bear to watch it.  And I thought t...   \n",
              "13   It it counts, idk why I did either. you never...   \n",
              "14   i would've been the first, but i didn't have ...   \n",
              "15   I wish I got to watch it with you!! I miss yo...   \n",
              "16  Hollis' death scene will hurt me severely to w...   \n",
              "17                               about to file taxes    \n",
              "18   ahh ive always wanted to see rent  love the s...   \n",
              "19   Oh dear. Were you drinking out of the forgott...   \n",
              "\n",
              "                                        original_text  \n",
              "0   @switchfoot http://twitpic.com/2y1zl - Awww, t...  \n",
              "1   is upset that he can't update his Facebook by ...  \n",
              "2   @Kenichan I dived many times for the ball. Man...  \n",
              "3     my whole body feels itchy and like its on fire   \n",
              "4   @nationwideclass no, it's not behaving at all....  \n",
              "5                       @Kwesidei not the whole crew   \n",
              "6                                         Need a hug   \n",
              "7   @LOLTrish hey  long time no see! Yes.. Rains a...  \n",
              "8                @Tatiana_K nope they didn't have it   \n",
              "9                           @twittera que me muera ?   \n",
              "10        spring break in plain city... it's snowing   \n",
              "11                         I just re-pierced my ears   \n",
              "12  @caregiving I couldn't bear to watch it.  And ...  \n",
              "13  @octolinz16 It it counts, idk why I did either...  \n",
              "14  @smarrison i would've been the first, but i di...  \n",
              "15  @iamjazzyfizzle I wish I got to watch it with ...  \n",
              "16  Hollis' death scene will hurt me severely to w...  \n",
              "17                               about to file taxes   \n",
              "18  @LettyA ahh ive always wanted to see rent  lov...  \n",
              "19  @FakerPattyPattz Oh dear. Were you drinking ou...  "
            ],
            "text/html": [
              "\n",
              "  <div id=\"df-825140c5-4db2-4aec-9601-431372472ed2\">\n",
              "    <div class=\"colab-df-container\">\n",
              "      <div>\n",
              "<style scoped>\n",
              "    .dataframe tbody tr th:only-of-type {\n",
              "        vertical-align: middle;\n",
              "    }\n",
              "\n",
              "    .dataframe tbody tr th {\n",
              "        vertical-align: top;\n",
              "    }\n",
              "\n",
              "    .dataframe thead th {\n",
              "        text-align: right;\n",
              "    }\n",
              "</style>\n",
              "<table border=\"1\" class=\"dataframe\">\n",
              "  <thead>\n",
              "    <tr style=\"text-align: right;\">\n",
              "      <th></th>\n",
              "      <th>text</th>\n",
              "      <th>original_text</th>\n",
              "    </tr>\n",
              "  </thead>\n",
              "  <tbody>\n",
              "    <tr>\n",
              "      <th>0</th>\n",
              "      <td>http://twitpic.com/2y1zl - Awww, that's a bum...</td>\n",
              "      <td>@switchfoot http://twitpic.com/2y1zl - Awww, t...</td>\n",
              "    </tr>\n",
              "    <tr>\n",
              "      <th>1</th>\n",
              "      <td>is upset that he can't update his Facebook by ...</td>\n",
              "      <td>is upset that he can't update his Facebook by ...</td>\n",
              "    </tr>\n",
              "    <tr>\n",
              "      <th>2</th>\n",
              "      <td>I dived many times for the ball. Managed to s...</td>\n",
              "      <td>@Kenichan I dived many times for the ball. Man...</td>\n",
              "    </tr>\n",
              "    <tr>\n",
              "      <th>3</th>\n",
              "      <td>my whole body feels itchy and like its on fire</td>\n",
              "      <td>my whole body feels itchy and like its on fire</td>\n",
              "    </tr>\n",
              "    <tr>\n",
              "      <th>4</th>\n",
              "      <td>no, it's not behaving at all. i'm mad. why am...</td>\n",
              "      <td>@nationwideclass no, it's not behaving at all....</td>\n",
              "    </tr>\n",
              "    <tr>\n",
              "      <th>5</th>\n",
              "      <td>not the whole crew</td>\n",
              "      <td>@Kwesidei not the whole crew</td>\n",
              "    </tr>\n",
              "    <tr>\n",
              "      <th>6</th>\n",
              "      <td>Need a hug</td>\n",
              "      <td>Need a hug</td>\n",
              "    </tr>\n",
              "    <tr>\n",
              "      <th>7</th>\n",
              "      <td>hey  long time no see! Yes.. Rains a bit ,onl...</td>\n",
              "      <td>@LOLTrish hey  long time no see! Yes.. Rains a...</td>\n",
              "    </tr>\n",
              "    <tr>\n",
              "      <th>8</th>\n",
              "      <td>nope they didn't have it</td>\n",
              "      <td>@Tatiana_K nope they didn't have it</td>\n",
              "    </tr>\n",
              "    <tr>\n",
              "      <th>9</th>\n",
              "      <td>que me muera ?</td>\n",
              "      <td>@twittera que me muera ?</td>\n",
              "    </tr>\n",
              "    <tr>\n",
              "      <th>10</th>\n",
              "      <td>spring break in plain city... it's snowing</td>\n",
              "      <td>spring break in plain city... it's snowing</td>\n",
              "    </tr>\n",
              "    <tr>\n",
              "      <th>11</th>\n",
              "      <td>I just re-pierced my ears</td>\n",
              "      <td>I just re-pierced my ears</td>\n",
              "    </tr>\n",
              "    <tr>\n",
              "      <th>12</th>\n",
              "      <td>I couldn't bear to watch it.  And I thought t...</td>\n",
              "      <td>@caregiving I couldn't bear to watch it.  And ...</td>\n",
              "    </tr>\n",
              "    <tr>\n",
              "      <th>13</th>\n",
              "      <td>It it counts, idk why I did either. you never...</td>\n",
              "      <td>@octolinz16 It it counts, idk why I did either...</td>\n",
              "    </tr>\n",
              "    <tr>\n",
              "      <th>14</th>\n",
              "      <td>i would've been the first, but i didn't have ...</td>\n",
              "      <td>@smarrison i would've been the first, but i di...</td>\n",
              "    </tr>\n",
              "    <tr>\n",
              "      <th>15</th>\n",
              "      <td>I wish I got to watch it with you!! I miss yo...</td>\n",
              "      <td>@iamjazzyfizzle I wish I got to watch it with ...</td>\n",
              "    </tr>\n",
              "    <tr>\n",
              "      <th>16</th>\n",
              "      <td>Hollis' death scene will hurt me severely to w...</td>\n",
              "      <td>Hollis' death scene will hurt me severely to w...</td>\n",
              "    </tr>\n",
              "    <tr>\n",
              "      <th>17</th>\n",
              "      <td>about to file taxes</td>\n",
              "      <td>about to file taxes</td>\n",
              "    </tr>\n",
              "    <tr>\n",
              "      <th>18</th>\n",
              "      <td>ahh ive always wanted to see rent  love the s...</td>\n",
              "      <td>@LettyA ahh ive always wanted to see rent  lov...</td>\n",
              "    </tr>\n",
              "    <tr>\n",
              "      <th>19</th>\n",
              "      <td>Oh dear. Were you drinking out of the forgott...</td>\n",
              "      <td>@FakerPattyPattz Oh dear. Were you drinking ou...</td>\n",
              "    </tr>\n",
              "  </tbody>\n",
              "</table>\n",
              "</div>\n",
              "      <button class=\"colab-df-convert\" onclick=\"convertToInteractive('df-825140c5-4db2-4aec-9601-431372472ed2')\"\n",
              "              title=\"Convert this dataframe to an interactive table.\"\n",
              "              style=\"display:none;\">\n",
              "        \n",
              "  <svg xmlns=\"http://www.w3.org/2000/svg\" height=\"24px\"viewBox=\"0 0 24 24\"\n",
              "       width=\"24px\">\n",
              "    <path d=\"M0 0h24v24H0V0z\" fill=\"none\"/>\n",
              "    <path d=\"M18.56 5.44l.94 2.06.94-2.06 2.06-.94-2.06-.94-.94-2.06-.94 2.06-2.06.94zm-11 1L8.5 8.5l.94-2.06 2.06-.94-2.06-.94L8.5 2.5l-.94 2.06-2.06.94zm10 10l.94 2.06.94-2.06 2.06-.94-2.06-.94-.94-2.06-.94 2.06-2.06.94z\"/><path d=\"M17.41 7.96l-1.37-1.37c-.4-.4-.92-.59-1.43-.59-.52 0-1.04.2-1.43.59L10.3 9.45l-7.72 7.72c-.78.78-.78 2.05 0 2.83L4 21.41c.39.39.9.59 1.41.59.51 0 1.02-.2 1.41-.59l7.78-7.78 2.81-2.81c.8-.78.8-2.07 0-2.86zM5.41 20L4 18.59l7.72-7.72 1.47 1.35L5.41 20z\"/>\n",
              "  </svg>\n",
              "      </button>\n",
              "      \n",
              "  <style>\n",
              "    .colab-df-container {\n",
              "      display:flex;\n",
              "      flex-wrap:wrap;\n",
              "      gap: 12px;\n",
              "    }\n",
              "\n",
              "    .colab-df-convert {\n",
              "      background-color: #E8F0FE;\n",
              "      border: none;\n",
              "      border-radius: 50%;\n",
              "      cursor: pointer;\n",
              "      display: none;\n",
              "      fill: #1967D2;\n",
              "      height: 32px;\n",
              "      padding: 0 0 0 0;\n",
              "      width: 32px;\n",
              "    }\n",
              "\n",
              "    .colab-df-convert:hover {\n",
              "      background-color: #E2EBFA;\n",
              "      box-shadow: 0px 1px 2px rgba(60, 64, 67, 0.3), 0px 1px 3px 1px rgba(60, 64, 67, 0.15);\n",
              "      fill: #174EA6;\n",
              "    }\n",
              "\n",
              "    [theme=dark] .colab-df-convert {\n",
              "      background-color: #3B4455;\n",
              "      fill: #D2E3FC;\n",
              "    }\n",
              "\n",
              "    [theme=dark] .colab-df-convert:hover {\n",
              "      background-color: #434B5C;\n",
              "      box-shadow: 0px 1px 3px 1px rgba(0, 0, 0, 0.15);\n",
              "      filter: drop-shadow(0px 1px 2px rgba(0, 0, 0, 0.3));\n",
              "      fill: #FFFFFF;\n",
              "    }\n",
              "  </style>\n",
              "\n",
              "      <script>\n",
              "        const buttonEl =\n",
              "          document.querySelector('#df-825140c5-4db2-4aec-9601-431372472ed2 button.colab-df-convert');\n",
              "        buttonEl.style.display =\n",
              "          google.colab.kernel.accessAllowed ? 'block' : 'none';\n",
              "\n",
              "        async function convertToInteractive(key) {\n",
              "          const element = document.querySelector('#df-825140c5-4db2-4aec-9601-431372472ed2');\n",
              "          const dataTable =\n",
              "            await google.colab.kernel.invokeFunction('convertToInteractive',\n",
              "                                                     [key], {});\n",
              "          if (!dataTable) return;\n",
              "\n",
              "          const docLinkHtml = 'Like what you see? Visit the ' +\n",
              "            '<a target=\"_blank\" href=https://colab.research.google.com/notebooks/data_table.ipynb>data table notebook</a>'\n",
              "            + ' to learn more about interactive tables.';\n",
              "          element.innerHTML = '';\n",
              "          dataTable['output_type'] = 'display_data';\n",
              "          await google.colab.output.renderOutput(dataTable, element);\n",
              "          const docLink = document.createElement('div');\n",
              "          docLink.innerHTML = docLinkHtml;\n",
              "          element.appendChild(docLink);\n",
              "        }\n",
              "      </script>\n",
              "    </div>\n",
              "  </div>\n",
              "  "
            ]
          },
          "metadata": {},
          "execution_count": 96
        }
      ]
    },
    {
      "cell_type": "code",
      "source": [
        "hashtag_replace_regex = '(#\\w{1,})'\n",
        "raw_data.select(f.array_remove(f.array(f.regexp_extract(f.col('text'), hashtag_replace_regex, 1),\n",
        "                                       f.regexp_extract(f.col('text'), ''.join([f'{hashtag_replace_regex}.*?' for i in range(0,2)]), 2),\n",
        "                                       f.regexp_extract(f.col('text'), ''.join([f'{hashtag_replace_regex}.*?' for i in range(0,3)]), 3),\n",
        "                                       f.regexp_extract(f.col('text'), ''.join([f'{hashtag_replace_regex}.*?' for i in range(0,4)]), 4),\n",
        "                                       f.regexp_extract(f.col('text'), ''.join([f'{hashtag_replace_regex}.*?' for i in range(0,5)]), 5),\n",
        "                                       f.regexp_extract(f.col('text'), ''.join([f'{hashtag_replace_regex}.*?' for i in range(0,6)]), 6),),'',) \\\n",
        "                .alias('hashtags'), 'text').show(100, truncate=False)\n"
      ],
      "metadata": {
        "id": "sh3iJx08luLb",
        "colab": {
          "base_uri": "https://localhost:8080/"
        },
        "outputId": "0040903c-05d8-48b3-dadf-72d99146fd9a"
      },
      "execution_count": 97,
      "outputs": [
        {
          "output_type": "stream",
          "name": "stdout",
          "text": [
            "+--------+------------------------------------------------------------------------------------------------------------------------------------------+\n",
            "|hashtags|text                                                                                                                                      |\n",
            "+--------+------------------------------------------------------------------------------------------------------------------------------------------+\n",
            "|[]      |@switchfoot http://twitpic.com/2y1zl - Awww, that's a bummer.  You shoulda got David Carr of Third Day to do it. ;D                       |\n",
            "|[]      |is upset that he can't update his Facebook by texting it... and might cry as a result  School today also. Blah!                           |\n",
            "|[]      |@Kenichan I dived many times for the ball. Managed to save 50%  The rest go out of bounds                                                 |\n",
            "|[]      |my whole body feels itchy and like its on fire                                                                                            |\n",
            "|[]      |@nationwideclass no, it's not behaving at all. i'm mad. why am i here? because I can't see you all over there.                            |\n",
            "|[]      |@Kwesidei not the whole crew                                                                                                              |\n",
            "|[]      |Need a hug                                                                                                                                |\n",
            "|[]      |@LOLTrish hey  long time no see! Yes.. Rains a bit ,only a bit  LOL , I'm fine thanks , how's you ?                                       |\n",
            "|[]      |@Tatiana_K nope they didn't have it                                                                                                       |\n",
            "|[]      |@twittera que me muera ?                                                                                                                  |\n",
            "|[]      |spring break in plain city... it's snowing                                                                                                |\n",
            "|[]      |I just re-pierced my ears                                                                                                                 |\n",
            "|[]      |@caregiving I couldn't bear to watch it.  And I thought the UA loss was embarrassing . . . . .                                            |\n",
            "|[]      |@octolinz16 It it counts, idk why I did either. you never talk to me anymore                                                              |\n",
            "|[]      |@smarrison i would've been the first, but i didn't have a gun.    not really though, zac snyder's just a doucheclown.                     |\n",
            "|[]      |@iamjazzyfizzle I wish I got to watch it with you!! I miss you and @iamlilnicki  how was the premiere?!                                   |\n",
            "|[]      |Hollis' death scene will hurt me severely to watch on film  wry is directors cut not out now?                                             |\n",
            "|[]      |about to file taxes                                                                                                                       |\n",
            "|[]      |@LettyA ahh ive always wanted to see rent  love the soundtrack!!                                                                          |\n",
            "|[]      |@FakerPattyPattz Oh dear. Were you drinking out of the forgotten table drinks?                                                            |\n",
            "|[]      |@alydesigns i was out most of the day so didn't get much done                                                                             |\n",
            "|[]      |one of my friend called me, and asked to meet with her at Mid Valley today...but i've no time *sigh*                                      |\n",
            "|[]      |@angry_barista I baked you a cake but I ated it                                                                                           |\n",
            "|[]      |this week is not going as i had hoped                                                                                                     |\n",
            "|[]      |blagh class at 8 tomorrow                                                                                                                 |\n",
            "|[]      |I hate when I have to call and wake people up                                                                                             |\n",
            "|[]      |Just going to cry myself to sleep after watching Marley and Me.                                                                           |\n",
            "|[]      |im sad now  Miss.Lilly                                                                                                                    |\n",
            "|[]      |ooooh.... LOL  that leslie.... and ok I won't do it again so leslie won't  get mad again                                                  |\n",
            "|[]      |Meh... Almost Lover is the exception... this track gets me depressed every time.                                                          |\n",
            "|[]      |some1 hacked my account on aim  now i have to make a new one                                                                              |\n",
            "|[]      |@alielayus I want to go to promote GEAR AND GROOVE but unfornately no ride there  I may b going to the one in Anaheim in May though       |\n",
            "|[]      |thought sleeping in was an option tomorrow but realizing that it now is not. evaluations in the morning and work in the afternoon!        |\n",
            "|[]      |@julieebaby awe i love you too!!!! 1 am here  i miss you                                                                                  |\n",
            "|[]      |@HumpNinja I cry my asian eyes to sleep at night                                                                                          |\n",
            "|[]      |ok I'm sick and spent an hour sitting in the shower cause I was too sick to stand and held back the puke like a champ. BED now            |\n",
            "|[]      |@cocomix04 ill tell ya the story later  not a good day and ill be workin for like three more hours...                                     |\n",
            "|[]      |@MissXu sorry! bed time came here (GMT+1)   http://is.gd/fNge                                                                             |\n",
            "|[]      |@fleurylis I don't either. Its depressing. I don't think I even want to know about the kids in suitcases.                                 |\n",
            "|[]      |Bed. Class 8-12. Work 12-3. Gym 3-5 or 6. Then class 6-10. Another day that's gonna fly by. I miss my girlfriend                          |\n",
            "|[]      |really don't feel like getting up today... but got to study to for tomorrows practical exam...                                            |\n",
            "|[]      |He's the reason for the teardrops on my guitar the only one who has enough of me to break my heart                                        |\n",
            "|[]      |Sad, sad, sad. I don't know why but I hate this feeling  I wanna sleep and I still can't!                                                 |\n",
            "|[]      |@JonathanRKnight Awww I soo wish I was there to see you finally comfortable! Im sad that I missed it                                      |\n",
            "|[]      |Falling asleep. Just heard about that Tracy girl's body being found. How sad  My heart breaks for that family.                            |\n",
            "|[]      |@Viennah Yay! I'm happy for you with your job! But that also means less time for me and you...                                            |\n",
            "|[]      |Just checked my user timeline on my blackberry, it looks like the twanking is still happening  Are ppl still having probs w/ BGs and UIDs?|\n",
            "|[]      |Oh man...was ironing @jeancjumbe's fave top to wear to a meeting. Burnt it                                                                |\n",
            "|[]      |is strangely sad about LiLo and SamRo breaking up.                                                                                        |\n",
            "|[]      |@tea oh! i'm so sorry  i didn't think about that before retweeting.                                                                       |\n",
            "|[]      |Broadband plan 'a massive broken promise' http://tinyurl.com/dcuc33 via www.diigo.com/~tautao Still waiting for broadband we are          |\n",
            "|[]      |@localtweeps Wow, tons of replies from you, may have to unfollow so I can see my friends' tweets, you're scrolling the feed a lot.        |\n",
            "|[]      |our duck and chicken are taking wayyy too long to hatch                                                                                   |\n",
            "|[]      |Put vacation photos online a few yrs ago. PC crashed, and now I forget the name of the site.                                              |\n",
            "|[]      |I need a hug                                                                                                                              |\n",
            "|[]      |@andywana Not sure what they are, only that they are PoS! As much as I want to, I dont think can trade away company assets sorry andy!    |\n",
            "|[]      |@oanhLove I hate when that happens...                                                                                                     |\n",
            "|[]      |I have a sad feeling that Dallas is not going to show up  I gotta say though, you'd think more shows would use music from the game. mmm   |\n",
            "|[]      |Ugh....92 degrees tomorrow                                                                                                                |\n",
            "|[]      |Where did u move to?  I thought u were already in sd. ?? Hmmm. Random u found me. Glad to hear yer doing well.                            |\n",
            "|[]      |@BatManYNG I miss my ps3, it's out of commission  Wutcha playing? Have you copped 'Blood On The Sand'?                                    |\n",
            "|[]      |just leaving the parking lot of work!                                                                                                     |\n",
            "|[]      |The Life is cool. But not for Me.                                                                                                         |\n",
            "|[]      |Sadly though, I've never gotten to experience the post coitus cigarette before, and now I never will.                                     |\n",
            "|[]      |I had such a nice day. Too bad the rain comes in tomorrow at 5am                                                                          |\n",
            "|[]      |@Starrbby too bad I won't be around I lost my job and can't even pay my phone bill lmao aw shucks                                         |\n",
            "|[]      |Damm back to school tomorrow                                                                                                              |\n",
            "|[]      |Mo jobs, no money.  how in the hell is min wage here 4 f'n clams an hour?                                                                 |\n",
            "|[]      |@katortiz  Not forever... See you soon!                                                                                                   |\n",
            "|[]      |@Lt_Algonquin agreed, I saw the failwhale allllll day today.                                                                              |\n",
            "|[]      |@jdarter Oh! Haha... dude I dont really look at em unless someone says HEY I ADDED YOU. Sorry  I'm so terrible at that. I need a pop up!  |\n",
            "|[]      |@ninjen I'm sure you're right...    I need to start working out with you and the Nikster... Or Jared at least!                            |\n",
            "|[]      |i really hate how people diss my bands!  Trace is clearly NOT ugly!                                                                       |\n",
            "|[]      |Gym attire today was: Puma singlet, Adidas shorts.......and black business socks and leather shoes  Lucky did not run into any cute girls.|\n",
            "|[]      |Why won't you show my location?!   http://twitpic.com/2y2es                                                                               |\n",
            "|[]      |No picnic  my phone smells like citrus.                                                                                                   |\n",
            "|[]      |@ashleyac My donkey is sensitive about such comments. Nevertheless, he'd (and me'd) be glad to see your mug asap. Charger is still awol.  |\n",
            "|[]      |No new csi tonight.  FML                                                                                                                  |\n",
            "|[]      |i think my arms are sore from tennis                                                                                                      |\n",
            "|[]      |wonders why someone that u like so much can make you so unhappy in a split seccond . depressed .                                          |\n",
            "|[]      |sleep soon... i just hate saying bye and see you tomorrow for the night.                                                                  |\n",
            "|[]      |@statravelAU just got ur newsletter, those fares really are unbelievable, shame I already booked and paid for mine                        |\n",
            "|[]      |missin' the boo                                                                                                                           |\n",
            "|[#itm]  |@markhardy1974 Me too  #itm                                                                                                               |\n",
            "|[]      |Damn... I don't have any chalk! MY CHALKBOARD IS USELESS                                                                                  |\n",
            "|[]      |had a blast at the Getty Villa, but hates that she's had a sore throat all day. It's just getting worse too                               |\n",
            "|[]      |@msdrama hey missed ya at the meeting  sup mama                                                                                           |\n",
            "|[]      |My tummy hurts.  I wonder if the hypnosis has anything to do with it? If so, it's working, I get it, STOP SMOKING!!!                      |\n",
            "|[]      |why is it always the fat ones?!                                                                                                           |\n",
            "|[]      |@januarycrimson Sorry, babe!!  My fam annoys me too. Thankfully, they're asleep right now. Muahaha. *evil laugh*                          |\n",
            "|[]      |@Hollywoodheat I should have paid more attention when we covered photoshop in my webpage design class in undergrad                        |\n",
            "|[]      |wednesday my b-day! don't know what 2 do!!                                                                                                |\n",
            "|[]      |Poor cameron (the hills)                                                                                                                  |\n",
            "|[]      |pray for me please, the ex is threatening to start sh** at my/our babies 1st Birthday party. what a jerk. and I still have a headache     |\n",
            "|[]      |@makeherfamous hmm  , do u really enjoy being with him ? if the problems are too constants u should think things more , find someone ulike|\n",
            "|[]      |Strider is a sick little puppy  http://apps.facebook.com/dogbook/profile/view/5248435                                                     |\n",
            "|[]      |so rylee,grace...wana go steve's party or not?? SADLY SINCE ITS EASTER I WNT B ABLE 2 DO MUCH  BUT OHH WELL.....                          |\n",
            "|[]      |hey, I actually won one of my bracket pools! Too bad it wasn't the one for money                                                          |\n",
            "|[]      |@stark YOU don't follow me, either  and i work for you!                                                                                   |\n",
            "|[]      |A bad nite for the favorite teams: Astros and Spartans lose.  The nite out with T.W. was good.                                            |\n",
            "+--------+------------------------------------------------------------------------------------------------------------------------------------------+\n",
            "only showing top 100 rows\n",
            "\n"
          ]
        }
      ]
    },
    {
      "cell_type": "code",
      "source": [
        "url_regex = r'((https?|ftp|file):\\/{2,3})+([-\\w+&@#/%=~|$?!:,.]*)|(www.)+([-\\w+&@#/%=~|$?!:,.]*)'\n",
        "email_regex = r'[\\w.-]+@[\\w.-]+\\.[a-zA-Z]{1,}'\n",
        "\n",
        "raw_data.select(f.regexp_replace(f.col('text'), email_regex, '').alias('text_no_email'),\n",
        "                f.regexp_replace(f.col('text'), url_regex, '').alias('text_no_url'),\n",
        "                f.col('text').alias('original_text'), ).toPandas().head(20)"
      ],
      "metadata": {
        "id": "J74evBo7uukx",
        "colab": {
          "base_uri": "https://localhost:8080/",
          "height": 677
        },
        "outputId": "d1803f4e-2527-4f13-8084-71dd69ac33a1"
      },
      "execution_count": 98,
      "outputs": [
        {
          "output_type": "execute_result",
          "data": {
            "text/plain": [
              "                                        text_no_email  \\\n",
              "0   @switchfoot http://twitpic.com/2y1zl - Awww, t...   \n",
              "1   is upset that he can't update his Facebook by ...   \n",
              "2   @Kenichan I dived many times for the ball. Man...   \n",
              "3     my whole body feels itchy and like its on fire    \n",
              "4   @nationwideclass no, it's not behaving at all....   \n",
              "5                       @Kwesidei not the whole crew    \n",
              "6                                         Need a hug    \n",
              "7   @LOLTrish hey  long time no see! Yes.. Rains a...   \n",
              "8                @Tatiana_K nope they didn't have it    \n",
              "9                           @twittera que me muera ?    \n",
              "10        spring break in plain city... it's snowing    \n",
              "11                         I just re-pierced my ears    \n",
              "12  @caregiving I couldn't bear to watch it.  And ...   \n",
              "13  @octolinz16 It it counts, idk why I did either...   \n",
              "14  @smarrison i would've been the first, but i di...   \n",
              "15  @iamjazzyfizzle I wish I got to watch it with ...   \n",
              "16  Hollis' death scene will hurt me severely to w...   \n",
              "17                               about to file taxes    \n",
              "18  @LettyA ahh ive always wanted to see rent  lov...   \n",
              "19  @FakerPattyPattz Oh dear. Were you drinking ou...   \n",
              "\n",
              "                                          text_no_url  \\\n",
              "0   @switchfoot  - A that's a bummer.  You shoulda...   \n",
              "1   is upset that he can't update his Facebook by ...   \n",
              "2   @Kenichan I dived many times for the ball. Man...   \n",
              "3     my whole body feels itchy and like its on fire    \n",
              "4   @nationwideclass no, it's not behaving at all....   \n",
              "5                       @Kwesidei not the whole crew    \n",
              "6                                         Need a hug    \n",
              "7   @LOLTrish hey  long time no see! Yes.. Rains a...   \n",
              "8                @Tatiana_K nope they didn't have it    \n",
              "9                           @twittera que me muera ?    \n",
              "10        spring break in plain city... it's snowing    \n",
              "11                         I just re-pierced my ears    \n",
              "12  @caregiving I couldn't bear to watch it.  And ...   \n",
              "13  @octolinz16 It it counts, idk why I did either...   \n",
              "14  @smarrison i would've been the first, but i di...   \n",
              "15  @iamjazzyfizzle I wish I got to watch it with ...   \n",
              "16  Hollis' death scene will hurt me severely to w...   \n",
              "17                               about to file taxes    \n",
              "18  @LettyA ahh ive always wanted to see rent  lov...   \n",
              "19  @FakerPattyPattz Oh dear. Were you drinking ou...   \n",
              "\n",
              "                                        original_text  \n",
              "0   @switchfoot http://twitpic.com/2y1zl - Awww, t...  \n",
              "1   is upset that he can't update his Facebook by ...  \n",
              "2   @Kenichan I dived many times for the ball. Man...  \n",
              "3     my whole body feels itchy and like its on fire   \n",
              "4   @nationwideclass no, it's not behaving at all....  \n",
              "5                       @Kwesidei not the whole crew   \n",
              "6                                         Need a hug   \n",
              "7   @LOLTrish hey  long time no see! Yes.. Rains a...  \n",
              "8                @Tatiana_K nope they didn't have it   \n",
              "9                           @twittera que me muera ?   \n",
              "10        spring break in plain city... it's snowing   \n",
              "11                         I just re-pierced my ears   \n",
              "12  @caregiving I couldn't bear to watch it.  And ...  \n",
              "13  @octolinz16 It it counts, idk why I did either...  \n",
              "14  @smarrison i would've been the first, but i di...  \n",
              "15  @iamjazzyfizzle I wish I got to watch it with ...  \n",
              "16  Hollis' death scene will hurt me severely to w...  \n",
              "17                               about to file taxes   \n",
              "18  @LettyA ahh ive always wanted to see rent  lov...  \n",
              "19  @FakerPattyPattz Oh dear. Were you drinking ou...  "
            ],
            "text/html": [
              "\n",
              "  <div id=\"df-bf846040-e138-459f-a589-de250619d27a\">\n",
              "    <div class=\"colab-df-container\">\n",
              "      <div>\n",
              "<style scoped>\n",
              "    .dataframe tbody tr th:only-of-type {\n",
              "        vertical-align: middle;\n",
              "    }\n",
              "\n",
              "    .dataframe tbody tr th {\n",
              "        vertical-align: top;\n",
              "    }\n",
              "\n",
              "    .dataframe thead th {\n",
              "        text-align: right;\n",
              "    }\n",
              "</style>\n",
              "<table border=\"1\" class=\"dataframe\">\n",
              "  <thead>\n",
              "    <tr style=\"text-align: right;\">\n",
              "      <th></th>\n",
              "      <th>text_no_email</th>\n",
              "      <th>text_no_url</th>\n",
              "      <th>original_text</th>\n",
              "    </tr>\n",
              "  </thead>\n",
              "  <tbody>\n",
              "    <tr>\n",
              "      <th>0</th>\n",
              "      <td>@switchfoot http://twitpic.com/2y1zl - Awww, t...</td>\n",
              "      <td>@switchfoot  - A that's a bummer.  You shoulda...</td>\n",
              "      <td>@switchfoot http://twitpic.com/2y1zl - Awww, t...</td>\n",
              "    </tr>\n",
              "    <tr>\n",
              "      <th>1</th>\n",
              "      <td>is upset that he can't update his Facebook by ...</td>\n",
              "      <td>is upset that he can't update his Facebook by ...</td>\n",
              "      <td>is upset that he can't update his Facebook by ...</td>\n",
              "    </tr>\n",
              "    <tr>\n",
              "      <th>2</th>\n",
              "      <td>@Kenichan I dived many times for the ball. Man...</td>\n",
              "      <td>@Kenichan I dived many times for the ball. Man...</td>\n",
              "      <td>@Kenichan I dived many times for the ball. Man...</td>\n",
              "    </tr>\n",
              "    <tr>\n",
              "      <th>3</th>\n",
              "      <td>my whole body feels itchy and like its on fire</td>\n",
              "      <td>my whole body feels itchy and like its on fire</td>\n",
              "      <td>my whole body feels itchy and like its on fire</td>\n",
              "    </tr>\n",
              "    <tr>\n",
              "      <th>4</th>\n",
              "      <td>@nationwideclass no, it's not behaving at all....</td>\n",
              "      <td>@nationwideclass no, it's not behaving at all....</td>\n",
              "      <td>@nationwideclass no, it's not behaving at all....</td>\n",
              "    </tr>\n",
              "    <tr>\n",
              "      <th>5</th>\n",
              "      <td>@Kwesidei not the whole crew</td>\n",
              "      <td>@Kwesidei not the whole crew</td>\n",
              "      <td>@Kwesidei not the whole crew</td>\n",
              "    </tr>\n",
              "    <tr>\n",
              "      <th>6</th>\n",
              "      <td>Need a hug</td>\n",
              "      <td>Need a hug</td>\n",
              "      <td>Need a hug</td>\n",
              "    </tr>\n",
              "    <tr>\n",
              "      <th>7</th>\n",
              "      <td>@LOLTrish hey  long time no see! Yes.. Rains a...</td>\n",
              "      <td>@LOLTrish hey  long time no see! Yes.. Rains a...</td>\n",
              "      <td>@LOLTrish hey  long time no see! Yes.. Rains a...</td>\n",
              "    </tr>\n",
              "    <tr>\n",
              "      <th>8</th>\n",
              "      <td>@Tatiana_K nope they didn't have it</td>\n",
              "      <td>@Tatiana_K nope they didn't have it</td>\n",
              "      <td>@Tatiana_K nope they didn't have it</td>\n",
              "    </tr>\n",
              "    <tr>\n",
              "      <th>9</th>\n",
              "      <td>@twittera que me muera ?</td>\n",
              "      <td>@twittera que me muera ?</td>\n",
              "      <td>@twittera que me muera ?</td>\n",
              "    </tr>\n",
              "    <tr>\n",
              "      <th>10</th>\n",
              "      <td>spring break in plain city... it's snowing</td>\n",
              "      <td>spring break in plain city... it's snowing</td>\n",
              "      <td>spring break in plain city... it's snowing</td>\n",
              "    </tr>\n",
              "    <tr>\n",
              "      <th>11</th>\n",
              "      <td>I just re-pierced my ears</td>\n",
              "      <td>I just re-pierced my ears</td>\n",
              "      <td>I just re-pierced my ears</td>\n",
              "    </tr>\n",
              "    <tr>\n",
              "      <th>12</th>\n",
              "      <td>@caregiving I couldn't bear to watch it.  And ...</td>\n",
              "      <td>@caregiving I couldn't bear to watch it.  And ...</td>\n",
              "      <td>@caregiving I couldn't bear to watch it.  And ...</td>\n",
              "    </tr>\n",
              "    <tr>\n",
              "      <th>13</th>\n",
              "      <td>@octolinz16 It it counts, idk why I did either...</td>\n",
              "      <td>@octolinz16 It it counts, idk why I did either...</td>\n",
              "      <td>@octolinz16 It it counts, idk why I did either...</td>\n",
              "    </tr>\n",
              "    <tr>\n",
              "      <th>14</th>\n",
              "      <td>@smarrison i would've been the first, but i di...</td>\n",
              "      <td>@smarrison i would've been the first, but i di...</td>\n",
              "      <td>@smarrison i would've been the first, but i di...</td>\n",
              "    </tr>\n",
              "    <tr>\n",
              "      <th>15</th>\n",
              "      <td>@iamjazzyfizzle I wish I got to watch it with ...</td>\n",
              "      <td>@iamjazzyfizzle I wish I got to watch it with ...</td>\n",
              "      <td>@iamjazzyfizzle I wish I got to watch it with ...</td>\n",
              "    </tr>\n",
              "    <tr>\n",
              "      <th>16</th>\n",
              "      <td>Hollis' death scene will hurt me severely to w...</td>\n",
              "      <td>Hollis' death scene will hurt me severely to w...</td>\n",
              "      <td>Hollis' death scene will hurt me severely to w...</td>\n",
              "    </tr>\n",
              "    <tr>\n",
              "      <th>17</th>\n",
              "      <td>about to file taxes</td>\n",
              "      <td>about to file taxes</td>\n",
              "      <td>about to file taxes</td>\n",
              "    </tr>\n",
              "    <tr>\n",
              "      <th>18</th>\n",
              "      <td>@LettyA ahh ive always wanted to see rent  lov...</td>\n",
              "      <td>@LettyA ahh ive always wanted to see rent  lov...</td>\n",
              "      <td>@LettyA ahh ive always wanted to see rent  lov...</td>\n",
              "    </tr>\n",
              "    <tr>\n",
              "      <th>19</th>\n",
              "      <td>@FakerPattyPattz Oh dear. Were you drinking ou...</td>\n",
              "      <td>@FakerPattyPattz Oh dear. Were you drinking ou...</td>\n",
              "      <td>@FakerPattyPattz Oh dear. Were you drinking ou...</td>\n",
              "    </tr>\n",
              "  </tbody>\n",
              "</table>\n",
              "</div>\n",
              "      <button class=\"colab-df-convert\" onclick=\"convertToInteractive('df-bf846040-e138-459f-a589-de250619d27a')\"\n",
              "              title=\"Convert this dataframe to an interactive table.\"\n",
              "              style=\"display:none;\">\n",
              "        \n",
              "  <svg xmlns=\"http://www.w3.org/2000/svg\" height=\"24px\"viewBox=\"0 0 24 24\"\n",
              "       width=\"24px\">\n",
              "    <path d=\"M0 0h24v24H0V0z\" fill=\"none\"/>\n",
              "    <path d=\"M18.56 5.44l.94 2.06.94-2.06 2.06-.94-2.06-.94-.94-2.06-.94 2.06-2.06.94zm-11 1L8.5 8.5l.94-2.06 2.06-.94-2.06-.94L8.5 2.5l-.94 2.06-2.06.94zm10 10l.94 2.06.94-2.06 2.06-.94-2.06-.94-.94-2.06-.94 2.06-2.06.94z\"/><path d=\"M17.41 7.96l-1.37-1.37c-.4-.4-.92-.59-1.43-.59-.52 0-1.04.2-1.43.59L10.3 9.45l-7.72 7.72c-.78.78-.78 2.05 0 2.83L4 21.41c.39.39.9.59 1.41.59.51 0 1.02-.2 1.41-.59l7.78-7.78 2.81-2.81c.8-.78.8-2.07 0-2.86zM5.41 20L4 18.59l7.72-7.72 1.47 1.35L5.41 20z\"/>\n",
              "  </svg>\n",
              "      </button>\n",
              "      \n",
              "  <style>\n",
              "    .colab-df-container {\n",
              "      display:flex;\n",
              "      flex-wrap:wrap;\n",
              "      gap: 12px;\n",
              "    }\n",
              "\n",
              "    .colab-df-convert {\n",
              "      background-color: #E8F0FE;\n",
              "      border: none;\n",
              "      border-radius: 50%;\n",
              "      cursor: pointer;\n",
              "      display: none;\n",
              "      fill: #1967D2;\n",
              "      height: 32px;\n",
              "      padding: 0 0 0 0;\n",
              "      width: 32px;\n",
              "    }\n",
              "\n",
              "    .colab-df-convert:hover {\n",
              "      background-color: #E2EBFA;\n",
              "      box-shadow: 0px 1px 2px rgba(60, 64, 67, 0.3), 0px 1px 3px 1px rgba(60, 64, 67, 0.15);\n",
              "      fill: #174EA6;\n",
              "    }\n",
              "\n",
              "    [theme=dark] .colab-df-convert {\n",
              "      background-color: #3B4455;\n",
              "      fill: #D2E3FC;\n",
              "    }\n",
              "\n",
              "    [theme=dark] .colab-df-convert:hover {\n",
              "      background-color: #434B5C;\n",
              "      box-shadow: 0px 1px 3px 1px rgba(0, 0, 0, 0.15);\n",
              "      filter: drop-shadow(0px 1px 2px rgba(0, 0, 0, 0.3));\n",
              "      fill: #FFFFFF;\n",
              "    }\n",
              "  </style>\n",
              "\n",
              "      <script>\n",
              "        const buttonEl =\n",
              "          document.querySelector('#df-bf846040-e138-459f-a589-de250619d27a button.colab-df-convert');\n",
              "        buttonEl.style.display =\n",
              "          google.colab.kernel.accessAllowed ? 'block' : 'none';\n",
              "\n",
              "        async function convertToInteractive(key) {\n",
              "          const element = document.querySelector('#df-bf846040-e138-459f-a589-de250619d27a');\n",
              "          const dataTable =\n",
              "            await google.colab.kernel.invokeFunction('convertToInteractive',\n",
              "                                                     [key], {});\n",
              "          if (!dataTable) return;\n",
              "\n",
              "          const docLinkHtml = 'Like what you see? Visit the ' +\n",
              "            '<a target=\"_blank\" href=https://colab.research.google.com/notebooks/data_table.ipynb>data table notebook</a>'\n",
              "            + ' to learn more about interactive tables.';\n",
              "          element.innerHTML = '';\n",
              "          dataTable['output_type'] = 'display_data';\n",
              "          await google.colab.output.renderOutput(dataTable, element);\n",
              "          const docLink = document.createElement('div');\n",
              "          docLink.innerHTML = docLinkHtml;\n",
              "          element.appendChild(docLink);\n",
              "        }\n",
              "      </script>\n",
              "    </div>\n",
              "  </div>\n",
              "  "
            ]
          },
          "metadata": {},
          "execution_count": 98
        }
      ]
    },
    {
      "cell_type": "code",
      "source": [
        "from pyspark.sql.functions import udf\n",
        "import html\n",
        "\n",
        "@udf\n",
        "def html_unescape(s: str):\n",
        "  return html.unescape(s)\n",
        "\n",
        "raw_data.select(html_unescape('text')).show(35, 100)"
      ],
      "metadata": {
        "id": "9SSupzrZ3NrS",
        "colab": {
          "base_uri": "https://localhost:8080/"
        },
        "outputId": "23136466-0c0a-4859-ad9e-eb81830e8174"
      },
      "execution_count": 99,
      "outputs": [
        {
          "output_type": "stream",
          "name": "stdout",
          "text": [
            "+----------------------------------------------------------------------------------------------------+\n",
            "|                                                                                 html_unescape(text)|\n",
            "+----------------------------------------------------------------------------------------------------+\n",
            "|@switchfoot http://twitpic.com/2y1zl - Awww, that's a bummer.  You shoulda got David Carr of Thir...|\n",
            "|is upset that he can't update his Facebook by texting it... and might cry as a result  School tod...|\n",
            "|           @Kenichan I dived many times for the ball. Managed to save 50%  The rest go out of bounds|\n",
            "|                                                     my whole body feels itchy and like its on fire |\n",
            "|@nationwideclass no, it's not behaving at all. i'm mad. why am i here? because I can't see you al...|\n",
            "|                                                                       @Kwesidei not the whole crew |\n",
            "|                                                                                         Need a hug |\n",
            "| @LOLTrish hey  long time no see! Yes.. Rains a bit ,only a bit  LOL , I'm fine thanks , how's you ?|\n",
            "|                                                                @Tatiana_K nope they didn't have it |\n",
            "|                                                                           @twittera que me muera ? |\n",
            "|                                                         spring break in plain city... it's snowing |\n",
            "|                                                                          I just re-pierced my ears |\n",
            "|      @caregiving I couldn't bear to watch it.  And I thought the UA loss was embarrassing . . . . .|\n",
            "|                       @octolinz16 It it counts, idk why I did either. you never talk to me anymore |\n",
            "|@smarrison i would've been the first, but i didn't have a gun.    not really though, zac snyder's...|\n",
            "|@iamjazzyfizzle I wish I got to watch it with you!! I miss you and @iamlilnicki  how was the prem...|\n",
            "|       Hollis' death scene will hurt me severely to watch on film  wry is directors cut not out now?|\n",
            "|                                                                                about to file taxes |\n",
            "|                                    @LettyA ahh ive always wanted to see rent  love the soundtrack!!|\n",
            "|                     @FakerPattyPattz Oh dear. Were you drinking out of the forgotten table drinks? |\n",
            "|                                      @alydesigns i was out most of the day so didn't get much done |\n",
            "|one of my friend called me, and asked to meet with her at Mid Valley today...but i've no time *si...|\n",
            "|                                                    @angry_barista I baked you a cake but I ated it |\n",
            "|                                                              this week is not going as i had hoped |\n",
            "|                                                                          blagh class at 8 tomorrow |\n",
            "|                                                      I hate when I have to call and wake people up |\n",
            "|                                   Just going to cry myself to sleep after watching Marley and Me.  |\n",
            "|                                                                              im sad now  Miss.Lilly|\n",
            "|           ooooh.... LOL  that leslie.... and ok I won't do it again so leslie won't  get mad again |\n",
            "|                   Meh... Almost Lover is the exception... this track gets me depressed every time. |\n",
            "|                                        some1 hacked my account on aim  now i have to make a new one|\n",
            "|@alielayus I want to go to promote GEAR AND GROOVE but unfornately no ride there  I may b going t...|\n",
            "|thought sleeping in was an option tomorrow but realizing that it now is not. evaluations in the m...|\n",
            "|                                            @julieebaby awe i love you too!!!! 1 am here  i miss you|\n",
            "|                                                   @HumpNinja I cry my asian eyes to sleep at night |\n",
            "+----------------------------------------------------------------------------------------------------+\n",
            "only showing top 35 rows\n",
            "\n"
          ]
        }
      ]
    },
    {
      "cell_type": "code",
      "source": [
        "def cleaning_process(data):\n",
        "  user_regex = r'(@\\w{1,15})'\n",
        "  hashtag_replace_regex = '(#\\w{1,})'\n",
        "  data_new = data.withColumn('users_mentioned', (f.array_remove(f.array(f.regexp_extract(f.col('text'), user_regex, 1),\n",
        "                                                                        f.regexp_extract(f.col('text'), ''.join([f'{user_regex}.*?' for i in range(0,2)]), 2),\n",
        "                                                                        f.regexp_extract(f.col('text'), ''.join([f'{user_regex}.*?' for i in range(0,3)]), 3),\n",
        "                                                                        f.regexp_extract(f.col('text'), ''.join([f'{user_regex}.*?' for i in range(0,4)]), 4),\n",
        "                                                                        f.regexp_extract(f.col('text'), ''.join([f'{user_regex}.*?' for i in range(0,5)]), 5),\n",
        "                                                                        f.regexp_extract(f.col('text'), ''.join([f'{user_regex}.*?' for i in range(0,6)]), 6),),'',))) \\\n",
        "                  .withColumn('hashtags', f.array_remove(f.array(f.regexp_extract(f.col('text'), hashtag_replace_regex, 1),\n",
        "                                                                 f.regexp_extract(f.col('text'), ''.join([f'{hashtag_replace_regex}.*?' for i in range(0,2)]), 2),\n",
        "                                                                 f.regexp_extract(f.col('text'), ''.join([f'{hashtag_replace_regex}.*?' for i in range(0,3)]), 3),\n",
        "                                                                 f.regexp_extract(f.col('text'), ''.join([f'{hashtag_replace_regex}.*?' for i in range(0,4)]), 4),\n",
        "                                                                 f.regexp_extract(f.col('text'), ''.join([f'{hashtag_replace_regex}.*?' for i in range(0,5)]), 5),\n",
        "                                                                 f.regexp_extract(f.col('text'), ''.join([f'{hashtag_replace_regex}.*?' for i in range(0,6)]), 6),),'',))\n",
        "                    \n",
        "  return data_new"
      ],
      "metadata": {
        "id": "VO0agckI8M02"
      },
      "execution_count": 100,
      "outputs": []
    },
    {
      "cell_type": "code",
      "source": [
        "raw_data_training = spark.read.schema(schema).csv(path=PATH+'training.1600000.processed.noemoticon.csv')\n",
        "clean_data_training = cleaning_process(raw_data_training)\n",
        "clean_data_training.show()\n",
        "clean_data_training.select('text').show(50, False)"
      ],
      "metadata": {
        "id": "v9ywh_a03NuO",
        "colab": {
          "base_uri": "https://localhost:8080/"
        },
        "outputId": "d12ea19f-f6a0-406d-ac37-6898cef08c9d"
      },
      "execution_count": 101,
      "outputs": [
        {
          "output_type": "stream",
          "name": "stdout",
          "text": [
            "+--------+----------+--------------------+--------+---------------+--------------------+--------------------+--------+\n",
            "|polarity|        id|           date_time|   query|           user|                text|     users_mentioned|hashtags|\n",
            "+--------+----------+--------------------+--------+---------------+--------------------+--------------------+--------+\n",
            "|     0.0|1467810369|Mon Apr 06 22:19:...|NO_QUERY|_TheSpecialOne_|@switchfoot http:...|       [@switchfoot]|      []|\n",
            "|     0.0|1467810672|Mon Apr 06 22:19:...|NO_QUERY|  scotthamilton|is upset that he ...|                  []|      []|\n",
            "|     0.0|1467810917|Mon Apr 06 22:19:...|NO_QUERY|       mattycus|@Kenichan I dived...|         [@Kenichan]|      []|\n",
            "|     0.0|1467811184|Mon Apr 06 22:19:...|NO_QUERY|        ElleCTF|my whole body fee...|                  []|      []|\n",
            "|     0.0|1467811193|Mon Apr 06 22:19:...|NO_QUERY|         Karoli|@nationwideclass ...|  [@nationwideclass]|      []|\n",
            "|     0.0|1467811372|Mon Apr 06 22:20:...|NO_QUERY|       joy_wolf|@Kwesidei not the...|         [@Kwesidei]|      []|\n",
            "|     0.0|1467811592|Mon Apr 06 22:20:...|NO_QUERY|        mybirch|         Need a hug |                  []|      []|\n",
            "|     0.0|1467811594|Mon Apr 06 22:20:...|NO_QUERY|           coZZ|@LOLTrish hey  lo...|         [@LOLTrish]|      []|\n",
            "|     0.0|1467811795|Mon Apr 06 22:20:...|NO_QUERY|2Hood4Hollywood|@Tatiana_K nope t...|        [@Tatiana_K]|      []|\n",
            "|     0.0|1467812025|Mon Apr 06 22:20:...|NO_QUERY|        mimismo|@twittera que me ...|         [@twittera]|      []|\n",
            "|     0.0|1467812416|Mon Apr 06 22:20:...|NO_QUERY| erinx3leannexo|spring break in p...|                  []|      []|\n",
            "|     0.0|1467812579|Mon Apr 06 22:20:...|NO_QUERY|   pardonlauren|I just re-pierced...|                  []|      []|\n",
            "|     0.0|1467812723|Mon Apr 06 22:20:...|NO_QUERY|           TLeC|@caregiving I cou...|       [@caregiving]|      []|\n",
            "|     0.0|1467812771|Mon Apr 06 22:20:...|NO_QUERY|robrobbierobert|@octolinz16 It it...|       [@octolinz16]|      []|\n",
            "|     0.0|1467812784|Mon Apr 06 22:20:...|NO_QUERY|    bayofwolves|@smarrison i woul...|        [@smarrison]|      []|\n",
            "|     0.0|1467812799|Mon Apr 06 22:20:...|NO_QUERY|     HairByJess|@iamjazzyfizzle I...|[@iamjazzyfizzle,...|      []|\n",
            "|     0.0|1467812964|Mon Apr 06 22:20:...|NO_QUERY| lovesongwriter|Hollis' death sce...|                  []|      []|\n",
            "|     0.0|1467813137|Mon Apr 06 22:20:...|NO_QUERY|       armotley|about to file taxes |                  []|      []|\n",
            "|     0.0|1467813579|Mon Apr 06 22:20:...|NO_QUERY|     starkissed|@LettyA ahh ive a...|           [@LettyA]|      []|\n",
            "|     0.0|1467813782|Mon Apr 06 22:20:...|NO_QUERY|      gi_gi_bee|@FakerPattyPattz ...|  [@FakerPattyPattz]|      []|\n",
            "+--------+----------+--------------------+--------+---------------+--------------------+--------------------+--------+\n",
            "only showing top 20 rows\n",
            "\n",
            "+------------------------------------------------------------------------------------------------------------------------------------------+\n",
            "|text                                                                                                                                      |\n",
            "+------------------------------------------------------------------------------------------------------------------------------------------+\n",
            "|@switchfoot http://twitpic.com/2y1zl - Awww, that's a bummer.  You shoulda got David Carr of Third Day to do it. ;D                       |\n",
            "|is upset that he can't update his Facebook by texting it... and might cry as a result  School today also. Blah!                           |\n",
            "|@Kenichan I dived many times for the ball. Managed to save 50%  The rest go out of bounds                                                 |\n",
            "|my whole body feels itchy and like its on fire                                                                                            |\n",
            "|@nationwideclass no, it's not behaving at all. i'm mad. why am i here? because I can't see you all over there.                            |\n",
            "|@Kwesidei not the whole crew                                                                                                              |\n",
            "|Need a hug                                                                                                                                |\n",
            "|@LOLTrish hey  long time no see! Yes.. Rains a bit ,only a bit  LOL , I'm fine thanks , how's you ?                                       |\n",
            "|@Tatiana_K nope they didn't have it                                                                                                       |\n",
            "|@twittera que me muera ?                                                                                                                  |\n",
            "|spring break in plain city... it's snowing                                                                                                |\n",
            "|I just re-pierced my ears                                                                                                                 |\n",
            "|@caregiving I couldn't bear to watch it.  And I thought the UA loss was embarrassing . . . . .                                            |\n",
            "|@octolinz16 It it counts, idk why I did either. you never talk to me anymore                                                              |\n",
            "|@smarrison i would've been the first, but i didn't have a gun.    not really though, zac snyder's just a doucheclown.                     |\n",
            "|@iamjazzyfizzle I wish I got to watch it with you!! I miss you and @iamlilnicki  how was the premiere?!                                   |\n",
            "|Hollis' death scene will hurt me severely to watch on film  wry is directors cut not out now?                                             |\n",
            "|about to file taxes                                                                                                                       |\n",
            "|@LettyA ahh ive always wanted to see rent  love the soundtrack!!                                                                          |\n",
            "|@FakerPattyPattz Oh dear. Were you drinking out of the forgotten table drinks?                                                            |\n",
            "|@alydesigns i was out most of the day so didn't get much done                                                                             |\n",
            "|one of my friend called me, and asked to meet with her at Mid Valley today...but i've no time *sigh*                                      |\n",
            "|@angry_barista I baked you a cake but I ated it                                                                                           |\n",
            "|this week is not going as i had hoped                                                                                                     |\n",
            "|blagh class at 8 tomorrow                                                                                                                 |\n",
            "|I hate when I have to call and wake people up                                                                                             |\n",
            "|Just going to cry myself to sleep after watching Marley and Me.                                                                           |\n",
            "|im sad now  Miss.Lilly                                                                                                                    |\n",
            "|ooooh.... LOL  that leslie.... and ok I won't do it again so leslie won't  get mad again                                                  |\n",
            "|Meh... Almost Lover is the exception... this track gets me depressed every time.                                                          |\n",
            "|some1 hacked my account on aim  now i have to make a new one                                                                              |\n",
            "|@alielayus I want to go to promote GEAR AND GROOVE but unfornately no ride there  I may b going to the one in Anaheim in May though       |\n",
            "|thought sleeping in was an option tomorrow but realizing that it now is not. evaluations in the morning and work in the afternoon!        |\n",
            "|@julieebaby awe i love you too!!!! 1 am here  i miss you                                                                                  |\n",
            "|@HumpNinja I cry my asian eyes to sleep at night                                                                                          |\n",
            "|ok I'm sick and spent an hour sitting in the shower cause I was too sick to stand and held back the puke like a champ. BED now            |\n",
            "|@cocomix04 ill tell ya the story later  not a good day and ill be workin for like three more hours...                                     |\n",
            "|@MissXu sorry! bed time came here (GMT+1)   http://is.gd/fNge                                                                             |\n",
            "|@fleurylis I don't either. Its depressing. I don't think I even want to know about the kids in suitcases.                                 |\n",
            "|Bed. Class 8-12. Work 12-3. Gym 3-5 or 6. Then class 6-10. Another day that's gonna fly by. I miss my girlfriend                          |\n",
            "|really don't feel like getting up today... but got to study to for tomorrows practical exam...                                            |\n",
            "|He's the reason for the teardrops on my guitar the only one who has enough of me to break my heart                                        |\n",
            "|Sad, sad, sad. I don't know why but I hate this feeling  I wanna sleep and I still can't!                                                 |\n",
            "|@JonathanRKnight Awww I soo wish I was there to see you finally comfortable! Im sad that I missed it                                      |\n",
            "|Falling asleep. Just heard about that Tracy girl's body being found. How sad  My heart breaks for that family.                            |\n",
            "|@Viennah Yay! I'm happy for you with your job! But that also means less time for me and you...                                            |\n",
            "|Just checked my user timeline on my blackberry, it looks like the twanking is still happening  Are ppl still having probs w/ BGs and UIDs?|\n",
            "|Oh man...was ironing @jeancjumbe's fave top to wear to a meeting. Burnt it                                                                |\n",
            "|is strangely sad about LiLo and SamRo breaking up.                                                                                        |\n",
            "|@tea oh! i'm so sorry  i didn't think about that before retweeting.                                                                       |\n",
            "+------------------------------------------------------------------------------------------------------------------------------------------+\n",
            "only showing top 50 rows\n",
            "\n"
          ]
        }
      ]
    },
    {
      "cell_type": "code",
      "source": [
        "raw_data_test = spark.read.schema(schema).csv(path=PATH+'testdata.manual.2009.06.14.csv')\n",
        "clean_data_test = cleaning_process(raw_data_test)\n",
        "clean_data_test.show()\n",
        "clean_data_test.select('text').show(50, False)"
      ],
      "metadata": {
        "id": "0G6BNsL8Gq32",
        "colab": {
          "base_uri": "https://localhost:8080/"
        },
        "outputId": "ec01eac7-4a4a-4175-b447-5800f62a8946"
      },
      "execution_count": 102,
      "outputs": [
        {
          "output_type": "stream",
          "name": "stdout",
          "text": [
            "+--------+---+--------------------+-------+--------------+--------------------+----------------+----------+\n",
            "|polarity| id|           date_time|  query|          user|                text| users_mentioned|  hashtags|\n",
            "+--------+---+--------------------+-------+--------------+--------------------+----------------+----------+\n",
            "|     4.0|  3|Mon May 11 03:17:...|kindle2|        tpryan|@stellargirl I lo...|  [@stellargirl]|        []|\n",
            "|     4.0|  4|Mon May 11 03:18:...|kindle2|        vcu451|Reading my kindle...|              []|        []|\n",
            "|     4.0|  5|Mon May 11 03:18:...|kindle2|        chadfu|Ok, first assesme...|              []|[#kindle2]|\n",
            "|     4.0|  6|Mon May 11 03:19:...|kindle2|         SIX15|@kenburbary You'l...|   [@kenburbary]|        []|\n",
            "|     4.0|  7|Mon May 11 03:21:...|kindle2|      yamarama|@mikefish  Fair e...|     [@mikefish]|        []|\n",
            "|     4.0|  8|Mon May 11 03:22:...|kindle2|  GeorgeVHulme|@richardebaker no...|[@richardebaker]|        []|\n",
            "|     0.0|  9|Mon May 11 03:22:...|    aig|       Seth937|Fuck this economy...|              []|        []|\n",
            "|     4.0| 10|Mon May 11 03:26:...| jquery|     dcostalis|Jquery is my new ...|              []|        []|\n",
            "|     4.0| 11|Mon May 11 03:27:...|twitter|       PJ_King|       Loves twitter|              []|        []|\n",
            "|     4.0| 12|Mon May 11 03:29:...|  obama|   mandanicole|how can you not l...|              []|        []|\n",
            "|     2.0| 13|Mon May 11 03:32:...|  obama|          jpeb|Check this video ...|              []|        []|\n",
            "|     0.0| 14|Mon May 11 03:32:...|  obama|   kylesellers|@Karoli I firmly ...|       [@Karoli]|        []|\n",
            "|     4.0| 15|Mon May 11 03:33:...|  obama|   theviewfans|House Corresponde...|              []|        []|\n",
            "|     4.0| 16|Mon May 11 05:05:...|   nike|        MumsFP|Watchin Espn..Jus...|              []|        []|\n",
            "|     0.0| 17|Mon May 11 05:06:...|   nike|   vincentx24x|dear nike, stop w...|  [@vincentx24x]|        []|\n",
            "|     4.0| 18|Mon May 11 05:20:...| lebron|  cameronwylie|#lebron best athl...|              []| [#lebron]|\n",
            "|     0.0| 19|Mon May 11 05:20:...| lebron|       luv8242|I was talking to ...|              []|        []|\n",
            "|     4.0| 20|Mon May 11 05:21:...| lebron|    mtgillikin|i love lebron. ht...|              []|        []|\n",
            "|     0.0| 21|Mon May 11 05:21:...| lebron|ursecretdezire|@ludajuice Lebron...|    [@ludajuice]|        []|\n",
            "|     4.0| 22|Mon May 11 05:21:...| lebron|     Native_01|@Pmillzz lebron I...|      [@Pmillzz]|        []|\n",
            "+--------+---+--------------------+-------+--------------+--------------------+----------------+----------+\n",
            "only showing top 20 rows\n",
            "\n",
            "+--------------------------------------------------------------------------------------------------------------------------------------------+\n",
            "|text                                                                                                                                        |\n",
            "+--------------------------------------------------------------------------------------------------------------------------------------------+\n",
            "|@stellargirl I loooooooovvvvvveee my Kindle2. Not that the DX is cool, but the 2 is fantastic in its own right.                             |\n",
            "|Reading my kindle2...  Love it... Lee childs is good read.                                                                                  |\n",
            "|Ok, first assesment of the #kindle2 ...it fucking rocks!!!                                                                                  |\n",
            "|@kenburbary You'll love your Kindle2. I've had mine for a few months and never looked back. The new big one is huge! No need for remorse! :)|\n",
            "|@mikefish  Fair enough. But i have the Kindle2 and I think it's perfect  :)                                                                 |\n",
            "|@richardebaker no. it is too big. I'm quite happy with the Kindle2.                                                                         |\n",
            "|Fuck this economy. I hate aig and their non loan given asses.                                                                               |\n",
            "|Jquery is my new best friend.                                                                                                               |\n",
            "|Loves twitter                                                                                                                               |\n",
            "|how can you not love Obama? he makes jokes about himself.                                                                                   |\n",
            "|Check this video out -- President Obama at the White House Correspondents' Dinner http://bit.ly/IMXUM                                       |\n",
            "|@Karoli I firmly believe that Obama/Pelosi have ZERO desire to be civil.  It's a charade and a slogan, but they want to destroy conservatism|\n",
            "|House Correspondents dinner was last night whoopi, barbara &amp; sherri went, Obama got a standing ovation                                  |\n",
            "|Watchin Espn..Jus seen this new Nike Commerical with a Puppet Lebron..sh*t was hilarious...LMAO!!!                                          |\n",
            "|dear nike, stop with the flywire. that shit is a waste of science. and ugly. love, @vincentx24x                                             |\n",
            "|#lebron best athlete of our generation, if not all time (basketball related) I don't want to get into inter-sport debates about   __1/2     |\n",
            "|I was talking to this guy last night and he was telling me that he is a die hard Spurs fan.  He also told me that he hates LeBron James.    |\n",
            "|i love lebron. http://bit.ly/PdHur                                                                                                          |\n",
            "|@ludajuice Lebron is a Beast, but I'm still cheering 4 the A..til the end.                                                                  |\n",
            "|@Pmillzz lebron IS THE BOSS                                                                                                                 |\n",
            "|@sketchbug Lebron is a hometown hero to me, lol I love the Lakers but let's go Cavs, lol                                                    |\n",
            "|lebron and zydrunas are such an awesome duo                                                                                                 |\n",
            "|@wordwhizkid Lebron is a beast... nobody in the NBA comes even close.                                                                       |\n",
            "|downloading apps for my iphone! So much fun :-) There literally is an app for just about anything.                                          |\n",
            "|good news, just had a call from the Visa office, saying everything is fine.....what a relief! I am sick of scams out there! Stealing!       |\n",
            "|http://twurl.nl/epkr4b - awesome come back from @biz (via @fredwilson)                                                                      |\n",
            "|In montreal for a long weekend of R&amp;R. Much needed.                                                                                     |\n",
            "|Booz Allen Hamilton has a bad ass homegrown social collaboration platform. Way cool!  #ttiv                                                 |\n",
            "|[#MLUC09] Customer Innovation Award Winner: Booz Allen Hamilton -- http://ping.fm/c2hPP                                                     |\n",
            "|@SoChi2 I current use the Nikon D90 and love it, but not as much as the Canon 40D/50D. I chose the D90 for the  video feature. My mistake.  |\n",
            "|need suggestions for a good IR filter for my canon 40D ... got some? pls DM                                                                 |\n",
            "|@surfit: I just checked my google for my business- blip shows up as the second entry! Huh. Is that a good or ba... ? http://blip.fm/~6emhv  |\n",
            "|@phyreman9 Google is always a good place to look. Should've mentioned I worked on the Mustang w/ my Dad, @KimbleT.                          |\n",
            "|Played with an android google phone. The slide out screen scares me I would break that fucker so fast. Still prefer my iPhone.              |\n",
            "|US planning to resume the military tribunals at Guantanamo Bay... only this time those on trial will be AIG execs and Chrysler debt holders |\n",
            "|omg so bored &amp; my tattoooos are so itchy!!  help! aha =)                                                                                |\n",
            "|I'm itchy and miserable!                                                                                                                    |\n",
            "|@sekseemess no. I'm not itchy for now. Maybe later, lol.                                                                                    |\n",
            "|RT @jessverr I love the nerdy Stanford human biology videos - makes me miss school. http://bit.ly/13t7NR                                    |\n",
            "|@spinuzzi: Has been a bit crazy, with steep learning curve, but LyX is really good for long docs. For anything shorter, it would be insane. |\n",
            "|\"I'm listening to \"\"P.Y.T\"\" by Danny Gokey &lt;3 &lt;3 &lt;3 Aww                                                                            |\n",
            "|is going to sleep then on a bike ride:]                                                                                                     |\n",
            "|cant sleep... my tooth is aching.                                                                                                           |\n",
            "|Blah, blah, blah same old same old. No plans today, going back to sleep I guess.                                                            |\n",
            "|glad i didnt do Bay to Breakers today, it's 1000 freaking degrees in San Francisco wtf                                                      |\n",
            "|is in San Francisco at Bay to Breakers.                                                                                                     |\n",
            "|just landed at San Francisco                                                                                                                |\n",
            "|San Francisco today.  Any suggestions?                                                                                                      |\n",
            "|?Obama Administration Must Stop Bonuses to AIG Ponzi Schemers ... http://bit.ly/2CUIg                                                       |\n",
            "|started to think that Citi is in really deep s&amp;^t. Are they gonna survive the turmoil or are they gonna be the next AIG?                |\n",
            "+--------------------------------------------------------------------------------------------------------------------------------------------+\n",
            "only showing top 50 rows\n",
            "\n"
          ]
        }
      ]
    },
    {
      "cell_type": "code",
      "source": [
        "print(raw_data_training.count())\n",
        "print(raw_data_test.count())"
      ],
      "metadata": {
        "id": "UkzLEojZ3Nw4",
        "colab": {
          "base_uri": "https://localhost:8080/"
        },
        "outputId": "e0922575-1b6a-418d-8b33-e7fb17aa80ef"
      },
      "execution_count": 103,
      "outputs": [
        {
          "output_type": "stream",
          "name": "stdout",
          "text": [
            "1600000\n",
            "498\n"
          ]
        }
      ]
    },
    {
      "cell_type": "code",
      "source": [
        "print(clean_data_training.count())\n",
        "print(clean_data_test.count())"
      ],
      "metadata": {
        "id": "0IZuOtGo3NzZ",
        "colab": {
          "base_uri": "https://localhost:8080/"
        },
        "outputId": "9e3f7e0d-abe0-4313-c35a-531c9c3c851b"
      },
      "execution_count": 104,
      "outputs": [
        {
          "output_type": "stream",
          "name": "stdout",
          "text": [
            "1600000\n",
            "498\n"
          ]
        }
      ]
    },
    {
      "cell_type": "code",
      "source": [
        "clean_data_training.filter(\"text == ''\").show(1000)\n",
        "clean_data_test.filter(\"text == ''\").show(1000)"
      ],
      "metadata": {
        "id": "MaA0Vh4N3N16",
        "colab": {
          "base_uri": "https://localhost:8080/"
        },
        "outputId": "cc6481f6-3082-4dbb-c1eb-99dec7371870"
      },
      "execution_count": 105,
      "outputs": [
        {
          "output_type": "stream",
          "name": "stdout",
          "text": [
            "+--------+---+---------+-----+----+----+---------------+--------+\n",
            "|polarity| id|date_time|query|user|text|users_mentioned|hashtags|\n",
            "+--------+---+---------+-----+----+----+---------------+--------+\n",
            "+--------+---+---------+-----+----+----+---------------+--------+\n",
            "\n",
            "+--------+---+---------+-----+----+----+---------------+--------+\n",
            "|polarity| id|date_time|query|user|text|users_mentioned|hashtags|\n",
            "+--------+---+---------+-----+----+----+---------------+--------+\n",
            "+--------+---+---------+-----+----+----+---------------+--------+\n",
            "\n"
          ]
        }
      ]
    },
    {
      "cell_type": "code",
      "source": [
        "df_training = (\n",
        "    clean_data_training\n",
        "    # Remove all numbers\n",
        "    .withColumn(\"text\", f.regexp_replace(f.col(\"text\"), \"[^a-zA-Z]\", \" \"))\n",
        "    # Remove all double/multiple spaces\n",
        "    .withColumn(\"text\", f.regexp_replace(f.col(\"text\"), \" +\", \" \"))\n",
        "    # Remove leading and training whitespaces\n",
        "    .withColumn(\"text\", f.trim(f.col(\"text\")))\n",
        "    # Ensure we don't end up with empty rows\n",
        "    .filter(\"text != ' '\"))\n",
        "data_training = df_training.select(\"text\", \"polarity\").coalesce(3).cache()"
      ],
      "metadata": {
        "id": "YKs_vrK13N4a"
      },
      "execution_count": 106,
      "outputs": []
    },
    {
      "cell_type": "code",
      "source": [
        "df_test = (\n",
        "    clean_data_test\n",
        "    # Remove all numbers\n",
        "    .withColumn('text', f.regexp_replace(f.col('text'), '[^a-zA-Z]', ' '))\n",
        "    # Remove all double/multiple spaces\n",
        "    .withColumn('text', f.regexp_replace(f.col('text'), ' +', ' '))\n",
        "    # Remove leading and test whitespaces\n",
        "    .withColumn('text', f.trim(f.col('text')))\n",
        "    # Ensure we don't end up with empty rows\n",
        "    .filter(\"text != ' '\"))\n",
        "data_test = df_test.select('text', 'polarity').coalesce(3).cache()"
      ],
      "metadata": {
        "id": "jTuEqhloHwc-"
      },
      "execution_count": 107,
      "outputs": []
    },
    {
      "cell_type": "code",
      "source": [
        "print(clean_data_training.count())\n",
        "print(data_training.count())"
      ],
      "metadata": {
        "id": "XDUxmA66GLq7",
        "colab": {
          "base_uri": "https://localhost:8080/"
        },
        "outputId": "d9bef9fd-0891-4866-8c86-675e050c3e3c"
      },
      "execution_count": 108,
      "outputs": [
        {
          "output_type": "stream",
          "name": "stdout",
          "text": [
            "1600000\n",
            "1600000\n"
          ]
        }
      ]
    },
    {
      "cell_type": "code",
      "source": [
        "print(clean_data_test.count())\n",
        "print(data_test.count())"
      ],
      "metadata": {
        "id": "YaCBwiKaH6NW",
        "colab": {
          "base_uri": "https://localhost:8080/"
        },
        "outputId": "c4f45f5d-21aa-431f-d956-a0f6ce02e274"
      },
      "execution_count": 109,
      "outputs": [
        {
          "output_type": "stream",
          "name": "stdout",
          "text": [
            "498\n",
            "498\n"
          ]
        }
      ]
    },
    {
      "cell_type": "code",
      "source": [
        "# df_training.toPandas()"
      ],
      "metadata": {
        "id": "5PDRg1QK3N7J"
      },
      "execution_count": 110,
      "outputs": []
    },
    {
      "cell_type": "code",
      "source": [
        "df_test.toPandas()"
      ],
      "metadata": {
        "id": "HXRUtYRMICUv",
        "colab": {
          "base_uri": "https://localhost:8080/",
          "height": 424
        },
        "outputId": "47933d9f-78a7-4955-c36b-c7556450fe3f"
      },
      "execution_count": 111,
      "outputs": [
        {
          "output_type": "execute_result",
          "data": {
            "text/plain": [
              "     polarity     id                     date_time    query             user  \\\n",
              "0         4.0      3  Mon May 11 03:17:40 UTC 2009  kindle2           tpryan   \n",
              "1         4.0      4  Mon May 11 03:18:03 UTC 2009  kindle2           vcu451   \n",
              "2         4.0      5  Mon May 11 03:18:54 UTC 2009  kindle2           chadfu   \n",
              "3         4.0      6  Mon May 11 03:19:04 UTC 2009  kindle2            SIX15   \n",
              "4         4.0      7  Mon May 11 03:21:41 UTC 2009  kindle2         yamarama   \n",
              "..        ...    ...                           ...      ...              ...   \n",
              "493       2.0  14072  Sun Jun 14 04:31:43 UTC 2009    latex          proggit   \n",
              "494       0.0  14073  Sun Jun 14 04:32:17 UTC 2009    latex           sam33r   \n",
              "495       4.0  14074  Sun Jun 14 04:36:34 UTC 2009    latex  iamtheonlyjosie   \n",
              "496       0.0  14075  Sun Jun 14 21:36:07 UTC 2009     iran        plutopup7   \n",
              "497       0.0  14076  Sun Jun 14 21:36:17 UTC 2009     iran     captain_pete   \n",
              "\n",
              "                                                  text users_mentioned  \\\n",
              "0    stellargirl I loooooooovvvvvveee my Kindle Not...  [@stellargirl]   \n",
              "1    Reading my kindle Love it Lee childs is good read              []   \n",
              "2    Ok first assesment of the kindle it fucking rocks              []   \n",
              "3    kenburbary You ll love your Kindle I ve had mi...   [@kenburbary]   \n",
              "4    mikefish Fair enough But i have the Kindle and...     [@mikefish]   \n",
              "..                                                 ...             ...   \n",
              "493  Ask Programming LaTeX or InDesign submitted by...              []   \n",
              "494  On that note I hate Word I hate Pages I hate L...              []   \n",
              "495  Ahhh back in a real text editing environment I...              []   \n",
              "496  Trouble in Iran I see Hmm Iran Iran so far awa...              []   \n",
              "497  Reading the tweets coming out of Iran The whol...              []   \n",
              "\n",
              "                                        hashtags  \n",
              "0                                             []  \n",
              "1                                             []  \n",
              "2                                     [#kindle2]  \n",
              "3                                             []  \n",
              "4                                             []  \n",
              "..                                           ...  \n",
              "493                                           []  \n",
              "494                                           []  \n",
              "495                                           []  \n",
              "496  [#flockofseagullsweregeopoliticallycorrect]  \n",
              "497                                           []  \n",
              "\n",
              "[498 rows x 8 columns]"
            ],
            "text/html": [
              "\n",
              "  <div id=\"df-6f212933-74e3-49a2-999c-0723f062fbe9\">\n",
              "    <div class=\"colab-df-container\">\n",
              "      <div>\n",
              "<style scoped>\n",
              "    .dataframe tbody tr th:only-of-type {\n",
              "        vertical-align: middle;\n",
              "    }\n",
              "\n",
              "    .dataframe tbody tr th {\n",
              "        vertical-align: top;\n",
              "    }\n",
              "\n",
              "    .dataframe thead th {\n",
              "        text-align: right;\n",
              "    }\n",
              "</style>\n",
              "<table border=\"1\" class=\"dataframe\">\n",
              "  <thead>\n",
              "    <tr style=\"text-align: right;\">\n",
              "      <th></th>\n",
              "      <th>polarity</th>\n",
              "      <th>id</th>\n",
              "      <th>date_time</th>\n",
              "      <th>query</th>\n",
              "      <th>user</th>\n",
              "      <th>text</th>\n",
              "      <th>users_mentioned</th>\n",
              "      <th>hashtags</th>\n",
              "    </tr>\n",
              "  </thead>\n",
              "  <tbody>\n",
              "    <tr>\n",
              "      <th>0</th>\n",
              "      <td>4.0</td>\n",
              "      <td>3</td>\n",
              "      <td>Mon May 11 03:17:40 UTC 2009</td>\n",
              "      <td>kindle2</td>\n",
              "      <td>tpryan</td>\n",
              "      <td>stellargirl I loooooooovvvvvveee my Kindle Not...</td>\n",
              "      <td>[@stellargirl]</td>\n",
              "      <td>[]</td>\n",
              "    </tr>\n",
              "    <tr>\n",
              "      <th>1</th>\n",
              "      <td>4.0</td>\n",
              "      <td>4</td>\n",
              "      <td>Mon May 11 03:18:03 UTC 2009</td>\n",
              "      <td>kindle2</td>\n",
              "      <td>vcu451</td>\n",
              "      <td>Reading my kindle Love it Lee childs is good read</td>\n",
              "      <td>[]</td>\n",
              "      <td>[]</td>\n",
              "    </tr>\n",
              "    <tr>\n",
              "      <th>2</th>\n",
              "      <td>4.0</td>\n",
              "      <td>5</td>\n",
              "      <td>Mon May 11 03:18:54 UTC 2009</td>\n",
              "      <td>kindle2</td>\n",
              "      <td>chadfu</td>\n",
              "      <td>Ok first assesment of the kindle it fucking rocks</td>\n",
              "      <td>[]</td>\n",
              "      <td>[#kindle2]</td>\n",
              "    </tr>\n",
              "    <tr>\n",
              "      <th>3</th>\n",
              "      <td>4.0</td>\n",
              "      <td>6</td>\n",
              "      <td>Mon May 11 03:19:04 UTC 2009</td>\n",
              "      <td>kindle2</td>\n",
              "      <td>SIX15</td>\n",
              "      <td>kenburbary You ll love your Kindle I ve had mi...</td>\n",
              "      <td>[@kenburbary]</td>\n",
              "      <td>[]</td>\n",
              "    </tr>\n",
              "    <tr>\n",
              "      <th>4</th>\n",
              "      <td>4.0</td>\n",
              "      <td>7</td>\n",
              "      <td>Mon May 11 03:21:41 UTC 2009</td>\n",
              "      <td>kindle2</td>\n",
              "      <td>yamarama</td>\n",
              "      <td>mikefish Fair enough But i have the Kindle and...</td>\n",
              "      <td>[@mikefish]</td>\n",
              "      <td>[]</td>\n",
              "    </tr>\n",
              "    <tr>\n",
              "      <th>...</th>\n",
              "      <td>...</td>\n",
              "      <td>...</td>\n",
              "      <td>...</td>\n",
              "      <td>...</td>\n",
              "      <td>...</td>\n",
              "      <td>...</td>\n",
              "      <td>...</td>\n",
              "      <td>...</td>\n",
              "    </tr>\n",
              "    <tr>\n",
              "      <th>493</th>\n",
              "      <td>2.0</td>\n",
              "      <td>14072</td>\n",
              "      <td>Sun Jun 14 04:31:43 UTC 2009</td>\n",
              "      <td>latex</td>\n",
              "      <td>proggit</td>\n",
              "      <td>Ask Programming LaTeX or InDesign submitted by...</td>\n",
              "      <td>[]</td>\n",
              "      <td>[]</td>\n",
              "    </tr>\n",
              "    <tr>\n",
              "      <th>494</th>\n",
              "      <td>0.0</td>\n",
              "      <td>14073</td>\n",
              "      <td>Sun Jun 14 04:32:17 UTC 2009</td>\n",
              "      <td>latex</td>\n",
              "      <td>sam33r</td>\n",
              "      <td>On that note I hate Word I hate Pages I hate L...</td>\n",
              "      <td>[]</td>\n",
              "      <td>[]</td>\n",
              "    </tr>\n",
              "    <tr>\n",
              "      <th>495</th>\n",
              "      <td>4.0</td>\n",
              "      <td>14074</td>\n",
              "      <td>Sun Jun 14 04:36:34 UTC 2009</td>\n",
              "      <td>latex</td>\n",
              "      <td>iamtheonlyjosie</td>\n",
              "      <td>Ahhh back in a real text editing environment I...</td>\n",
              "      <td>[]</td>\n",
              "      <td>[]</td>\n",
              "    </tr>\n",
              "    <tr>\n",
              "      <th>496</th>\n",
              "      <td>0.0</td>\n",
              "      <td>14075</td>\n",
              "      <td>Sun Jun 14 21:36:07 UTC 2009</td>\n",
              "      <td>iran</td>\n",
              "      <td>plutopup7</td>\n",
              "      <td>Trouble in Iran I see Hmm Iran Iran so far awa...</td>\n",
              "      <td>[]</td>\n",
              "      <td>[#flockofseagullsweregeopoliticallycorrect]</td>\n",
              "    </tr>\n",
              "    <tr>\n",
              "      <th>497</th>\n",
              "      <td>0.0</td>\n",
              "      <td>14076</td>\n",
              "      <td>Sun Jun 14 21:36:17 UTC 2009</td>\n",
              "      <td>iran</td>\n",
              "      <td>captain_pete</td>\n",
              "      <td>Reading the tweets coming out of Iran The whol...</td>\n",
              "      <td>[]</td>\n",
              "      <td>[]</td>\n",
              "    </tr>\n",
              "  </tbody>\n",
              "</table>\n",
              "<p>498 rows × 8 columns</p>\n",
              "</div>\n",
              "      <button class=\"colab-df-convert\" onclick=\"convertToInteractive('df-6f212933-74e3-49a2-999c-0723f062fbe9')\"\n",
              "              title=\"Convert this dataframe to an interactive table.\"\n",
              "              style=\"display:none;\">\n",
              "        \n",
              "  <svg xmlns=\"http://www.w3.org/2000/svg\" height=\"24px\"viewBox=\"0 0 24 24\"\n",
              "       width=\"24px\">\n",
              "    <path d=\"M0 0h24v24H0V0z\" fill=\"none\"/>\n",
              "    <path d=\"M18.56 5.44l.94 2.06.94-2.06 2.06-.94-2.06-.94-.94-2.06-.94 2.06-2.06.94zm-11 1L8.5 8.5l.94-2.06 2.06-.94-2.06-.94L8.5 2.5l-.94 2.06-2.06.94zm10 10l.94 2.06.94-2.06 2.06-.94-2.06-.94-.94-2.06-.94 2.06-2.06.94z\"/><path d=\"M17.41 7.96l-1.37-1.37c-.4-.4-.92-.59-1.43-.59-.52 0-1.04.2-1.43.59L10.3 9.45l-7.72 7.72c-.78.78-.78 2.05 0 2.83L4 21.41c.39.39.9.59 1.41.59.51 0 1.02-.2 1.41-.59l7.78-7.78 2.81-2.81c.8-.78.8-2.07 0-2.86zM5.41 20L4 18.59l7.72-7.72 1.47 1.35L5.41 20z\"/>\n",
              "  </svg>\n",
              "      </button>\n",
              "      \n",
              "  <style>\n",
              "    .colab-df-container {\n",
              "      display:flex;\n",
              "      flex-wrap:wrap;\n",
              "      gap: 12px;\n",
              "    }\n",
              "\n",
              "    .colab-df-convert {\n",
              "      background-color: #E8F0FE;\n",
              "      border: none;\n",
              "      border-radius: 50%;\n",
              "      cursor: pointer;\n",
              "      display: none;\n",
              "      fill: #1967D2;\n",
              "      height: 32px;\n",
              "      padding: 0 0 0 0;\n",
              "      width: 32px;\n",
              "    }\n",
              "\n",
              "    .colab-df-convert:hover {\n",
              "      background-color: #E2EBFA;\n",
              "      box-shadow: 0px 1px 2px rgba(60, 64, 67, 0.3), 0px 1px 3px 1px rgba(60, 64, 67, 0.15);\n",
              "      fill: #174EA6;\n",
              "    }\n",
              "\n",
              "    [theme=dark] .colab-df-convert {\n",
              "      background-color: #3B4455;\n",
              "      fill: #D2E3FC;\n",
              "    }\n",
              "\n",
              "    [theme=dark] .colab-df-convert:hover {\n",
              "      background-color: #434B5C;\n",
              "      box-shadow: 0px 1px 3px 1px rgba(0, 0, 0, 0.15);\n",
              "      filter: drop-shadow(0px 1px 2px rgba(0, 0, 0, 0.3));\n",
              "      fill: #FFFFFF;\n",
              "    }\n",
              "  </style>\n",
              "\n",
              "      <script>\n",
              "        const buttonEl =\n",
              "          document.querySelector('#df-6f212933-74e3-49a2-999c-0723f062fbe9 button.colab-df-convert');\n",
              "        buttonEl.style.display =\n",
              "          google.colab.kernel.accessAllowed ? 'block' : 'none';\n",
              "\n",
              "        async function convertToInteractive(key) {\n",
              "          const element = document.querySelector('#df-6f212933-74e3-49a2-999c-0723f062fbe9');\n",
              "          const dataTable =\n",
              "            await google.colab.kernel.invokeFunction('convertToInteractive',\n",
              "                                                     [key], {});\n",
              "          if (!dataTable) return;\n",
              "\n",
              "          const docLinkHtml = 'Like what you see? Visit the ' +\n",
              "            '<a target=\"_blank\" href=https://colab.research.google.com/notebooks/data_table.ipynb>data table notebook</a>'\n",
              "            + ' to learn more about interactive tables.';\n",
              "          element.innerHTML = '';\n",
              "          dataTable['output_type'] = 'display_data';\n",
              "          await google.colab.output.renderOutput(dataTable, element);\n",
              "          const docLink = document.createElement('div');\n",
              "          docLink.innerHTML = docLinkHtml;\n",
              "          element.appendChild(docLink);\n",
              "        }\n",
              "      </script>\n",
              "    </div>\n",
              "  </div>\n",
              "  "
            ]
          },
          "metadata": {},
          "execution_count": 111
        }
      ]
    },
    {
      "cell_type": "markdown",
      "source": [
        "###### Building model"
      ],
      "metadata": {
        "id": "_41WBBmxB14P"
      }
    },
    {
      "cell_type": "code",
      "source": [
        "(training_data, validation_data) = data_training.randomSplit([0.99, 0.01], seed=2022)"
      ],
      "metadata": {
        "id": "JDq5c9iY3ODQ"
      },
      "execution_count": 112,
      "outputs": []
    },
    {
      "cell_type": "code",
      "source": [
        "training_data.count()"
      ],
      "metadata": {
        "id": "aEfpyxUA_nCf",
        "colab": {
          "base_uri": "https://localhost:8080/"
        },
        "outputId": "1e60e03e-1378-4e82-c896-f417ffb9c553"
      },
      "execution_count": 113,
      "outputs": [
        {
          "output_type": "execute_result",
          "data": {
            "text/plain": [
              "1583873"
            ]
          },
          "metadata": {},
          "execution_count": 113
        }
      ]
    },
    {
      "cell_type": "code",
      "source": [
        "validation_data.count()"
      ],
      "metadata": {
        "id": "c9u-V67e_qcc",
        "colab": {
          "base_uri": "https://localhost:8080/"
        },
        "outputId": "ee9c6e88-2b02-4441-d89a-d68783ccbdc9"
      },
      "execution_count": 114,
      "outputs": [
        {
          "output_type": "execute_result",
          "data": {
            "text/plain": [
              "16127"
            ]
          },
          "metadata": {},
          "execution_count": 114
        }
      ]
    },
    {
      "cell_type": "code",
      "source": [
        "%%time\n",
        "from pyspark.ml.feature import StopWordsRemover, Tokenizer, HashingTF, IDF\n",
        "from pyspark.ml.classification import LogisticRegression\n",
        "from pyspark.ml import Pipeline"
      ],
      "metadata": {
        "id": "Y0_zquHG3OGD",
        "colab": {
          "base_uri": "https://localhost:8080/"
        },
        "outputId": "39ceaceb-cd25-4a90-f160-a4b719de4780"
      },
      "execution_count": 115,
      "outputs": [
        {
          "output_type": "stream",
          "name": "stdout",
          "text": [
            "CPU times: user 105 µs, sys: 10 µs, total: 115 µs\n",
            "Wall time: 123 µs\n"
          ]
        }
      ]
    },
    {
      "cell_type": "code",
      "source": [
        "tokenizer = Tokenizer(inputCol='text', outputCol='words1')\n",
        "\n",
        "stopwords_remover = StopWordsRemover(inputCol='words1', \n",
        "                                     outputCol='words2',\n",
        "                                     stopWords=StopWordsRemover.loadDefaultStopWords('english'))\n",
        "\n",
        "hashing_tf = HashingTF(inputCol='words2', outputCol='term_frequency')\n",
        "\n",
        "idf = IDF(inputCol='term_frequency', outputCol='features', minDocFreq=5)\n",
        "\n",
        "lr = LogisticRegression(labelCol='polarity')\n",
        "\n",
        "semantic_analysis_pipeline = Pipeline(stages=[tokenizer, stopwords_remover, hashing_tf, idf, lr])"
      ],
      "metadata": {
        "id": "ZA-zgSf93OIc"
      },
      "execution_count": 116,
      "outputs": []
    },
    {
      "cell_type": "code",
      "source": [
        "df1 = tokenizer.transform(validation_data)\n",
        "df1.show()"
      ],
      "metadata": {
        "id": "dnS8sL__3OLO",
        "colab": {
          "base_uri": "https://localhost:8080/"
        },
        "outputId": "5f81446c-8155-4dc4-a014-f2a4485c81ab"
      },
      "execution_count": 117,
      "outputs": [
        {
          "output_type": "stream",
          "name": "stdout",
          "text": [
            "+--------------------+--------+--------------------+\n",
            "|                text|polarity|              words1|\n",
            "+--------------------+--------+--------------------+\n",
            "|A big glass of Tr...|     0.0|[a, big, glass, o...|\n",
            "|A bit worried tha...|     0.0|[a, bit, worried,...|\n",
            "|A great hard trai...|     0.0|[a, great, hard, ...|\n",
            "|A guy came to fix...|     0.0|[a, guy, came, to...|\n",
            "|A lil baby bird f...|     0.0|[a, lil, baby, bi...|\n",
            "|A little worried ...|     0.0|[a, little, worri...|\n",
            "|A moment of silen...|     0.0|[a, moment, of, s...|\n",
            "|A rainy day amp a...|     0.0|[a, rainy, day, a...|\n",
            "|A tree fell down ...|     0.0|[a, tree, fell, d...|\n",
            "|A wild pitch Come...|     0.0|[a, wild, pitch, ...|\n",
            "|ACMcWhale I alway...|     0.0|[acmcwhale, i, al...|\n",
            "|AFmonkey I think ...|     0.0|[afmonkey, i, thi...|\n",
            "|AHHHHH i got hicc...|     0.0|[ahhhhh, i, got, ...|\n",
            "|AIR BERLIN s city...|     0.0|[air, berlin, s, ...|\n",
            "|AK Tina Murphy I ...|     0.0|[ak, tina, murphy...|\n",
            "|ALLIEINCREDIBLE m...|     0.0|[allieincredible,...|\n",
            "|AMG it s June and...|     0.0|[amg, it, s, june...|\n",
            "|ASHLEY TISDALE th...|     0.0|[ashley, tisdale,...|\n",
            "|Aaah today is the...|     0.0|[aaah, today, is,...|\n",
            "|Aaarghhhh my love...|     0.0|[aaarghhhh, my, l...|\n",
            "+--------------------+--------+--------------------+\n",
            "only showing top 20 rows\n",
            "\n"
          ]
        }
      ]
    },
    {
      "cell_type": "code",
      "source": [
        "df2 = stopwords_remover.transform(df1)\n",
        "df2.show()"
      ],
      "metadata": {
        "id": "6S0ERc2lKVHe",
        "colab": {
          "base_uri": "https://localhost:8080/"
        },
        "outputId": "1bb6f9c0-a6d7-4b4b-8370-cc978d29cfee"
      },
      "execution_count": 118,
      "outputs": [
        {
          "output_type": "stream",
          "name": "stdout",
          "text": [
            "+--------------------+--------+--------------------+--------------------+\n",
            "|                text|polarity|              words1|              words2|\n",
            "+--------------------+--------+--------------------+--------------------+\n",
            "|A big glass of Tr...|     0.0|[a, big, glass, o...|[big, glass, trop...|\n",
            "|A bit worried tha...|     0.0|[a, bit, worried,...|[bit, worried, am...|\n",
            "|A great hard trai...|     0.0|[a, great, hard, ...|[great, hard, tra...|\n",
            "|A guy came to fix...|     0.0|[a, guy, came, to...|[guy, came, fix, ...|\n",
            "|A lil baby bird f...|     0.0|[a, lil, baby, bi...|[lil, baby, bird,...|\n",
            "|A little worried ...|     0.0|[a, little, worri...|[little, worried,...|\n",
            "|A moment of silen...|     0.0|[a, moment, of, s...|[moment, silence,...|\n",
            "|A rainy day amp a...|     0.0|[a, rainy, day, a...|[rainy, day, amp,...|\n",
            "|A tree fell down ...|     0.0|[a, tree, fell, d...|[tree, fell, outs...|\n",
            "|A wild pitch Come...|     0.0|[a, wild, pitch, ...|[wild, pitch, com...|\n",
            "|ACMcWhale I alway...|     0.0|[acmcwhale, i, al...|[acmcwhale, alway...|\n",
            "|AFmonkey I think ...|     0.0|[afmonkey, i, thi...|[afmonkey, think,...|\n",
            "|AHHHHH i got hicc...|     0.0|[ahhhhh, i, got, ...|[ahhhhh, got, hic...|\n",
            "|AIR BERLIN s city...|     0.0|[air, berlin, s, ...|[air, berlin, cit...|\n",
            "|AK Tina Murphy I ...|     0.0|[ak, tina, murphy...|[ak, tina, murphy...|\n",
            "|ALLIEINCREDIBLE m...|     0.0|[allieincredible,...|[allieincredible,...|\n",
            "|AMG it s June and...|     0.0|[amg, it, s, june...|[amg, june, sudde...|\n",
            "|ASHLEY TISDALE th...|     0.0|[ashley, tisdale,...|[ashley, tisdale,...|\n",
            "|Aaah today is the...|     0.0|[aaah, today, is,...|[aaah, today, day...|\n",
            "|Aaarghhhh my love...|     0.0|[aaarghhhh, my, l...|[aaarghhhh, lovel...|\n",
            "+--------------------+--------+--------------------+--------------------+\n",
            "only showing top 20 rows\n",
            "\n"
          ]
        }
      ]
    },
    {
      "cell_type": "code",
      "source": [
        "df3 = hashing_tf.transform(df2)\n",
        "df3.show()"
      ],
      "metadata": {
        "id": "GsUTXW-lKVKF",
        "colab": {
          "base_uri": "https://localhost:8080/"
        },
        "outputId": "51b3063a-9d56-47d9-d77b-d3e35837ea68"
      },
      "execution_count": 119,
      "outputs": [
        {
          "output_type": "stream",
          "name": "stdout",
          "text": [
            "+--------------------+--------+--------------------+--------------------+--------------------+\n",
            "|                text|polarity|              words1|              words2|      term_frequency|\n",
            "+--------------------+--------+--------------------+--------------------+--------------------+\n",
            "|A big glass of Tr...|     0.0|[a, big, glass, o...|[big, glass, trop...|(262144,[17532,22...|\n",
            "|A bit worried tha...|     0.0|[a, bit, worried,...|[bit, worried, am...|(262144,[4214,178...|\n",
            "|A great hard trai...|     0.0|[a, great, hard, ...|[great, hard, tra...|(262144,[2437,392...|\n",
            "|A guy came to fix...|     0.0|[a, guy, came, to...|[guy, came, fix, ...|(262144,[8804,315...|\n",
            "|A lil baby bird f...|     0.0|[a, lil, baby, bi...|[lil, baby, bird,...|(262144,[52800,64...|\n",
            "|A little worried ...|     0.0|[a, little, worri...|[little, worried,...|(262144,[31536,57...|\n",
            "|A moment of silen...|     0.0|[a, moment, of, s...|[moment, silence,...|(262144,[62257,71...|\n",
            "|A rainy day amp a...|     0.0|[a, rainy, day, a...|[rainy, day, amp,...|(262144,[23087,28...|\n",
            "|A tree fell down ...|     0.0|[a, tree, fell, d...|[tree, fell, outs...|(262144,[25491,45...|\n",
            "|A wild pitch Come...|     0.0|[a, wild, pitch, ...|[wild, pitch, com...|(262144,[3785,995...|\n",
            "|ACMcWhale I alway...|     0.0|[acmcwhale, i, al...|[acmcwhale, alway...|(262144,[61899,72...|\n",
            "|AFmonkey I think ...|     0.0|[afmonkey, i, thi...|[afmonkey, think,...|(262144,[77886,83...|\n",
            "|AHHHHH i got hicc...|     0.0|[ahhhhh, i, got, ...|[ahhhhh, got, hic...|(262144,[2226,221...|\n",
            "|AIR BERLIN s city...|     0.0|[air, berlin, s, ...|[air, berlin, cit...|(262144,[28791,31...|\n",
            "|AK Tina Murphy I ...|     0.0|[ak, tina, murphy...|[ak, tina, murphy...|(262144,[63413,90...|\n",
            "|ALLIEINCREDIBLE m...|     0.0|[allieincredible,...|[allieincredible,...|(262144,[86728,89...|\n",
            "|AMG it s June and...|     0.0|[amg, it, s, june...|[amg, june, sudde...|(262144,[956,1548...|\n",
            "|ASHLEY TISDALE th...|     0.0|[ashley, tisdale,...|[ashley, tisdale,...|(262144,[33053,10...|\n",
            "|Aaah today is the...|     0.0|[aaah, today, is,...|[aaah, today, day...|(262144,[40265,64...|\n",
            "|Aaarghhhh my love...|     0.0|[aaarghhhh, my, l...|[aaarghhhh, lovel...|(262144,[71578,76...|\n",
            "+--------------------+--------+--------------------+--------------------+--------------------+\n",
            "only showing top 20 rows\n",
            "\n"
          ]
        }
      ]
    },
    {
      "cell_type": "code",
      "source": [
        "df4 = idf.fit(df3).transform(df3)\n",
        "df4.show()"
      ],
      "metadata": {
        "id": "R_9_0lwkKVM4",
        "colab": {
          "base_uri": "https://localhost:8080/"
        },
        "outputId": "2770f831-6f2b-4319-af63-266cb792aaab"
      },
      "execution_count": 120,
      "outputs": [
        {
          "output_type": "stream",
          "name": "stdout",
          "text": [
            "+--------------------+--------+--------------------+--------------------+--------------------+--------------------+\n",
            "|                text|polarity|              words1|              words2|      term_frequency|            features|\n",
            "+--------------------+--------+--------------------+--------------------+--------------------+--------------------+\n",
            "|A big glass of Tr...|     0.0|[a, big, glass, o...|[big, glass, trop...|(262144,[17532,22...|(262144,[17532,22...|\n",
            "|A bit worried tha...|     0.0|[a, bit, worried,...|[bit, worried, am...|(262144,[4214,178...|(262144,[4214,178...|\n",
            "|A great hard trai...|     0.0|[a, great, hard, ...|[great, hard, tra...|(262144,[2437,392...|(262144,[2437,392...|\n",
            "|A guy came to fix...|     0.0|[a, guy, came, to...|[guy, came, fix, ...|(262144,[8804,315...|(262144,[8804,315...|\n",
            "|A lil baby bird f...|     0.0|[a, lil, baby, bi...|[lil, baby, bird,...|(262144,[52800,64...|(262144,[52800,64...|\n",
            "|A little worried ...|     0.0|[a, little, worri...|[little, worried,...|(262144,[31536,57...|(262144,[31536,57...|\n",
            "|A moment of silen...|     0.0|[a, moment, of, s...|[moment, silence,...|(262144,[62257,71...|(262144,[62257,71...|\n",
            "|A rainy day amp a...|     0.0|[a, rainy, day, a...|[rainy, day, amp,...|(262144,[23087,28...|(262144,[23087,28...|\n",
            "|A tree fell down ...|     0.0|[a, tree, fell, d...|[tree, fell, outs...|(262144,[25491,45...|(262144,[25491,45...|\n",
            "|A wild pitch Come...|     0.0|[a, wild, pitch, ...|[wild, pitch, com...|(262144,[3785,995...|(262144,[3785,995...|\n",
            "|ACMcWhale I alway...|     0.0|[acmcwhale, i, al...|[acmcwhale, alway...|(262144,[61899,72...|(262144,[61899,72...|\n",
            "|AFmonkey I think ...|     0.0|[afmonkey, i, thi...|[afmonkey, think,...|(262144,[77886,83...|(262144,[77886,83...|\n",
            "|AHHHHH i got hicc...|     0.0|[ahhhhh, i, got, ...|[ahhhhh, got, hic...|(262144,[2226,221...|(262144,[2226,221...|\n",
            "|AIR BERLIN s city...|     0.0|[air, berlin, s, ...|[air, berlin, cit...|(262144,[28791,31...|(262144,[28791,31...|\n",
            "|AK Tina Murphy I ...|     0.0|[ak, tina, murphy...|[ak, tina, murphy...|(262144,[63413,90...|(262144,[63413,90...|\n",
            "|ALLIEINCREDIBLE m...|     0.0|[allieincredible,...|[allieincredible,...|(262144,[86728,89...|(262144,[86728,89...|\n",
            "|AMG it s June and...|     0.0|[amg, it, s, june...|[amg, june, sudde...|(262144,[956,1548...|(262144,[956,1548...|\n",
            "|ASHLEY TISDALE th...|     0.0|[ashley, tisdale,...|[ashley, tisdale,...|(262144,[33053,10...|(262144,[33053,10...|\n",
            "|Aaah today is the...|     0.0|[aaah, today, is,...|[aaah, today, day...|(262144,[40265,64...|(262144,[40265,64...|\n",
            "|Aaarghhhh my love...|     0.0|[aaarghhhh, my, l...|[aaarghhhh, lovel...|(262144,[71578,76...|(262144,[71578,76...|\n",
            "+--------------------+--------+--------------------+--------------------+--------------------+--------------------+\n",
            "only showing top 20 rows\n",
            "\n"
          ]
        }
      ]
    },
    {
      "cell_type": "code",
      "source": [
        "lr.fit(df4).transform(df4).show()"
      ],
      "metadata": {
        "id": "xaw1DfLkKVPR",
        "colab": {
          "base_uri": "https://localhost:8080/"
        },
        "outputId": "1f61d96e-1a03-4d85-8aa4-e86b71f9eb76"
      },
      "execution_count": 121,
      "outputs": [
        {
          "output_type": "stream",
          "name": "stdout",
          "text": [
            "+--------------------+--------+--------------------+--------------------+--------------------+--------------------+--------------------+--------------------+----------+\n",
            "|                text|polarity|              words1|              words2|      term_frequency|            features|       rawPrediction|         probability|prediction|\n",
            "+--------------------+--------+--------------------+--------------------+--------------------+--------------------+--------------------+--------------------+----------+\n",
            "|A big glass of Tr...|     0.0|[a, big, glass, o...|[big, glass, trop...|(262144,[17532,22...|(262144,[17532,22...|[13.5941237664655...|[0.54050361336036...|       0.0|\n",
            "|A bit worried tha...|     0.0|[a, bit, worried,...|[bit, worried, am...|(262144,[4214,178...|(262144,[4214,178...|[12.2955902803380...|[0.65690830401876...|       0.0|\n",
            "|A great hard trai...|     0.0|[a, great, hard, ...|[great, hard, tra...|(262144,[2437,392...|(262144,[2437,392...|[10.9144617522036...|[0.11529777120135...|       4.0|\n",
            "|A guy came to fix...|     0.0|[a, guy, came, to...|[guy, came, fix, ...|(262144,[8804,315...|(262144,[8804,315...|[12.7345437266528...|[0.91493490147125...|       0.0|\n",
            "|A lil baby bird f...|     0.0|[a, lil, baby, bi...|[lil, baby, bird,...|(262144,[52800,64...|(262144,[52800,64...|[11.8986609966489...|[0.94065908774969...|       0.0|\n",
            "|A little worried ...|     0.0|[a, little, worri...|[little, worried,...|(262144,[31536,57...|(262144,[31536,57...|[13.5567071855369...|[0.94955833034081...|       0.0|\n",
            "|A moment of silen...|     0.0|[a, moment, of, s...|[moment, silence,...|(262144,[62257,71...|(262144,[62257,71...|[11.1624173025814...|[0.76673183370729...|       0.0|\n",
            "|A rainy day amp a...|     0.0|[a, rainy, day, a...|[rainy, day, amp,...|(262144,[23087,28...|(262144,[23087,28...|[9.30259147487240...|[0.86554182140061...|       0.0|\n",
            "|A tree fell down ...|     0.0|[a, tree, fell, d...|[tree, fell, outs...|(262144,[25491,45...|(262144,[25491,45...|[11.6660057665791...|[0.97629425210425...|       0.0|\n",
            "|A wild pitch Come...|     0.0|[a, wild, pitch, ...|[wild, pitch, com...|(262144,[3785,995...|(262144,[3785,995...|[8.79266017980502...|[0.30557282839199...|       4.0|\n",
            "|ACMcWhale I alway...|     0.0|[acmcwhale, i, al...|[acmcwhale, alway...|(262144,[61899,72...|(262144,[61899,72...|[8.61943156699088...|[0.89213517177432...|       0.0|\n",
            "|AFmonkey I think ...|     0.0|[afmonkey, i, thi...|[afmonkey, think,...|(262144,[77886,83...|(262144,[77886,83...|[8.08253515810356...|[0.43756751781360...|       4.0|\n",
            "|AHHHHH i got hicc...|     0.0|[ahhhhh, i, got, ...|[ahhhhh, got, hic...|(262144,[2226,221...|(262144,[2226,221...|[8.43609249781091...|[0.96798413928397...|       0.0|\n",
            "|AIR BERLIN s city...|     0.0|[air, berlin, s, ...|[air, berlin, cit...|(262144,[28791,31...|(262144,[28791,31...|[11.4848642692012...|[0.79372407172658...|       0.0|\n",
            "|AK Tina Murphy I ...|     0.0|[ak, tina, murphy...|[ak, tina, murphy...|(262144,[63413,90...|(262144,[63413,90...|[9.91958403382294...|[0.70836435089505...|       0.0|\n",
            "|ALLIEINCREDIBLE m...|     0.0|[allieincredible,...|[allieincredible,...|(262144,[86728,89...|(262144,[86728,89...|[5.78648901182174...|[0.08815615854004...|       4.0|\n",
            "|AMG it s June and...|     0.0|[amg, it, s, june...|[amg, june, sudde...|(262144,[956,1548...|(262144,[956,1548...|[9.34363230866857...|[0.80030891285323...|       0.0|\n",
            "|ASHLEY TISDALE th...|     0.0|[ashley, tisdale,...|[ashley, tisdale,...|(262144,[33053,10...|(262144,[33053,10...|[8.59278397460789...|[0.65771895782660...|       0.0|\n",
            "|Aaah today is the...|     0.0|[aaah, today, is,...|[aaah, today, day...|(262144,[40265,64...|(262144,[40265,64...|[9.43570966452641...|[0.91488710921791...|       0.0|\n",
            "|Aaarghhhh my love...|     0.0|[aaarghhhh, my, l...|[aaarghhhh, lovel...|(262144,[71578,76...|(262144,[71578,76...|[11.2269376998838...|[0.64532855436376...|       0.0|\n",
            "+--------------------+--------+--------------------+--------------------+--------------------+--------------------+--------------------+--------------------+----------+\n",
            "only showing top 20 rows\n",
            "\n"
          ]
        }
      ]
    },
    {
      "cell_type": "code",
      "source": [
        "semantic_analysis_model = semantic_analysis_pipeline.fit(training_data)"
      ],
      "metadata": {
        "id": "8q2Ioz0oKVRr"
      },
      "execution_count": 122,
      "outputs": []
    },
    {
      "cell_type": "code",
      "source": [
        "spark = SparkSession.builder.appName('ModelTraining').config('spark.executor.memory', '4g').getOrCreate()"
      ],
      "metadata": {
        "id": "1BSiolYiKVTx"
      },
      "execution_count": 123,
      "outputs": []
    },
    {
      "cell_type": "code",
      "source": [
        "%%time\n",
        "trained_df = semantic_analysis_model.transform(training_data)\n",
        "val_df = semantic_analysis_model.transform(validation_data)\n",
        "test_df = semantic_analysis_model.transform(data_test)"
      ],
      "metadata": {
        "id": "VbAQkjp5KVWQ",
        "colab": {
          "base_uri": "https://localhost:8080/"
        },
        "outputId": "2c4d38e4-e2a2-4800-8b73-3a0b82ed9e48"
      },
      "execution_count": 124,
      "outputs": [
        {
          "output_type": "stream",
          "name": "stdout",
          "text": [
            "CPU times: user 158 ms, sys: 27.1 ms, total: 185 ms\n",
            "Wall time: 585 ms\n"
          ]
        }
      ]
    },
    {
      "cell_type": "code",
      "source": [
        "trained_df.show()\n",
        "val_df.show()\n",
        "test_df.show()"
      ],
      "metadata": {
        "id": "ZPcsS--iKVYj",
        "colab": {
          "base_uri": "https://localhost:8080/"
        },
        "outputId": "b13ecfe7-2b51-4aa8-d695-74715288a7ac"
      },
      "execution_count": 125,
      "outputs": [
        {
          "output_type": "stream",
          "name": "stdout",
          "text": [
            "+--------------------+--------+--------------------+--------------------+--------------------+--------------------+--------------------+--------------------+----------+\n",
            "|                text|polarity|              words1|              words2|      term_frequency|            features|       rawPrediction|         probability|prediction|\n",
            "+--------------------+--------+--------------------+--------------------+--------------------+--------------------+--------------------+--------------------+----------+\n",
            "|A B B and a P Mus...|     0.0|[a, b, b, and, a,...|[b, b, p, mustang...|(262144,[17893,29...|(262144,[17893,29...|[11.0551148716274...|[0.99693338110503...|       0.0|\n",
            "|A B C D A I GI Q ...|     0.0|[a, b, c, d, a, i...|[b, c, d, gi, q, ...|(262144,[31015,69...|(262144,[31015,69...|[8.18539506407642...|[0.51178584850457...|       0.0|\n",
            "|A BEAUTIFUL morni...|     0.0|[a, beautiful, mo...|[beautiful, morni...|(262144,[2895,538...|(262144,[2895,538...|[8.31222451073983...|[0.57301822085700...|       0.0|\n",
            "|A BNP MEP in York...|     0.0|[a, bnp, mep, in,...|[bnp, mep, yorksh...|(262144,[78334,99...|(262144,[78334,99...|[11.0937734240930...|[0.99720899082350...|       0.0|\n",
            "|A Banana and cups...|     0.0|[a, banana, and, ...|[banana, cups, co...|(262144,[159212,1...|(262144,[159212,1...|[7.38649851565467...|[0.17669654758164...|       4.0|\n",
            "|A Bear Republic R...|     0.0|[a, bear, republi...|[bear, republic, ...|(262144,[14712,19...|(262144,[14712,19...|[9.01435799864530...|[0.84564450942498...|       0.0|\n",
            "|A Big Happy Birth...|     0.0|[a, big, happy, b...|[big, happy, birt...|(262144,[9129,131...|(262144,[9129,131...|[9.19884974176555...|[0.88737345237890...|       0.0|\n",
            "|A Bizzle Did u ge...|     0.0|[a, bizzle, did, ...|[bizzle, u, get, ...|(262144,[5381,517...|(262144,[5381,517...|[8.29925905983841...|[0.57109819378254...|       0.0|\n",
            "|A Bizzle Did you ...|     0.0|[a, bizzle, did, ...|[bizzle, get, twe...|(262144,[124399,1...|(262144,[124399,1...|[8.20200299005001...|[0.52301821807639...|       0.0|\n",
            "|A Bizzle I know I...|     0.0|[a, bizzle, i, kn...|[bizzle, know, ma...|(262144,[76285,76...|(262144,[76285,76...|[7.61554532443824...|[0.25127365383693...|       4.0|\n",
            "|A Bizzle Oh I did...|     0.0|[a, bizzle, oh, i...|[bizzle, oh, didn...|(262144,[18184,69...|(262144,[18184,69...|[8.76951205719902...|[0.77160877406703...|       0.0|\n",
            "|A Bizzle ooo no I...|     0.0|[a, bizzle, ooo, ...|[bizzle, ooo, yim...|(262144,[15408,12...|(262144,[15408,12...|[7.87542534015364...|[0.36375901652006...|       4.0|\n",
            "|A BlueMidnight aw...|     0.0|[a, bluemidnight,...|[bluemidnight, aw...|(262144,[10345,23...|(262144,[10345,23...|[8.09154884042972...|[0.46690404072564...|       4.0|\n",
            "|A Borg is in Tesc...|     0.0|[a, borg, is, in,...|[borg, tesco, loo...|(262144,[39895,46...|(262144,[39895,46...|[8.22845200587021...|[0.53186999833502...|       0.0|\n",
            "|A C Duncan dang i...|     0.0|[a, c, duncan, da...|[c, duncan, dang,...|(262144,[29129,72...|(262144,[29129,72...|[9.28573127623084...|[0.90479299822790...|       0.0|\n",
            "|           A C Tweet|     0.0|       [a, c, tweet]|          [c, tweet]|(262144,[74920,12...|(262144,[74920,12...|[7.87153850462065...|[0.36320926682083...|       4.0|\n",
            "|   A C does not work|     0.0|[a, c, does, not,...|           [c, work]|(262144,[34343,74...|(262144,[34343,74...|[8.51721731728128...|[0.67472471442635...|       0.0|\n",
            "|A C fixed Now I h...|     0.0|[a, c, fixed, now...|[c, fixed, excuse...|(262144,[29129,44...|(262144,[29129,44...|[8.04873222859964...|[0.44608294124086...|       4.0|\n",
            "|A C in my car doe...|     0.0|[a, c, in, my, ca...|[c, car, doesn, w...|(262144,[34343,43...|(262144,[34343,43...|[10.5494185738034...|[0.99162340497842...|       0.0|\n",
            "|A C is busted and...|     0.0|[a, c, is, busted...|[c, busted, degre...|(262144,[13020,24...|(262144,[13020,24...|[8.99454368264274...|[0.84231021641231...|       0.0|\n",
            "+--------------------+--------+--------------------+--------------------+--------------------+--------------------+--------------------+--------------------+----------+\n",
            "only showing top 20 rows\n",
            "\n",
            "+--------------------+--------+--------------------+--------------------+--------------------+--------------------+--------------------+--------------------+----------+\n",
            "|                text|polarity|              words1|              words2|      term_frequency|            features|       rawPrediction|         probability|prediction|\n",
            "+--------------------+--------+--------------------+--------------------+--------------------+--------------------+--------------------+--------------------+----------+\n",
            "|A big glass of Tr...|     0.0|[a, big, glass, o...|[big, glass, trop...|(262144,[17532,22...|(262144,[17532,22...|[9.01074302581583...|[0.84348517131506...|       0.0|\n",
            "|A bit worried tha...|     0.0|[a, bit, worried,...|[bit, worried, am...|(262144,[4214,178...|(262144,[4214,178...|[9.55078030080571...|[0.94133119488345...|       0.0|\n",
            "|A great hard trai...|     0.0|[a, great, hard, ...|[great, hard, tra...|(262144,[2437,392...|(262144,[2437,392...|[7.16029155919522...|[0.11855613122535...|       4.0|\n",
            "|A guy came to fix...|     0.0|[a, guy, came, to...|[guy, came, fix, ...|(262144,[8804,315...|(262144,[8804,315...|[9.09319699184728...|[0.86525499562612...|       0.0|\n",
            "|A lil baby bird f...|     0.0|[a, lil, baby, bi...|[lil, baby, bird,...|(262144,[52800,64...|(262144,[52800,64...|[8.61809079267157...|[0.71354712996654...|       0.0|\n",
            "|A little worried ...|     0.0|[a, little, worri...|[little, worried,...|(262144,[31536,57...|(262144,[31536,57...|[8.85240367986026...|[0.79850973850465...|       0.0|\n",
            "|A moment of silen...|     0.0|[a, moment, of, s...|[moment, silence,...|(262144,[62257,71...|(262144,[62257,71...|[8.63100764130312...|[0.71878009666523...|       0.0|\n",
            "|A rainy day amp a...|     0.0|[a, rainy, day, a...|[rainy, day, amp,...|(262144,[23087,28...|(262144,[23087,28...|[8.84659664481515...|[0.79917636926891...|       0.0|\n",
            "|A tree fell down ...|     0.0|[a, tree, fell, d...|[tree, fell, outs...|(262144,[25491,45...|(262144,[25491,45...|[8.60320399846170...|[0.70611597935697...|       0.0|\n",
            "|A wild pitch Come...|     0.0|[a, wild, pitch, ...|[wild, pitch, com...|(262144,[3785,995...|(262144,[3785,995...|[6.88600459186579...|[0.07256385826903...|       4.0|\n",
            "|ACMcWhale I alway...|     0.0|[acmcwhale, i, al...|[acmcwhale, alway...|(262144,[61899,72...|(262144,[61899,72...|[8.52017557044154...|[0.67502131533563...|       0.0|\n",
            "|AFmonkey I think ...|     0.0|[afmonkey, i, thi...|[afmonkey, think,...|(262144,[77886,83...|(262144,[77886,83...|[8.72205209214297...|[0.75587768076833...|       0.0|\n",
            "|AHHHHH i got hicc...|     0.0|[ahhhhh, i, got, ...|[ahhhhh, got, hic...|(262144,[2226,221...|(262144,[2226,221...|[10.4349102578342...|[0.98966375696560...|       0.0|\n",
            "|AIR BERLIN s city...|     0.0|[air, berlin, s, ...|[air, berlin, cit...|(262144,[28791,31...|(262144,[28791,31...|[7.72483157236376...|[0.29232613728252...|       4.0|\n",
            "|AK Tina Murphy I ...|     0.0|[ak, tina, murphy...|[ak, tina, murphy...|(262144,[63413,90...|(262144,[63413,90...|[9.51499238282360...|[0.93735352719053...|       0.0|\n",
            "|ALLIEINCREDIBLE m...|     0.0|[allieincredible,...|[allieincredible,...|(262144,[86728,89...|(262144,[86728,89...|[8.38765276401528...|[0.61447982084473...|       0.0|\n",
            "|AMG it s June and...|     0.0|[amg, it, s, june...|[amg, june, sudde...|(262144,[956,1548...|(262144,[956,1548...|[9.93037308802782...|[0.97194188919041...|       0.0|\n",
            "|ASHLEY TISDALE th...|     0.0|[ashley, tisdale,...|[ashley, tisdale,...|(262144,[33053,10...|(262144,[33053,10...|[7.96549666381222...|[0.40513080082893...|       4.0|\n",
            "|Aaah today is the...|     0.0|[aaah, today, is,...|[aaah, today, day...|(262144,[40265,64...|(262144,[40265,64...|[9.52118859029689...|[0.93876416177132...|       0.0|\n",
            "|Aaarghhhh my love...|     0.0|[aaarghhhh, my, l...|[aaarghhhh, lovel...|(262144,[71578,76...|(262144,[71578,76...|[9.33703671111839...|[0.91298036726168...|       0.0|\n",
            "+--------------------+--------+--------------------+--------------------+--------------------+--------------------+--------------------+--------------------+----------+\n",
            "only showing top 20 rows\n",
            "\n",
            "+--------------------+--------+--------------------+--------------------+--------------------+--------------------+--------------------+--------------------+----------+\n",
            "|                text|polarity|              words1|              words2|      term_frequency|            features|       rawPrediction|         probability|prediction|\n",
            "+--------------------+--------+--------------------+--------------------+--------------------+--------------------+--------------------+--------------------+----------+\n",
            "|stellargirl I loo...|     4.0|[stellargirl, i, ...|[stellargirl, loo...|(262144,[83462,15...|(262144,[83462,15...|[6.44649936459729...|[0.03167935708665...|       4.0|\n",
            "|Reading my kindle...|     4.0|[reading, my, kin...|[reading, kindle,...|(262144,[53570,73...|(262144,[53570,73...|[7.25505680356227...|[0.14116191650572...|       4.0|\n",
            "|Ok first assesmen...|     4.0|[ok, first, asses...|[ok, first, asses...|(262144,[41748,13...|(262144,[41748,13...|[7.49359194694470...|[0.20979361563497...|       4.0|\n",
            "|kenburbary You ll...|     4.0|[kenburbary, you,...|[kenburbary, ll, ...|(262144,[1546,218...|(262144,[1546,218...|[9.63094240698473...|[0.94917989096345...|       0.0|\n",
            "|mikefish Fair eno...|     4.0|[mikefish, fair, ...|[mikefish, fair, ...|(262144,[5802,323...|(262144,[5802,323...|[8.23528471683756...|[0.53968057009426...|       0.0|\n",
            "|richardebaker no ...|     4.0|[richardebaker, n...|[richardebaker, b...|(262144,[70152,17...|(262144,[70152,17...|[7.18375326416488...|[0.12507398678609...|       4.0|\n",
            "|Fuck this economy...|     0.0|[fuck, this, econ...|[fuck, economy, h...|(262144,[16474,72...|(262144,[16474,72...|[10.0322581877682...|[0.97697346527609...|       0.0|\n",
            "|Jquery is my new ...|     4.0|[jquery, is, my, ...|[jquery, new, bes...|(262144,[74520,89...|(262144,[74520,89...|[7.28037525327567...|[0.14826044119342...|       4.0|\n",
            "|       Loves twitter|     4.0|    [loves, twitter]|    [loves, twitter]|(262144,[1512,115...|(262144,[1512,115...|[7.34690249318304...|[0.16640669755717...|       4.0|\n",
            "|how can you not l...|     4.0|[how, can, you, n...|[love, obama, mak...|(262144,[63310,15...|(262144,[63310,15...|[7.33092089391756...|[0.16149939644546...|       4.0|\n",
            "|Check this video ...|     2.0|[check, this, vid...|[check, video, pr...|(262144,[64841,75...|(262144,[64841,75...|[6.95750648385669...|[0.08231917013653...|       4.0|\n",
            "|Karoli I firmly b...|     0.0|[karoli, i, firml...|[karoli, firmly, ...|(262144,[4362,928...|(262144,[4362,928...|[9.55111551173466...|[0.94130550396986...|       0.0|\n",
            "|House Corresponde...|     4.0|[house, correspon...|[house, correspon...|(262144,[5381,607...|(262144,[5381,607...|[8.58851079320002...|[0.69975098708249...|       0.0|\n",
            "|Watchin Espn Jus ...|     4.0|[watchin, espn, j...|[watchin, espn, j...|(262144,[14041,47...|(262144,[14041,47...|[7.23103441329270...|[0.13415896276855...|       4.0|\n",
            "|dear nike stop wi...|     0.0|[dear, nike, stop...|[dear, nike, stop...|(262144,[9657,470...|(262144,[9657,470...|[8.88408382325640...|[0.80918198325664...|       0.0|\n",
            "|lebron best athle...|     4.0|[lebron, best, at...|[lebron, best, at...|(262144,[64558,94...|(262144,[64558,94...|[8.84197214420973...|[0.79527581654361...|       0.0|\n",
            "|I was talking to ...|     0.0|[i, was, talking,...|[talking, guy, la...|(262144,[2437,538...|(262144,[2437,538...|[10.1115476635126...|[0.98002308026523...|       0.0|\n",
            "|i love lebron htt...|     4.0|[i, love, lebron,...|[love, lebron, ht...|(262144,[64558,64...|(262144,[64558,64...|[7.05151780979868...|[0.09889818788642...|       4.0|\n",
            "|ludajuice Lebron ...|     0.0|[ludajuice, lebro...|[ludajuice, lebro...|(262144,[31536,64...|(262144,[31536,64...|[8.64955259199936...|[0.72731663891075...|       0.0|\n",
            "|Pmillzz lebron IS...|     4.0|[pmillzz, lebron,...|[pmillzz, lebron,...|(262144,[64558,16...|(262144,[64558,16...|[8.37847777144075...|[0.61052956627976...|       0.0|\n",
            "+--------------------+--------+--------------------+--------------------+--------------------+--------------------+--------------------+--------------------+----------+\n",
            "only showing top 20 rows\n",
            "\n"
          ]
        }
      ]
    },
    {
      "cell_type": "code",
      "source": [
        "%%time\n",
        "from pyspark.ml.evaluation import RegressionEvaluator, MulticlassClassificationEvaluator\n",
        "\n",
        "evaluator = MulticlassClassificationEvaluator(labelCol='polarity', metricName='accuracy')\n",
        "accuracy_val = evaluator.evaluate(val_df)\n",
        "accuracy_test = evaluator.evaluate(test_df)\n",
        "\n",
        "print('='*15+'Validation Data'+'='*15)\n",
        "print(f'Accuracy: {accuracy_val*100:.5f}%')\n",
        "print('='*15+'Test Data'+'='*15)\n",
        "print(f'Accuracy: {accuracy_test*100:.5f}%')"
      ],
      "metadata": {
        "id": "O6flsnGkKVbA",
        "colab": {
          "base_uri": "https://localhost:8080/"
        },
        "outputId": "4356058c-afa1-44eb-a1f7-3e9b62343149"
      },
      "execution_count": 126,
      "outputs": [
        {
          "output_type": "stream",
          "name": "stdout",
          "text": [
            "===============Validation Data===============\n",
            "Accuracy: 76.98890%\n",
            "===============Test Data===============\n",
            "Accuracy: 58.23293%\n",
            "CPU times: user 178 ms, sys: 22.9 ms, total: 201 ms\n",
            "Wall time: 21.3 s\n"
          ]
        }
      ]
    },
    {
      "cell_type": "code",
      "source": [
        "# final_model = semantic_analysis_pipeline.fit(data_training)\n",
        "# final_model.save(PATH)"
      ],
      "metadata": {
        "id": "ZEFV4oI6OydB"
      },
      "execution_count": 127,
      "outputs": []
    },
    {
      "cell_type": "markdown",
      "source": [
        "## Tài Liệu Tham Khảo\n",
        "- [pyspark.ml package](https://spark.apache.org/docs/3.0.1/api/python/pyspark.ml.html#module-pyspark.ml.linalg)\n",
        "- [Data Types - RDD-based API](https://spark.apache.org/docs/latest/mllib-data-types.html)\n",
        "- [Data sources](https://spark.apache.org/docs/latest/ml-datasource#data-sources)\n",
        "- [Apache Spark](https://github.com/apache/spark/tree/v3.0.1)\n",
        "- [Machine Learning Library (MLlib) Guide](https://spark.apache.org/docs/3.0.1/ml-guide.html)\n",
        "- [MLlib (DataFrame-based)](https://spark.apache.org/docs/latest/api/python/reference/pyspark.ml.html)\n"
      ],
      "metadata": {
        "id": "0itVDUF35Ap8"
      }
    }
  ]
}
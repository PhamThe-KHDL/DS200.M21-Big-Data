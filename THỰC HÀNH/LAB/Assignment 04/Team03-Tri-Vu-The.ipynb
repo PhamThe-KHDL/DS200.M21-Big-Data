{
 "cells": [
  {
   "cell_type": "markdown",
   "metadata": {
    "id": "V11tiprMtAWA"
   },
   "source": [
    "**Thành Viên: Phạm Đức Thể, Trần Triệu Vũ, Võ Minh Trí**\n",
    "\n",
    "**MSSV: 19522253, 19522539, 19522396**\n",
    "\n",
    "**Lớp: DS200.M21**\n",
    "\n",
    "**Nội Dung: [PySpark - DataFrame](https://drive.google.com/file/d/1Pj0FHYEAzyOHZ5HB8beJL_6N6SQALgvY/view?usp=sharing)**\n",
    "\n",
    "**Ngày: 04/05/2022** \n",
    "\n",
    "[![Open In Colab](https://colab.research.google.com/assets/colab-badge.svg)](https://colab.research.google.com/drive/15461DibXLPMiXKt8tFU3a2YAUDWNKSKs?usp=sharing)"
   ]
  },
  {
   "cell_type": "markdown",
   "metadata": {
    "id": "C5PruyWuWFUN"
   },
   "source": [
    "# **Big Data - PySpark - DataFrame**"
   ]
  },
  {
   "cell_type": "code",
   "execution_count": null,
   "metadata": {
    "colab": {
     "base_uri": "https://localhost:8080/"
    },
    "id": "ook9RGjRmOxr",
    "outputId": "ff8b66b4-85c6-49e2-b5a4-5d8f27e5a596"
   },
   "outputs": [
    {
     "name": "stdout",
     "output_type": "stream",
     "text": [
      "Collecting pyspark==3.0.1\n",
      "  Downloading pyspark-3.0.1.tar.gz (204.2 MB)\n",
      "\u001b[K     |████████████████████████████████| 204.2 MB 34 kB/s \n",
      "\u001b[?25hCollecting py4j==0.10.9\n",
      "  Downloading py4j-0.10.9-py2.py3-none-any.whl (198 kB)\n",
      "\u001b[K     |████████████████████████████████| 198 kB 50.2 MB/s \n",
      "\u001b[?25hBuilding wheels for collected packages: pyspark\n",
      "  Building wheel for pyspark (setup.py) ... \u001b[?25l\u001b[?25hdone\n",
      "  Created wheel for pyspark: filename=pyspark-3.0.1-py2.py3-none-any.whl size=204612243 sha256=db700849fa2acc9db466f80f399dbebc7dedaa1032900cb5958de4bbe1c66a81\n",
      "  Stored in directory: /root/.cache/pip/wheels/5e/34/fa/b37b5cef503fc5148b478b2495043ba61b079120b7ff379f9b\n",
      "Successfully built pyspark\n",
      "Installing collected packages: py4j, pyspark\n",
      "Successfully installed py4j-0.10.9 pyspark-3.0.1\n"
     ]
    }
   ],
   "source": [
    "!pip install pyspark==3.0.1"
   ]
  },
  {
   "cell_type": "code",
   "execution_count": null,
   "metadata": {
    "id": "vTBsO1LhmT_y"
   },
   "outputs": [],
   "source": [
    "import pyspark\n",
    "from pyspark.sql import SparkSession\n",
    "from heapq import nlargest, nsmallest\n",
    "from pyspark.sql import functions as f\n",
    "from pyspark.sql.window import Window"
   ]
  },
  {
   "cell_type": "code",
   "execution_count": null,
   "metadata": {
    "id": "ZDct9hSfmheG"
   },
   "outputs": [],
   "source": [
    "spark = SparkSession.builder.appName(\"Assignment04\").getOrCreate()"
   ]
  },
  {
   "cell_type": "code",
   "execution_count": null,
   "metadata": {
    "id": "1R3mdFcwi78V"
   },
   "outputs": [],
   "source": [
    "PATH = '/content/drive/MyDrive/TÀI LIỆU HỌC TẬP ĐẠI HỌC 2019-2023/NĂM 3 2021-2022/HỌC KỲ 2 2021 - 2022/DS200.M21 - PHÂN TÍCH DỮ LIỆU LỚN/THỰC HÀNH/LAB/Assignment04 - 04 05 2022/'"
   ]
  },
  {
   "cell_type": "code",
   "execution_count": null,
   "metadata": {
    "colab": {
     "base_uri": "https://localhost:8080/"
    },
    "id": "NwtsNFUgxDk5",
    "outputId": "328ea707-2164-4eda-883c-a391d88a1f18"
   },
   "outputs": [
    {
     "name": "stdout",
     "output_type": "stream",
     "text": [
      "root\n",
      " |-- movieId: integer (nullable = true)\n",
      " |-- title: string (nullable = true)\n",
      " |-- genres: string (nullable = true)\n",
      "\n",
      "+-------+-------------------------------------+-------------------------------------------+\n",
      "|movieId|title                                |genres                                     |\n",
      "+-------+-------------------------------------+-------------------------------------------+\n",
      "|1      |Toy Story (1995)                     |Adventure|Animation|Children|Comedy|Fantasy|\n",
      "|2      |Jumanji (1995)                       |Adventure|Children|Fantasy                 |\n",
      "|3      |Grumpier Old Men (1995)              |Comedy|Romance                             |\n",
      "|4      |Waiting to Exhale (1995)             |Comedy|Drama|Romance                       |\n",
      "|5      |Father of the Bride Part II (1995)   |Comedy                                     |\n",
      "|6      |Heat (1995)                          |Action|Crime|Thriller                      |\n",
      "|7      |Sabrina (1995)                       |Comedy|Romance                             |\n",
      "|8      |Tom and Huck (1995)                  |Adventure|Children                         |\n",
      "|9      |Sudden Death (1995)                  |Action                                     |\n",
      "|10     |GoldenEye (1995)                     |Action|Adventure|Thriller                  |\n",
      "|11     |American President, The (1995)       |Comedy|Drama|Romance                       |\n",
      "|12     |Dracula: Dead and Loving It (1995)   |Comedy|Horror                              |\n",
      "|13     |Balto (1995)                         |Adventure|Animation|Children               |\n",
      "|14     |Nixon (1995)                         |Drama                                      |\n",
      "|15     |Cutthroat Island (1995)              |Action|Adventure|Romance                   |\n",
      "|16     |Casino (1995)                        |Crime|Drama                                |\n",
      "|17     |Sense and Sensibility (1995)         |Drama|Romance                              |\n",
      "|18     |Four Rooms (1995)                    |Comedy                                     |\n",
      "|19     |Ace Ventura: When Nature Calls (1995)|Comedy                                     |\n",
      "|20     |Money Train (1995)                   |Action|Comedy|Crime|Drama|Thriller         |\n",
      "+-------+-------------------------------------+-------------------------------------------+\n",
      "only showing top 20 rows\n",
      "\n"
     ]
    }
   ],
   "source": [
    "movies = spark.read.csv(path=PATH+'movies_small.csv', \n",
    "                        sep=',', header=True, quote='\"', \n",
    "                        schema='movieId INT, title STRING, genres STRING')\n",
    "\n",
    "movies.printSchema()\n",
    "movies.show(truncate=False)"
   ]
  },
  {
   "cell_type": "code",
   "execution_count": null,
   "metadata": {
    "colab": {
     "base_uri": "https://localhost:8080/"
    },
    "id": "7RYFZLbPxDn2",
    "outputId": "30a1ad8b-55fa-4ed5-9dc8-1a9be1f58029"
   },
   "outputs": [
    {
     "name": "stdout",
     "output_type": "stream",
     "text": [
      "root\n",
      " |-- userId: integer (nullable = true)\n",
      " |-- movieId: integer (nullable = true)\n",
      " |-- rating: double (nullable = true)\n",
      " |-- timestamp_unix: integer (nullable = true)\n",
      " |-- timestamp: timestamp (nullable = true)\n",
      "\n",
      "+------+-------+------+--------------+-------------------+\n",
      "|userId|movieId|rating|timestamp_unix|          timestamp|\n",
      "+------+-------+------+--------------+-------------------+\n",
      "|     1|      1|   4.0|     964982703|2000-07-30 18:45:03|\n",
      "|     1|      3|   4.0|     964981247|2000-07-30 18:20:47|\n",
      "|     1|      6|   4.0|     964982224|2000-07-30 18:37:04|\n",
      "|     1|     47|   5.0|     964983815|2000-07-30 19:03:35|\n",
      "|     1|     50|   5.0|     964982931|2000-07-30 18:48:51|\n",
      "|     1|     70|   3.0|     964982400|2000-07-30 18:40:00|\n",
      "|     1|    101|   5.0|     964980868|2000-07-30 18:14:28|\n",
      "|     1|    110|   4.0|     964982176|2000-07-30 18:36:16|\n",
      "|     1|    151|   5.0|     964984041|2000-07-30 19:07:21|\n",
      "|     1|    157|   5.0|     964984100|2000-07-30 19:08:20|\n",
      "|     1|    163|   5.0|     964983650|2000-07-30 19:00:50|\n",
      "|     1|    216|   5.0|     964981208|2000-07-30 18:20:08|\n",
      "|     1|    223|   3.0|     964980985|2000-07-30 18:16:25|\n",
      "|     1|    231|   5.0|     964981179|2000-07-30 18:19:39|\n",
      "|     1|    235|   4.0|     964980908|2000-07-30 18:15:08|\n",
      "|     1|    260|   5.0|     964981680|2000-07-30 18:28:00|\n",
      "|     1|    296|   3.0|     964982967|2000-07-30 18:49:27|\n",
      "|     1|    316|   3.0|     964982310|2000-07-30 18:38:30|\n",
      "|     1|    333|   5.0|     964981179|2000-07-30 18:19:39|\n",
      "|     1|    349|   4.0|     964982563|2000-07-30 18:42:43|\n",
      "+------+-------+------+--------------+-------------------+\n",
      "only showing top 20 rows\n",
      "\n"
     ]
    }
   ],
   "source": [
    "ratings = spark.read.csv(path=PATH+'ratings_small.csv', \n",
    "                         sep=',', header=True, quote='\"', \n",
    "                         schema='userId INT, movieId INT, rating DOUBLE, timestamp INT') \\\n",
    "                         .withColumnRenamed('timestamp', 'timestamp_unix') \\\n",
    "                         .withColumn('timestamp', f.to_timestamp(f.from_unixtime('timestamp_unix')))\n",
    "\n",
    "ratings.printSchema()\n",
    "ratings.show()"
   ]
  },
  {
   "cell_type": "code",
   "execution_count": null,
   "metadata": {
    "colab": {
     "base_uri": "https://localhost:8080/"
    },
    "id": "2Ie4nZEazPns",
    "outputId": "936a09de-b523-4018-f665-bb6bab3a647b"
   },
   "outputs": [
    {
     "name": "stdout",
     "output_type": "stream",
     "text": [
      "+-------+-----------------------------------------+-------------------------------------------+------+------+--------------+-------------------+\n",
      "|movieId|title                                    |genres                                     |userId|rating|timestamp_unix|timestamp          |\n",
      "+-------+-----------------------------------------+-------------------------------------------+------+------+--------------+-------------------+\n",
      "|1      |Toy Story (1995)                         |Adventure|Animation|Children|Comedy|Fantasy|1     |4.0   |964982703     |2000-07-30 18:45:03|\n",
      "|3      |Grumpier Old Men (1995)                  |Comedy|Romance                             |1     |4.0   |964981247     |2000-07-30 18:20:47|\n",
      "|6      |Heat (1995)                              |Action|Crime|Thriller                      |1     |4.0   |964982224     |2000-07-30 18:37:04|\n",
      "|47     |Seven (a.k.a. Se7en) (1995)              |Mystery|Thriller                           |1     |5.0   |964983815     |2000-07-30 19:03:35|\n",
      "|50     |Usual Suspects, The (1995)               |Crime|Mystery|Thriller                     |1     |5.0   |964982931     |2000-07-30 18:48:51|\n",
      "|70     |From Dusk Till Dawn (1996)               |Action|Comedy|Horror|Thriller              |1     |3.0   |964982400     |2000-07-30 18:40:00|\n",
      "|101    |Bottle Rocket (1996)                     |Adventure|Comedy|Crime|Romance             |1     |5.0   |964980868     |2000-07-30 18:14:28|\n",
      "|110    |Braveheart (1995)                        |Action|Drama|War                           |1     |4.0   |964982176     |2000-07-30 18:36:16|\n",
      "|151    |Rob Roy (1995)                           |Action|Drama|Romance|War                   |1     |5.0   |964984041     |2000-07-30 19:07:21|\n",
      "|157    |Canadian Bacon (1995)                    |Comedy|War                                 |1     |5.0   |964984100     |2000-07-30 19:08:20|\n",
      "|163    |Desperado (1995)                         |Action|Romance|Western                     |1     |5.0   |964983650     |2000-07-30 19:00:50|\n",
      "|216    |Billy Madison (1995)                     |Comedy                                     |1     |5.0   |964981208     |2000-07-30 18:20:08|\n",
      "|223    |Clerks (1994)                            |Comedy                                     |1     |3.0   |964980985     |2000-07-30 18:16:25|\n",
      "|231    |Dumb & Dumber (Dumb and Dumber) (1994)   |Adventure|Comedy                           |1     |5.0   |964981179     |2000-07-30 18:19:39|\n",
      "|235    |Ed Wood (1994)                           |Comedy|Drama                               |1     |4.0   |964980908     |2000-07-30 18:15:08|\n",
      "|260    |Star Wars: Episode IV - A New Hope (1977)|Action|Adventure|Sci-Fi                    |1     |5.0   |964981680     |2000-07-30 18:28:00|\n",
      "|296    |Pulp Fiction (1994)                      |Comedy|Crime|Drama|Thriller                |1     |3.0   |964982967     |2000-07-30 18:49:27|\n",
      "|316    |Stargate (1994)                          |Action|Adventure|Sci-Fi                    |1     |3.0   |964982310     |2000-07-30 18:38:30|\n",
      "|333    |Tommy Boy (1995)                         |Comedy                                     |1     |5.0   |964981179     |2000-07-30 18:19:39|\n",
      "|349    |Clear and Present Danger (1994)          |Action|Crime|Drama|Thriller                |1     |4.0   |964982563     |2000-07-30 18:42:43|\n",
      "+-------+-----------------------------------------+-------------------------------------------+------+------+--------------+-------------------+\n",
      "only showing top 20 rows\n",
      "\n"
     ]
    }
   ],
   "source": [
    "movies_ratings = movies.join(ratings, ['movieId'])\n",
    "movies_ratings.show(truncate=False)"
   ]
  },
  {
   "cell_type": "markdown",
   "metadata": {
    "id": "jxLQnzSdWOYS"
   },
   "source": [
    "## **Câu 1:** Show the number of movies made in each year. The results are sorted by year."
   ]
  },
  {
   "cell_type": "code",
   "execution_count": null,
   "metadata": {
    "colab": {
     "base_uri": "https://localhost:8080/"
    },
    "id": "KvzKUgX4n9R6",
    "outputId": "595095e5-2e46-441f-ba60-c671e0645da2"
   },
   "outputs": [
    {
     "name": "stdout",
     "output_type": "stream",
     "text": [
      "+----+-----+\n",
      "|year|count|\n",
      "+----+-----+\n",
      "|null|25   |\n",
      "|1902|1    |\n",
      "|1903|1    |\n",
      "|1908|1    |\n",
      "|1915|1    |\n",
      "|1916|4    |\n",
      "|1917|1    |\n",
      "|1919|1    |\n",
      "|1920|2    |\n",
      "|1921|1    |\n",
      "|1922|1    |\n",
      "|1923|4    |\n",
      "|1924|5    |\n",
      "|1925|4    |\n",
      "|1926|5    |\n",
      "|1927|7    |\n",
      "|1928|4    |\n",
      "|1929|4    |\n",
      "|1930|5    |\n",
      "|1931|14   |\n",
      "|1932|9    |\n",
      "|1933|12   |\n",
      "|1934|11   |\n",
      "|1935|13   |\n",
      "|1936|18   |\n",
      "|1937|16   |\n",
      "|1938|15   |\n",
      "|1939|23   |\n",
      "|1940|25   |\n",
      "|1941|18   |\n",
      "|1942|23   |\n",
      "|1943|10   |\n",
      "|1944|16   |\n",
      "|1945|17   |\n",
      "|1946|23   |\n",
      "|1947|20   |\n",
      "|1948|20   |\n",
      "|1949|25   |\n",
      "|1950|21   |\n",
      "|1951|22   |\n",
      "|1952|16   |\n",
      "|1953|30   |\n",
      "|1954|23   |\n",
      "|1955|36   |\n",
      "|1956|30   |\n",
      "|1957|33   |\n",
      "|1958|31   |\n",
      "|1959|37   |\n",
      "|1960|37   |\n",
      "|1961|34   |\n",
      "|1962|40   |\n",
      "|1963|39   |\n",
      "|1964|43   |\n",
      "|1965|47   |\n",
      "|1966|42   |\n",
      "|1967|42   |\n",
      "|1968|42   |\n",
      "|1969|35   |\n",
      "|1970|33   |\n",
      "|1971|47   |\n",
      "|1972|39   |\n",
      "|1973|58   |\n",
      "|1974|45   |\n",
      "|1975|42   |\n",
      "|1976|44   |\n",
      "|1977|63   |\n",
      "|1978|59   |\n",
      "|1979|69   |\n",
      "|1980|89   |\n",
      "|1981|92   |\n",
      "|1982|87   |\n",
      "|1983|83   |\n",
      "|1984|101  |\n",
      "|1985|126  |\n",
      "|1986|139  |\n",
      "|1987|153  |\n",
      "|1988|165  |\n",
      "|1989|142  |\n",
      "|1990|147  |\n",
      "|1991|147  |\n",
      "|1992|167  |\n",
      "|1993|198  |\n",
      "|1994|237  |\n",
      "|1995|258  |\n",
      "|1996|276  |\n",
      "|1997|260  |\n",
      "|1998|257  |\n",
      "|1999|262  |\n",
      "|2000|283  |\n",
      "|2001|294  |\n",
      "|2002|310  |\n",
      "|2003|279  |\n",
      "|2004|279  |\n",
      "|2005|273  |\n",
      "|2006|295  |\n",
      "|2007|282  |\n",
      "|2008|268  |\n",
      "|2009|282  |\n",
      "|2010|247  |\n",
      "|2011|252  |\n",
      "+----+-----+\n",
      "only showing top 100 rows\n",
      "\n"
     ]
    }
   ],
   "source": [
    "movies.withColumn('year', f.regexp_extract(f.col('title'), '\\(([^()]+)\\)$', 1).cast('int')) \\\n",
    ".groupBy('year').count().sort('year').show(100,truncate=False)"
   ]
  },
  {
   "cell_type": "markdown",
   "metadata": {
    "id": "QkLdOhpjWS9M"
   },
   "source": [
    "## **Câu 2:** Show the number of movies belonging to each genre made in each year. The results are sorted by year. The results of each genre are supposed to be displayed in a column."
   ]
  },
  {
   "cell_type": "code",
   "execution_count": null,
   "metadata": {
    "colab": {
     "base_uri": "https://localhost:8080/"
    },
    "id": "ZGfJ8exBn-5H",
    "outputId": "fcb56d17-b73f-4252-fcda-ddff69b6a528"
   },
   "outputs": [
    {
     "name": "stdout",
     "output_type": "stream",
     "text": [
      "+------------------+-----+----+\n",
      "|genres            |count|year|\n",
      "+------------------+-----+----+\n",
      "|Comedy            |3    |null|\n",
      "|(no genres listed)|9    |null|\n",
      "|Fantasy           |2    |null|\n",
      "|Drama             |6    |null|\n",
      "|Crime             |2    |null|\n",
      "|Sci-Fi            |5    |null|\n",
      "|War               |1    |null|\n",
      "|Animation         |5    |null|\n",
      "|Adventure         |3    |null|\n",
      "|Horror            |3    |null|\n",
      "|Children          |1    |null|\n",
      "|Action            |7    |null|\n",
      "|Thriller          |3    |null|\n",
      "|Adventure         |1    |1902|\n",
      "|Action            |1    |1902|\n",
      "|Fantasy           |1    |1902|\n",
      "|Sci-Fi            |1    |1902|\n",
      "|Crime             |1    |1903|\n",
      "|Western           |1    |1903|\n",
      "|Comedy            |1    |1908|\n",
      "|Sci-Fi            |1    |1908|\n",
      "|Animation         |1    |1908|\n",
      "|Drama             |1    |1915|\n",
      "|War               |1    |1915|\n",
      "|Comedy            |1    |1916|\n",
      "|Adventure         |1    |1916|\n",
      "|Sci-Fi            |1    |1916|\n",
      "|Fantasy           |1    |1916|\n",
      "|Romance           |1    |1916|\n",
      "|Drama             |1    |1916|\n",
      "|Action            |1    |1916|\n",
      "|Comedy            |1    |1917|\n",
      "|Comedy            |1    |1919|\n",
      "|Drama             |1    |1919|\n",
      "|Fantasy           |1    |1920|\n",
      "|Crime             |1    |1920|\n",
      "|Horror            |1    |1920|\n",
      "|Comedy            |1    |1920|\n",
      "|Drama             |1    |1921|\n",
      "|Comedy            |1    |1921|\n",
      "|Horror            |1    |1922|\n",
      "|Horror            |1    |1923|\n",
      "|Action            |1    |1923|\n",
      "|Drama             |2    |1923|\n",
      "|Romance           |1    |1923|\n",
      "|Comedy            |2    |1923|\n",
      "|Fantasy           |3    |1924|\n",
      "|Sci-Fi            |1    |1924|\n",
      "|Drama             |2    |1924|\n",
      "|Romance           |2    |1924|\n",
      "|Thriller          |1    |1924|\n",
      "|Comedy            |2    |1924|\n",
      "|Action            |2    |1924|\n",
      "|Adventure         |2    |1924|\n",
      "|Drama             |2    |1925|\n",
      "|Adventure         |2    |1925|\n",
      "|War               |1    |1925|\n",
      "|Comedy            |2    |1925|\n",
      "|Romance           |2    |1925|\n",
      "|Fantasy           |1    |1926|\n",
      "|Drama             |3    |1926|\n",
      "|Horror            |1    |1926|\n",
      "|Comedy            |2    |1926|\n",
      "|Adventure         |1    |1926|\n",
      "|War               |1    |1926|\n",
      "|Romance           |1    |1926|\n",
      "|Drama             |5    |1927|\n",
      "|Comedy            |1    |1927|\n",
      "|Crime             |1    |1927|\n",
      "|Horror            |1    |1927|\n",
      "|Mystery           |1    |1927|\n",
      "|Romance           |2    |1927|\n",
      "|Sci-Fi            |1    |1927|\n",
      "|Thriller          |1    |1927|\n",
      "|Musical           |1    |1927|\n",
      "|Children          |1    |1928|\n",
      "|Animation         |1    |1928|\n",
      "|Drama             |1    |1928|\n",
      "|Musical           |1    |1928|\n",
      "|Romance           |1    |1928|\n",
      "|Comedy            |3    |1928|\n",
      "|Comedy            |1    |1929|\n",
      "|Documentary       |1    |1929|\n",
      "|Fantasy           |1    |1929|\n",
      "|Musical           |2    |1929|\n",
      "|Drama             |4    |1930|\n",
      "|War               |1    |1930|\n",
      "|Romance           |1    |1930|\n",
      "|Comedy            |1    |1930|\n",
      "|Musical           |1    |1930|\n",
      "|Action            |1    |1930|\n",
      "|Drama             |9    |1931|\n",
      "|Thriller          |1    |1931|\n",
      "|Musical           |1    |1931|\n",
      "|Action            |1    |1931|\n",
      "|Film-Noir         |1    |1931|\n",
      "|Western           |1    |1931|\n",
      "|Sci-Fi            |1    |1931|\n",
      "|Comedy            |4    |1931|\n",
      "|Crime             |3    |1931|\n",
      "+------------------+-----+----+\n",
      "only showing top 100 rows\n",
      "\n"
     ]
    }
   ],
   "source": [
    "movies_2 = movies.withColumn('genres', f.explode(f.split(f.col('genres'), '\\|'))) \\\n",
    ".withColumn('year', f.regexp_extract(f.col('title'), '\\(([^()]+)\\)$', 1).cast('int')) \\\n",
    ".groupBy(['genres', 'year']).count().sort('year').select('genres', 'count', 'year')\n",
    "movies_2.show(100,truncate=False)"
   ]
  },
  {
   "cell_type": "code",
   "execution_count": null,
   "metadata": {
    "colab": {
     "base_uri": "https://localhost:8080/"
    },
    "id": "Ev0Gbfc57h7I",
    "outputId": "0330814d-a199-44d4-9224-501abfd53aad"
   },
   "outputs": [
    {
     "name": "stdout",
     "output_type": "stream",
     "text": [
      "+----+------------------+------+---------+---------+--------+------+-----+-----------+-----+-------+---------+------+----+-------+-------+-------+------+--------+---+-------+\n",
      "|year|(no genres listed)|Action|Adventure|Animation|Children|Comedy|Crime|Documentary|Drama|Fantasy|Film-Noir|Horror|IMAX|Musical|Mystery|Romance|Sci-Fi|Thriller|War|Western|\n",
      "+----+------------------+------+---------+---------+--------+------+-----+-----------+-----+-------+---------+------+----+-------+-------+-------+------+--------+---+-------+\n",
      "|0   |9                 |7     |3        |5        |1       |3     |2    |0          |6    |2      |0        |3     |0   |0      |0      |0      |5     |3       |1  |0      |\n",
      "|1902|0                 |1     |1        |0        |0       |0     |0    |0          |0    |1      |0        |0     |0   |0      |0      |0      |1     |0       |0  |0      |\n",
      "|1903|0                 |0     |0        |0        |0       |0     |1    |0          |0    |0      |0        |0     |0   |0      |0      |0      |0     |0       |0  |1      |\n",
      "|1908|0                 |0     |0        |1        |0       |1     |0    |0          |0    |0      |0        |0     |0   |0      |0      |0      |1     |0       |0  |0      |\n",
      "|1915|0                 |0     |0        |0        |0       |0     |0    |0          |1    |0      |0        |0     |0   |0      |0      |0      |0     |0       |1  |0      |\n",
      "|1916|0                 |1     |1        |0        |0       |1     |0    |0          |1    |1      |0        |0     |0   |0      |0      |1      |1     |0       |0  |0      |\n",
      "|1917|0                 |0     |0        |0        |0       |1     |0    |0          |0    |0      |0        |0     |0   |0      |0      |0      |0     |0       |0  |0      |\n",
      "|1919|0                 |0     |0        |0        |0       |1     |0    |0          |1    |0      |0        |0     |0   |0      |0      |0      |0     |0       |0  |0      |\n",
      "|1920|0                 |0     |0        |0        |0       |1     |1    |0          |0    |1      |0        |1     |0   |0      |0      |0      |0     |0       |0  |0      |\n",
      "|1921|0                 |0     |0        |0        |0       |1     |0    |0          |1    |0      |0        |0     |0   |0      |0      |0      |0     |0       |0  |0      |\n",
      "|1922|0                 |0     |0        |0        |0       |0     |0    |0          |0    |0      |0        |1     |0   |0      |0      |0      |0     |0       |0  |0      |\n",
      "|1923|0                 |1     |0        |0        |0       |2     |0    |0          |2    |0      |0        |1     |0   |0      |0      |1      |0     |0       |0  |0      |\n",
      "|1924|0                 |2     |2        |0        |0       |2     |0    |0          |2    |3      |0        |0     |0   |0      |0      |2      |1     |1       |0  |0      |\n",
      "|1925|0                 |0     |2        |0        |0       |2     |0    |0          |2    |0      |0        |0     |0   |0      |0      |2      |0     |0       |1  |0      |\n",
      "|1926|0                 |0     |1        |0        |0       |2     |0    |0          |3    |1      |0        |1     |0   |0      |0      |1      |0     |0       |1  |0      |\n",
      "|1927|0                 |0     |0        |0        |0       |1     |1    |0          |5    |0      |0        |1     |0   |1      |1      |2      |1     |1       |0  |0      |\n",
      "|1928|0                 |0     |0        |1        |1       |3     |0    |0          |1    |0      |0        |0     |0   |1      |0      |1      |0     |0       |0  |0      |\n",
      "|1929|0                 |0     |0        |0        |0       |1     |0    |1          |0    |1      |0        |0     |0   |2      |0      |0      |0     |0       |0  |0      |\n",
      "|1930|0                 |1     |0        |0        |0       |1     |0    |0          |4    |0      |0        |0     |0   |1      |0      |1      |0     |0       |1  |0      |\n",
      "|1931|0                 |1     |0        |0        |0       |4     |3    |0          |9    |0      |1        |3     |0   |1      |1      |3      |1     |1       |0  |1      |\n",
      "|1932|0                 |0     |0        |0        |0       |3     |3    |0          |4    |0      |1        |2     |0   |0      |0      |4      |0     |0       |1  |0      |\n",
      "|1933|0                 |1     |2        |0        |1       |5     |1    |0          |4    |2      |0        |3     |0   |4      |1      |4      |1     |1       |1  |0      |\n",
      "|1934|0                 |0     |0        |0        |1       |6     |1    |2          |4    |1      |0        |0     |0   |2      |0      |3      |0     |1       |1  |0      |\n",
      "|1935|0                 |1     |2        |0        |0       |7     |0    |0          |6    |1      |0        |1     |0   |4      |1      |6      |1     |1       |0  |0      |\n",
      "|1936|0                 |0     |2        |0        |0       |7     |2    |0          |7    |0      |1        |0     |0   |4      |1      |10     |0     |3       |0  |1      |\n",
      "|1937|0                 |1     |2        |1        |2       |3     |2    |0          |12   |1      |1        |0     |0   |3      |0      |4      |0     |1       |1  |0      |\n",
      "|1938|0                 |2     |1        |2        |2       |8     |1    |0          |9    |2      |1        |0     |0   |1      |1      |4      |0     |2       |1  |0      |\n",
      "|1939|0                 |1     |4        |2        |4       |9     |2    |0          |15   |1      |0        |0     |0   |2      |1      |9      |0     |1       |2  |2      |\n",
      "|1940|0                 |2     |3        |2        |2       |11    |0    |0          |14   |3      |2        |1     |0   |3      |2      |9      |2     |3       |1  |2      |\n",
      "|1941|0                 |0     |1        |1        |1       |8     |2    |0          |9    |2      |3        |2     |0   |2      |4      |6      |0     |2       |1  |0      |\n",
      "|1942|0                 |1     |0        |1        |1       |9     |3    |0          |13   |0      |2        |1     |0   |2      |2      |10     |0     |5       |3  |0      |\n",
      "|1943|0                 |0     |1        |0        |0       |0     |2    |0          |8    |1      |0        |2     |0   |0      |0      |1      |0     |2       |1  |1      |\n",
      "|1944|0                 |1     |2        |0        |1       |4     |2    |0          |11   |0      |2        |0     |0   |2      |2      |5      |0     |3       |4  |0      |\n",
      "|1945|0                 |0     |0        |1        |1       |2     |3    |0          |7    |1      |2        |4     |0   |2      |6      |2      |0     |3       |3  |0      |\n",
      "|1946|0                 |0     |1        |1        |3       |1     |5    |0          |14   |2      |8        |0     |0   |4      |4      |5      |0     |5       |2  |2      |\n",
      "|1947|0                 |0     |0        |0        |0       |9     |6    |0          |12   |1      |6        |0     |0   |1      |2      |6      |0     |2       |0  |0      |\n",
      "|1948|0                 |3     |4        |0        |1       |3     |4    |0          |15   |1      |3        |1     |0   |2      |1      |3      |0     |4       |1  |2      |\n",
      "|1949|0                 |1     |1        |2        |2       |8     |2    |1          |15   |0      |4        |1     |0   |3      |2      |7      |0     |3       |2  |2      |\n",
      "|1950|0                 |1     |2        |1        |2       |6     |3    |0          |10   |2      |4        |0     |0   |2      |4      |9      |0     |1       |1  |4      |\n",
      "|1951|0                 |1     |3        |1        |1       |5     |2    |0          |12   |2      |1        |1     |0   |5      |0      |7      |4     |2       |3  |0      |\n",
      "|1952|0                 |0     |2        |0        |0       |7     |0    |0          |9    |0      |0        |0     |0   |1      |0      |6      |1     |0       |1  |1      |\n",
      "|1953|0                 |3     |3        |2        |3       |9     |2    |0          |17   |2      |1        |1     |0   |6      |1      |7      |2     |5       |2  |2      |\n",
      "|1954|0                 |1     |3        |1        |0       |3     |4    |0          |15   |1      |1        |3     |0   |4      |2      |4      |4     |4       |1  |1      |\n",
      "|1955|0                 |1     |1        |1        |1       |8     |8    |1          |21   |0      |4        |2     |0   |2      |4      |8      |2     |6       |4  |3      |\n",
      "|1956|0                 |0     |5        |0        |1       |4     |2    |0          |18   |1      |4        |4     |0   |4      |1      |4      |6     |4       |1  |4      |\n",
      "|1957|1                 |2     |2        |0        |1       |8     |0    |0          |18   |0      |1        |3     |0   |3      |1      |6      |5     |4       |4  |1      |\n",
      "|1958|0                 |3     |4        |0        |0       |10    |5    |0          |11   |2      |1        |4     |0   |3      |2      |7      |4     |4       |3  |1      |\n",
      "|1959|0                 |3     |5        |1        |4       |7     |3    |0          |15   |1      |0        |7     |0   |2      |2      |6      |7     |2       |8  |2      |\n",
      "|1960|0                 |4     |3        |0        |4       |7     |7    |0          |19   |1      |1        |8     |0   |2      |2      |6      |4     |3       |4  |3      |\n",
      "|1961|0                 |3     |6        |1        |4       |12    |1    |0          |18   |3      |0        |3     |0   |3      |0      |10     |3     |1       |3  |2      |\n",
      "|1962|0                 |4     |7        |0        |2       |7     |4    |1          |24   |3      |0        |4     |0   |3      |1      |7      |3     |5       |4  |3      |\n",
      "|1963|0                 |5     |9        |1        |3       |15    |6    |0          |15   |3      |1        |6     |0   |1      |2      |3      |4     |7       |4  |1      |\n",
      "|1964|0                 |6     |6        |3        |2       |17    |2    |1          |17   |5      |0        |5     |0   |6      |3      |7      |3     |7       |7  |2      |\n",
      "|1965|0                 |9     |9        |3        |4       |17    |4    |0          |24   |2      |0        |3     |0   |4      |4      |9      |4     |9       |4  |4      |\n",
      "|1966|0                 |4     |5        |3        |3       |19    |6    |1          |18   |1      |0        |1     |0   |3      |2      |7      |3     |3       |6  |3      |\n",
      "|1967|0                 |8     |5        |1        |4       |14    |6    |2          |23   |1      |0        |4     |0   |5      |3      |3      |3     |5       |1  |1      |\n",
      "|1968|1                 |7     |9        |7        |8       |13    |4    |3          |17   |2      |0        |5     |0   |8      |2      |4      |7     |5       |3  |3      |\n",
      "|1969|0                 |6     |6        |5        |6       |11    |3    |0          |17   |4      |0        |1     |0   |4      |1      |4      |1     |4       |4  |6      |\n",
      "|1970|0                 |5     |3        |3        |4       |10    |4    |0          |18   |3      |0        |2     |0   |1      |2      |4      |1     |5       |7  |3      |\n",
      "|1971|0                 |17    |6        |2        |3       |12    |8    |1          |20   |1      |0        |1     |0   |3      |6      |3      |5     |13      |2  |3      |\n",
      "|1972|0                 |6     |5        |1        |1       |15    |5    |0          |22   |1      |0        |4     |0   |2      |3      |4      |6     |7       |1  |2      |\n",
      "|1973|0                 |12    |6        |5        |3       |13    |17   |0          |29   |2      |1        |10    |0   |2      |3      |3      |9     |14      |1  |3      |\n",
      "|1974|0                 |11    |5        |1        |3       |13    |10   |2          |20   |3      |1        |6     |0   |1      |4      |6      |2     |12      |0  |1      |\n",
      "|1975|0                 |7     |7        |1        |2       |12    |5    |1          |19   |2      |0        |5     |0   |3      |4      |7      |7     |5       |1  |1      |\n",
      "|1976|0                 |7     |8        |1        |3       |16    |8    |1          |21   |3      |0        |5     |0   |1      |6      |4      |4     |15      |3  |2      |\n",
      "|1977|1                 |9     |12       |6        |8       |21    |4    |2          |27   |9      |0        |8     |0   |4      |3      |6      |4     |7       |6  |1      |\n",
      "|1978|0                 |15    |8        |3        |6       |19    |4    |4          |17   |5      |0        |12    |0   |2      |4      |2      |8     |7       |4  |1      |\n",
      "|1979|0                 |13    |10       |3        |5       |24    |5    |0          |32   |2      |0        |10    |0   |4      |3      |5      |12    |10      |3  |2      |\n",
      "|1980|1                 |18    |12       |1        |2       |29    |5    |1          |32   |2      |0        |18    |0   |4      |6      |10     |14    |10      |3  |1      |\n",
      "|1981|0                 |20    |15       |5        |3       |32    |7    |2          |31   |8      |0        |16    |0   |3      |7      |9      |12    |19      |5  |0      |\n",
      "|1982|0                 |14    |10       |6        |6       |32    |5    |5          |29   |7      |0        |15    |0   |8      |6      |12     |11    |13      |3  |1      |\n",
      "|1983|0                 |15    |9        |5        |5       |31    |8    |5          |29   |7      |0        |13    |0   |3      |4      |7      |10    |13      |2  |1      |\n",
      "|1984|0                 |17    |18       |4        |5       |40    |7    |2          |35   |11     |1        |12    |0   |7      |2      |12     |18    |13      |5  |0      |\n",
      "|1985|0                 |23    |31       |4        |11      |54    |11   |4          |45   |16     |0        |16    |0   |1      |7      |22     |18    |18      |5  |2      |\n",
      "|1986|0                 |27    |24       |9        |10      |54    |19   |0          |55   |10     |1        |23    |0   |4      |7      |15     |19    |21      |4  |1      |\n",
      "|1987|0                 |31    |17       |9        |8       |77    |21   |1          |56   |16     |2        |28    |0   |2      |7      |28     |20    |24      |8  |3      |\n",
      "|1988|0                 |29    |18       |11       |10      |72    |19   |4          |67   |16     |1        |24    |0   |6      |10     |23     |17    |29      |7  |2      |\n",
      "|1989|0                 |33    |16       |9        |9       |71    |22   |2          |60   |13     |1        |11    |0   |3      |6      |16     |17    |20      |5  |1      |\n",
      "|1990|1                 |35    |20       |6        |8       |59    |24   |2          |62   |15     |2        |23    |0   |3      |6      |26     |17    |32      |8  |4      |\n",
      "|1991|0                 |26    |18       |6        |7       |69    |17   |4          |63   |14     |0        |9     |1   |7      |10     |31     |13    |22      |1  |2      |\n",
      "|1992|1                 |31    |12       |8        |13      |69    |23   |6          |78   |9      |2        |13    |1   |5      |5      |36     |10    |32      |4  |3      |\n",
      "|1993|0                 |43    |19       |9        |17      |77    |20   |3          |99   |15     |1        |12    |0   |4      |12     |33     |14    |32      |5  |3      |\n",
      "|1994|0                 |40    |30       |12       |24      |111   |27   |7          |114  |16     |1        |15    |2   |3      |8      |41     |11    |35      |6  |7      |\n",
      "|1995|2                 |44    |29       |12       |29      |90    |33   |6          |123  |16     |1        |19    |1   |4      |18     |49     |19    |42      |14 |6      |\n",
      "|1996|1                 |41    |35       |9        |23      |108   |32   |12         |128  |13     |1        |15    |0   |9      |10     |53     |21    |61      |3  |1      |\n",
      "|1997|0                 |51    |26       |11       |25      |94    |33   |8          |125  |15     |4        |18    |1   |6      |21     |51     |22    |64      |7  |0      |\n",
      "|1998|0                 |47    |30       |17       |23      |99    |36   |12         |122  |19     |1        |14    |3   |8      |11     |56     |28    |52      |8  |2      |\n",
      "|1999|0                 |34    |19       |8        |13      |112   |18   |13         |124  |17     |0        |21    |1   |4      |14     |46     |17    |48      |4  |2      |\n",
      "|2000|0                 |39    |23       |18       |17      |117   |39   |14         |138  |18     |0        |23    |1   |4      |8      |57     |19    |59      |7  |3      |\n",
      "|2001|0                 |48    |26       |17       |12      |127   |36   |12         |148  |20     |1        |19    |0   |7      |19     |66     |17    |53      |13 |3      |\n",
      "|2002|0                 |45    |37       |13       |19      |116   |49   |28         |149  |20     |0        |27    |2   |11     |21     |58     |27    |72      |8  |2      |\n",
      "|2003|0                 |66    |32       |20       |23      |109   |48   |22         |129  |18     |0        |25    |3   |7      |21     |51     |23    |60      |11 |2      |\n",
      "|2004|0                 |63    |44       |18       |19      |111   |36   |25         |128  |29     |0        |28    |3   |8      |19     |52     |31    |57      |13 |3      |\n",
      "|2005|0                 |59    |43       |15       |25      |120   |42   |24         |140  |22     |3        |36    |4   |8      |17     |50     |19    |68      |12 |2      |\n",
      "|2006|0                 |49    |38       |26       |22      |118   |35   |23         |146  |38     |1        |33    |7   |6      |25     |54     |25    |76      |10 |1      |\n",
      "|2007|0                 |46    |33       |21       |14      |102   |40   |18         |141  |24     |0        |43    |6   |9      |14     |47     |29    |77      |12 |3      |\n",
      "|2008|0                 |72    |49       |22       |22      |104   |40   |20         |113  |30     |0        |23    |8   |9      |15     |47     |31    |60      |16 |5      |\n",
      "|2009|0                 |59    |37       |32       |17      |111   |39   |12         |131  |32     |1        |41    |10  |7      |24     |41     |44    |72      |7  |2      |\n",
      "|2010|0                 |65    |30       |18       |17      |97    |23   |17         |102  |29     |1        |24    |15  |6      |16     |41     |19    |56      |7  |5      |\n",
      "|2011|0                 |55    |40       |26       |19      |101   |25   |22         |108  |19     |2        |19    |20  |3      |16     |37     |32    |63      |6  |2      |\n",
      "+----+------------------+------+---------+---------+--------+------+-----+-----------+-----+-------+---------+------+----+-------+-------+-------+------+--------+---+-------+\n",
      "only showing top 100 rows\n",
      "\n"
     ]
    }
   ],
   "source": [
    "movies_2.groupby('year').pivot('genres').sum('count').fillna(0).sort('year').show(100, truncate=False)"
   ]
  },
  {
   "cell_type": "markdown",
   "metadata": {
    "id": "I1gKvu9eWTB7"
   },
   "source": [
    "## **Câu 3:** For each userID, show the average rating of that user for each genre. The results are sorted by userID. The results of each genre are displayed in a separate column."
   ]
  },
  {
   "cell_type": "code",
   "execution_count": null,
   "metadata": {
    "colab": {
     "base_uri": "https://localhost:8080/"
    },
    "id": "kewQc_qR1SC5",
    "outputId": "316dd0ee-1cdb-4044-81c0-fe3b66704988"
   },
   "outputs": [
    {
     "name": "stdout",
     "output_type": "stream",
     "text": [
      "+------+-------+------+\n",
      "|userId|movieId|rating|\n",
      "+------+-------+------+\n",
      "|1     |1      |4.0   |\n",
      "|1     |3      |4.0   |\n",
      "|1     |6      |4.0   |\n",
      "|1     |47     |5.0   |\n",
      "|1     |50     |5.0   |\n",
      "|1     |70     |3.0   |\n",
      "|1     |101    |5.0   |\n",
      "|1     |110    |4.0   |\n",
      "|1     |151    |5.0   |\n",
      "|1     |157    |5.0   |\n",
      "|1     |163    |5.0   |\n",
      "|1     |216    |5.0   |\n",
      "|1     |223    |3.0   |\n",
      "|1     |231    |5.0   |\n",
      "|1     |235    |4.0   |\n",
      "|1     |260    |5.0   |\n",
      "|1     |296    |3.0   |\n",
      "|1     |316    |3.0   |\n",
      "|1     |333    |5.0   |\n",
      "|1     |349    |4.0   |\n",
      "|1     |356    |4.0   |\n",
      "|1     |362    |5.0   |\n",
      "|1     |367    |4.0   |\n",
      "|1     |423    |3.0   |\n",
      "|1     |441    |4.0   |\n",
      "|1     |457    |5.0   |\n",
      "|1     |480    |4.0   |\n",
      "|1     |500    |3.0   |\n",
      "|1     |527    |5.0   |\n",
      "|1     |543    |4.0   |\n",
      "|1     |552    |4.0   |\n",
      "|1     |553    |5.0   |\n",
      "|1     |590    |4.0   |\n",
      "|1     |592    |4.0   |\n",
      "|1     |593    |4.0   |\n",
      "|1     |596    |5.0   |\n",
      "|1     |608    |5.0   |\n",
      "|1     |648    |3.0   |\n",
      "|1     |661    |5.0   |\n",
      "|1     |673    |3.0   |\n",
      "|1     |733    |4.0   |\n",
      "|1     |736    |3.0   |\n",
      "|1     |780    |3.0   |\n",
      "|1     |804    |4.0   |\n",
      "|1     |919    |5.0   |\n",
      "|1     |923    |5.0   |\n",
      "|1     |940    |5.0   |\n",
      "|1     |943    |4.0   |\n",
      "|1     |954    |5.0   |\n",
      "|1     |1009   |3.0   |\n",
      "|1     |1023   |5.0   |\n",
      "|1     |1024   |5.0   |\n",
      "|1     |1025   |5.0   |\n",
      "|1     |1029   |5.0   |\n",
      "|1     |1030   |3.0   |\n",
      "|1     |1031   |5.0   |\n",
      "|1     |1032   |5.0   |\n",
      "|1     |1042   |4.0   |\n",
      "|1     |1049   |5.0   |\n",
      "|1     |1060   |4.0   |\n",
      "|1     |1073   |5.0   |\n",
      "|1     |1080   |5.0   |\n",
      "|1     |1089   |5.0   |\n",
      "|1     |1090   |4.0   |\n",
      "|1     |1092   |5.0   |\n",
      "|1     |1097   |5.0   |\n",
      "|1     |1127   |4.0   |\n",
      "|1     |1136   |5.0   |\n",
      "|1     |1196   |5.0   |\n",
      "|1     |1197   |5.0   |\n",
      "|1     |1198   |5.0   |\n",
      "|1     |1206   |5.0   |\n",
      "|1     |1208   |4.0   |\n",
      "|1     |1210   |5.0   |\n",
      "|1     |1213   |5.0   |\n",
      "|1     |1214   |4.0   |\n",
      "|1     |1219   |2.0   |\n",
      "|1     |1220   |5.0   |\n",
      "|1     |1222   |5.0   |\n",
      "|1     |1224   |5.0   |\n",
      "|1     |1226   |5.0   |\n",
      "|1     |1240   |5.0   |\n",
      "|1     |1256   |5.0   |\n",
      "|1     |1258   |3.0   |\n",
      "|1     |1265   |4.0   |\n",
      "|1     |1270   |5.0   |\n",
      "|1     |1275   |5.0   |\n",
      "|1     |1278   |5.0   |\n",
      "|1     |1282   |5.0   |\n",
      "|1     |1291   |5.0   |\n",
      "|1     |1298   |5.0   |\n",
      "|1     |1348   |4.0   |\n",
      "|1     |1377   |3.0   |\n",
      "|1     |1396   |3.0   |\n",
      "|1     |1408   |3.0   |\n",
      "|1     |1445   |3.0   |\n",
      "|1     |1473   |4.0   |\n",
      "|1     |1500   |4.0   |\n",
      "|1     |1517   |5.0   |\n",
      "|1     |1552   |4.0   |\n",
      "+------+-------+------+\n",
      "only showing top 100 rows\n",
      "\n"
     ]
    }
   ],
   "source": [
    "df1 = ratings.select('userId', 'movieId', 'rating')\n",
    "df1.show(100,truncate=False)"
   ]
  },
  {
   "cell_type": "code",
   "execution_count": null,
   "metadata": {
    "colab": {
     "base_uri": "https://localhost:8080/"
    },
    "id": "o6ZXfYvr1Vfx",
    "outputId": "d86fd100-7e16-4859-f42b-e57d0d6be912"
   },
   "outputs": [
    {
     "name": "stdout",
     "output_type": "stream",
     "text": [
      "+-------+---------+\n",
      "|movieId|genre    |\n",
      "+-------+---------+\n",
      "|1      |Adventure|\n",
      "|1      |Animation|\n",
      "|1      |Children |\n",
      "|1      |Comedy   |\n",
      "|1      |Fantasy  |\n",
      "|2      |Adventure|\n",
      "|2      |Children |\n",
      "|2      |Fantasy  |\n",
      "|3      |Comedy   |\n",
      "|3      |Romance  |\n",
      "|4      |Comedy   |\n",
      "|4      |Drama    |\n",
      "|4      |Romance  |\n",
      "|5      |Comedy   |\n",
      "|6      |Action   |\n",
      "|6      |Crime    |\n",
      "|6      |Thriller |\n",
      "|7      |Comedy   |\n",
      "|7      |Romance  |\n",
      "|8      |Adventure|\n",
      "|8      |Children |\n",
      "|9      |Action   |\n",
      "|10     |Action   |\n",
      "|10     |Adventure|\n",
      "|10     |Thriller |\n",
      "|11     |Comedy   |\n",
      "|11     |Drama    |\n",
      "|11     |Romance  |\n",
      "|12     |Comedy   |\n",
      "|12     |Horror   |\n",
      "|13     |Adventure|\n",
      "|13     |Animation|\n",
      "|13     |Children |\n",
      "|14     |Drama    |\n",
      "|15     |Action   |\n",
      "|15     |Adventure|\n",
      "|15     |Romance  |\n",
      "|16     |Crime    |\n",
      "|16     |Drama    |\n",
      "|17     |Drama    |\n",
      "|17     |Romance  |\n",
      "|18     |Comedy   |\n",
      "|19     |Comedy   |\n",
      "|20     |Action   |\n",
      "|20     |Comedy   |\n",
      "|20     |Crime    |\n",
      "|20     |Drama    |\n",
      "|20     |Thriller |\n",
      "|21     |Comedy   |\n",
      "|21     |Crime    |\n",
      "|21     |Thriller |\n",
      "|22     |Crime    |\n",
      "|22     |Drama    |\n",
      "|22     |Horror   |\n",
      "|22     |Mystery  |\n",
      "|22     |Thriller |\n",
      "|23     |Action   |\n",
      "|23     |Crime    |\n",
      "|23     |Thriller |\n",
      "|24     |Drama    |\n",
      "|24     |Sci-Fi   |\n",
      "|25     |Drama    |\n",
      "|25     |Romance  |\n",
      "|26     |Drama    |\n",
      "|27     |Children |\n",
      "|27     |Drama    |\n",
      "|28     |Drama    |\n",
      "|28     |Romance  |\n",
      "|29     |Adventure|\n",
      "|29     |Drama    |\n",
      "|29     |Fantasy  |\n",
      "|29     |Mystery  |\n",
      "|29     |Sci-Fi   |\n",
      "|30     |Crime    |\n",
      "|30     |Drama    |\n",
      "|31     |Drama    |\n",
      "|32     |Mystery  |\n",
      "|32     |Sci-Fi   |\n",
      "|32     |Thriller |\n",
      "|34     |Children |\n",
      "|34     |Drama    |\n",
      "|36     |Crime    |\n",
      "|36     |Drama    |\n",
      "|38     |Children |\n",
      "|38     |Comedy   |\n",
      "|39     |Comedy   |\n",
      "|39     |Romance  |\n",
      "|40     |Drama    |\n",
      "|41     |Drama    |\n",
      "|41     |War      |\n",
      "|42     |Action   |\n",
      "|42     |Crime    |\n",
      "|42     |Drama    |\n",
      "|43     |Drama    |\n",
      "|44     |Action   |\n",
      "|44     |Adventure|\n",
      "|44     |Fantasy  |\n",
      "|45     |Comedy   |\n",
      "|45     |Drama    |\n",
      "|45     |Thriller |\n",
      "+-------+---------+\n",
      "only showing top 100 rows\n",
      "\n"
     ]
    }
   ],
   "source": [
    "df2 = movies.select('movieId', 'genres').withColumn('genres_array', f.split('genres', '[|]')) \\\n",
    ".withColumn('genre', f.explode('genres_array')).select('movieId', 'genre')\n",
    "df2.show(100,truncate=False)"
   ]
  },
  {
   "cell_type": "code",
   "execution_count": null,
   "metadata": {
    "colab": {
     "base_uri": "https://localhost:8080/"
    },
    "id": "0ZVbOzbd1YZX",
    "outputId": "13f1ed7e-151c-4e28-dd5b-83776043b37c"
   },
   "outputs": [
    {
     "name": "stdout",
     "output_type": "stream",
     "text": [
      "+-------+---------+------+------+\n",
      "|movieId|genre    |userId|rating|\n",
      "+-------+---------+------+------+\n",
      "|1      |Fantasy  |1     |4.0   |\n",
      "|1      |Comedy   |1     |4.0   |\n",
      "|1      |Children |1     |4.0   |\n",
      "|1      |Animation|1     |4.0   |\n",
      "|1      |Adventure|1     |4.0   |\n",
      "|3      |Romance  |1     |4.0   |\n",
      "|3      |Comedy   |1     |4.0   |\n",
      "|6      |Thriller |1     |4.0   |\n",
      "|6      |Crime    |1     |4.0   |\n",
      "|6      |Action   |1     |4.0   |\n",
      "|47     |Thriller |1     |5.0   |\n",
      "|47     |Mystery  |1     |5.0   |\n",
      "|50     |Thriller |1     |5.0   |\n",
      "|50     |Mystery  |1     |5.0   |\n",
      "|50     |Crime    |1     |5.0   |\n",
      "|70     |Thriller |1     |3.0   |\n",
      "|70     |Horror   |1     |3.0   |\n",
      "|70     |Comedy   |1     |3.0   |\n",
      "|70     |Action   |1     |3.0   |\n",
      "|101    |Romance  |1     |5.0   |\n",
      "|101    |Crime    |1     |5.0   |\n",
      "|101    |Comedy   |1     |5.0   |\n",
      "|101    |Adventure|1     |5.0   |\n",
      "|110    |War      |1     |4.0   |\n",
      "|110    |Drama    |1     |4.0   |\n",
      "|110    |Action   |1     |4.0   |\n",
      "|151    |War      |1     |5.0   |\n",
      "|151    |Romance  |1     |5.0   |\n",
      "|151    |Drama    |1     |5.0   |\n",
      "|151    |Action   |1     |5.0   |\n",
      "|157    |War      |1     |5.0   |\n",
      "|157    |Comedy   |1     |5.0   |\n",
      "|163    |Western  |1     |5.0   |\n",
      "|163    |Romance  |1     |5.0   |\n",
      "|163    |Action   |1     |5.0   |\n",
      "|216    |Comedy   |1     |5.0   |\n",
      "|223    |Comedy   |1     |3.0   |\n",
      "|231    |Comedy   |1     |5.0   |\n",
      "|231    |Adventure|1     |5.0   |\n",
      "|235    |Drama    |1     |4.0   |\n",
      "|235    |Comedy   |1     |4.0   |\n",
      "|260    |Sci-Fi   |1     |5.0   |\n",
      "|260    |Adventure|1     |5.0   |\n",
      "|260    |Action   |1     |5.0   |\n",
      "|296    |Thriller |1     |3.0   |\n",
      "|296    |Drama    |1     |3.0   |\n",
      "|296    |Crime    |1     |3.0   |\n",
      "|296    |Comedy   |1     |3.0   |\n",
      "|316    |Sci-Fi   |1     |3.0   |\n",
      "|316    |Adventure|1     |3.0   |\n",
      "|316    |Action   |1     |3.0   |\n",
      "|333    |Comedy   |1     |5.0   |\n",
      "|349    |Thriller |1     |4.0   |\n",
      "|349    |Drama    |1     |4.0   |\n",
      "|349    |Crime    |1     |4.0   |\n",
      "|349    |Action   |1     |4.0   |\n",
      "|356    |War      |1     |4.0   |\n",
      "|356    |Romance  |1     |4.0   |\n",
      "|356    |Drama    |1     |4.0   |\n",
      "|356    |Comedy   |1     |4.0   |\n",
      "|362    |Romance  |1     |5.0   |\n",
      "|362    |Children |1     |5.0   |\n",
      "|362    |Adventure|1     |5.0   |\n",
      "|367    |Fantasy  |1     |4.0   |\n",
      "|367    |Crime    |1     |4.0   |\n",
      "|367    |Comedy   |1     |4.0   |\n",
      "|367    |Action   |1     |4.0   |\n",
      "|423    |Thriller |1     |3.0   |\n",
      "|423    |Action   |1     |3.0   |\n",
      "|441    |Comedy   |1     |4.0   |\n",
      "|457    |Thriller |1     |5.0   |\n",
      "|480    |Thriller |1     |4.0   |\n",
      "|480    |Sci-Fi   |1     |4.0   |\n",
      "|480    |Adventure|1     |4.0   |\n",
      "|480    |Action   |1     |4.0   |\n",
      "|500    |Drama    |1     |3.0   |\n",
      "|500    |Comedy   |1     |3.0   |\n",
      "|527    |War      |1     |5.0   |\n",
      "|527    |Drama    |1     |5.0   |\n",
      "|543    |Thriller |1     |4.0   |\n",
      "|543    |Romance  |1     |4.0   |\n",
      "|543    |Comedy   |1     |4.0   |\n",
      "|552    |Romance  |1     |4.0   |\n",
      "|552    |Comedy   |1     |4.0   |\n",
      "|552    |Adventure|1     |4.0   |\n",
      "|552    |Action   |1     |4.0   |\n",
      "|553    |Western  |1     |5.0   |\n",
      "|553    |Drama    |1     |5.0   |\n",
      "|553    |Action   |1     |5.0   |\n",
      "|590    |Western  |1     |4.0   |\n",
      "|590    |Drama    |1     |4.0   |\n",
      "|590    |Adventure|1     |4.0   |\n",
      "|592    |Thriller |1     |4.0   |\n",
      "|592    |Crime    |1     |4.0   |\n",
      "|592    |Action   |1     |4.0   |\n",
      "|593    |Thriller |1     |4.0   |\n",
      "|593    |Horror   |1     |4.0   |\n",
      "|593    |Crime    |1     |4.0   |\n",
      "|596    |Musical  |1     |5.0   |\n",
      "|596    |Fantasy  |1     |5.0   |\n",
      "+-------+---------+------+------+\n",
      "only showing top 100 rows\n",
      "\n"
     ]
    }
   ],
   "source": [
    "df3 = df2.join(df1, on = 'movieId', how = 'inner')\n",
    "df3.show(100,truncate=False)"
   ]
  },
  {
   "cell_type": "code",
   "execution_count": null,
   "metadata": {
    "colab": {
     "base_uri": "https://localhost:8080/"
    },
    "id": "2roWOQSe5svC",
    "outputId": "d2193b64-6552-4b99-d42c-7a8971c0019f"
   },
   "outputs": [
    {
     "name": "stdout",
     "output_type": "stream",
     "text": [
      "+------+------------------+----------+----------+----------+----------+----------+----------+-----------+----------+----------+----------+----------+----------+----------+----------+----------+----------+----------+----------+----------+\n",
      "|userId|(no genres listed)|    Action| Adventure| Animation|  Children|    Comedy|     Crime|Documentary|     Drama|   Fantasy| Film-Noir|    Horror|      IMAX|   Musical|   Mystery|   Romance|    Sci-Fi|  Thriller|       War|   Western|\n",
      "+------+------------------+----------+----------+----------+----------+----------+----------+-----------+----------+----------+----------+----------+----------+----------+----------+----------+----------+----------+----------+----------+\n",
      "|     1|               0.0|4.32222...|4.38823...|4.68965...|4.54761...|4.27710...|4.35555...|        0.0|4.52941...|4.29787...|       5.0|3.47058...|       0.0|4.68181...|4.16666...|4.30769...|     4.225|4.14545...|       4.5|4.28571...|\n",
      "|     2|               0.0|3.95454...|4.16666...|       0.0|       0.0|       4.0|       3.8| 4.33333...|3.88235...|       0.0|       0.0|       3.0|      3.75|       0.0|       4.0|       4.5|     3.875|       3.7|       4.5|       3.5|\n",
      "|     3|               0.0|3.57142...|2.72727...|       0.5|       0.5|       1.0|       0.5|        0.0|      0.75|     3.375|       0.0|    4.6875|       0.0|       0.5|       5.0|       0.5|       4.2|4.14285...|       0.5|       0.0|\n",
      "|     4|               0.0|      3.32|3.65517...|       4.0|       3.8|3.50961...|3.81481...|        4.0|3.48333...|3.68421...|       4.0|      4.25|       3.0|       4.0|3.47826...|3.37931...|2.83333...|3.55263...|3.57142...|       3.8|\n",
      "|     5|               0.0|3.11111...|      3.25|4.33333...|4.11111...|3.46666...|3.83333...|        0.0|       3.8|4.14285...|       0.0|       3.0|3.66666...|       4.4|       4.0|3.09090...|       2.5|3.55555...|3.33333...|       3.0|\n",
      "|     6|               0.0|  3.609375|3.89361...|4.07142...|3.61702...|3.37007...|3.28571...|        0.0|3.61428...|3.53846...|       2.5|3.26315...|4.66666...|4.16666...|3.73333...|3.61428...|3.47619...|3.54411...|3.58333...|3.81818...|\n",
      "|     7|               0.0| 3.2578125|3.31481...|3.39285...|       3.2|3.16326...|3.30769...|        0.0|3.13157...|3.06521...|      3.25|       4.0|2.45454...|3.66666...|3.17857...|      2.65|3.15476...|3.43023...|3.29166...|       1.5|\n",
      "|     8|               0.0|3.33333...|3.54545...|       5.0|      4.25|3.20833...|3.88888...|        0.0|3.78947...|      3.25|       0.0|       4.5|       4.5|       5.0|       4.0|       3.5|      3.25|      3.75|3.66666...|       3.0|\n",
      "|     9|               0.0|     3.125|       3.8|       4.0|       4.0|3.66666...|3.14285...|        0.0|3.42857...|       5.0|       4.0|       1.8|       3.0|       3.0|       4.0|3.16666...|       3.0|2.54545...|       3.5|       4.0|\n",
      "|    10|               0.0|       3.5|3.58064...|3.86666...|3.60714...|3.26582...|3.11538...|        0.0|3.15277...|3.44117...|       0.0|      1.75|3.36111...|3.33333...|2.16666...|3.33333...|       2.0|3.07692...|      3.75|       0.0|\n",
      "|    11|               0.0|3.54347...|3.55555...|       0.0|       0.0|3.41666...|3.69230...|        0.0|4.16666...|       2.0|       0.0|       5.0|       5.0|       0.0|4.33333...|4.23076...|       3.5|   3.65625|4.33333...|       4.0|\n",
      "|    12|               0.0|       4.0|       3.0|       3.0|       0.0|4.30555...|       3.0|        0.0|    4.5625|      4.25|       0.0|       0.0|       0.0|       0.0|       0.0|4.57142...|       4.5|       4.0|       4.5|       0.0|\n",
      "|    13|               0.0|       4.2|4.16666...|       0.0|       0.0|3.27272...|3.66666...|        0.0|       3.5|       3.0|       0.0|       4.0|       0.0|       0.0|       4.5|3.66666...|       4.2|3.81818...|       3.5|       4.0|\n",
      "|    14|               0.0|3.33333...|3.44444...|       0.0|       3.0|2.70588...|2.71428...|        0.0|3.70833...|       1.0|       0.0|       4.0|       4.0|       4.0|       4.5|3.57142...|       3.5|3.46153...|      4.25|      4.25|\n",
      "|    15|               0.0|3.20338...|3.34210...|2.95454...|2.69047...|3.35714...|3.57894...|        0.0|3.74074...|   2.90625|       0.0|3.81818...|3.30555...|       2.7|3.41666...|3.88461...|3.58474...|3.43181...|       4.1|       2.5|\n",
      "|    16|               0.0|      3.52|     3.775|3.95833...|       4.0|      3.74|      3.75|        4.0|3.72916...|    3.9375|       4.0|       3.5|     4.125|       0.0|3.76923...|3.65384...|    3.6875|3.79310...|3.68181...|       3.0|\n",
      "|    17|               0.0|4.23076...|4.28571...|       4.4|4.21428...|4.15789...|      4.25|        3.5|4.18627...|4.32352...|      3.75|4.16666...|4.16666...|       4.0|      4.05|3.92857...|       4.4|4.27777...|4.44444...|      4.25|\n",
      "|    18|               0.0|3.58851...|3.63380...|3.75806...|3.54285...|3.50675...|3.93478...| 3.94444...|3.89449...|3.64423...|     3.875|       3.3|3.67567...|3.70833...|4.02678...|3.68181...|3.64090...|3.79289...|    3.9375|4.18181...|\n",
      "|    19|               0.0|2.72666...|2.81528...|    2.9375|2.69607...|2.64021...|2.90277...|        0.0|2.60927...|2.83333...|3.33333...|2.26785...|       3.0|2.83783...|2.96551...|2.67910...|2.55905...|2.54679...|       3.0|2.54545...|\n",
      "|    20|               0.0|2.75531...|3.44186...|4.18461...|3.90990...|3.67142...|      3.24|       3.75|3.80985...|3.86458...|       1.5|     3.125|       4.6|4.47272...|   3.21875|    3.9875|3.22727...|2.72972...|       3.5|       1.5|\n",
      "|    21|               4.0|3.45575...|3.66384...|3.24137...|3.20491...|3.20149...|3.17808...|        0.0|2.95212...|3.08730...|       3.5|1.76666...|3.59649...|       2.8|3.36111...|3.23846...|3.44811...|3.54508...|     3.625|       4.0|\n",
      "|    22|               0.0|2.78333...|2.34615...|2.70833...|      2.75|2.48717...|2.53333...|        2.0|2.60958...|     1.875|       4.5|       2.5|      1.75|       4.5|2.45833...|2.20454...|       2.1|2.78333...|2.33333...|       4.0|\n",
      "|    23|               0.0|3.53703...|3.38888...|       3.8|       3.5|3.41666...|3.65384...|       3.25|3.64285...|3.82142...|3.95454...|       4.0|       3.0|       0.0|4.06818...|3.33333...|3.91176...|3.72368...|      3.75|       3.5|\n",
      "|    24|               0.0|3.64285...|3.65151...|      4.25|      4.25|      3.59|3.91304...|        0.0|    3.6875|3.73333...|       0.0|     3.625|      3.85|       3.5|3.76923...|3.54545...|      3.64|3.64705...|3.71428...|       0.0|\n",
      "|    25|               0.0|4.83333...|      4.75|4.66666...|4.66666...|       4.5|       5.0|        0.0|4.95833...|       5.0|       0.0|       0.0|       5.0|       0.0|      4.75|       5.0|4.72222...|     4.875|       5.0|       0.0|\n",
      "|    26|               0.0|       3.0|2.66666...|       0.0|       3.0|       3.2|       3.5|        0.0|      3.25|       0.0|       0.0|       4.0|       3.0|       0.0|       4.0|       3.0|       2.0|3.42857...|       3.0|       0.0|\n",
      "|    27|               0.0|3.64285...|3.64406...|3.36363...|3.24489...|       3.4|3.57142...|        0.0|       3.8|3.36363...|       4.0|       1.5|       4.0|3.92307...|4.33333...|4.13043...|     3.375|3.42857...|       3.6|       3.9|\n",
      "|    28|               0.0|3.06377...|3.15966...|       3.4|     3.125|  2.828125|      2.97|       3.25|2.99859...|       3.1|       3.0|2.77777...|3.76923...|       3.5|2.92857...|2.89024...|3.18292...|2.93103...|3.33333...|3.29166...|\n",
      "|    29|               0.0|4.01612...|4.16666...|       3.5|      4.25|3.59090...|4.03333...|       4.25|      4.21|     3.875|       5.0|      4.25|       4.1|3.16666...|4.35714...|4.33333...|4.11111...|3.97619...|4.31818...|4.44444...|\n",
      "|    30|               0.0|      4.72|4.78947...|       4.6|4.66666...|       4.6|4.85714...|        0.0|       5.0|      4.75|       0.0|       3.0|       5.0|       0.0|       5.0|       5.0|4.64705...|       4.3|       5.0|       0.0|\n",
      "|    31|               0.0|4.33333...|       4.0|       4.0|4.14285...|3.86363...|3.33333...|        5.0|3.66666...|       3.7|       0.0|       3.5|       0.0|       4.6|       5.0|      3.75|3.77777...|4.45454...|       5.0|       0.0|\n",
      "|    32|               0.0|3.56666...|3.55555...|       3.0|       3.5|3.72093...|4.05263...|        4.0|3.97727...|3.58333...|       0.0|3.33333...|       0.0|       4.0|     3.625|3.73333...|3.36363...|3.63636...|3.33333...|       3.0|\n",
      "|    33|               0.0|       4.0|       3.9|3.83333...|     3.875|3.82758...|3.92307...|        0.0|3.79130...|       3.5|       5.0|       4.5|       3.0|       4.0|3.66666...|3.85454...|4.14285...|3.63333...|     4.125|       4.0|\n",
      "|    34|               0.0|3.73529...|3.80769...|3.64285...|      2.75|3.20270...|3.77272...|        2.0|      3.25|      3.25|       0.0|3.44444...|3.16666...|       0.0|3.07142...|       3.1|3.34782...|3.76923...|       2.1|       3.5|\n",
      "|    35|               0.0|       4.0|       4.2|       3.0|       4.0|       3.9|      4.75|        0.0|4.22222...|       4.0|       0.0|       0.0|       4.0|       3.0|       5.0|3.55555...|       3.0|      4.75|       2.0|       3.5|\n",
      "|    36|               0.0|2.63888...|2.80769...|       0.0|1.83333...|2.34782...|2.73529...|        0.0|2.55555...|       2.0|      3.25|       3.0|       0.0|       1.5|       3.0|2.34615...|       2.3|2.89285...|       2.9|       2.0|\n",
      "|    37|               0.0|3.71428...|      3.75|       3.0|       3.5|     4.125|4.14285...|        0.0|     4.125|       3.5|       0.0|       5.0|       5.0|       3.5|       0.0|       3.0|      4.25|4.11111...|       4.0|       4.0|\n",
      "|    38|               0.0|3.05263...|    2.9375|       3.2|     3.125|       3.2|3.33333...|        5.0|3.28571...|3.14285...|       0.0|       2.0|3.33333...|       3.2|4.33333...|3.11111...|2.33333...|3.38888...|3.71428...|       2.6|\n",
      "|    39|               0.0|      4.25|     3.875|3.29166...|3.13043...|       4.0|       4.4|        0.0|4.11428...|      3.75|       3.5|4.46153...|       4.0|     3.125|      3.75|       3.6|       4.0|4.21739...|       4.0|       4.0|\n",
      "|    40|               0.0|3.52173...|3.47826...|     3.625|3.72222...|3.63414...|       4.0|        0.0|       4.2|      3.75|       0.0|2.66666...|4.33333...|3.42857...|4.33333...|3.68181...|       3.0|3.86666...|       4.0|       4.0|\n",
      "|    41|               0.0|2.52564...|2.68181...|3.66666...|3.22222...|3.40340...|3.38461...|        1.5|3.43461...|      2.75|      4.25|2.95833...|       1.5|       3.0|       3.3|3.31666...|       2.3|3.26785...|2.92307...|       4.0|\n",
      "|    42|               0.0|       3.4|3.51388...|       4.0|2.92857...|3.41232...|3.74647...| 4.33333...|3.81871...|3.59090...|       3.5|       3.0|       4.5|3.85714...|3.96296...|3.64044...|      3.25|3.57758...|3.80952...|3.91666...|\n",
      "|    43|               0.0|4.32258...|4.67647...|       5.0|    4.9375|4.52272...|      4.25|        0.0|4.42857...|4.88235...|       0.0|       4.6|       5.0|       5.0|       4.5|      4.52|4.66666...|4.31034...|       4.0|       4.0|\n",
      "|    44|               0.0|3.45454...|      3.45|      2.75|2.33333...|3.39130...|       4.0|        0.0|3.58333...|2.33333...|       0.0|2.33333...|       0.0|       3.0|       3.0|     3.375|3.11111...|3.17647...|       0.0|       0.0|\n",
      "|    45|               0.0|4.00943...|4.01515...|4.43548...|3.86111...|3.68552...|4.19607...|        4.0|4.03719...|3.75555...|       0.0|   4.03125|4.71428...|4.29629...|4.21052...|3.92028...|      3.72|4.01764...|4.42857...|3.66666...|\n",
      "|    46|               0.0|3.88888...|4.07692...|       5.0|       5.0|3.91666...|       4.0|        0.0|       4.0|4.66666...|       0.0|       4.5|       5.0|       5.0|4.33333...|       4.5|       4.0|3.94444...|4.33333...|4.33333...|\n",
      "|    47|               0.0|    2.8125|      2.95|       0.0|       3.0|2.47142...|     3.275| 3.28571...|3.22429...|       2.5|       0.0|2.08333...|2.91666...|2.92857...|    2.6875|2.89655...|      2.85|2.84090...|       3.5|       3.5|\n",
      "|    48|               0.0|4.02272...|4.03846...|     4.375|     4.375|    4.1875|      4.25|        0.0|       4.0|       4.5|       0.0|4.33333...|      4.25|      4.25|       4.5|       4.0|4.16666...|3.96666...|       0.0|       0.0|\n",
      "|    49|               0.0|4.35714...|      4.25|       4.0|       4.1|       4.0|4.16666...|        0.0|      4.35|       0.0|       0.0|      4.25|4.33333...|       0.0|      4.25|       4.0|4.33333...|      4.25|      4.25|       0.0|\n",
      "|    50|              2.75|2.45061...|     2.475|2.62264...|2.26190...|2.59090...|2.93333...| 3.14285...|3.03968...|2.82954...|       3.5|     2.625|2.06818...|2.56666...|     3.225|2.81818...|      2.55|2.82456...|3.45454...|3.16666...|\n",
      "|    51|               0.0|3.47802...|3.59154...|3.05882...|3.13333...|3.80487...|3.84615...|        5.0|4.06666...|     3.875|4.16666...|3.75961...|      3.25|3.60714...|3.69565...|3.97058...|3.77419...|3.45977...|4.27272...|3.55555...|\n",
      "|    52|               0.0|4.53424...|4.58974...|4.46428...|4.46153...|4.42857...|     4.625|        4.5|  4.421875|4.54545...|       0.0|4.33333...|       4.5|4.66666...|4.66666...|4.38888...|4.59259...|4.57843...|     4.375|       4.0|\n",
      "|    53|               0.0|       5.0|       5.0|       0.0|       0.0|       5.0|       5.0|        0.0|       5.0|       0.0|       5.0|       5.0|       0.0|       5.0|       5.0|       5.0|       5.0|       5.0|       5.0|       0.0|\n",
      "|    54|               0.0|2.85714...|       3.0|       3.0|       2.8|2.92307...|     3.125|        0.0|3.13333...|       3.0|       0.0|       4.0|       3.0|       3.0|       3.0|3.16666...|       3.0|       3.0|3.33333...|       3.0|\n",
      "|    55|               0.0|       2.9|     2.625|       0.5|      1.25|2.55555...|      4.35|        0.0|2.91666...|      1.75|       0.0|       0.0|       0.0|       0.5|       3.5|       0.5|1.33333...|4.05555...|      2.25|       0.0|\n",
      "|    56|               0.0|3.58333...|3.91666...|       5.0|       4.0|    3.9375|3.53846...|        0.0|3.94117...|3.33333...|       0.0|3.66666...|       5.0|       5.0|       4.0|      4.25|3.55555...|3.80952...|4.33333...|       0.0|\n",
      "|    57|               0.0|3.20786...|3.35555...|3.75757...|3.34883...|3.40196...|3.46376...|        4.0|3.54913...|      3.42|4.15384...|2.82352...|      3.75|3.71428...|3.79411...|       3.4|3.14736...|   3.15625|4.14705...|3.68421...|\n",
      "|    58|               0.0|3.80769...|3.76470...|     4.375|4.27272...|3.76595...|3.64705...|        0.0|4.02040...|       4.0|       0.0|2.33333...|4.33333...|4.44444...|       4.5|       4.0|       3.7|   4.03125|       4.2|3.33333...|\n",
      "|    59|               0.0|       4.0|3.68181...|       3.0|       3.0|3.95833...|4.22222...|        4.5|4.67796...|      3.25|4.66666...|       5.0|       5.0|       0.0|       4.5|       4.6|3.84615...|       4.4|      4.72|       0.0|\n",
      "|    60|               0.0|       4.0|       3.5|       3.5|       3.4|       3.5|       4.0|        0.0|3.93333...|       3.0|       0.0|       0.0|       5.0|       3.5|       3.5|       3.4|       0.0|       3.5|       4.0|       0.0|\n",
      "|    61|               0.0|3.86363...|       4.0|       0.0|       0.0|       3.5|4.19230...|        0.0|4.19444...|      4.25|       0.0|       4.0|       0.0|       0.0|       4.4|     3.125|3.72222...|4.16666...|4.16666...|     3.875|\n",
      "|    62|               4.5|3.98802...|3.93333...|3.39285...|3.64583...|3.87362...|4.46825...|        0.0|   4.28125|3.89436...|       4.5|4.02380...|4.05882...|3.41666...|4.22093...|3.78260...|3.97391...|4.15217...|4.15789...|       4.5|\n",
      "|    63|               0.0|3.58333...|3.52808...|4.24242...|       3.8|      3.75|3.79464...| 4.35714...|       3.6|3.59210...|       4.4|3.04166...|3.38095...|       4.2|3.90476...|       3.5|3.41379...|3.53623...|   3.46875|       4.0|\n",
      "|    64|               0.0|3.65447...|3.75728...|3.87878...|3.81632...|3.66279...|3.88297...| 4.08333...|3.91772...|3.82089...|       4.0|3.73636...|3.71428...|3.78571...|3.66964...|3.70754...|3.50833...|3.66906...|4.31481...|3.94444...|\n",
      "|    65|               0.0|3.96666...|3.78571...|       0.0|       0.0|       3.7|4.18181...|        0.0|      4.12|     3.625|       0.0|       0.0|4.33333...|       0.0|      4.25|3.66666...|4.05555...|4.08333...|3.83333...|       0.0|\n",
      "|    66|               0.0|3.83980...|3.91304...|    4.1875|3.97368...|3.95578...|4.06896...|        0.0|4.19666...|       4.1|     4.875|3.92307...|       5.0|      4.25|      4.22|4.27966...|3.78723...|3.96913...|4.39285...|      4.55|\n",
      "|    67|               0.0|4.11904...|3.60714...|       3.9|       3.9|4.32352...|       4.2|        0.0|4.03846...|3.08333...|       0.0|       0.0|       4.0|       0.0|       3.5|     3.875|4.05555...|4.22222...|4.33333...|      3.75|\n",
      "|    68|               0.0|   3.34125|3.41065...|   3.33125|3.10747...|3.17485...|3.21621...| 3.78787...|3.21779...|3.29078...|3.83333...|2.84466...|3.85964...|3.03703...|3.12195...|3.33159...|3.19801...|3.20632...|3.33673...|3.38636...|\n",
      "|    69|               0.0|4.44444...|4.33333...|       0.0|       0.0|4.66666...|4.57142...|        0.0|4.31578...|       5.0|       4.0|3.83333...|       0.0|       0.0|       4.6|      4.25|4.35294...|4.15384...|       4.0|       5.0|\n",
      "|    70|               0.0|      3.75|     4.375|       4.0|     4.625|4.13888...|4.35714...|        4.5|4.41176...|     4.625|       0.0|       4.5|       4.0|       0.0|       4.0|4.46428...|      4.25|       3.0|       4.3|       4.0|\n",
      "|    71|               0.0|3.85714...|    3.8125|       5.0|       3.8|     3.625|       3.2|        0.0|3.11111...|       4.0|       0.0|       0.0|       0.0|       3.0|       3.5|3.85714...|3.36363...|3.73333...|       4.0|       0.0|\n",
      "|    72|               0.0|4.14705...|       4.2|       0.0|       0.0|3.83333...|       4.5|        0.0|      4.15|       0.0|       0.0|4.33333...|      4.25|       0.0|     4.375|     4.125|      4.25|4.21428...|     4.375|       4.0|\n",
      "|    73|               0.0|4.13235...|3.95161...|      3.42|      3.38|3.50403...|4.07407...|        0.0|3.86619...|      3.68|       0.0|       3.8|4.03846...|       3.1|     4.375|3.35135...|3.94594...|4.13235...|       4.8|      4.75|\n",
      "|    74|               0.0|4.07142...|4.18181...|       0.0|       0.0|4.35185...|4.26388...|        5.0|4.27672...|       4.5|      4.75|3.63636...|       0.0|       4.0|   4.28125|      4.25|    3.9375|4.23469...|4.18181...|       4.1|\n",
      "|    75|               0.0|3.21428...|3.38461...|       4.2|       4.2|    3.8125|      3.15|        0.0|      2.98|3.38888...|       0.0|       3.5|       4.5|4.33333...|2.96428...|3.22727...|2.94827...|      3.22|     2.375|       4.5|\n",
      "|    76|               0.0|3.16176...|2.51724...|0.55555...|0.76923...|2.64102...|3.65277...|        3.5|3.19230...|   1.96875|       0.0|3.93333...|       3.0|      0.75|3.63333...|1.72727...|       3.2|3.57692...|3.11111...|       2.8|\n",
      "|    77|               0.0|4.42105...|4.92857...|       5.0|       5.0|     3.625|       3.5|        0.0|3.27777...|       4.8|       0.0|       0.0|4.41666...|       0.0|     2.125|3.16666...|4.04545...|    2.9375|       0.0|       0.0|\n",
      "|    78|               0.0|3.30882...|       3.0|      2.25|       2.5|3.16071...|3.33333...|        0.0|2.83333...|       2.5|       0.0|       2.5|       4.0|       1.5|2.33333...|       3.5|3.02631...|      3.14|       3.0|       2.0|\n",
      "|    79|               0.0|       4.2|      4.25|       0.0|       0.0|4.14285...|       4.5| 4.33333...|3.95652...|       4.0|       5.0|4.16666...|       0.0|       4.5|       4.5|       4.0|4.35714...|4.21739...|       4.0|       0.0|\n",
      "|    80|               0.0|4.35714...|4.19696...|       4.0|       4.0|3.81818...|4.43023...|        0.0|4.27857...|4.34615...|       4.0|4.12765...|4.27083...|       0.0|4.47222...|     4.375|4.19090...|4.29237...|4.08333...|       0.0|\n",
      "|    81|               0.0|2.76923...|2.45454...|       2.0|       2.0|     1.875|2.71428...|        0.0|     2.875|       1.0|       0.0|       0.0|       2.5|       2.0|       4.0|2.33333...|3.83333...|3.08333...|2.66666...|       0.0|\n",
      "|    82|               0.0|3.54782...|3.37162...|3.03846...|2.60869...|3.47345...|3.45192...|        3.0|3.32291...|      3.25|       1.0|3.35714...|      3.25|3.21428...|3.14285...|3.38235...|3.52631...|3.30303...|3.85714...|     3.625|\n",
      "|    83|               0.0|       3.0|3.18181...|      3.45|3.16666...|       3.0|3.39285...|        2.0|3.63013...|       3.2|       0.0|       2.5|3.72727...|     4.125|3.33333...|     3.675|       3.4|3.10714...|    3.4375|       0.5|\n",
      "|    84|               0.0|    3.5625|      3.56|       3.0|3.35294...|3.48717...|3.72727...|       3.75|3.88484...|    3.5625|3.66666...|3.54545...|       5.0|3.76470...|3.93333...|3.69892...|3.35714...|3.57446...|4.35294...|       4.0|\n",
      "|    85|               0.0|       1.0|       5.0|       0.0|       5.0|3.33333...|       2.0|        0.0|3.83333...|       5.0|       0.0|       0.0|       0.0|       0.0|3.66666...|       4.0|       2.0|       3.0|3.66666...|       0.0|\n",
      "|    86|               0.0|3.85483...|3.91071...|4.04166...|4.04545...|4.07142...|4.11111...|        0.0|3.94444...|3.94444...|       0.0|       4.0|3.85714...|       4.0|      4.25|3.85294...|3.91176...|3.91666...|3.16666...|       4.0|\n",
      "|    87|               0.0|       3.0|       3.9|4.33333...|       3.8|4.22222...|       0.0|        0.0|3.90909...|       4.3|       0.0|       3.5|       0.0|       4.0|       4.0|      4.25|3.64285...|3.66666...|       0.0|       0.0|\n",
      "|    88|               0.0|4.23529...|4.57142...|       0.0|       0.5|3.20833...|4.55882...|        0.0|4.16666...|       4.7|       0.0|4.16666...|4.66666...|       0.0|      4.25|       3.5|3.78571...|4.30952...|      4.25|       4.0|\n",
      "|    89|               3.0|3.37719...|3.52298...|4.02222...|3.89393...|3.46548...|3.31818...|        4.5|3.41037...|3.46491...|       0.0|4.23529...|     4.125|3.05263...|       3.7|3.09090...|3.37878...|3.73809...|3.46153...|       4.5|\n",
      "|    90|               0.0|       4.0|      3.75|       3.0|       3.5|4.04545...|       4.4|       4.25|4.21212...|       3.5|       0.0|       4.0|       0.0|4.33333...|       4.0|4.27777...|       4.0|       4.0|       4.0|       0.0|\n",
      "|    91|               0.0|3.60975...|3.60948...|3.97142...|       3.3|3.08706...|      3.53|        3.5|3.32587...|3.83846...|       3.5|3.82631...|3.78571...|3.09523...|      3.75|2.95945...|3.71428...|3.66923...|3.33333...|3.58333...|\n",
      "|    92|               0.0|       3.5|     3.875|       4.0|       4.0|4.11111...|       3.0|        0.0|      3.85|       4.5|       0.0|3.83333...|       4.5|       4.5|       4.0|     4.375|3.66666...|       3.5|      4.25|       0.0|\n",
      "|    93|               0.0|4.32608...|4.19642...|      3.75|4.05882...|4.11111...|     4.375|        0.0|       4.5|4.26315...|       0.0|4.33333...|       5.0|       4.0|       4.5|4.34782...|       4.5|4.36363...|       5.0|       4.0|\n",
      "|    94|               0.0|      3.05|3.27777...|       4.0|3.66666...|2.72727...|3.18181...|        0.0|3.33333...|2.83333...|       0.0|       2.0|       4.0|       4.0|3.33333...|       2.3|3.33333...|3.19047...|      3.75|3.33333...|\n",
      "|    95|               0.0|4.17796...|4.17391...|       4.7|       4.2|      3.85|4.14285...|        4.5|4.22142...|       4.0|       4.0|3.33333...|     4.125|3.66666...|      4.25|4.17241...|4.26724...|4.09782...|      4.25|       0.0|\n",
      "|    96|               0.0|3.86486...|3.85185...|       5.0|       4.2|      3.95|       4.5|        0.0|   3.90625|     3.625|       5.0|       4.0|       5.0|       4.0|4.42857...|3.54545...|    3.8125|3.81481...|       4.0|       4.0|\n",
      "|    97|               0.0|4.18181...|4.28571...|       4.5|4.33333...|4.11111...|       4.5|        0.0|3.91666...|       5.0|       0.0|       5.0|       4.0|       0.0|       0.0|       4.4|4.42857...|4.54545...|      3.75|       0.0|\n",
      "|    98|               0.0|     3.625|       3.6|     3.975|      3.85|       4.0|      4.25|        0.0|     3.875|3.42105...|       0.0|4.27272...|3.29166...|3.78571...|       4.6|     3.875|      3.68|   3.90625|4.66666...|       0.0|\n",
      "|    99|               0.0|3.80952...|       4.0|       5.0|       5.0|3.86956...|4.14285...|        0.0|4.38888...|       0.0|       0.0|3.33333...|       5.0|       5.0|3.66666...|       4.7|2.83333...|       4.0|       3.5|4.33333...|\n",
      "|   100|               0.0|3.98076...|4.02941...|       3.5|       4.0|3.92941...|     4.125|        0.0|3.97972...|      3.95|       0.0|       2.4|       4.5|4.08333...|       3.7|4.08860...|3.57142...|3.63157...|       4.0|       4.3|\n",
      "+------+------------------+----------+----------+----------+----------+----------+----------+-----------+----------+----------+----------+----------+----------+----------+----------+----------+----------+----------+----------+----------+\n",
      "only showing top 100 rows\n",
      "\n"
     ]
    }
   ],
   "source": [
    "df3 = df3.withColumn('rating', f.col('rating').cast('float'))\n",
    "df3 = df3.withColumn('userId', f.col('userId').cast('int'))\n",
    "df3.groupBy('userId').pivot('genre').avg('rating').fillna(0).sort('userId').show(100,truncate=10)"
   ]
  },
  {
   "cell_type": "markdown",
   "metadata": {
    "id": "ArhV-zhAWTFg"
   },
   "source": [
    "## **Câu 4:** Show the name, the year, the number of ratings, and the average rating of each movie. The results are sorted by the years and (then) the names of the movies."
   ]
  },
  {
   "cell_type": "code",
   "execution_count": null,
   "metadata": {
    "colab": {
     "base_uri": "https://localhost:8080/"
    },
    "id": "o8ZVjJG9UhRF",
    "outputId": "d0cc11e5-f651-43d6-d7eb-fa941f223752"
   },
   "outputs": [
    {
     "name": "stdout",
     "output_type": "stream",
     "text": [
      "+-------+-------------------------------------------------------------------------------+----+-----------------------------------------------------------------------------------------------+--------+---------------------------------------------------------------------------------------+------------------------------------------------------------------------+\n",
      "|movieId|title                                                                          |year|sub1                                                                                           |sub2    |sub3                                                                                   |name                                                                    |\n",
      "+-------+-------------------------------------------------------------------------------+----+-----------------------------------------------------------------------------------------------+--------+---------------------------------------------------------------------------------------+------------------------------------------------------------------------+\n",
      "|1      |Toy Story (1995)                                                               |1995|[Toy, Story, (1995)]                                                                           |[(1995)]|[Toy, Story]                                                                           |Toy Story                                                               |\n",
      "|2      |Jumanji (1995)                                                                 |1995|[Jumanji, (1995)]                                                                              |[(1995)]|[Jumanji]                                                                              |Jumanji                                                                 |\n",
      "|3      |Grumpier Old Men (1995)                                                        |1995|[Grumpier, Old, Men, (1995)]                                                                   |[(1995)]|[Grumpier, Old, Men]                                                                   |Grumpier Old Men                                                        |\n",
      "|4      |Waiting to Exhale (1995)                                                       |1995|[Waiting, to, Exhale, (1995)]                                                                  |[(1995)]|[Waiting, to, Exhale]                                                                  |Waiting to Exhale                                                       |\n",
      "|5      |Father of the Bride Part II (1995)                                             |1995|[Father, of, the, Bride, Part, II, (1995)]                                                     |[(1995)]|[Father, of, the, Bride, Part, II]                                                     |Father of the Bride Part II                                             |\n",
      "|6      |Heat (1995)                                                                    |1995|[Heat, (1995)]                                                                                 |[(1995)]|[Heat]                                                                                 |Heat                                                                    |\n",
      "|7      |Sabrina (1995)                                                                 |1995|[Sabrina, (1995)]                                                                              |[(1995)]|[Sabrina]                                                                              |Sabrina                                                                 |\n",
      "|8      |Tom and Huck (1995)                                                            |1995|[Tom, and, Huck, (1995)]                                                                       |[(1995)]|[Tom, and, Huck]                                                                       |Tom and Huck                                                            |\n",
      "|9      |Sudden Death (1995)                                                            |1995|[Sudden, Death, (1995)]                                                                        |[(1995)]|[Sudden, Death]                                                                        |Sudden Death                                                            |\n",
      "|10     |GoldenEye (1995)                                                               |1995|[GoldenEye, (1995)]                                                                            |[(1995)]|[GoldenEye]                                                                            |GoldenEye                                                               |\n",
      "|11     |American President, The (1995)                                                 |1995|[American, President,, The, (1995)]                                                            |[(1995)]|[American, President,, The]                                                            |American President, The                                                 |\n",
      "|12     |Dracula: Dead and Loving It (1995)                                             |1995|[Dracula:, Dead, and, Loving, It, (1995)]                                                      |[(1995)]|[Dracula:, Dead, and, Loving, It]                                                      |Dracula: Dead and Loving It                                             |\n",
      "|13     |Balto (1995)                                                                   |1995|[Balto, (1995)]                                                                                |[(1995)]|[Balto]                                                                                |Balto                                                                   |\n",
      "|14     |Nixon (1995)                                                                   |1995|[Nixon, (1995)]                                                                                |[(1995)]|[Nixon]                                                                                |Nixon                                                                   |\n",
      "|15     |Cutthroat Island (1995)                                                        |1995|[Cutthroat, Island, (1995)]                                                                    |[(1995)]|[Cutthroat, Island]                                                                    |Cutthroat Island                                                        |\n",
      "|16     |Casino (1995)                                                                  |1995|[Casino, (1995)]                                                                               |[(1995)]|[Casino]                                                                               |Casino                                                                  |\n",
      "|17     |Sense and Sensibility (1995)                                                   |1995|[Sense, and, Sensibility, (1995)]                                                              |[(1995)]|[Sense, and, Sensibility]                                                              |Sense and Sensibility                                                   |\n",
      "|18     |Four Rooms (1995)                                                              |1995|[Four, Rooms, (1995)]                                                                          |[(1995)]|[Four, Rooms]                                                                          |Four Rooms                                                              |\n",
      "|19     |Ace Ventura: When Nature Calls (1995)                                          |1995|[Ace, Ventura:, When, Nature, Calls, (1995)]                                                   |[(1995)]|[Ace, Ventura:, When, Nature, Calls]                                                   |Ace Ventura: When Nature Calls                                          |\n",
      "|20     |Money Train (1995)                                                             |1995|[Money, Train, (1995)]                                                                         |[(1995)]|[Money, Train]                                                                         |Money Train                                                             |\n",
      "|21     |Get Shorty (1995)                                                              |1995|[Get, Shorty, (1995)]                                                                          |[(1995)]|[Get, Shorty]                                                                          |Get Shorty                                                              |\n",
      "|22     |Copycat (1995)                                                                 |1995|[Copycat, (1995)]                                                                              |[(1995)]|[Copycat]                                                                              |Copycat                                                                 |\n",
      "|23     |Assassins (1995)                                                               |1995|[Assassins, (1995)]                                                                            |[(1995)]|[Assassins]                                                                            |Assassins                                                               |\n",
      "|24     |Powder (1995)                                                                  |1995|[Powder, (1995)]                                                                               |[(1995)]|[Powder]                                                                               |Powder                                                                  |\n",
      "|25     |Leaving Las Vegas (1995)                                                       |1995|[Leaving, Las, Vegas, (1995)]                                                                  |[(1995)]|[Leaving, Las, Vegas]                                                                  |Leaving Las Vegas                                                       |\n",
      "|26     |Othello (1995)                                                                 |1995|[Othello, (1995)]                                                                              |[(1995)]|[Othello]                                                                              |Othello                                                                 |\n",
      "|27     |Now and Then (1995)                                                            |1995|[Now, and, Then, (1995)]                                                                       |[(1995)]|[Now, and, Then]                                                                       |Now and Then                                                            |\n",
      "|28     |Persuasion (1995)                                                              |1995|[Persuasion, (1995)]                                                                           |[(1995)]|[Persuasion]                                                                           |Persuasion                                                              |\n",
      "|29     |City of Lost Children, The (Cité des enfants perdus, La) (1995)                |1995|[City, of, Lost, Children,, The, (Cité, des, enfants, perdus,, La), (1995)]                    |[(1995)]|[City, of, Lost, Children,, The, (Cité, des, enfants, perdus,, La)]                    |City of Lost Children, The (Cité des enfants perdus, La)                |\n",
      "|30     |Shanghai Triad (Yao a yao yao dao waipo qiao) (1995)                           |1995|[Shanghai, Triad, (Yao, a, yao, yao, dao, waipo, qiao), (1995)]                                |[(1995)]|[Shanghai, Triad, (Yao, a, yao, dao, waipo, qiao)]                                     |Shanghai Triad (Yao a yao dao waipo qiao)                               |\n",
      "|31     |Dangerous Minds (1995)                                                         |1995|[Dangerous, Minds, (1995)]                                                                     |[(1995)]|[Dangerous, Minds]                                                                     |Dangerous Minds                                                         |\n",
      "|32     |Twelve Monkeys (a.k.a. 12 Monkeys) (1995)                                      |1995|[Twelve, Monkeys, (a.k.a., 12, Monkeys), (1995)]                                               |[(1995)]|[Twelve, Monkeys, (a.k.a., 12, Monkeys)]                                               |Twelve Monkeys (a.k.a. 12 Monkeys)                                      |\n",
      "|34     |Babe (1995)                                                                    |1995|[Babe, (1995)]                                                                                 |[(1995)]|[Babe]                                                                                 |Babe                                                                    |\n",
      "|36     |Dead Man Walking (1995)                                                        |1995|[Dead, Man, Walking, (1995)]                                                                   |[(1995)]|[Dead, Man, Walking]                                                                   |Dead Man Walking                                                        |\n",
      "|38     |It Takes Two (1995)                                                            |1995|[It, Takes, Two, (1995)]                                                                       |[(1995)]|[It, Takes, Two]                                                                       |It Takes Two                                                            |\n",
      "|39     |Clueless (1995)                                                                |1995|[Clueless, (1995)]                                                                             |[(1995)]|[Clueless]                                                                             |Clueless                                                                |\n",
      "|40     |Cry, the Beloved Country (1995)                                                |1995|[Cry,, the, Beloved, Country, (1995)]                                                          |[(1995)]|[Cry,, the, Beloved, Country]                                                          |Cry, the Beloved Country                                                |\n",
      "|41     |Richard III (1995)                                                             |1995|[Richard, III, (1995)]                                                                         |[(1995)]|[Richard, III]                                                                         |Richard III                                                             |\n",
      "|42     |Dead Presidents (1995)                                                         |1995|[Dead, Presidents, (1995)]                                                                     |[(1995)]|[Dead, Presidents]                                                                     |Dead Presidents                                                         |\n",
      "|43     |Restoration (1995)                                                             |1995|[Restoration, (1995)]                                                                          |[(1995)]|[Restoration]                                                                          |Restoration                                                             |\n",
      "|44     |Mortal Kombat (1995)                                                           |1995|[Mortal, Kombat, (1995)]                                                                       |[(1995)]|[Mortal, Kombat]                                                                       |Mortal Kombat                                                           |\n",
      "|45     |To Die For (1995)                                                              |1995|[To, Die, For, (1995)]                                                                         |[(1995)]|[To, Die, For]                                                                         |To Die For                                                              |\n",
      "|46     |How to Make an American Quilt (1995)                                           |1995|[How, to, Make, an, American, Quilt, (1995)]                                                   |[(1995)]|[How, to, Make, an, American, Quilt]                                                   |How to Make an American Quilt                                           |\n",
      "|47     |Seven (a.k.a. Se7en) (1995)                                                    |1995|[Seven, (a.k.a., Se7en), (1995)]                                                               |[(1995)]|[Seven, (a.k.a., Se7en)]                                                               |Seven (a.k.a. Se7en)                                                    |\n",
      "|48     |Pocahontas (1995)                                                              |1995|[Pocahontas, (1995)]                                                                           |[(1995)]|[Pocahontas]                                                                           |Pocahontas                                                              |\n",
      "|49     |When Night Is Falling (1995)                                                   |1995|[When, Night, Is, Falling, (1995)]                                                             |[(1995)]|[When, Night, Is, Falling]                                                             |When Night Is Falling                                                   |\n",
      "|50     |Usual Suspects, The (1995)                                                     |1995|[Usual, Suspects,, The, (1995)]                                                                |[(1995)]|[Usual, Suspects,, The]                                                                |Usual Suspects, The                                                     |\n",
      "|52     |Mighty Aphrodite (1995)                                                        |1995|[Mighty, Aphrodite, (1995)]                                                                    |[(1995)]|[Mighty, Aphrodite]                                                                    |Mighty Aphrodite                                                        |\n",
      "|53     |Lamerica (1994)                                                                |1994|[Lamerica, (1994)]                                                                             |[(1994)]|[Lamerica]                                                                             |Lamerica                                                                |\n",
      "|54     |Big Green, The (1995)                                                          |1995|[Big, Green,, The, (1995)]                                                                     |[(1995)]|[Big, Green,, The]                                                                     |Big Green, The                                                          |\n",
      "|55     |Georgia (1995)                                                                 |1995|[Georgia, (1995)]                                                                              |[(1995)]|[Georgia]                                                                              |Georgia                                                                 |\n",
      "|57     |Home for the Holidays (1995)                                                   |1995|[Home, for, the, Holidays, (1995)]                                                             |[(1995)]|[Home, for, the, Holidays]                                                             |Home for the Holidays                                                   |\n",
      "|58     |Postman, The (Postino, Il) (1994)                                              |1994|[Postman,, The, (Postino,, Il), (1994)]                                                        |[(1994)]|[Postman,, The, (Postino,, Il)]                                                        |Postman, The (Postino, Il)                                              |\n",
      "|60     |Indian in the Cupboard, The (1995)                                             |1995|[Indian, in, the, Cupboard,, The, (1995)]                                                      |[(1995)]|[Indian, in, the, Cupboard,, The]                                                      |Indian in the Cupboard, The                                             |\n",
      "|61     |Eye for an Eye (1996)                                                          |1996|[Eye, for, an, Eye, (1996)]                                                                    |[(1996)]|[Eye, for, an]                                                                         |Eye for an                                                              |\n",
      "|62     |Mr. Holland's Opus (1995)                                                      |1995|[Mr., Holland's, Opus, (1995)]                                                                 |[(1995)]|[Mr., Holland's, Opus]                                                                 |Mr. Holland's Opus                                                      |\n",
      "|63     |Don't Be a Menace to South Central While Drinking Your Juice in the Hood (1996)|1996|[Don't, Be, a, Menace, to, South, Central, While, Drinking, Your, Juice, in, the, Hood, (1996)]|[(1996)]|[Don't, Be, a, Menace, to, South, Central, While, Drinking, Your, Juice, in, the, Hood]|Don't Be a Menace to South Central While Drinking Your Juice in the Hood|\n",
      "|64     |Two if by Sea (1996)                                                           |1996|[Two, if, by, Sea, (1996)]                                                                     |[(1996)]|[Two, if, by, Sea]                                                                     |Two if by Sea                                                           |\n",
      "|65     |Bio-Dome (1996)                                                                |1996|[Bio-Dome, (1996)]                                                                             |[(1996)]|[Bio-Dome]                                                                             |Bio-Dome                                                                |\n",
      "|66     |Lawnmower Man 2: Beyond Cyberspace (1996)                                      |1996|[Lawnmower, Man, 2:, Beyond, Cyberspace, (1996)]                                               |[(1996)]|[Lawnmower, Man, 2:, Beyond, Cyberspace]                                               |Lawnmower Man 2: Beyond Cyberspace                                      |\n",
      "|68     |French Twist (Gazon maudit) (1995)                                             |1995|[French, Twist, (Gazon, maudit), (1995)]                                                       |[(1995)]|[French, Twist, (Gazon, maudit)]                                                       |French Twist (Gazon maudit)                                             |\n",
      "|69     |Friday (1995)                                                                  |1995|[Friday, (1995)]                                                                               |[(1995)]|[Friday]                                                                               |Friday                                                                  |\n",
      "|70     |From Dusk Till Dawn (1996)                                                     |1996|[From, Dusk, Till, Dawn, (1996)]                                                               |[(1996)]|[From, Dusk, Till, Dawn]                                                               |From Dusk Till Dawn                                                     |\n",
      "|71     |Fair Game (1995)                                                               |1995|[Fair, Game, (1995)]                                                                           |[(1995)]|[Fair, Game]                                                                           |Fair Game                                                               |\n",
      "|72     |Kicking and Screaming (1995)                                                   |1995|[Kicking, and, Screaming, (1995)]                                                              |[(1995)]|[Kicking, and, Screaming]                                                              |Kicking and Screaming                                                   |\n",
      "|73     |Misérables, Les (1995)                                                         |1995|[Misérables,, Les, (1995)]                                                                     |[(1995)]|[Misérables,, Les]                                                                     |Misérables, Les                                                         |\n",
      "|74     |Bed of Roses (1996)                                                            |1996|[Bed, of, Roses, (1996)]                                                                       |[(1996)]|[Bed, of, Roses]                                                                       |Bed of Roses                                                            |\n",
      "|75     |Big Bully (1996)                                                               |1996|[Big, Bully, (1996)]                                                                           |[(1996)]|[Big, Bully]                                                                           |Big Bully                                                               |\n",
      "|76     |Screamers (1995)                                                               |1995|[Screamers, (1995)]                                                                            |[(1995)]|[Screamers]                                                                            |Screamers                                                               |\n",
      "|77     |Nico Icon (1995)                                                               |1995|[Nico, Icon, (1995)]                                                                           |[(1995)]|[Nico, Icon]                                                                           |Nico Icon                                                               |\n",
      "|78     |Crossing Guard, The (1995)                                                     |1995|[Crossing, Guard,, The, (1995)]                                                                |[(1995)]|[Crossing, Guard,, The]                                                                |Crossing Guard, The                                                     |\n",
      "|79     |Juror, The (1996)                                                              |1996|[Juror,, The, (1996)]                                                                          |[(1996)]|[Juror,, The]                                                                          |Juror, The                                                              |\n",
      "|80     |White Balloon, The (Badkonake sefid) (1995)                                    |1995|[White, Balloon,, The, (Badkonake, sefid), (1995)]                                             |[(1995)]|[White, Balloon,, The, (Badkonake, sefid)]                                             |White Balloon, The (Badkonake sefid)                                    |\n",
      "|81     |Things to Do in Denver When You're Dead (1995)                                 |1995|[Things, to, Do, in, Denver, When, You're, Dead, (1995)]                                       |[(1995)]|[Things, to, Do, in, Denver, When, You're, Dead]                                       |Things to Do in Denver When You're Dead                                 |\n",
      "|82     |Antonia's Line (Antonia) (1995)                                                |1995|[Antonia's, Line, (Antonia), (1995)]                                                           |[(1995)]|[Antonia's, Line, (Antonia)]                                                           |Antonia's Line (Antonia)                                                |\n",
      "|83     |Once Upon a Time... When We Were Colored (1995)                                |1995|[Once, Upon, a, Time..., When, We, Were, Colored, (1995)]                                      |[(1995)]|[Once, Upon, a, Time..., When, We, Were, Colored]                                      |Once Upon a Time... When We Were Colored                                |\n",
      "|85     |Angels and Insects (1995)                                                      |1995|[Angels, and, Insects, (1995)]                                                                 |[(1995)]|[Angels, and, Insects]                                                                 |Angels and Insects                                                      |\n",
      "|86     |White Squall (1996)                                                            |1996|[White, Squall, (1996)]                                                                        |[(1996)]|[White, Squall]                                                                        |White Squall                                                            |\n",
      "|87     |Dunston Checks In (1996)                                                       |1996|[Dunston, Checks, In, (1996)]                                                                  |[(1996)]|[Dunston, Checks, In]                                                                  |Dunston Checks In                                                       |\n",
      "|88     |Black Sheep (1996)                                                             |1996|[Black, Sheep, (1996)]                                                                         |[(1996)]|[Black, Sheep]                                                                         |Black Sheep                                                             |\n",
      "|89     |Nick of Time (1995)                                                            |1995|[Nick, of, Time, (1995)]                                                                       |[(1995)]|[Nick, of, Time]                                                                       |Nick of Time                                                            |\n",
      "|92     |Mary Reilly (1996)                                                             |1996|[Mary, Reilly, (1996)]                                                                         |[(1996)]|[Mary, Reilly]                                                                         |Mary Reilly                                                             |\n",
      "|93     |Vampire in Brooklyn (1995)                                                     |1995|[Vampire, in, Brooklyn, (1995)]                                                                |[(1995)]|[Vampire, in, Brooklyn]                                                                |Vampire in Brooklyn                                                     |\n",
      "|94     |Beautiful Girls (1996)                                                         |1996|[Beautiful, Girls, (1996)]                                                                     |[(1996)]|[Beautiful, Girls]                                                                     |Beautiful Girls                                                         |\n",
      "|95     |Broken Arrow (1996)                                                            |1996|[Broken, Arrow, (1996)]                                                                        |[(1996)]|[Broken, Arrow]                                                                        |Broken Arrow                                                            |\n",
      "|96     |In the Bleak Midwinter (1995)                                                  |1995|[In, the, Bleak, Midwinter, (1995)]                                                            |[(1995)]|[In, the, Bleak, Midwinter]                                                            |In the Bleak Midwinter                                                  |\n",
      "|97     |Hate (Haine, La) (1995)                                                        |1995|[Hate, (Haine,, La), (1995)]                                                                   |[(1995)]|[Hate, (Haine,, La)]                                                                   |Hate (Haine, La)                                                        |\n",
      "|99     |Heidi Fleiss: Hollywood Madam (1995)                                           |1995|[Heidi, Fleiss:, Hollywood, Madam, (1995)]                                                     |[(1995)]|[Heidi, Fleiss:, Hollywood, Madam]                                                     |Heidi Fleiss: Hollywood Madam                                           |\n",
      "|100    |City Hall (1996)                                                               |1996|[City, Hall, (1996)]                                                                           |[(1996)]|[City, Hall]                                                                           |City Hall                                                               |\n",
      "|101    |Bottle Rocket (1996)                                                           |1996|[Bottle, Rocket, (1996)]                                                                       |[(1996)]|[Bottle, Rocket]                                                                       |Bottle Rocket                                                           |\n",
      "|102    |Mr. Wrong (1996)                                                               |1996|[Mr., Wrong, (1996)]                                                                           |[(1996)]|[Mr., Wrong]                                                                           |Mr. Wrong                                                               |\n",
      "|103    |Unforgettable (1996)                                                           |1996|[Unforgettable, (1996)]                                                                        |[(1996)]|[Unforgettable]                                                                        |Unforgettable                                                           |\n",
      "|104    |Happy Gilmore (1996)                                                           |1996|[Happy, Gilmore, (1996)]                                                                       |[(1996)]|[Happy, Gilmore]                                                                       |Happy Gilmore                                                           |\n",
      "|105    |Bridges of Madison County, The (1995)                                          |1995|[Bridges, of, Madison, County,, The, (1995)]                                                   |[(1995)]|[Bridges, of, Madison, County,, The]                                                   |Bridges of Madison County, The                                          |\n",
      "|106    |Nobody Loves Me (Keiner liebt mich) (1994)                                     |1994|[Nobody, Loves, Me, (Keiner, liebt, mich), (1994)]                                             |[(1994)]|[Nobody, Loves, Me, (Keiner, liebt, mich)]                                             |Nobody Loves Me (Keiner liebt mich)                                     |\n",
      "|107    |Muppet Treasure Island (1996)                                                  |1996|[Muppet, Treasure, Island, (1996)]                                                             |[(1996)]|[Muppet, Treasure, Island]                                                             |Muppet Treasure Island                                                  |\n",
      "|108    |Catwalk (1996)                                                                 |1996|[Catwalk, (1996)]                                                                              |[(1996)]|[Catwalk]                                                                              |Catwalk                                                                 |\n",
      "|110    |Braveheart (1995)                                                              |1995|[Braveheart, (1995)]                                                                           |[(1995)]|[Braveheart]                                                                           |Braveheart                                                              |\n",
      "|111    |Taxi Driver (1976)                                                             |1976|[Taxi, Driver, (1976)]                                                                         |[(1976)]|[Taxi, Driver]                                                                         |Taxi Driver                                                             |\n",
      "|112    |Rumble in the Bronx (Hont faan kui) (1995)                                     |1995|[Rumble, in, the, Bronx, (Hont, faan, kui), (1995)]                                            |[(1995)]|[Rumble, in, the, Bronx, (Hont, faan, kui)]                                            |Rumble in the Bronx (Hont faan kui)                                     |\n",
      "+-------+-------------------------------------------------------------------------------+----+-----------------------------------------------------------------------------------------------+--------+---------------------------------------------------------------------------------------+------------------------------------------------------------------------+\n",
      "only showing top 100 rows\n",
      "\n"
     ]
    }
   ],
   "source": [
    "movie1 = movies.select('movieId', 'title').withColumn('year', f.substring('title',-5,4))\n",
    "movie1 = movie1.withColumn('sub1', f.split('title', ' ')).withColumn('sub2', f.element_at('sub1', -1)) \\\n",
    ".withColumn('sub2', f.split('sub2', '123456')).withColumn('sub3', f.array_except('sub1', 'sub2')) \\\n",
    ".withColumn('name', f.concat_ws(' ', f.col('sub3')))\n",
    "movie1.show(100,truncate=False)"
   ]
  },
  {
   "cell_type": "code",
   "execution_count": null,
   "metadata": {
    "colab": {
     "base_uri": "https://localhost:8080/"
    },
    "id": "aDktuSRk8QmA",
    "outputId": "4b53c597-1cd7-4d54-85e1-0a952a7fc1c9"
   },
   "outputs": [
    {
     "name": "stdout",
     "output_type": "stream",
     "text": [
      "+-------+------------------+\n",
      "|movieId|avg(rating)       |\n",
      "+-------+------------------+\n",
      "|1      |3.9209302325581397|\n",
      "|2      |3.4318181818181817|\n",
      "|3      |3.2596153846153846|\n",
      "|4      |2.357142857142857 |\n",
      "|5      |3.0714285714285716|\n",
      "|6      |3.946078431372549 |\n",
      "|7      |3.185185185185185 |\n",
      "|8      |2.875             |\n",
      "|9      |3.125             |\n",
      "|10     |3.496212121212121 |\n",
      "|11     |3.6714285714285713|\n",
      "|12     |2.4210526315789473|\n",
      "|13     |3.125             |\n",
      "|14     |3.8333333333333335|\n",
      "|15     |3.0               |\n",
      "|16     |3.926829268292683 |\n",
      "|17     |3.7761194029850746|\n",
      "|18     |3.7               |\n",
      "|19     |2.727272727272727 |\n",
      "|20     |2.5               |\n",
      "|21     |3.49438202247191  |\n",
      "|22     |3.2222222222222223|\n",
      "|23     |3.125             |\n",
      "|24     |3.125             |\n",
      "|25     |3.625             |\n",
      "|26     |3.5               |\n",
      "|27     |3.3333333333333335|\n",
      "|28     |4.2272727272727275|\n",
      "|29     |4.0131578947368425|\n",
      "|30     |3.0               |\n",
      "|31     |3.1842105263157894|\n",
      "|32     |3.983050847457627 |\n",
      "|34     |3.65234375        |\n",
      "|36     |3.8358208955223883|\n",
      "|38     |2.125             |\n",
      "|39     |3.293269230769231 |\n",
      "|40     |4.25              |\n",
      "|41     |3.7               |\n",
      "|42     |3.0               |\n",
      "|43     |3.1875            |\n",
      "|44     |2.5434782608695654|\n",
      "|45     |3.3125            |\n",
      "|46     |3.066666666666667 |\n",
      "|47     |3.9753694581280787|\n",
      "|48     |3.1470588235294117|\n",
      "|49     |3.0               |\n",
      "|50     |4.237745098039215 |\n",
      "|52     |3.4642857142857144|\n",
      "|53     |5.0               |\n",
      "|54     |2.3333333333333335|\n",
      "|55     |4.0               |\n",
      "|57     |3.0625            |\n",
      "|58     |4.027027027027027 |\n",
      "|60     |3.235294117647059 |\n",
      "|61     |3.75              |\n",
      "|62     |3.70625           |\n",
      "|63     |2.7142857142857144|\n",
      "|64     |2.2               |\n",
      "|65     |2.532258064516129 |\n",
      "|66     |2.5               |\n",
      "|68     |3.4               |\n",
      "|69     |3.775             |\n",
      "|70     |3.5090909090909093|\n",
      "|71     |1.7               |\n",
      "|72     |3.2142857142857144|\n",
      "|73     |3.4615384615384617|\n",
      "|74     |4.0               |\n",
      "|75     |2.2               |\n",
      "|76     |3.4               |\n",
      "|77     |4.0               |\n",
      "|78     |3.3333333333333335|\n",
      "|79     |2.764705882352941 |\n",
      "|80     |4.0               |\n",
      "|81     |3.107142857142857 |\n",
      "|82     |3.875             |\n",
      "|83     |3.0               |\n",
      "|85     |3.857142857142857 |\n",
      "|86     |3.966666666666667 |\n",
      "|87     |2.5               |\n",
      "|88     |3.15625           |\n",
      "|89     |3.25              |\n",
      "|92     |2.625             |\n",
      "|93     |2.8333333333333335|\n",
      "|94     |3.95              |\n",
      "|95     |3.0238095238095237|\n",
      "|96     |3.5               |\n",
      "|97     |3.9               |\n",
      "|99     |5.0               |\n",
      "|100    |2.7857142857142856|\n",
      "|101    |3.782608695652174 |\n",
      "|102    |2.4               |\n",
      "|103    |3.0               |\n",
      "|104    |3.4393939393939394|\n",
      "|105    |3.282608695652174 |\n",
      "|106    |4.0               |\n",
      "|107    |3.326923076923077 |\n",
      "|108    |4.0               |\n",
      "|110    |4.031645569620253 |\n",
      "|111    |4.105769230769231 |\n",
      "|112    |3.5434782608695654|\n",
      "+-------+------------------+\n",
      "only showing top 100 rows\n",
      "\n"
     ]
    }
   ],
   "source": [
    "ratings = ratings.withColumn('rating', f.col('rating').cast('float'))\n",
    "ratings = ratings.withColumn('movieId', f.col('movieId').cast('int'))\n",
    "rate1 = ratings.groupBy('movieId').avg('rating').sort('movieId')\n",
    "rate1.show(100,truncate=False)"
   ]
  },
  {
   "cell_type": "code",
   "execution_count": null,
   "metadata": {
    "colab": {
     "base_uri": "https://localhost:8080/"
    },
    "id": "8YAIokHd92fl",
    "outputId": "f0da1eb2-f9c8-4fdb-b20e-425eae004f9f"
   },
   "outputs": [
    {
     "name": "stdout",
     "output_type": "stream",
     "text": [
      "+-------+-----+\n",
      "|movieId|count|\n",
      "+-------+-----+\n",
      "|1      |215  |\n",
      "|2      |110  |\n",
      "|3      |52   |\n",
      "|4      |7    |\n",
      "|5      |49   |\n",
      "|6      |102  |\n",
      "|7      |54   |\n",
      "|8      |8    |\n",
      "|9      |16   |\n",
      "|10     |132  |\n",
      "|11     |70   |\n",
      "|12     |19   |\n",
      "|13     |8    |\n",
      "|14     |18   |\n",
      "|15     |13   |\n",
      "|16     |82   |\n",
      "|17     |67   |\n",
      "|18     |20   |\n",
      "|19     |88   |\n",
      "|20     |15   |\n",
      "|21     |89   |\n",
      "|22     |36   |\n",
      "|23     |16   |\n",
      "|24     |28   |\n",
      "|25     |76   |\n",
      "|26     |13   |\n",
      "|27     |9    |\n",
      "|28     |11   |\n",
      "|29     |38   |\n",
      "|30     |3    |\n",
      "|31     |38   |\n",
      "|32     |177  |\n",
      "|34     |128  |\n",
      "|36     |67   |\n",
      "|38     |4    |\n",
      "|39     |104  |\n",
      "|40     |2    |\n",
      "|41     |15   |\n",
      "|42     |7    |\n",
      "|43     |8    |\n",
      "|44     |46   |\n",
      "|45     |32   |\n",
      "|46     |15   |\n",
      "|47     |203  |\n",
      "|48     |68   |\n",
      "|49     |1    |\n",
      "|50     |204  |\n",
      "|52     |28   |\n",
      "|53     |2    |\n",
      "|54     |3    |\n",
      "|55     |1    |\n",
      "|57     |8    |\n",
      "|58     |37   |\n",
      "|60     |34   |\n",
      "|61     |6    |\n",
      "|62     |80   |\n",
      "|63     |7    |\n",
      "|64     |5    |\n",
      "|65     |31   |\n",
      "|66     |9    |\n",
      "|68     |5    |\n",
      "|69     |20   |\n",
      "|70     |55   |\n",
      "|71     |5    |\n",
      "|72     |7    |\n",
      "|73     |13   |\n",
      "|74     |8    |\n",
      "|75     |5    |\n",
      "|76     |15   |\n",
      "|77     |1    |\n",
      "|78     |3    |\n",
      "|79     |17   |\n",
      "|80     |2    |\n",
      "|81     |14   |\n",
      "|82     |8    |\n",
      "|83     |1    |\n",
      "|85     |7    |\n",
      "|86     |15   |\n",
      "|87     |7    |\n",
      "|88     |16   |\n",
      "|89     |10   |\n",
      "|92     |8    |\n",
      "|93     |9    |\n",
      "|94     |10   |\n",
      "|95     |84   |\n",
      "|96     |1    |\n",
      "|97     |10   |\n",
      "|99     |2    |\n",
      "|100    |14   |\n",
      "|101    |23   |\n",
      "|102    |5    |\n",
      "|103    |3    |\n",
      "|104    |99   |\n",
      "|105    |23   |\n",
      "|106    |1    |\n",
      "|107    |26   |\n",
      "|108    |1    |\n",
      "|110    |237  |\n",
      "|111    |104  |\n",
      "|112    |46   |\n",
      "+-------+-----+\n",
      "only showing top 100 rows\n",
      "\n"
     ]
    }
   ],
   "source": [
    "rate2 = ratings.groupBy('movieId').count().sort('movieId')\n",
    "rate2.show(100,truncate=False)"
   ]
  },
  {
   "cell_type": "code",
   "execution_count": null,
   "metadata": {
    "colab": {
     "base_uri": "https://localhost:8080/"
    },
    "id": "6nruPL_R9-am",
    "outputId": "ff7646fc-7cce-4504-f78f-e55970b3dda1"
   },
   "outputs": [
    {
     "name": "stdout",
     "output_type": "stream",
     "text": [
      "+-------+-----+------------------+\n",
      "|movieId|count|avg(rating)       |\n",
      "+-------+-----+------------------+\n",
      "|1580   |165  |3.487878787878788 |\n",
      "|2366   |25   |3.64              |\n",
      "|3175   |75   |3.58              |\n",
      "|1088   |42   |3.369047619047619 |\n",
      "|32460  |4    |4.25              |\n",
      "|44022  |23   |3.217391304347826 |\n",
      "|96488  |4    |4.25              |\n",
      "|1238   |9    |4.055555555555555 |\n",
      "|1342   |11   |2.5               |\n",
      "|1591   |26   |2.6346153846153846|\n",
      "|1645   |51   |3.411764705882353 |\n",
      "|4519   |9    |3.3333333333333335|\n",
      "|2142   |10   |2.7               |\n",
      "|471    |40   |3.55              |\n",
      "|3997   |12   |1.8333333333333333|\n",
      "|833    |6    |2.0               |\n",
      "|3918   |9    |3.2777777777777777|\n",
      "|7982   |4    |3.25              |\n",
      "|1959   |15   |3.6666666666666665|\n",
      "|68135  |10   |3.55              |\n",
      "|5300   |1    |4.0               |\n",
      "|2659   |1    |2.0               |\n",
      "|5803   |7    |2.5               |\n",
      "|76143  |1    |4.5               |\n",
      "|140541 |1    |4.0               |\n",
      "|2122   |11   |2.4545454545454546|\n",
      "|6620   |18   |3.8333333333333335|\n",
      "|54190  |11   |4.045454545454546 |\n",
      "|8638   |15   |3.7               |\n",
      "|4900   |5    |3.0               |\n",
      "|1829   |2    |3.25              |\n",
      "|160563 |6    |3.0833333333333335|\n",
      "|36525  |8    |2.6875            |\n",
      "|6658   |4    |3.375             |\n",
      "|148    |1    |5.0               |\n",
      "|496    |1    |5.0               |\n",
      "|175197 |1    |3.5               |\n",
      "|3794   |2    |2.5               |\n",
      "|2866   |5    |3.6               |\n",
      "|91784  |1    |4.5               |\n",
      "|6654   |1    |3.5               |\n",
      "|166558 |1    |3.0               |\n",
      "|5156   |1    |2.5               |\n",
      "|7993   |1    |2.5               |\n",
      "|4818   |1    |2.0               |\n",
      "|7340   |4    |2.75              |\n",
      "|141422 |1    |2.5               |\n",
      "|150604 |1    |2.5               |\n",
      "|6466   |3    |3.5               |\n",
      "|6336   |1    |3.0               |\n",
      "|6357   |2    |3.0               |\n",
      "|7833   |1    |3.5               |\n",
      "|139747 |1    |3.5               |\n",
      "|179749 |1    |1.5               |\n",
      "|31367  |1    |2.0               |\n",
      "|144522 |1    |2.0               |\n",
      "|153236 |1    |3.0               |\n",
      "|1025   |25   |3.58              |\n",
      "|1127   |62   |3.475806451612903 |\n",
      "|2387   |16   |3.4375            |\n",
      "|2580   |39   |3.9615384615384617|\n",
      "|1084   |35   |4.071428571428571 |\n",
      "|243    |1    |3.0               |\n",
      "|540    |18   |2.6666666666666665|\n",
      "|1721   |140  |3.414285714285714 |\n",
      "|858    |192  |4.2890625         |\n",
      "|48780  |90   |4.0055555555555555|\n",
      "|166635 |6    |3.6666666666666665|\n",
      "|3698   |34   |3.2205882352941178|\n",
      "|4161   |23   |3.347826086956522 |\n",
      "|6773   |22   |3.7045454545454546|\n",
      "|43921  |5    |3.3               |\n",
      "|56941  |11   |3.090909090909091 |\n",
      "|737    |20   |2.65              |\n",
      "|4929   |4    |2.375             |\n",
      "|8928   |3    |3.6666666666666665|\n",
      "|69481  |34   |4.0588235294117645|\n",
      "|897    |2    |3.75              |\n",
      "|4158   |6    |2.0833333333333335|\n",
      "|1395   |5    |3.0               |\n",
      "|3179   |3    |3.3333333333333335|\n",
      "|91690  |3    |3.6666666666666665|\n",
      "|1483   |11   |3.090909090909091 |\n",
      "|2563   |3    |4.166666666666667 |\n",
      "|4219   |3    |3.3333333333333335|\n",
      "|1460   |2    |3.25              |\n",
      "|92008  |3    |2.8333333333333335|\n",
      "|101362 |8    |2.875             |\n",
      "|185435 |1    |3.0               |\n",
      "|74452  |2    |2.25              |\n",
      "|71468  |1    |3.5               |\n",
      "|51927  |2    |3.25              |\n",
      "|4190   |2    |4.0               |\n",
      "|1507   |1    |3.5               |\n",
      "|3475   |2    |4.5               |\n",
      "|100068 |1    |3.5               |\n",
      "|50954  |2    |1.0               |\n",
      "|1990   |1    |4.0               |\n",
      "|45183  |1    |3.0               |\n",
      "|5614   |1    |4.5               |\n",
      "+-------+-----+------------------+\n",
      "only showing top 100 rows\n",
      "\n"
     ]
    }
   ],
   "source": [
    "rate3 = rate2.join(rate1, on = 'movieId', how = 'inner')\n",
    "rate3.show(100,truncate=False)"
   ]
  },
  {
   "cell_type": "code",
   "execution_count": null,
   "metadata": {
    "colab": {
     "base_uri": "https://localhost:8080/"
    },
    "id": "4MPaMDwbB_Ae",
    "outputId": "f3c1216d-7d71-4548-a796-669f989f2fd5"
   },
   "outputs": [
    {
     "name": "stdout",
     "output_type": "stream",
     "text": [
      "+----------------------------------------------------------+----+-----+------------------+\n",
      "|name                                                      |year|count|avg(rating)       |\n",
      "+----------------------------------------------------------+----+-----+------------------+\n",
      "|Nocturnal                                                 |null|1    |3.0               |\n",
      "|Pocahontas II: Journey to a New World (1998)              |null|1    |2.0               |\n",
      "|Black                                                     |null|1    |5.0               |\n",
      "|Justice League: Doom (2012)                               |null|1    |5.0               |\n",
      "|3 dev adam (Three Giant Men) (1973)                       |null|1    |0.5               |\n",
      "|The Adventures of Sherlock Holmes and Doctor              |null|1    |5.0               |\n",
      "|                                                          |null|2    |4.5               |\n",
      "|Maria Bamford: Old                                        |null|1    |1.0               |\n",
      "|Babylon                                                   |null|2    |2.25              |\n",
      "|Assembly (Ji jie hao) (2007)                              |null|1    |4.5               |\n",
      "|Hyena                                                     |null|1    |2.0               |\n",
      "|Justice League: The New Frontier (2008)                   |null|2    |2.75              |\n",
      "|Superman/Doomsday (2007)                                  |null|1    |4.0               |\n",
      "|                                                          |null|1    |5.0               |\n",
      "|The                                                       |null|1    |4.0               |\n",
      "|96 Minutes (2011)                                         |null|1    |2.5               |\n",
      "|                                                          |null|1    |4.5               |\n",
      "|\"11'09\"\"01 - September 11                                 |null|2    |4.0               |\n",
      "|Generation Iron                                           |null|1    |3.5               |\n",
      "|Dead Snow 2: Red vs. (2014)                               |null|2    |4.0               |\n",
      "|Runaway Brain (1995)                                      |null|1    |5.0               |\n",
      "|From Dusk Till Dawn 2: Texas Blood Money (1999)           |null|1    |1.0               |\n",
      "|Guilty of Romance (Koi no tsumi) (2011)                   |null|1    |3.0               |\n",
      "|Ready Player                                              |null|4    |3.5               |\n",
      "|Trip to the Moon, A (Voyage dans la lune, Le)             |1902|5    |3.5               |\n",
      "|The Great Train Robbery                                   |1903|2    |2.5               |\n",
      "|The Electric Hotel                                        |1908|1    |4.0               |\n",
      "|Birth of a Nation, The                                    |1915|1    |2.0               |\n",
      "|20,000 Leagues Under the Sea                              |1916|2    |3.75              |\n",
      "|Rink, The                                                 |1916|1    |3.5               |\n",
      "|Intolerance: Love's Struggle Throughout the Ages          |1916|1    |3.5               |\n",
      "|Snow White                                                |1916|1    |3.5               |\n",
      "|Immigrant, The                                            |1917|1    |4.5               |\n",
      "|Daddy Long Legs                                           |1919|1    |2.0               |\n",
      "|One Week                                                  |1920|1    |3.5               |\n",
      "|Cabinet of Dr. Caligari, The (Cabinet des Caligari., Das) |1920|7    |3.857142857142857 |\n",
      "|Kid, The                                                  |1921|5    |4.1               |\n",
      "|Nosferatu (Nosferatu, eine Symphonie des Grauens)         |1922|16   |3.53125           |\n",
      "|Woman of Paris, A                                         |1923|2    |4.0               |\n",
      "|Our Hospitality                                           |1923|2    |3.25              |\n",
      "|Hunchback of Notre Dame, The                              |1923|1    |3.0               |\n",
      "|Safety Last!                                              |1923|2    |4.0               |\n",
      "|Greed                                                     |1924|1    |4.0               |\n",
      "|Thief of Bagdad, The                                      |1924|1    |3.5               |\n",
      "|Navigator, The                                            |1924|1    |3.5               |\n",
      "|Aelita: The Queen of Mars (Aelita)                        |1924|1    |4.5               |\n",
      "|Sherlock Jr.                                              |1924|2    |3.0               |\n",
      "|Battleship Potemkin                                       |1925|10   |3.65              |\n",
      "|Freshman, The                                             |1925|1    |4.0               |\n",
      "|Ben-Hur: A Tale of the Christ                             |1925|1    |3.0               |\n",
      "|Gold Rush, The                                            |1925|7    |4.071428571428571 |\n",
      "|By the Law                                                |1926|1    |3.5               |\n",
      "|Faust                                                     |1926|1    |4.0               |\n",
      "|Son of the Sheik, The                                     |1926|1    |4.0               |\n",
      "|General, The                                              |1926|9    |4.0               |\n",
      "|Secrets of a Soul (Geheimnisse einer Seele)               |1926|1    |4.5               |\n",
      "|Sunrise: A Song of Two Humans                             |1927|1    |4.0               |\n",
      "|Jazz Singer, The                                          |1927|1    |4.0               |\n",
      "|Cat and the Canary, The                                   |1927|1    |3.0               |\n",
      "|Lodger: A Story of the London Fog, The                    |1927|3    |3.5               |\n",
      "|Metropolis                                                |1927|21   |3.857142857142857 |\n",
      "|College                                                   |1927|1    |3.5               |\n",
      "|Ring, The                                                 |1927|1    |1.0               |\n",
      "|Passion of Joan Arc, The (Passion de Jeanne d'Arc, La)    |1928|5    |3.9               |\n",
      "|Circus, The                                               |1928|4    |4.125             |\n",
      "|Steamboat Bill, Jr.                                       |1928|1    |4.5               |\n",
      "|Steamboat Willie                                          |1928|3    |2.3333333333333335|\n",
      "|Broadway Melody, The                                      |1929|1    |3.0               |\n",
      "|Cocoanuts, The                                            |1929|1    |3.5               |\n",
      "|Andalusian Dog, An (Chien andalou, Un)                    |1929|4    |4.5               |\n",
      "|Man with the Movie Camera, The (Chelovek s kino-apparatom)|1929|3    |3.3333333333333335|\n",
      "|Animal Crackers                                           |1930|4    |4.125             |\n",
      "|All Quiet on the Western Front                            |1930|10   |4.35              |\n",
      "|Anna Christie                                             |1930|1    |3.5               |\n",
      "|Blue Angel, The (Blaue Engel, Der)                        |1930|1    |4.0               |\n",
      "|Divorcee, The                                             |1930|1    |4.0               |\n",
      "|Dr. Jekyll and Mr. Hyde                                   |1931|2    |2.0               |\n",
      "|Cimarron                                                  |1931|1    |3.5               |\n",
      "|City Lights                                               |1931|13   |3.8461538461538463|\n",
      "|Frankenstein                                              |1931|11   |3.909090909090909 |\n",
      "|M                                                         |1931|15   |3.7333333333333334|\n",
      "|Front Page, The                                           |1931|1    |3.5               |\n",
      "|Dracula                                                   |1931|9    |3.3333333333333335|\n",
      "|Iron Man                                                  |1931|1    |0.5               |\n",
      "|Maidens in Uniform (Mädchen Uniform)                      |1931|1    |3.5               |\n",
      "|Maltese Falcon, The (a.k.a. Dangerous Female)             |1931|17   |3.6176470588235294|\n",
      "|Girls About Town                                          |1931|1    |5.0               |\n",
      "|Little Caesar                                             |1931|1    |4.0               |\n",
      "|À nous la liberté (Freedom for Us)                        |1931|1    |1.0               |\n",
      "|Public Enemy, The                                         |1931|2    |4.25              |\n",
      "|Freaks                                                    |1932|9    |3.1666666666666665|\n",
      "|Trouble in Paradise                                       |1932|1    |3.5               |\n",
      "|Mummy, The                                                |1932|3    |3.3333333333333335|\n",
      "|Horse Feathers                                            |1932|2    |4.0               |\n",
      "|I Am a Fugitive from Chain Gang                           |1932|3    |3.6666666666666665|\n",
      "|Scarface                                                  |1932|2    |3.75              |\n",
      "|Grand Hotel                                               |1932|2    |4.0               |\n",
      "|Farewell to Arms, A                                       |1932|1    |3.0               |\n",
      "|Boudu Saved From Drowning (Boudu sauvé des eaux)          |1932|1    |0.5               |\n",
      "|Alice in Wonderland                                       |1933|1    |4.0               |\n",
      "+----------------------------------------------------------+----+-----+------------------+\n",
      "only showing top 100 rows\n",
      "\n"
     ]
    }
   ],
   "source": [
    "movie1 = movie1.withColumn('year', f.col('year').cast('int'))\n",
    "result = rate3.join(movie1, on = 'movieId', how = 'inner').select('name', 'year', 'count', 'avg(rating)') \\\n",
    ".sort('name').sort('year')\n",
    "result.show(100,truncate=False)"
   ]
  },
  {
   "cell_type": "markdown",
   "metadata": {
    "id": "cXd1gEtGWTI7"
   },
   "source": [
    "## **Câu 5:** For each user ID, show the genres that received highest rating from that user and the list of top 5 rated movies belong to that genres that hasn’t been rated by that user. The results are sorted by the user ID."
   ]
  },
  {
   "cell_type": "markdown",
   "metadata": {
    "id": "5n0SYAip3JLg"
   },
   "source": [
    "tìm tất cả các thể loại phim"
   ]
  },
  {
   "cell_type": "code",
   "execution_count": null,
   "metadata": {
    "id": "tAmf7BBD3JLh"
   },
   "outputs": [],
   "source": [
    "type_genres = movies.withColumn('genres', f.split('genres','[|]')).withColumn('genres', f.explode('genres'))\\\n",
    ".withColumn('temp', f.lit('temp_')).groupBy('temp').agg(f.collect_set('genres'))"
   ]
  },
  {
   "cell_type": "code",
   "execution_count": null,
   "metadata": {
    "colab": {
     "base_uri": "https://localhost:8080/"
    },
    "id": "6wISKZ2G3JLh",
    "outputId": "41c4a641-3090-489a-f2ae-14e806aa3d7c"
   },
   "outputs": [
    {
     "name": "stdout",
     "output_type": "stream",
     "text": [
      "+-----+--------------------+\n",
      "| temp| collect_set(genres)|\n",
      "+-----+--------------------+\n",
      "|temp_|[Thriller, Action...|\n",
      "+-----+--------------------+\n",
      "\n"
     ]
    }
   ],
   "source": [
    "type_genres.show()"
   ]
  },
  {
   "cell_type": "markdown",
   "metadata": {
    "id": "zdkaV_IZ5HX3"
   },
   "source": [
    "tìm tất cả các bộ phim"
   ]
  },
  {
   "cell_type": "code",
   "execution_count": null,
   "metadata": {
    "id": "6ERBYaUZ5JIV"
   },
   "outputs": [],
   "source": [
    "type_title = movies.withColumn('genres', f.split('genres','[|]')).withColumn('genres', f.explode('genres'))\\\n",
    ".withColumn('temp', f.lit('temp_')).groupBy('temp').agg(f.collect_set('title'))"
   ]
  },
  {
   "cell_type": "code",
   "execution_count": null,
   "metadata": {
    "colab": {
     "base_uri": "https://localhost:8080/"
    },
    "id": "_IlAHyD25oSX",
    "outputId": "e57f5020-a94d-4413-842e-24ea20200afd"
   },
   "outputs": [
    {
     "name": "stdout",
     "output_type": "stream",
     "text": [
      "+-----+--------------------+\n",
      "| temp|  collect_set(title)|\n",
      "+-----+--------------------+\n",
      "|temp_|[Airport '77 (197...|\n",
      "+-----+--------------------+\n",
      "\n"
     ]
    }
   ],
   "source": [
    "type_title.show()"
   ]
  },
  {
   "cell_type": "code",
   "execution_count": null,
   "metadata": {
    "id": "mHQIZmQD3abf"
   },
   "outputs": [],
   "source": [
    "userid_genres = movies.join(ratings, on=['movieId'], how='inner').withColumn('genres', f.split('genres','[|]')) \\\n",
    ".withColumn('genres', f.explode('genres')).groupBy('userId','genres').sum('rating').sort('userId')"
   ]
  },
  {
   "cell_type": "code",
   "execution_count": null,
   "metadata": {
    "colab": {
     "base_uri": "https://localhost:8080/"
    },
    "id": "Ou0QBc1s6Ukg",
    "outputId": "26906257-2d72-437a-d3eb-478034da8d2f"
   },
   "outputs": [
    {
     "name": "stdout",
     "output_type": "stream",
     "text": [
      "+------+---------+-----------+\n",
      "|userId|   genres|sum(rating)|\n",
      "+------+---------+-----------+\n",
      "|     1|Animation|      136.0|\n",
      "|     1|    Crime|      196.0|\n",
      "|     1|Film-Noir|        5.0|\n",
      "|     1|      War|       99.0|\n",
      "|     1| Children|      191.0|\n",
      "|     1|  Romance|      112.0|\n",
      "|     1|  Western|       30.0|\n",
      "|     1|  Mystery|       75.0|\n",
      "|     1|   Comedy|      355.0|\n",
      "|     1|  Musical|      103.0|\n",
      "|     1|    Drama|      308.0|\n",
      "|     1|  Fantasy|      202.0|\n",
      "|     1|   Horror|       59.0|\n",
      "|     1|Adventure|      373.0|\n",
      "|     1|   Sci-Fi|      169.0|\n",
      "|     1|   Action|      389.0|\n",
      "|     1| Thriller|      228.0|\n",
      "|     2|   Horror|        3.0|\n",
      "|     2|   Action|       43.5|\n",
      "|     2|  Mystery|        8.0|\n",
      "+------+---------+-----------+\n",
      "only showing top 20 rows\n",
      "\n"
     ]
    }
   ],
   "source": [
    "userid_genres.show()"
   ]
  },
  {
   "cell_type": "code",
   "execution_count": null,
   "metadata": {
    "id": "5UfCxir86Lhn"
   },
   "outputs": [],
   "source": [
    "userid_title = movies.join(ratings, on=['movieId'], how='inner').withColumn('genres', f.split('genres','[|]'))\\\n",
    ".groupBy('title').sum('rating')"
   ]
  },
  {
   "cell_type": "code",
   "execution_count": null,
   "metadata": {
    "colab": {
     "base_uri": "https://localhost:8080/"
    },
    "id": "iHkQrar86hzN",
    "outputId": "fd030e81-1a4b-4dfa-ca6c-62971d26fe49"
   },
   "outputs": [
    {
     "name": "stdout",
     "output_type": "stream",
     "text": [
      "+--------------------+-----------+\n",
      "|               title|sum(rating)|\n",
      "+--------------------+-----------+\n",
      "|       Psycho (1960)|      335.0|\n",
      "|Men in Black (a.k...|      575.5|\n",
      "|Gulliver's Travel...|        9.0|\n",
      "|Heavenly Creature...|       82.5|\n",
      "|    Elizabeth (1998)|       84.5|\n",
      "|Before Night Fall...|       21.5|\n",
      "|O Brother, Where ...|      358.0|\n",
      "|Snow White and th...|      278.5|\n",
      "| Three Wishes (1995)|        3.0|\n",
      "|When We Were King...|       39.0|\n",
      "|   Annie Hall (1977)|      224.5|\n",
      "| If Lucy Fell (1996)|        5.0|\n",
      "|First Blood (Ramb...|      106.5|\n",
      "|Don't Tell Mom th...|       30.5|\n",
      "| Nut Job, The (2014)|       13.0|\n",
      "|22 Jump Street (2...|       70.0|\n",
      "|   Deadpool 2 (2018)|       46.5|\n",
      "|Starship Troopers...|        3.0|\n",
      "|Voices from the L...|       21.5|\n",
      "|Night of the Livi...|      105.0|\n",
      "+--------------------+-----------+\n",
      "only showing top 20 rows\n",
      "\n"
     ]
    }
   ],
   "source": [
    "userid_title.show()"
   ]
  },
  {
   "cell_type": "code",
   "execution_count": null,
   "metadata": {
    "id": "3pcxBOCl3abf"
   },
   "outputs": [],
   "source": [
    "max_rating = movies.join(ratings, on=['movieId'], how='inner').withColumn('genres', f.split('genres','[|]')) \\\n",
    ".withColumn('genres', f.explode('genres')).groupBy('userId','genres').sum('rating').sort('userId') \\\n",
    ".groupBy('userId').agg(f.max('sum(rating)').alias('sum(rating)'))"
   ]
  },
  {
   "cell_type": "code",
   "execution_count": null,
   "metadata": {
    "colab": {
     "base_uri": "https://localhost:8080/"
    },
    "id": "jpLRD6iX3abf",
    "outputId": "dd231839-8b9c-418a-f0f5-5a72a69ca9f6"
   },
   "outputs": [
    {
     "name": "stdout",
     "output_type": "stream",
     "text": [
      "+------+-----------+\n",
      "|userId|sum(rating)|\n",
      "+------+-----------+\n",
      "|     1|      389.0|\n",
      "|     2|       66.0|\n",
      "|     3|       63.0|\n",
      "|     4|      418.0|\n",
      "|     5|       95.0|\n",
      "|     6|      506.0|\n",
      "|     7|      208.5|\n",
      "|     8|       77.0|\n",
      "|     9|       72.0|\n",
      "|    10|      260.0|\n",
      "|    11|      163.0|\n",
      "|    12|       96.0|\n",
      "|    13|       56.0|\n",
      "|    14|       89.0|\n",
      "|    15|      211.5|\n",
      "|    16|      179.0|\n",
      "|    17|      213.5|\n",
      "|    18|      849.0|\n",
      "|    19|      998.0|\n",
      "|    20|      434.0|\n",
      "+------+-----------+\n",
      "only showing top 20 rows\n",
      "\n"
     ]
    }
   ],
   "source": [
    "max_rating.sort('userId').show()"
   ]
  },
  {
   "cell_type": "markdown",
   "metadata": {
    "id": "G8pGWnlo3abg"
   },
   "source": [
    "tên thể loại được người dùng vote nhiều nhất"
   ]
  },
  {
   "cell_type": "code",
   "execution_count": null,
   "metadata": {
    "id": "l9Rs_Au23abg"
   },
   "outputs": [],
   "source": [
    "genres_max = max_rating.join(userid_genres, on=['sum(rating)','userId'], how='inner').sort('userId').select(f.col('userId'), f.col('genres'))"
   ]
  },
  {
   "cell_type": "code",
   "execution_count": null,
   "metadata": {
    "colab": {
     "base_uri": "https://localhost:8080/"
    },
    "id": "B6PC9smg3abg",
    "outputId": "46e9ddcf-c080-4383-9f99-ee9c937c8582"
   },
   "outputs": [
    {
     "name": "stdout",
     "output_type": "stream",
     "text": [
      "+------+--------+\n",
      "|userId|  genres|\n",
      "+------+--------+\n",
      "|     1|  Action|\n",
      "|     2|   Drama|\n",
      "|     3|  Sci-Fi|\n",
      "|     4|   Drama|\n",
      "|     5|   Drama|\n",
      "|     6|   Drama|\n",
      "|     7|  Action|\n",
      "|     8|  Comedy|\n",
      "|     9|   Drama|\n",
      "|    10| Romance|\n",
      "|    11|  Action|\n",
      "|    12| Romance|\n",
      "|    13|   Drama|\n",
      "|    14|   Drama|\n",
      "|    15|  Sci-Fi|\n",
      "|    16|   Drama|\n",
      "|    17|   Drama|\n",
      "|    18|   Drama|\n",
      "|    19|  Comedy|\n",
      "|    20|Children|\n",
      "+------+--------+\n",
      "only showing top 20 rows\n",
      "\n"
     ]
    }
   ],
   "source": [
    "genres_max.show()"
   ]
  },
  {
   "cell_type": "markdown",
   "metadata": {
    "id": "gxaRgE4b4UtO"
   },
   "source": [
    "Tìm các bộ phim theo rating (phim được user rating)"
   ]
  },
  {
   "cell_type": "code",
   "execution_count": null,
   "metadata": {
    "id": "OfdhKi1Q4aKW"
   },
   "outputs": [],
   "source": [
    "title_rated = movies.join(ratings, on=['movieId'], how='inner').withColumn('genres', f.split('genres','[|]'))\\\n",
    ".groupBy('userId').agg(f.collect_list('title').alias('title(rated)')).sort('userId')\n",
    "#.groupBy('userId').agg(f.max('sum(rating)').alias('max of sum(rating)')).sort('userId').show()"
   ]
  },
  {
   "cell_type": "code",
   "execution_count": null,
   "metadata": {
    "colab": {
     "base_uri": "https://localhost:8080/"
    },
    "id": "MqQIpMxs_ONg",
    "outputId": "7b1483da-c40f-4608-f26f-95b22831584d"
   },
   "outputs": [
    {
     "name": "stdout",
     "output_type": "stream",
     "text": [
      "+------+----------------------------------------------------------------------------------------------------+\n",
      "|userId|                                                                                        title(rated)|\n",
      "+------+----------------------------------------------------------------------------------------------------+\n",
      "|     1|[Toy Story (1995), Grumpier Old Men (1995), Heat (1995), Seven (a.k.a. Se7en) (1995), Usual Suspe...|\n",
      "|     2|[Shawshank Redemption, The (1994), Tommy Boy (1995), Good Will Hunting (1997), Gladiator (2000), ...|\n",
      "|     3|[Dangerous Minds (1995), Schindler's List (1993), Courage Under Fire (1996), Operation Dumbo Drop...|\n",
      "|     4|[Get Shorty (1995), Twelve Monkeys (a.k.a. 12 Monkeys) (1995), To Die For (1995), Seven (a.k.a. S...|\n",
      "|     5|[Toy Story (1995), Get Shorty (1995), Babe (1995), Dead Man Walking (1995), Clueless (1995), Usua...|\n",
      "|     6|[Jumanji (1995), Grumpier Old Men (1995), Waiting to Exhale (1995), Father of the Bride Part II (...|\n",
      "|     7|[Toy Story (1995), Usual Suspects, The (1995), Postman, The (Postino, Il) (1994), Apollo 13 (1995...|\n",
      "|     8|[Jumanji (1995), GoldenEye (1995), American President, The (1995), Get Shorty (1995), Twelve Monk...|\n",
      "|     9|[Richard III (1995), Party Girl (1995), Clerks (1994), Paper, The (1994), Last Supper, The (1995)...|\n",
      "|    10|[Pulp Fiction (1994), Forrest Gump (1994), Aladdin (1992), Pretty Woman (1990), Casablanca (1942)...|\n",
      "|    11|[Heat (1995), GoldenEye (1995), Dead Man Walking (1995), Mortal Kombat (1995), Broken Arrow (1996...|\n",
      "|    12|[Clueless (1995), First Knight (1995), Circle of Friends (1995), Junior (1994), Little Women (199...|\n",
      "|    13|[Seven (a.k.a. Se7en) (1995), Ready to Wear (Pret-A-Porter) (1994), Pretty Woman (1990), Cook the...|\n",
      "|    14|[Waiting to Exhale (1995), Sabrina (1995), Ace Ventura: When Nature Calls (1995), Leaving Las Veg...|\n",
      "|    15|[Toy Story (1995), Mortal Kombat (1995), Seven (a.k.a. Se7en) (1995), Casper (1995), Johnny Mnemo...|\n",
      "|    16|[Seven (a.k.a. Se7en) (1995), Usual Suspects, The (1995), Taxi Driver (1976), Under Siege 2: Dark...|\n",
      "|    17|[Toy Story (1995), Mortal Kombat (1995), Seven (a.k.a. Se7en) (1995), Usual Suspects, The (1995),...|\n",
      "|    18|[Toy Story (1995), Jumanji (1995), Heat (1995), Casino (1995), Twelve Monkeys (a.k.a. 12 Monkeys)...|\n",
      "|    19|[Toy Story (1995), Jumanji (1995), Grumpier Old Men (1995), Sabrina (1995), GoldenEye (1995), Dra...|\n",
      "|    20|[Jumanji (1995), Tom and Huck (1995), Balto (1995), Babe (1995), Pocahontas (1995), Muppet Treasu...|\n",
      "+------+----------------------------------------------------------------------------------------------------+\n",
      "only showing top 20 rows\n",
      "\n"
     ]
    }
   ],
   "source": [
    "title_rated.show(truncate=100)"
   ]
  },
  {
   "cell_type": "markdown",
   "metadata": {
    "id": "JV_xsciP-Zqf"
   },
   "source": [
    "tìm tất cả phim theo từng genres rating cao nhất"
   ]
  },
  {
   "cell_type": "code",
   "execution_count": null,
   "metadata": {
    "id": "zw85khe24rlC"
   },
   "outputs": [],
   "source": [
    "title_all = movies.join(ratings, on=['movieId'], how='inner').withColumn('genres', f.split('genres','[|]'))\\\n",
    ".withColumn('genres', f.explode('genres')).groupBy('genres').agg(f.collect_set('title').alias('title all of'))"
   ]
  },
  {
   "cell_type": "code",
   "execution_count": null,
   "metadata": {
    "colab": {
     "base_uri": "https://localhost:8080/"
    },
    "id": "ppD82xK2_ljo",
    "outputId": "e6f4b569-ca78-4a49-9eb0-f72e79c1946e"
   },
   "outputs": [
    {
     "name": "stdout",
     "output_type": "stream",
     "text": [
      "+------------------+----------------------------------------------------------------------------------------------------+\n",
      "|            genres|                                                                                        title all of|\n",
      "+------------------+----------------------------------------------------------------------------------------------------+\n",
      "|             Crime|[Stealing Rembrandt (Rembrandt) (2003), Girl with the Dragon Tattoo, The (Män som hatar kvinnor) ...|\n",
      "|           Romance|[Vampire in Brooklyn (1995), Hysteria (2011), Far from Heaven (2002), Honey (2003), Ghost Town (2...|\n",
      "|          Thriller|[Element of Crime, The (Forbrydelsens Element) (1984), 'Salem's Lot (2004), Transformers (2007), ...|\n",
      "|         Adventure|[Ice Age: Collision Course (2016), Masters of the Universe (1987), Terminator Genisys (2015), Tit...|\n",
      "|             Drama|[Airport '77 (1977), Meet John Doe (1941), 'Salem's Lot (2004), Element of Crime, The (Forbrydels...|\n",
      "|               War|[General, The (1926), Joyeux Noël (Merry Christmas) (2005), Forrest Gump (1994), Thirteen Days (2...|\n",
      "|       Documentary|[Jim & Andy: The Great Beyond (2017), U2: Rattle and Hum (1988), The Barkley Marathons: The Race ...|\n",
      "|           Fantasy|[Masters of the Universe (1987), Odd Life of Timothy Green, The (2012), Sword Art Online The Movi...|\n",
      "|           Mystery|[Before and After (1996), Primal Fear (1996), Others, The (2001), 'Salem's Lot (2004), Girl with ...|\n",
      "|           Musical|[U2: Rattle and Hum (1988), Sword in the Stone, The (1963), Monterey Pop (1968), Janie Jones (201...|\n",
      "|         Animation|[Ice Age: Collision Course (2016), Planes (2013), Nut Job, The (2014), Titan A.E. (2000), Sword A...|\n",
      "|         Film-Noir|[Rififi (Du rififi chez les hommes) (1955), Sweet Smell of Success (1957), Devil in a Blue Dress ...|\n",
      "|(no genres listed)|[T2 3-D: Battle Across Time (1996), A Midsummer Night's Dream (2016), Maria Bamford: Old Baby, Se...|\n",
      "|              IMAX|[Harry Potter and the Prisoner of Azkaban (2004), Transformers (2007), Fast & Furious 6 (Fast and...|\n",
      "|            Horror|[Paranormal Activity 2 (2010), Vampire in Brooklyn (1995), 'Salem's Lot (2004), Gremlins (1984), ...|\n",
      "|           Western|[Man Who Shot Liberty Valance, The (1962), Lone Star (1996), Duck, You Sucker (1971), The Beguile...|\n",
      "|            Comedy|[Hysteria (2011), Humpday (2009), Meet John Doe (1941), Silver Spoon (2014), Super High Me (2007)...|\n",
      "|          Children|[Ice Age: Collision Course (2016), Nut Job, The (2014), Titan A.E. (2000), Teenage Mutant Ninja T...|\n",
      "|            Action|[Stealing Rembrandt (Rembrandt) (2003), Masters of the Universe (1987), Terminator Genisys (2015)...|\n",
      "|            Sci-Fi|[Push (2009), SORI: Voice from the Heart (2016), Masters of the Universe (1987), Terminator Genis...|\n",
      "+------------------+----------------------------------------------------------------------------------------------------+\n",
      "\n"
     ]
    }
   ],
   "source": [
    "title_all.show(truncate=100)"
   ]
  },
  {
   "cell_type": "markdown",
   "metadata": {
    "id": "lCaDRZQY_HEQ"
   },
   "source": [
    "join bảng"
   ]
  },
  {
   "cell_type": "code",
   "execution_count": null,
   "metadata": {
    "id": "t30f8OJF-d2z"
   },
   "outputs": [],
   "source": [
    "table = title_rated.join(genres_max, on=['userId'], how='inner').join(title_all, on=['genres'], how='inner')\\\n",
    ".withColumn('title', f.array_except('title all of','title(rated)'))\\\n",
    ".withColumn('title', f.explode('title')).sort('userId')\\\n",
    ".select(f.col('genres'), f.col('userId'), f.col('title'))\n",
    "#.join(userid_title, on=['userId', 'title'], how='inner')"
   ]
  },
  {
   "cell_type": "code",
   "execution_count": null,
   "metadata": {
    "colab": {
     "base_uri": "https://localhost:8080/"
    },
    "id": "WAyuo_XdEL50",
    "outputId": "b2724fb7-22a9-446f-aaf7-e5ca179db635"
   },
   "outputs": [
    {
     "name": "stdout",
     "output_type": "stream",
     "text": [
      "+------+------+--------------------+\n",
      "|genres|userId|               title|\n",
      "+------+------+--------------------+\n",
      "|Action|     1|Kingsman: The Sec...|\n",
      "|Action|     1|Throne of Blood (...|\n",
      "|Action|     1|   Alex Cross (2012)|\n",
      "|Action|     1| Chill Factor (1999)|\n",
      "|Action|     1|Kiss of the Drago...|\n",
      "|Action|     1|     Snatched (2017)|\n",
      "|Action|     1|     Red Heat (1988)|\n",
      "|Action|     1|Masters of the Un...|\n",
      "|Action|     1| Iron Soldier (2010)|\n",
      "|Action|     1|21 Jump Street (2...|\n",
      "|Action|     1|Animatrix, The (2...|\n",
      "|Action|     1|        Steel (1997)|\n",
      "|Action|     1|        Blitz (2011)|\n",
      "|Action|     1|Big Boss, The (Fi...|\n",
      "|Action|     1|  Hunted, The (1995)|\n",
      "|Action|     1|Stealing Rembrand...|\n",
      "|Action|     1|Mechanic, The (2011)|\n",
      "|Action|     1|Terminator Genisy...|\n",
      "|Action|     1|   Titan A.E. (2000)|\n",
      "|Action|     1| Transformers (2007)|\n",
      "+------+------+--------------------+\n",
      "only showing top 20 rows\n",
      "\n"
     ]
    }
   ],
   "source": [
    "table.show()"
   ]
  },
  {
   "cell_type": "code",
   "execution_count": null,
   "metadata": {
    "id": "JSt3cCOuFxsq"
   },
   "outputs": [],
   "source": [
    "final_5 = table.join(userid_title, on=['title'], how='inner')"
   ]
  },
  {
   "cell_type": "code",
   "execution_count": null,
   "metadata": {
    "colab": {
     "base_uri": "https://localhost:8080/"
    },
    "id": "CEryizZHIW65",
    "outputId": "627d29a8-aca6-4fc5-f480-27a3c5f32931"
   },
   "outputs": [
    {
     "name": "stdout",
     "output_type": "stream",
     "text": [
      "+--------------------+------+------+-----------+\n",
      "|               title|genres|userId|sum(rating)|\n",
      "+--------------------+------+------+-----------+\n",
      "|22 Jump Street (2...| Crime|    55|       70.0|\n",
      "|22 Jump Street (2...| Crime|   433|       70.0|\n",
      "|22 Jump Street (2...|Comedy|   471|       70.0|\n",
      "|22 Jump Street (2...|Comedy|    31|       70.0|\n",
      "|22 Jump Street (2...|Comedy|   516|       70.0|\n",
      "|22 Jump Street (2...|Comedy|   255|       70.0|\n",
      "|22 Jump Street (2...|Comedy|   321|       70.0|\n",
      "|22 Jump Street (2...|Comedy|   597|       70.0|\n",
      "|22 Jump Street (2...|Comedy|   155|       70.0|\n",
      "|22 Jump Street (2...|Comedy|   115|       70.0|\n",
      "|22 Jump Street (2...|Comedy|   436|       70.0|\n",
      "|22 Jump Street (2...|Comedy|   406|       70.0|\n",
      "|22 Jump Street (2...|Comedy|   412|       70.0|\n",
      "|22 Jump Street (2...|Comedy|   587|       70.0|\n",
      "|22 Jump Street (2...|Comedy|    44|       70.0|\n",
      "|22 Jump Street (2...|Comedy|   236|       70.0|\n",
      "|22 Jump Street (2...|Comedy|   350|       70.0|\n",
      "|22 Jump Street (2...|Comedy|   388|       70.0|\n",
      "|22 Jump Street (2...|Comedy|   409|       70.0|\n",
      "|22 Jump Street (2...|Comedy|   122|       70.0|\n",
      "+--------------------+------+------+-----------+\n",
      "only showing top 20 rows\n",
      "\n"
     ]
    }
   ],
   "source": [
    "final_5.show()"
   ]
  },
  {
   "cell_type": "markdown",
   "metadata": {
    "id": "mKlTE19hIOjc"
   },
   "source": [
    "tìm 5 phim rating cao nhất "
   ]
  },
  {
   "cell_type": "code",
   "execution_count": null,
   "metadata": {
    "colab": {
     "base_uri": "https://localhost:8080/"
    },
    "id": "lrhai-8uF2dO",
    "outputId": "f63064c2-b3b8-4a08-912e-dc670c737278"
   },
   "outputs": [
    {
     "name": "stdout",
     "output_type": "stream",
     "text": [
      "+------+---------+------------------------------------------------------------------------------------------------------------------------------------------------------------------------------------------------------------------------------------------------------------------------------------------------------------+\n",
      "|userId|genres   |top 5 title rated                                                                                                                                                                                                                                                                                           |\n",
      "+------+---------+------------------------------------------------------------------------------------------------------------------------------------------------------------------------------------------------------------------------------------------------------------------------------------------------------------+\n",
      "|1     |Action   |[Terminator 2: Judgment Day (1991), Lord of the Rings: The Return of the King, The (2003), Dark Knight, The (2008), True Lies (1994), Speed (1994)]                                                                                                                                                         |\n",
      "|2     |Drama    |[Forrest Gump (1994), Pulp Fiction (1994), Braveheart (1995), Fight Club (1999), Schindler's List (1993)]                                                                                                                                                                                                   |\n",
      "|3     |Sci-Fi   |[Matrix, The (1999), Star Wars: Episode IV - A New Hope (1977), Jurassic Park (1993), Terminator 2: Judgment Day (1991), Star Wars: Episode V - The Empire Strikes Back (1980)]                                                                                                                             |\n",
      "|4     |Drama    |[Shawshank Redemption, The (1994), Forrest Gump (1994), Braveheart (1995), Schindler's List (1993), Godfather, The (1972)]                                                                                                                                                                                  |\n",
      "|5     |Drama    |[Forrest Gump (1994), Fight Club (1999), American Beauty (1999), Godfather, The (1972), Saving Private Ryan (1998)]                                                                                                                                                                                         |\n",
      "|6     |Drama    |[Fight Club (1999), American Beauty (1999), Godfather, The (1972), Saving Private Ryan (1998), Lord of the Rings: The Return of the King, The (2003)]                                                                                                                                                       |\n",
      "|7     |Action   |[Matrix, The (1999), Braveheart (1995), Fight Club (1999), Raiders of the Lost Ark (Indiana Jones and the Raiders of the Lost Ark) (1981), Saving Private Ryan (1998)]                                                                                                                                      |\n",
      "|8     |Comedy   |[Toy Story (1995), Fargo (1996), Aladdin (1992), Back to the Future (1985), Shrek (2001)]                                                                                                                                                                                                                   |\n",
      "|9     |Drama    |[Shawshank Redemption, The (1994), Forrest Gump (1994), Pulp Fiction (1994), Braveheart (1995), Fight Club (1999)]                                                                                                                                                                                          |\n",
      "|10    |Romance  |[True Lies (1994), Speed (1994), Princess Bride, The (1987), Good Will Hunting (1997), Groundhog Day (1993)]                                                                                                                                                                                                |\n",
      "|11    |Action   |[Matrix, The (1999), Star Wars: Episode IV - A New Hope (1977), Fight Club (1999), Star Wars: Episode V - The Empire Strikes Back (1980), Raiders of the Lost Ark (Indiana Jones and the Raiders of the Lost Ark) (1981)]                                                                                   |\n",
      "|12    |Romance  |[Forrest Gump (1994), American Beauty (1999), Shrek (2001), True Lies (1994), Speed (1994)]                                                                                                                                                                                                                 |\n",
      "|13    |Drama    |[Shawshank Redemption, The (1994), Forrest Gump (1994), Pulp Fiction (1994), Braveheart (1995), Fight Club (1999)]                                                                                                                                                                                          |\n",
      "|14    |Drama    |[Fight Club (1999), American Beauty (1999), Godfather, The (1972), Saving Private Ryan (1998), Lord of the Rings: The Return of the King, The (2003)]                                                                                                                                                       |\n",
      "|15    |Sci-Fi   |[Jurassic Park (1993), Twelve Monkeys (a.k.a. 12 Monkeys) (1995), Men in Black (a.k.a. MIB) (1997), Eternal Sunshine of the Spotless Mind (2004), Blade Runner (1982)]                                                                                                                                      |\n",
      "|16    |Drama    |[Braveheart (1995), Saving Private Ryan (1998), Apollo 13 (1995), Lion King, The (1994), Gladiator (2000)]                                                                                                                                                                                                  |\n",
      "|17    |Drama    |[Fargo (1996), Lion King, The (1994), Gladiator (2000), Good Will Hunting (1997), Eternal Sunshine of the Spotless Mind (2004)]                                                                                                                                                                             |\n",
      "|18    |Drama    |[American Beauty (1999), Apollo 13 (1995), E.T. the Extra-Terrestrial (1982), Donnie Darko (2001), Breakfast Club, The (1985)]                                                                                                                                                                              |\n",
      "|19    |Comedy   |[Pulp Fiction (1994), Fargo (1996), Shrek (2001), Pirates of the Caribbean: The Curse of the Black Pearl (2003), Finding Nemo (2003)]                                                                                                                                                                       |\n",
      "|20    |Children |[Toy Story (1995), Finding Nemo (2003), Incredibles, The (2004), WALL·E (2008), Up (2009)]                                                                                                                                                                                                                  |\n",
      "|21    |Action   |[Braveheart (1995), Saving Private Ryan (1998), True Lies (1994), Speed (1994), Princess Bride, The (1987)]                                                                                                                                                                                                 |\n",
      "|22    |Drama    |[Pulp Fiction (1994), Braveheart (1995), Schindler's List (1993), American Beauty (1999), Saving Private Ryan (1998)]                                                                                                                                                                                       |\n",
      "|23    |Drama    |[Shawshank Redemption, The (1994), Forrest Gump (1994), Braveheart (1995), Fight Club (1999), Schindler's List (1993)]                                                                                                                                                                                      |\n",
      "|24    |Action   |[Star Wars: Episode IV - A New Hope (1977), Braveheart (1995), Fight Club (1999), Jurassic Park (1993), Terminator 2: Judgment Day (1991), Star Wars: Episode V - The Empire Strikes Back (1980)]                                                                                                           |\n",
      "|25    |Action   |[Braveheart (1995), Fight Club (1999), Jurassic Park (1993), Terminator 2: Judgment Day (1991), Star Wars: Episode V - The Empire Strikes Back (1980)]                                                                                                                                                      |\n",
      "|26    |Thriller |[Matrix, The (1999), Fight Club (1999), Jurassic Park (1993), Usual Suspects, The (1995), Fargo (1996)]                                                                                                                                                                                                     |\n",
      "|27    |Adventure|[Lord of the Rings: The Fellowship of the Ring, The (2001), Apollo 13 (1995), Lord of the Rings: The Return of the King, The (2003), Lord of the Rings: The Two Towers, The (2002), Aladdin (1992)]                                                                                                         |\n",
      "|28    |Drama    |[Apollo 13 (1995), Lion King, The (1994), Inception (2010), One Flew Over the Cuckoo's Nest (1975), Mrs. Doubtfire (1993)]                                                                                                                                                                                  |\n",
      "|29    |Drama    |[Braveheart (1995), Fight Club (1999), Schindler's List (1993), American Beauty (1999), Lord of the Rings: The Return of the King, The (2003)]                                                                                                                                                              |\n",
      "|30    |Action   |[Fight Club (1999), Jurassic Park (1993), Saving Private Ryan (1998), Independence Day (a.k.a. ID4) (1996), Gladiator (2000)]                                                                                                                                                                               |\n",
      "|31    |Comedy   |[Forrest Gump (1994), Pulp Fiction (1994), Fargo (1996), Shrek (2001), True Lies (1994)]                                                                                                                                                                                                                    |\n",
      "|32    |Drama    |[Forrest Gump (1994), Braveheart (1995), Fight Club (1999), American Beauty (1999), Godfather, The (1972)]                                                                                                                                                                                                  |\n",
      "|33    |Drama    |[Fight Club (1999), American Beauty (1999), Godfather, The (1972), Lord of the Rings: The Return of the King, The (2003), Lion King, The (1994)]                                                                                                                                                            |\n",
      "|34    |Action   |[Star Wars: Episode IV - A New Hope (1977), Jurassic Park (1993), Star Wars: Episode V - The Empire Strikes Back (1980), Raiders of the Lost Ark (Indiana Jones and the Raiders of the Lost Ark) (1981), Star Wars: Episode VI - Return of the Jedi (1983)]                                                 |\n",
      "|35    |Comedy   |[Forrest Gump (1994), Pulp Fiction (1994), Toy Story (1995), Fargo (1996), Aladdin (1992)]                                                                                                                                                                                                                  |\n",
      "|36    |Drama    |[Forrest Gump (1994), Pulp Fiction (1994), Braveheart (1995), Fight Club (1999), Schindler's List (1993)]                                                                                                                                                                                                   |\n",
      "|37    |Thriller |[Matrix, The (1999), Fight Club (1999), Jurassic Park (1993), Usual Suspects, The (1995), Seven (a.k.a. Se7en) (1995)]                                                                                                                                                                                      |\n",
      "|38    |Drama    |[Fight Club (1999), American Beauty (1999), Godfather, The (1972), Saving Private Ryan (1998), Lord of the Rings: The Return of the King, The (2003)]                                                                                                                                                       |\n",
      "|39    |Drama    |[Shawshank Redemption, The (1994), Forrest Gump (1994), Braveheart (1995), Fight Club (1999), Schindler's List (1993)]                                                                                                                                                                                      |\n",
      "|40    |Drama    |[Forrest Gump (1994), Fight Club (1999), Schindler's List (1993), American Beauty (1999), Godfather, The (1972)]                                                                                                                                                                                            |\n",
      "|41    |Drama    |[Shawshank Redemption, The (1994), Braveheart (1995), Schindler's List (1993), Godfather, The (1972), Apollo 13 (1995)]                                                                                                                                                                                     |\n",
      "|42    |Comedy   |[Toy Story (1995), Fargo (1996), Aladdin (1992), Shrek (2001), Monty Python and the Holy Grail (1975)]                                                                                                                                                                                                      |\n",
      "|43    |Comedy   |[Fargo (1996), Back to the Future (1985), Shrek (2001), Princess Bride, The (1987), Men in Black (a.k.a. MIB) (1997)]                                                                                                                                                                                       |\n",
      "|44    |Comedy   |[Forrest Gump (1994), Pulp Fiction (1994), Fargo (1996), Aladdin (1992), Back to the Future (1985)]                                                                                                                                                                                                         |\n",
      "|45    |Comedy   |[Fargo (1996), Amelie (Fabuleux destin d'Amélie Poulain, Le) (2001), Incredibles, The (2004), Dr. Strangelove or: How I Learned to Stop Worrying and Love the Bomb (1964), Batman Forever (1995)]                                                                                                           |\n",
      "|46    |Thriller |[Pulp Fiction (1994), Matrix, The (1999), Fight Club (1999), Jurassic Park (1993), Seven (a.k.a. Se7en) (1995)]                                                                                                                                                                                             |\n",
      "|47    |Drama    |[Pulp Fiction (1994), Braveheart (1995), Schindler's List (1993), American Beauty (1999), Godfather, The (1972)]                                                                                                                                                                                            |\n",
      "|48    |Action   |[Star Wars: Episode IV - A New Hope (1977), Braveheart (1995), Fight Club (1999), Jurassic Park (1993), Terminator 2: Judgment Day (1991), Star Wars: Episode V - The Empire Strikes Back (1980)]                                                                                                           |\n",
      "|49    |Drama    |[Pulp Fiction (1994), Fight Club (1999), American Beauty (1999), Godfather, The (1972), Apollo 13 (1995)]                                                                                                                                                                                                   |\n",
      "|50    |Drama    |[Braveheart (1995), Schindler's List (1993), American Beauty (1999), Saving Private Ryan (1998), Apollo 13 (1995)]                                                                                                                                                                                          |\n",
      "|51    |Comedy   |[Forrest Gump (1994), Pulp Fiction (1994), Toy Story (1995), Fargo (1996), Aladdin (1992)]                                                                                                                                                                                                                  |\n",
      "|52    |Action   |[Braveheart (1995), Jurassic Park (1993), Terminator 2: Judgment Day (1991), Saving Private Ryan (1998), Independence Day (a.k.a. ID4) (1996)]                                                                                                                                                              |\n",
      "|53    |Drama    |[Shawshank Redemption, The (1994), Forrest Gump (1994), Pulp Fiction (1994), Braveheart (1995), Fight Club (1999)]                                                                                                                                                                                          |\n",
      "|54    |Drama    |[Fight Club (1999), Schindler's List (1993), American Beauty (1999), Godfather, The (1972), Saving Private Ryan (1998)]                                                                                                                                                                                     |\n",
      "|55    |Crime    |[Shawshank Redemption, The (1994), Pulp Fiction (1994), Silence of the Lambs, The (1991), Fight Club (1999), Usual Suspects, The (1995)]                                                                                                                                                                    |\n",
      "|56    |Action   |[Matrix, The (1999), Star Wars: Episode IV - A New Hope (1977), Fight Club (1999), Star Wars: Episode V - The Empire Strikes Back (1980), Raiders of the Lost Ark (Indiana Jones and the Raiders of the Lost Ark) (1981)]                                                                                   |\n",
      "|57    |Comedy   |[Shrek (2001), Pirates of the Caribbean: The Curse of the Black Pearl (2003), Finding Nemo (2003), Monsters, Inc. (2001), Amelie (Fabuleux destin d'Amélie Poulain, Le) (2001)]                                                                                                                             |\n",
      "|58    |Drama    |[Fight Club (1999), American Beauty (1999), Godfather, The (1972), Saving Private Ryan (1998), Lord of the Rings: The Return of the King, The (2003)]                                                                                                                                                       |\n",
      "|59    |Drama    |[Shawshank Redemption, The (1994), Forrest Gump (1994), Pulp Fiction (1994), Fight Club (1999), American Beauty (1999)]                                                                                                                                                                                     |\n",
      "|60    |Drama    |[Forrest Gump (1994), Pulp Fiction (1994), Braveheart (1995), Fight Club (1999), American Beauty (1999)]                                                                                                                                                                                                    |\n",
      "|61    |Drama    |[Forrest Gump (1994), Pulp Fiction (1994), Braveheart (1995), Fight Club (1999), Schindler's List (1993)]                                                                                                                                                                                                   |\n",
      "|62    |Action   |[Jurassic Park (1993), Terminator 2: Judgment Day (1991), Independence Day (a.k.a. ID4) (1996), Batman (1989), True Lies (1994)]                                                                                                                                                                            |\n",
      "|63    |Comedy   |[True Lies (1994), Princess Bride, The (1987), Finding Nemo (2003), Amelie (Fabuleux destin d'Amélie Poulain, Le) (2001), Incredibles, The (2004)]                                                                                                                                                          |\n",
      "|64    |Drama    |[Apollo 13 (1995), Gladiator (2000), Dark Knight, The (2008), Inception (2010), Beautiful Mind, A (2001)]                                                                                                                                                                                                   |\n",
      "|65    |Drama    |[Forrest Gump (1994), Pulp Fiction (1994), Braveheart (1995), American Beauty (1999), Godfather, The (1972)]                                                                                                                                                                                                |\n",
      "|66    |Drama    |[Schindler's List (1993), Godfather, The (1972), Apollo 13 (1995), Lion King, The (1994), Dark Knight, The (2008)]                                                                                                                                                                                          |\n",
      "|67    |Action   |[Star Wars: Episode IV - A New Hope (1977), Braveheart (1995), Jurassic Park (1993), Star Wars: Episode V - The Empire Strikes Back (1980), Raiders of the Lost Ark (Indiana Jones and the Raiders of the Lost Ark) (1981)]                                                                                 |\n",
      "|68    |Comedy   |[Dr. Strangelove or: How I Learned to Stop Worrying and Love the Bomb (1964), Trainspotting (1996), Monty Python's Life of Brian (1979), Graduate, The (1967), Get Shorty (1995)]                                                                                                                           |\n",
      "|69    |Drama    |[Braveheart (1995), Fight Club (1999), Schindler's List (1993), American Beauty (1999), Godfather, The (1972)]                                                                                                                                                                                              |\n",
      "|70    |Drama    |[Pulp Fiction (1994), Braveheart (1995), Fight Club (1999), Saving Private Ryan (1998), Lord of the Rings: The Return of the King, The (2003)]                                                                                                                                                              |\n",
      "|71    |Action   |[Matrix, The (1999), Braveheart (1995), Fight Club (1999), Jurassic Park (1993), Star Wars: Episode V - The Empire Strikes Back (1980)]                                                                                                                                                                     |\n",
      "|72    |Drama    |[Fight Club (1999), Saving Private Ryan (1998), Lord of the Rings: The Return of the King, The (2003), Fargo (1996), Sixth Sense, The (1999)]                                                                                                                                                               |\n",
      "|73    |Comedy   |[Forrest Gump (1994), Pulp Fiction (1994), Fargo (1996), Aladdin (1992), Back to the Future (1985)]                                                                                                                                                                                                         |\n",
      "|74    |Drama    |[Shawshank Redemption, The (1994), Forrest Gump (1994), Braveheart (1995), Fight Club (1999), Schindler's List (1993)]                                                                                                                                                                                      |\n",
      "|75    |Action   |[Braveheart (1995), Fight Club (1999), Jurassic Park (1993), Star Wars: Episode VI - Return of the Jedi (1983), Saving Private Ryan (1998)]                                                                                                                                                                 |\n",
      "|76    |Drama    |[Braveheart (1995), Schindler's List (1993), Saving Private Ryan (1998), Apollo 13 (1995), Lion King, The (1994)]                                                                                                                                                                                           |\n",
      "|77    |Action   |[Braveheart (1995), Fight Club (1999), Jurassic Park (1993), Terminator 2: Judgment Day (1991), Saving Private Ryan (1998)]                                                                                                                                                                                 |\n",
      "|78    |Action   |[Braveheart (1995), Fight Club (1999), Star Wars: Episode V - The Empire Strikes Back (1980), Star Wars: Episode VI - Return of the Jedi (1983), Saving Private Ryan (1998)]                                                                                                                                |\n",
      "|79    |Action   |[Braveheart (1995), Fight Club (1999), Raiders of the Lost Ark (Indiana Jones and the Raiders of the Lost Ark) (1981), Lord of the Rings: The Return of the King, The (2003), Independence Day (a.k.a. ID4) (1996)]                                                                                         |\n",
      "|80    |Thriller |[Pulp Fiction (1994), Jurassic Park (1993), Seven (a.k.a. Se7en) (1995), Fugitive, The (1993), Fargo (1996)]                                                                                                                                                                                                |\n",
      "|81    |Thriller |[Matrix, The (1999), Silence of the Lambs, The (1991), Fight Club (1999), Usual Suspects, The (1995), Fargo (1996)]                                                                                                                                                                                         |\n",
      "|82    |Action   |[Fight Club (1999), Dark Knight, The (2008), Speed (1994), Princess Bride, The (1987), Inception (2010)]                                                                                                                                                                                                    |\n",
      "|83    |Drama    |[Pulp Fiction (1994), Fight Club (1999), Schindler's List (1993), Godfather, The (1972), Apollo 13 (1995)]                                                                                                                                                                                                  |\n",
      "|84    |Drama    |[Braveheart (1995), Fight Club (1999), American Beauty (1999), Saving Private Ryan (1998), Lord of the Rings: The Return of the King, The (2003)]                                                                                                                                                           |\n",
      "|85    |Drama    |[Shawshank Redemption, The (1994), Forrest Gump (1994), Pulp Fiction (1994), Braveheart (1995), Fight Club (1999)]                                                                                                                                                                                          |\n",
      "|86    |Action   |[Braveheart (1995), Terminator 2: Judgment Day (1991), Raiders of the Lost Ark (Indiana Jones and the Raiders of the Lost Ark) (1981), Batman (1989), True Lies (1994)]                                                                                                                                     |\n",
      "|87    |Drama    |[Shawshank Redemption, The (1994), Forrest Gump (1994), Pulp Fiction (1994), Braveheart (1995), Fight Club (1999)]                                                                                                                                                                                          |\n",
      "|88    |Drama    |[Forrest Gump (1994), Pulp Fiction (1994), Braveheart (1995), Fight Club (1999), American Beauty (1999)]                                                                                                                                                                                                    |\n",
      "|89    |Comedy   |[Pulp Fiction (1994), Fargo (1996), True Lies (1994), Pirates of the Caribbean: The Curse of the Black Pearl (2003), Finding Nemo (2003)]                                                                                                                                                                   |\n",
      "|90    |Drama    |[Shawshank Redemption, The (1994), Forrest Gump (1994), Pulp Fiction (1994), Braveheart (1995), Fight Club (1999)]                                                                                                                                                                                          |\n",
      "|91    |Action   |[Dark Knight, The (2008), Inception (2010), Batman Begins (2005), V for Vendetta (2006), Inglourious Basterds (2009)]                                                                                                                                                                                       |\n",
      "|92    |Drama    |[Shawshank Redemption, The (1994), Forrest Gump (1994), Pulp Fiction (1994), Braveheart (1995), Fight Club (1999)]                                                                                                                                                                                          |\n",
      "|93    |Adventure|[Star Wars: Episode V - The Empire Strikes Back (1980), Raiders of the Lost Ark (Indiana Jones and the Raiders of the Lost Ark) (1981), Lord of the Rings: The Fellowship of the Ring, The (2001), Star Wars: Episode VI - Return of the Jedi (1983), Lord of the Rings: The Return of the King, The (2003)]|\n",
      "|94    |Drama    |[Fight Club (1999), Schindler's List (1993), American Beauty (1999), Godfather, The (1972), Saving Private Ryan (1998)]                                                                                                                                                                                     |\n",
      "|95    |Drama    |[Shawshank Redemption, The (1994), Forrest Gump (1994), Pulp Fiction (1994), Braveheart (1995), Fight Club (1999)]                                                                                                                                                                                          |\n",
      "|96    |Action   |[Fight Club (1999), Star Wars: Episode V - The Empire Strikes Back (1980), Lord of the Rings: The Return of the King, The (2003), Batman (1989), Dark Knight, The (2008)]                                                                                                                                   |\n",
      "|97    |Action   |[Star Wars: Episode IV - A New Hope (1977), Braveheart (1995), Fight Club (1999), Jurassic Park (1993), Terminator 2: Judgment Day (1991), Star Wars: Episode V - The Empire Strikes Back (1980)]                                                                                                           |\n",
      "|98    |Comedy   |[Pulp Fiction (1994), Aladdin (1992), True Lies (1994), Men in Black (a.k.a. MIB) (1997), Monty Python and the Holy Grail (1975)]                                                                                                                                                                           |\n",
      "|99    |Comedy   |[Forrest Gump (1994), Toy Story (1995), Fargo (1996), Back to the Future (1985), Shrek (2001)]                                                                                                                                                                                                              |\n",
      "|100   |Comedy   |[Toy Story (1995), Fargo (1996), Aladdin (1992), Shrek (2001), Monty Python and the Holy Grail (1975)]                                                                                                                                                                                                      |\n",
      "+------+---------+------------------------------------------------------------------------------------------------------------------------------------------------------------------------------------------------------------------------------------------------------------------------------------------------------------+\n",
      "only showing top 100 rows\n",
      "\n"
     ]
    }
   ],
   "source": [
    "window = Window.partitionBy(final_5['userId']).orderBy(final_5['sum(rating)'].desc())\n",
    "final_5.select('*', f.rank().over(window).alias('rank')).filter(f.col('rank') <= 5)\\\n",
    ".groupBy('userId','genres').agg(f.collect_list('title').alias('top 5 title rated')).sort('userId').show(100, truncate=False)"
   ]
  },
  {
   "cell_type": "markdown",
   "metadata": {
    "id": "Rjv7AXUIWTM0"
   },
   "source": [
    "## **Câu 6:** For each user ID, show the two genres that received highest rating from that user, and the list of top 5 rated movies that belong to both genres and hasn’t been rated by that user. The results are shorted by the user ID."
   ]
  },
  {
   "cell_type": "code",
   "execution_count": 41,
   "metadata": {
    "id": "84NrEXfSKLUW"
   },
   "outputs": [],
   "source": [
    "userid_genres = movies.join(ratings, on=['movieId'], how='inner').withColumn('genres', f.split('genres','[|]')) \\\n",
    ".withColumn('genres', f.explode('genres')).groupBy('userId','genres').sum('rating').sort('userId')"
   ]
  },
  {
   "cell_type": "code",
   "execution_count": 42,
   "metadata": {
    "colab": {
     "base_uri": "https://localhost:8080/"
    },
    "id": "4YNpX5QmKLUX",
    "outputId": "1e385242-071b-4b2c-bc4d-1ee1c03efe75"
   },
   "outputs": [
    {
     "name": "stdout",
     "output_type": "stream",
     "text": [
      "+------+---------+-----------+\n",
      "|userId|   genres|sum(rating)|\n",
      "+------+---------+-----------+\n",
      "|     1|Animation|      136.0|\n",
      "|     1|    Crime|      196.0|\n",
      "|     1|  Fantasy|      202.0|\n",
      "|     1|  Western|       30.0|\n",
      "|     1| Children|      191.0|\n",
      "|     1|  Romance|      112.0|\n",
      "|     1|   Horror|       59.0|\n",
      "|     1|      War|       99.0|\n",
      "|     1|Film-Noir|        5.0|\n",
      "|     1|Adventure|      373.0|\n",
      "|     1|    Drama|      308.0|\n",
      "|     1|   Action|      389.0|\n",
      "|     1|  Musical|      103.0|\n",
      "|     1|   Comedy|      355.0|\n",
      "|     1|  Mystery|       75.0|\n",
      "|     1|   Sci-Fi|      169.0|\n",
      "|     1| Thriller|      228.0|\n",
      "|     2|   Action|       43.5|\n",
      "|     2|   Comedy|       28.0|\n",
      "|     2|  Romance|        4.5|\n",
      "+------+---------+-----------+\n",
      "only showing top 20 rows\n",
      "\n"
     ]
    }
   ],
   "source": [
    "userid_genres.show()"
   ]
  },
  {
   "cell_type": "markdown",
   "metadata": {
    "id": "neMhiPFiKLUY"
   },
   "source": [
    "tìm top 1 , 2 thể loại có rating cao nhất"
   ]
  },
  {
   "cell_type": "code",
   "execution_count": 43,
   "metadata": {
    "id": "_6Owge3_KLUZ"
   },
   "outputs": [],
   "source": [
    "window = Window.partitionBy(userid_genres['userId']).orderBy(userid_genres['sum(rating)'].desc())\n",
    "top_1_2 = userid_genres.select('*', f.rank().over(window).alias('rank')).filter(f.col('rank') <= 2)\\\n",
    ".select(f.col('userId'), f.col('genres'), f.col('sum(rating)')).withColumn('temp', f.lit('temp_'))\\\n",
    ".groupBy('userId').agg(f.collect_list('genres').alias('2 genres rating cao nhat'))"
   ]
  },
  {
   "cell_type": "code",
   "execution_count": 44,
   "metadata": {
    "colab": {
     "base_uri": "https://localhost:8080/"
    },
    "id": "Jukpg0s0KLUZ",
    "outputId": "f6ffc5b3-e3e3-4ae7-ba09-233924f6c7a1"
   },
   "outputs": [
    {
     "name": "stdout",
     "output_type": "stream",
     "text": [
      "+------+------------------------+\n",
      "|userId|2 genres rating cao nhat|\n",
      "+------+------------------------+\n",
      "|     1|     [Action, Adventure]|\n",
      "|     2|         [Drama, Action]|\n",
      "|     3|        [Sci-Fi, Action]|\n",
      "|     4|         [Drama, Comedy]|\n",
      "|     5|         [Drama, Comedy]|\n",
      "|     6|         [Drama, Comedy]|\n",
      "|     7|     [Action, Adventure]|\n",
      "|     8|         [Comedy, Drama]|\n",
      "|     9|         [Drama, Comedy]|\n",
      "|    10|       [Romance, Comedy]|\n",
      "|    11|      [Action, Thriller]|\n",
      "|    12|       [Romance, Comedy]|\n",
      "|    13|    [Drama, Thriller,...|\n",
      "|    14|        [Drama, Romance]|\n",
      "|    15|         [Sci-Fi, Drama]|\n",
      "|    16|       [Drama, Thriller]|\n",
      "|    17|         [Drama, Action]|\n",
      "|    18|         [Drama, Action]|\n",
      "|    19|      [Comedy, Thriller]|\n",
      "|    20|      [Children, Comedy]|\n",
      "+------+------------------------+\n",
      "only showing top 20 rows\n",
      "\n"
     ]
    }
   ],
   "source": [
    "top_1_2.show()"
   ]
  },
  {
   "cell_type": "code",
   "execution_count": 45,
   "metadata": {
    "id": "1I6znq73Lw4s"
   },
   "outputs": [],
   "source": [
    "top_12 = userid_genres.select('*', f.rank().over(window).alias('rank')).filter(f.col('rank') <= 2)\\\n",
    ".select(f.col('userId'), f.col('genres'), f.col('sum(rating)'))"
   ]
  },
  {
   "cell_type": "code",
   "execution_count": 46,
   "metadata": {
    "colab": {
     "base_uri": "https://localhost:8080/"
    },
    "id": "I9E5CgscMCkN",
    "outputId": "325eb8bd-8d8d-4b92-9d09-5e3c33f92378"
   },
   "outputs": [
    {
     "name": "stdout",
     "output_type": "stream",
     "text": [
      "+------+---------+-----------+\n",
      "|userId|   genres|sum(rating)|\n",
      "+------+---------+-----------+\n",
      "|     1|   Action|      389.0|\n",
      "|     1|Adventure|      373.0|\n",
      "|     2|    Drama|       66.0|\n",
      "|     2|   Action|       43.5|\n",
      "|     3|   Sci-Fi|       63.0|\n",
      "|     3|   Action|       50.0|\n",
      "|     4|    Drama|      418.0|\n",
      "|     4|   Comedy|      365.0|\n",
      "|     5|    Drama|       95.0|\n",
      "|     5|   Comedy|       52.0|\n",
      "|     6|    Drama|      506.0|\n",
      "|     6|   Comedy|      428.0|\n",
      "|     7|   Action|      208.5|\n",
      "|     7|Adventure|      179.0|\n",
      "|     8|   Comedy|       77.0|\n",
      "|     8|    Drama|       72.0|\n",
      "|     9|    Drama|       72.0|\n",
      "|     9|   Comedy|       55.0|\n",
      "|    10|  Romance|      260.0|\n",
      "|    10|   Comedy|      258.0|\n",
      "+------+---------+-----------+\n",
      "only showing top 20 rows\n",
      "\n"
     ]
    }
   ],
   "source": [
    "top_12.show()"
   ]
  },
  {
   "cell_type": "markdown",
   "metadata": {
    "id": "uxjO9Mo2LUX8"
   },
   "source": [
    "Tìm các bộ phim theo rating (phim được user rating)"
   ]
  },
  {
   "cell_type": "code",
   "execution_count": 47,
   "metadata": {
    "id": "uZ7Bvb22LUYC"
   },
   "outputs": [],
   "source": [
    "title_rated = movies.join(ratings, on=['movieId'], how='inner').withColumn('genres', f.split('genres','[|]'))\\\n",
    ".groupBy('userId').agg(f.collect_list('title').alias('title(rated)')).sort('userId')\n",
    "#.groupBy('userId').agg(f.max('sum(rating)').alias('max of sum(rating)')).sort('userId').show()"
   ]
  },
  {
   "cell_type": "code",
   "execution_count": 48,
   "metadata": {
    "colab": {
     "base_uri": "https://localhost:8080/"
    },
    "id": "4STuRx48LUYC",
    "outputId": "e87e309f-07ba-4011-f6aa-0ad78c7207ef"
   },
   "outputs": [
    {
     "name": "stdout",
     "output_type": "stream",
     "text": [
      "+------+----------------------------------------------------------------------------------------------------+\n",
      "|userId|                                                                                        title(rated)|\n",
      "+------+----------------------------------------------------------------------------------------------------+\n",
      "|     1|[Toy Story (1995), Grumpier Old Men (1995), Heat (1995), Seven (a.k.a. Se7en) (1995), Usual Suspe...|\n",
      "|     2|[Shawshank Redemption, The (1994), Tommy Boy (1995), Good Will Hunting (1997), Gladiator (2000), ...|\n",
      "|     3|[Dangerous Minds (1995), Schindler's List (1993), Courage Under Fire (1996), Operation Dumbo Drop...|\n",
      "|     4|[Get Shorty (1995), Twelve Monkeys (a.k.a. 12 Monkeys) (1995), To Die For (1995), Seven (a.k.a. S...|\n",
      "|     5|[Toy Story (1995), Get Shorty (1995), Babe (1995), Dead Man Walking (1995), Clueless (1995), Usua...|\n",
      "|     6|[Jumanji (1995), Grumpier Old Men (1995), Waiting to Exhale (1995), Father of the Bride Part II (...|\n",
      "|     7|[Toy Story (1995), Usual Suspects, The (1995), Postman, The (Postino, Il) (1994), Apollo 13 (1995...|\n",
      "|     8|[Jumanji (1995), GoldenEye (1995), American President, The (1995), Get Shorty (1995), Twelve Monk...|\n",
      "|     9|[Richard III (1995), Party Girl (1995), Clerks (1994), Paper, The (1994), Last Supper, The (1995)...|\n",
      "|    10|[Pulp Fiction (1994), Forrest Gump (1994), Aladdin (1992), Pretty Woman (1990), Casablanca (1942)...|\n",
      "|    11|[Heat (1995), GoldenEye (1995), Dead Man Walking (1995), Mortal Kombat (1995), Broken Arrow (1996...|\n",
      "|    12|[Clueless (1995), First Knight (1995), Circle of Friends (1995), Junior (1994), Little Women (199...|\n",
      "|    13|[Seven (a.k.a. Se7en) (1995), Ready to Wear (Pret-A-Porter) (1994), Pretty Woman (1990), Cook the...|\n",
      "|    14|[Waiting to Exhale (1995), Sabrina (1995), Ace Ventura: When Nature Calls (1995), Leaving Las Veg...|\n",
      "|    15|[Toy Story (1995), Mortal Kombat (1995), Seven (a.k.a. Se7en) (1995), Casper (1995), Johnny Mnemo...|\n",
      "|    16|[Seven (a.k.a. Se7en) (1995), Usual Suspects, The (1995), Taxi Driver (1976), Under Siege 2: Dark...|\n",
      "|    17|[Toy Story (1995), Mortal Kombat (1995), Seven (a.k.a. Se7en) (1995), Usual Suspects, The (1995),...|\n",
      "|    18|[Toy Story (1995), Jumanji (1995), Heat (1995), Casino (1995), Twelve Monkeys (a.k.a. 12 Monkeys)...|\n",
      "|    19|[Toy Story (1995), Jumanji (1995), Grumpier Old Men (1995), Sabrina (1995), GoldenEye (1995), Dra...|\n",
      "|    20|[Jumanji (1995), Tom and Huck (1995), Balto (1995), Babe (1995), Pocahontas (1995), Muppet Treasu...|\n",
      "+------+----------------------------------------------------------------------------------------------------+\n",
      "only showing top 20 rows\n",
      "\n"
     ]
    }
   ],
   "source": [
    "title_rated.show(truncate=100)"
   ]
  },
  {
   "cell_type": "markdown",
   "metadata": {
    "id": "MDzQP-cMLUYC"
   },
   "source": [
    "tìm tất cả phim theo từng genres rating cao nhất"
   ]
  },
  {
   "cell_type": "code",
   "execution_count": 49,
   "metadata": {
    "id": "5OfdQzKVLUYC"
   },
   "outputs": [],
   "source": [
    "title_all = movies.join(ratings, on=['movieId'], how='inner').withColumn('genres', f.split('genres','[|]'))\\\n",
    ".withColumn('genres', f.explode('genres')).groupBy('genres').agg(f.collect_set('title').alias('title all of'))"
   ]
  },
  {
   "cell_type": "code",
   "execution_count": 50,
   "metadata": {
    "colab": {
     "base_uri": "https://localhost:8080/"
    },
    "id": "HYzdIPp8LUYC",
    "outputId": "7675e72c-2470-4c95-f029-34e7895e594b"
   },
   "outputs": [
    {
     "name": "stdout",
     "output_type": "stream",
     "text": [
      "+------------------+----------------------------------------------------------------------------------------------------+\n",
      "|            genres|                                                                                        title all of|\n",
      "+------------------+----------------------------------------------------------------------------------------------------+\n",
      "|             Crime|[Stealing Rembrandt (Rembrandt) (2003), Girl with the Dragon Tattoo, The (Män som hatar kvinnor) ...|\n",
      "|           Romance|[Vampire in Brooklyn (1995), Hysteria (2011), Far from Heaven (2002), Honey (2003), Ghost Town (2...|\n",
      "|          Thriller|[Element of Crime, The (Forbrydelsens Element) (1984), 'Salem's Lot (2004), Transformers (2007), ...|\n",
      "|         Adventure|[Ice Age: Collision Course (2016), Masters of the Universe (1987), Terminator Genisys (2015), Tit...|\n",
      "|             Drama|[Airport '77 (1977), Meet John Doe (1941), 'Salem's Lot (2004), Element of Crime, The (Forbrydels...|\n",
      "|               War|[General, The (1926), Joyeux Noël (Merry Christmas) (2005), Forrest Gump (1994), Thirteen Days (2...|\n",
      "|       Documentary|[Jim & Andy: The Great Beyond (2017), U2: Rattle and Hum (1988), The Barkley Marathons: The Race ...|\n",
      "|           Fantasy|[Masters of the Universe (1987), Odd Life of Timothy Green, The (2012), Sword Art Online The Movi...|\n",
      "|           Mystery|[Before and After (1996), Primal Fear (1996), Others, The (2001), 'Salem's Lot (2004), Girl with ...|\n",
      "|           Musical|[U2: Rattle and Hum (1988), Sword in the Stone, The (1963), Monterey Pop (1968), Janie Jones (201...|\n",
      "|         Animation|[Ice Age: Collision Course (2016), Planes (2013), Nut Job, The (2014), Titan A.E. (2000), Sword A...|\n",
      "|         Film-Noir|[Rififi (Du rififi chez les hommes) (1955), Sweet Smell of Success (1957), Devil in a Blue Dress ...|\n",
      "|(no genres listed)|[T2 3-D: Battle Across Time (1996), A Midsummer Night's Dream (2016), Maria Bamford: Old Baby, Se...|\n",
      "|              IMAX|[Harry Potter and the Prisoner of Azkaban (2004), Transformers (2007), Fast & Furious 6 (Fast and...|\n",
      "|            Horror|[Paranormal Activity 2 (2010), Vampire in Brooklyn (1995), 'Salem's Lot (2004), Gremlins (1984), ...|\n",
      "|           Western|[Man Who Shot Liberty Valance, The (1962), Lone Star (1996), Duck, You Sucker (1971), The Beguile...|\n",
      "|            Comedy|[Hysteria (2011), Humpday (2009), Meet John Doe (1941), Silver Spoon (2014), Super High Me (2007)...|\n",
      "|          Children|[Ice Age: Collision Course (2016), Nut Job, The (2014), Titan A.E. (2000), Teenage Mutant Ninja T...|\n",
      "|            Action|[Stealing Rembrandt (Rembrandt) (2003), Masters of the Universe (1987), Terminator Genisys (2015)...|\n",
      "|            Sci-Fi|[Push (2009), SORI: Voice from the Heart (2016), Masters of the Universe (1987), Terminator Genis...|\n",
      "+------------------+----------------------------------------------------------------------------------------------------+\n",
      "\n"
     ]
    }
   ],
   "source": [
    "title_all.show(truncate=100)"
   ]
  },
  {
   "cell_type": "markdown",
   "metadata": {
    "id": "XkHQNwsILUYD"
   },
   "source": [
    "join bảng"
   ]
  },
  {
   "cell_type": "code",
   "execution_count": 51,
   "metadata": {
    "id": "0co09Sj4LUYD"
   },
   "outputs": [],
   "source": [
    "final_6 = title_rated.join(top_12, on=['userId'], how='inner').join(title_all, on=['genres'], how='inner')\\\n",
    ".withColumn('title', f.array_except('title all of','title(rated)')).sort('userId')\\\n",
    ".withColumn('title', f.explode('title'))\\\n",
    ".select(f.col('genres'), f.col('userId'), f.col('title'))\\\n",
    ".join(userid_title, on=['title'], how='inner')\n",
    "#.groupBy('userId', 'title(rated)').agg(f.collect_list('genres')).show()\n",
    "# .withColumn('title', f.array_except('title all of','title(rated)'))\\\n",
    "# .withColumn('title', f.explode('title')).sort('userId')\\\n",
    "# .select(f.col('genres'), f.col('userId'), f.col('title'))\n",
    "#.join(userid_title, on=['userId', 'title'], how='inner')"
   ]
  },
  {
   "cell_type": "code",
   "execution_count": 52,
   "metadata": {
    "colab": {
     "base_uri": "https://localhost:8080/"
    },
    "id": "aFeX1lOyLUYD",
    "outputId": "3146b4b2-26be-4286-8a15-ac626eae7d59"
   },
   "outputs": [
    {
     "name": "stdout",
     "output_type": "stream",
     "text": [
      "+--------------------+------+------+-----------+\n",
      "|               title|genres|userId|sum(rating)|\n",
      "+--------------------+------+------+-----------+\n",
      "|22 Jump Street (2...|Action|     1|       70.0|\n",
      "|22 Jump Street (2...|Action|     2|       70.0|\n",
      "|22 Jump Street (2...|Action|     3|       70.0|\n",
      "|22 Jump Street (2...|Comedy|     4|       70.0|\n",
      "|22 Jump Street (2...|Comedy|     5|       70.0|\n",
      "|22 Jump Street (2...|Comedy|     6|       70.0|\n",
      "|22 Jump Street (2...|Action|     7|       70.0|\n",
      "|22 Jump Street (2...|Comedy|     8|       70.0|\n",
      "|22 Jump Street (2...|Comedy|     9|       70.0|\n",
      "|22 Jump Street (2...|Comedy|    10|       70.0|\n",
      "|22 Jump Street (2...|Action|    11|       70.0|\n",
      "|22 Jump Street (2...|Comedy|    12|       70.0|\n",
      "|22 Jump Street (2...|Action|    13|       70.0|\n",
      "|22 Jump Street (2...|Action|    17|       70.0|\n",
      "|22 Jump Street (2...|Action|    18|       70.0|\n",
      "|22 Jump Street (2...|Comedy|    19|       70.0|\n",
      "|22 Jump Street (2...|Comedy|    20|       70.0|\n",
      "|22 Jump Street (2...|Comedy|    22|       70.0|\n",
      "|22 Jump Street (2...| Crime|    23|       70.0|\n",
      "|22 Jump Street (2...|Comedy|    24|       70.0|\n",
      "+--------------------+------+------+-----------+\n",
      "only showing top 20 rows\n",
      "\n"
     ]
    }
   ],
   "source": [
    "final_6.show()"
   ]
  },
  {
   "cell_type": "code",
   "execution_count": 53,
   "metadata": {
    "colab": {
     "base_uri": "https://localhost:8080/"
    },
    "id": "rP0OLgozIduZ",
    "outputId": "b9eb81ad-f91b-4f9d-aeac-6a341c1f2da7"
   },
   "outputs": [
    {
     "name": "stdout",
     "output_type": "stream",
     "text": [
      "+------+----------------------------------------------------------------------------------------------------------------------------------------------------------------------------------------------------------------------------------------+------------------------+\n",
      "|userId|top 5 title rated                                                                                                                                                                                                                       |genres                  |\n",
      "+------+----------------------------------------------------------------------------------------------------------------------------------------------------------------------------------------------------------------------------------------+------------------------+\n",
      "|1     |[Terminator 2: Judgment Day (1991), Lord of the Rings: The Fellowship of the Ring, The (2001), Apollo 13 (1995), Lord of the Rings: The Return of the King, The (2003), Lord of the Rings: The Return of the King, The (2003)]          |[Action, Adventure]     |\n",
      "|2     |[Forrest Gump (1994), Pulp Fiction (1994), Matrix, The (1999), Star Wars: Episode IV - A New Hope (1977), Braveheart (1995), Braveheart (1995)]                                                                                         |[Action, Drama]         |\n",
      "|3     |[Matrix, The (1999), Matrix, The (1999), Star Wars: Episode IV - A New Hope (1977), Star Wars: Episode IV - A New Hope (1977), Braveheart (1995)]                                                                                       |[Action, Sci-Fi]        |\n",
      "|4     |[Shawshank Redemption, The (1994), Forrest Gump (1994), Forrest Gump (1994), Braveheart (1995), Schindler's List (1993)]                                                                                                                |[Comedy, Drama]         |\n",
      "|5     |[Forrest Gump (1994), Forrest Gump (1994), Fight Club (1999), American Beauty (1999), Godfather, The (1972)]                                                                                                                            |[Comedy, Drama]         |\n",
      "|6     |[Fight Club (1999), Toy Story (1995), American Beauty (1999), Godfather, The (1972), Saving Private Ryan (1998)]                                                                                                                        |[Comedy, Drama]         |\n",
      "|7     |[Matrix, The (1999), Braveheart (1995), Fight Club (1999), Raiders of the Lost Ark (Indiana Jones and the Raiders of the Lost Ark) (1981), Raiders of the Lost Ark (Indiana Jones and the Raiders of the Lost Ark) (1981)]              |[Action, Adventure]     |\n",
      "|8     |[Fight Club (1999), Toy Story (1995), American Beauty (1999), Godfather, The (1972), Saving Private Ryan (1998)]                                                                                                                        |[Comedy, Drama]         |\n",
      "|9     |[Shawshank Redemption, The (1994), Forrest Gump (1994), Forrest Gump (1994), Pulp Fiction (1994), Pulp Fiction (1994)]                                                                                                                  |[Comedy, Drama]         |\n",
      "|10    |[Toy Story (1995), Fargo (1996), Back to the Future (1985), True Lies (1994), True Lies (1994)]                                                                                                                                         |[Comedy, Romance]       |\n",
      "|11    |[Pulp Fiction (1994), Matrix, The (1999), Matrix, The (1999), Star Wars: Episode IV - A New Hope (1977), Fight Club (1999), Fight Club (1999)]                                                                                          |[Thriller, Action]      |\n",
      "|12    |[Forrest Gump (1994), Forrest Gump (1994), Pulp Fiction (1994), Toy Story (1995), American Beauty (1999)]                                                                                                                               |[Comedy, Romance]       |\n",
      "|13    |[Shawshank Redemption, The (1994), Forrest Gump (1994), Pulp Fiction (1994), Pulp Fiction (1994), Silence of the Lambs, The (1991)]                                                                                                     |[Thriller, Drama]       |\n",
      "|14    |[Fight Club (1999), American Beauty (1999), American Beauty (1999), Godfather, The (1972), Saving Private Ryan (1998)]                                                                                                                  |[Drama, Romance]        |\n",
      "|15    |[Braveheart (1995), Jurassic Park (1993), Apollo 13 (1995), Lord of the Rings: The Return of the King, The (2003), Fargo (1996)]                                                                                                        |[Drama, Sci-Fi]         |\n",
      "|16    |[Braveheart (1995), Jurassic Park (1993), Saving Private Ryan (1998), Apollo 13 (1995), Fugitive, The (1993)]                                                                                                                           |[Thriller, Drama]       |\n",
      "|17    |[Fargo (1996), Lion King, The (1994), Gladiator (2000), Gladiator (2000), True Lies (1994)]                                                                                                                                             |[Action, Drama]         |\n",
      "|18    |[American Beauty (1999), Apollo 13 (1995), Batman (1989), Princess Bride, The (1987), Aliens (1986)]                                                                                                                                    |[Action, Drama]         |\n",
      "|19    |[Pulp Fiction (1994), Pulp Fiction (1994), Silence of the Lambs, The (1991), Usual Suspects, The (1995), Fargo (1996), Fargo (1996)]                                                                                                    |[Thriller, Comedy]      |\n",
      "|20    |[Forrest Gump (1994), Pulp Fiction (1994), Toy Story (1995), Toy Story (1995), Fargo (1996)]                                                                                                                                            |[Comedy, Children]      |\n",
      "|21    |[Braveheart (1995), Saving Private Ryan (1998), Apollo 13 (1995), Dances with Wolves (1990), True Lies (1994), True Lies (1994)]                                                                                                        |[Action, Adventure]     |\n",
      "|22    |[Pulp Fiction (1994), Pulp Fiction (1994), Braveheart (1995), Schindler's List (1993), Toy Story (1995)]                                                                                                                                |[Comedy, Drama]         |\n",
      "|23    |[Shawshank Redemption, The (1994), Shawshank Redemption, The (1994), Forrest Gump (1994), Silence of the Lambs, The (1991), Braveheart (1995)]                                                                                          |[Crime, Drama]          |\n",
      "|24    |[Star Wars: Episode IV - A New Hope (1977), Braveheart (1995), Fight Club (1999), Jurassic Park (1993), Terminator 2: Judgment Day (1991), Star Wars: Episode V - The Empire Strikes Back (1980)]                                       |[Action]                |\n",
      "|25    |[Braveheart (1995), Fight Club (1999), Jurassic Park (1993), Jurassic Park (1993), Terminator 2: Judgment Day (1991), Star Wars: Episode V - The Empire Strikes Back (1980), Star Wars: Episode V - The Empire Strikes Back (1980)]     |[Action, Adventure]     |\n",
      "|26    |[Matrix, The (1999), Matrix, The (1999), Star Wars: Episode IV - A New Hope (1977), Braveheart (1995), Fight Club (1999), Fight Club (1999)]                                                                                            |[Thriller, Action]      |\n",
      "|27    |[Shawshank Redemption, The (1994), Pulp Fiction (1994), Braveheart (1995), Fight Club (1999), Schindler's List (1993)]                                                                                                                  |[Drama]                 |\n",
      "|28    |[Apollo 13 (1995), Lion King, The (1994), True Lies (1994), Inception (2010), Inception (2010)]                                                                                                                                         |[Action, Drama]         |\n",
      "|29    |[Matrix, The (1999), Star Wars: Episode IV - A New Hope (1977), Braveheart (1995), Braveheart (1995), Fight Club (1999), Fight Club (1999)]                                                                                             |[Action, Drama]         |\n",
      "|30    |[Fight Club (1999), Jurassic Park (1993), Jurassic Park (1993), Toy Story (1995), Saving Private Ryan (1998)]                                                                                                                           |[Action, Adventure]     |\n",
      "|31    |[Forrest Gump (1994), Pulp Fiction (1994), Matrix, The (1999), Star Wars: Episode IV - A New Hope (1977), Braveheart (1995)]                                                                                                            |[Action, Comedy]        |\n",
      "|32    |[Forrest Gump (1994), Forrest Gump (1994), Braveheart (1995), Fight Club (1999), American Beauty (1999)]                                                                                                                                |[Comedy, Drama]         |\n",
      "|33    |[Fight Club (1999), American Beauty (1999), Godfather, The (1972), Lord of the Rings: The Return of the King, The (2003), Back to the Future (1985)]                                                                                    |[Comedy, Drama]         |\n",
      "|34    |[Pulp Fiction (1994), Star Wars: Episode IV - A New Hope (1977), Jurassic Park (1993), Star Wars: Episode V - The Empire Strikes Back (1980), Toy Story (1995)]                                                                         |[Action, Comedy]        |\n",
      "|35    |[Shawshank Redemption, The (1994), Forrest Gump (1994), Forrest Gump (1994), Pulp Fiction (1994), Pulp Fiction (1994)]                                                                                                                  |[Comedy, Drama]         |\n",
      "|36    |[Forrest Gump (1994), Forrest Gump (1994), Pulp Fiction (1994), Pulp Fiction (1994), Braveheart (1995)]                                                                                                                                 |[Comedy, Drama]         |\n",
      "|37    |[Matrix, The (1999), Braveheart (1995), Fight Club (1999), Fight Club (1999), Schindler's List (1993)]                                                                                                                                  |[Thriller, Drama]       |\n",
      "|38    |[Fight Club (1999), Toy Story (1995), American Beauty (1999), Godfather, The (1972), Saving Private Ryan (1998)]                                                                                                                        |[Comedy, Drama]         |\n",
      "|39    |[Shawshank Redemption, The (1994), Forrest Gump (1994), Braveheart (1995), Fight Club (1999), Schindler's List (1993)]                                                                                                                  |[Drama]                 |\n",
      "|40    |[Forrest Gump (1994), Forrest Gump (1994), Fight Club (1999), Schindler's List (1993), American Beauty (1999)]                                                                                                                          |[Comedy, Drama]         |\n",
      "|41    |[Shawshank Redemption, The (1994), Braveheart (1995), Schindler's List (1993), Toy Story (1995), Godfather, The (1972)]                                                                                                                 |[Comedy, Drama]         |\n",
      "|42    |[Toy Story (1995), American Beauty (1999), Lord of the Rings: The Return of the King, The (2003), Fargo (1996), Fargo (1996)]                                                                                                           |[Comedy, Drama]         |\n",
      "|43    |[Fight Club (1999), Schindler's List (1993), American Beauty (1999), Godfather, The (1972), Saving Private Ryan (1998)]                                                                                                                 |[Drama]                 |\n",
      "|44    |[Forrest Gump (1994), Pulp Fiction (1994), Matrix, The (1999), Braveheart (1995), Fight Club (1999)]                                                                                                                                    |[Action, Comedy]        |\n",
      "|45    |[Shawshank Redemption, The (1994), Schindler's List (1993), Lord of the Rings: The Return of the King, The (2003), Fargo (1996), Fargo (1996)]                                                                                          |[Comedy, Drama]         |\n",
      "|46    |[Pulp Fiction (1994), Matrix, The (1999), Matrix, The (1999), Star Wars: Episode IV - A New Hope (1977), Fight Club (1999), Fight Club (1999)]                                                                                          |[Thriller, Action]      |\n",
      "|47    |[Pulp Fiction (1994), Pulp Fiction (1994), Braveheart (1995), Schindler's List (1993), Toy Story (1995)]                                                                                                                                |[Comedy, Drama]         |\n",
      "|48    |[Star Wars: Episode IV - A New Hope (1977), Star Wars: Episode IV - A New Hope (1977), Braveheart (1995), Fight Club (1999), Jurassic Park (1993), Jurassic Park (1993)]                                                                |[Action, Sci-Fi]        |\n",
      "|49    |[Pulp Fiction (1994), Star Wars: Episode IV - A New Hope (1977), Fight Club (1999), Jurassic Park (1993), Terminator 2: Judgment Day (1991), Star Wars: Episode V - The Empire Strikes Back (1980)]                                     |[Drama, Sci-Fi]         |\n",
      "|50    |[Braveheart (1995), Schindler's List (1993), American Beauty (1999), Saving Private Ryan (1998), Apollo 13 (1995)]                                                                                                                      |[Drama]                 |\n",
      "|51    |[Shawshank Redemption, The (1994), Forrest Gump (1994), Forrest Gump (1994), Pulp Fiction (1994), Pulp Fiction (1994)]                                                                                                                  |[Comedy, Drama]         |\n",
      "|52    |[Pulp Fiction (1994), Braveheart (1995), Braveheart (1995), Schindler's List (1993), Jurassic Park (1993)]                                                                                                                              |[Action, Drama]         |\n",
      "|53    |[Shawshank Redemption, The (1994), Forrest Gump (1994), Forrest Gump (1994), Forrest Gump (1994), Pulp Fiction (1994), Pulp Fiction (1994)]                                                                                             |[Comedy, Drama, Romance]|\n",
      "|54    |[Matrix, The (1999), Fight Club (1999), Fight Club (1999), Schindler's List (1993), American Beauty (1999)]                                                                                                                             |[Thriller, Drama]       |\n",
      "|55    |[Shawshank Redemption, The (1994), Pulp Fiction (1994), Pulp Fiction (1994), Matrix, The (1999), Silence of the Lambs, The (1991), Silence of the Lambs, The (1991)]                                                                    |[Thriller, Crime]       |\n",
      "|56    |[Matrix, The (1999), Matrix, The (1999), Star Wars: Episode IV - A New Hope (1977), Fight Club (1999), Fight Club (1999)]                                                                                                               |[Thriller, Action]      |\n",
      "|57    |[Shawshank Redemption, The (1994), Fight Club (1999), Lord of the Rings: The Return of the King, The (2003), Shrek (2001), Dark Knight, The (2008)]                                                                                     |[Comedy, Drama]         |\n",
      "|58    |[Fight Club (1999), Toy Story (1995), American Beauty (1999), Godfather, The (1972), Saving Private Ryan (1998)]                                                                                                                        |[Comedy, Drama]         |\n",
      "|59    |[Shawshank Redemption, The (1994), Forrest Gump (1994), Pulp Fiction (1994), Pulp Fiction (1994), Fight Club (1999), Fight Club (1999)]                                                                                                 |[Thriller, Drama]       |\n",
      "|60    |[Forrest Gump (1994), Pulp Fiction (1994), Pulp Fiction (1994), Silence of the Lambs, The (1991), Braveheart (1995)]                                                                                                                    |[Crime, Drama]          |\n",
      "|61    |[Forrest Gump (1994), Pulp Fiction (1994), Pulp Fiction (1994), Matrix, The (1999), Braveheart (1995)]                                                                                                                                  |[Thriller, Drama]       |\n",
      "|62    |[Jurassic Park (1993), Terminator 2: Judgment Day (1991), American Beauty (1999), Apollo 13 (1995), Fargo (1996)]                                                                                                                       |[Action, Drama]         |\n",
      "|63    |[True Lies (1994), True Lies (1994), Princess Bride, The (1987), Princess Bride, The (1987), Finding Nemo (2003)]                                                                                                                       |[Action, Comedy]        |\n",
      "|64    |[Apollo 13 (1995), Back to the Future (1985), Gladiator (2000), Dark Knight, The (2008), True Lies (1994)]                                                                                                                              |[Comedy, Drama]         |\n",
      "|65    |[Forrest Gump (1994), Pulp Fiction (1994), Matrix, The (1999), Star Wars: Episode IV - A New Hope (1977), Braveheart (1995), Braveheart (1995)]                                                                                         |[Action, Drama]         |\n",
      "|66    |[Schindler's List (1993), Godfather, The (1972), Apollo 13 (1995), Aladdin (1992), Lion King, The (1994)]                                                                                                                               |[Comedy, Drama]         |\n",
      "|67    |[Star Wars: Episode IV - A New Hope (1977), Braveheart (1995), Jurassic Park (1993), Star Wars: Episode V - The Empire Strikes Back (1980), Toy Story (1995)]                                                                           |[Action, Comedy]        |\n",
      "|68    |[Taxi Driver (1976), Dr. Strangelove or: How I Learned to Stop Worrying and Love the Bomb (1964), Trainspotting (1996), Trainspotting (1996), Clear and Present Danger (1994)]                                                          |[Comedy, Drama]         |\n",
      "|69    |[Braveheart (1995), Braveheart (1995), Fight Club (1999), Fight Club (1999), Schindler's List (1993)]                                                                                                                                   |[Action, Drama]         |\n",
      "|70    |[Pulp Fiction (1994), Pulp Fiction (1994), Braveheart (1995), Fight Club (1999), Toy Story (1995)]                                                                                                                                      |[Comedy, Drama]         |\n",
      "|71    |[Matrix, The (1999), Braveheart (1995), Fight Club (1999), Jurassic Park (1993), Jurassic Park (1993)]                                                                                                                                  |[Action, Adventure]     |\n",
      "|72    |[Fight Club (1999), Fight Club (1999), Jurassic Park (1993), Saving Private Ryan (1998), Saving Private Ryan (1998)]                                                                                                                    |[Action, Drama]         |\n",
      "|73    |[Forrest Gump (1994), Pulp Fiction (1994), Matrix, The (1999), Braveheart (1995), Fight Club (1999)]                                                                                                                                    |[Action, Comedy]        |\n",
      "|74    |[Shawshank Redemption, The (1994), Forrest Gump (1994), Matrix, The (1999), Silence of the Lambs, The (1991), Braveheart (1995)]                                                                                                        |[Thriller, Drama]       |\n",
      "|75    |[Braveheart (1995), Fight Club (1999), Jurassic Park (1993), Jurassic Park (1993), Toy Story (1995)]                                                                                                                                    |[Action, Adventure]     |\n",
      "|76    |[Braveheart (1995), Schindler's List (1993), Usual Suspects, The (1995), Saving Private Ryan (1998), Apollo 13 (1995)]                                                                                                                  |[Thriller, Drama]       |\n",
      "|77    |[Braveheart (1995), Fight Club (1999), Jurassic Park (1993), Jurassic Park (1993), Terminator 2: Judgment Day (1991)]                                                                                                                   |[Action, Adventure]     |\n",
      "|78    |[Braveheart (1995), Fight Club (1999), Star Wars: Episode V - The Empire Strikes Back (1980), Star Wars: Episode VI - Return of the Jedi (1983), Saving Private Ryan (1998)]                                                            |[Action]                |\n",
      "|79    |[Pulp Fiction (1994), Silence of the Lambs, The (1991), Braveheart (1995), Fight Club (1999), Fight Club (1999)]                                                                                                                        |[Thriller, Action]      |\n",
      "|80    |[Pulp Fiction (1994), Star Wars: Episode IV - A New Hope (1977), Braveheart (1995), Jurassic Park (1993), Jurassic Park (1993)]                                                                                                         |[Thriller, Action]      |\n",
      "|81    |[Matrix, The (1999), Matrix, The (1999), Silence of the Lambs, The (1991), Star Wars: Episode IV - A New Hope (1977), Fight Club (1999), Fight Club (1999)]                                                                             |[Thriller, Action]      |\n",
      "|82    |[Pulp Fiction (1994), Fight Club (1999), Fargo (1996), Dark Knight, The (2008), Speed (1994)]                                                                                                                                           |[Action, Comedy]        |\n",
      "|83    |[Pulp Fiction (1994), Matrix, The (1999), Star Wars: Episode IV - A New Hope (1977), Fight Club (1999), Fight Club (1999)]                                                                                                              |[Action, Drama]         |\n",
      "|84    |[Braveheart (1995), Fight Club (1999), Toy Story (1995), American Beauty (1999), Saving Private Ryan (1998)]                                                                                                                            |[Comedy, Drama]         |\n",
      "|85    |[Shawshank Redemption, The (1994), Forrest Gump (1994), Forrest Gump (1994), Pulp Fiction (1994), Braveheart (1995)]                                                                                                                    |[Drama, Romance]        |\n",
      "|86    |[Braveheart (1995), Terminator 2: Judgment Day (1991), Raiders of the Lost Ark (Indiana Jones and the Raiders of the Lost Ark) (1981), Raiders of the Lost Ark (Indiana Jones and the Raiders of the Lost Ark) (1981), Apollo 13 (1995)]|[Action, Adventure]     |\n",
      "|87    |[Shawshank Redemption, The (1994), Forrest Gump (1994), Forrest Gump (1994), Pulp Fiction (1994), Pulp Fiction (1994)]                                                                                                                  |[Comedy, Drama]         |\n",
      "|88    |[Forrest Gump (1994), Pulp Fiction (1994), Pulp Fiction (1994), Matrix, The (1999), Silence of the Lambs, The (1991)]                                                                                                                   |[Thriller, Drama]       |\n",
      "|89    |[Pulp Fiction (1994), Fargo (1996), Lion King, The (1994), True Lies (1994), Pirates of the Caribbean: The Curse of the Black Pearl (2003)]                                                                                             |[Comedy, Children]      |\n",
      "|90    |[Shawshank Redemption, The (1994), Forrest Gump (1994), Forrest Gump (1994), Pulp Fiction (1994), Pulp Fiction (1994)]                                                                                                                  |[Comedy, Drama]         |\n",
      "|91    |[Dark Knight, The (2008), Inception (2010), Inception (2010), Departed, The (2006), Batman Begins (2005)]                                                                                                                               |[Thriller, Action]      |\n",
      "|92    |[Shawshank Redemption, The (1994), Forrest Gump (1994), Forrest Gump (1994), Pulp Fiction (1994), Pulp Fiction (1994)]                                                                                                                  |[Comedy, Drama]         |\n",
      "|93    |[Matrix, The (1999), Fight Club (1999), Terminator 2: Judgment Day (1991), Star Wars: Episode V - The Empire Strikes Back (1980), Star Wars: Episode V - The Empire Strikes Back (1980)]                                                |[Action, Adventure]     |\n",
      "|94    |[Matrix, The (1999), Fight Club (1999), Fight Club (1999), Schindler's List (1993), Usual Suspects, The (1995)]                                                                                                                         |[Thriller, Drama]       |\n",
      "|95    |[Shawshank Redemption, The (1994), Forrest Gump (1994), Pulp Fiction (1994), Braveheart (1995), Fight Club (1999)]                                                                                                                      |[Drama]                 |\n",
      "|96    |[Shawshank Redemption, The (1994), Forrest Gump (1994), Fight Club (1999), Fight Club (1999), Star Wars: Episode V - The Empire Strikes Back (1980)]                                                                                    |[Action, Drama]         |\n",
      "|97    |[Star Wars: Episode IV - A New Hope (1977), Star Wars: Episode IV - A New Hope (1977), Braveheart (1995), Fight Club (1999), Jurassic Park (1993), Jurassic Park (1993)]                                                                |[Action, Adventure]     |\n",
      "|98    |[Shawshank Redemption, The (1994), Pulp Fiction (1994), Pulp Fiction (1994), Braveheart (1995), Fight Club (1999)]                                                                                                                      |[Comedy, Drama]         |\n",
      "|99    |[Forrest Gump (1994), Matrix, The (1999), Silence of the Lambs, The (1991), Fight Club (1999), Jurassic Park (1993)]                                                                                                                    |[Thriller, Comedy]      |\n",
      "|100   |[Toy Story (1995), American Beauty (1999), Fargo (1996), Aladdin (1992), Shrek (2001), Shrek (2001)]                                                                                                                                    |[Comedy, Romance]       |\n",
      "+------+----------------------------------------------------------------------------------------------------------------------------------------------------------------------------------------------------------------------------------------+------------------------+\n",
      "only showing top 100 rows\n",
      "\n"
     ]
    }
   ],
   "source": [
    "window = Window.partitionBy(final_6['userId']).orderBy(final_6['sum(rating)'].desc())\n",
    "final_6.select('*', f.rank().over(window).alias('rank')).filter(f.col('rank') <= 5)\\\n",
    ".groupBy('userId').agg(f.collect_list('title').alias('top 5 title rated'),f.collect_set('genres').alias('genres')).sort('userId').show(100, truncate=False)"
   ]
  },
  {
   "cell_type": "markdown",
   "metadata": {
    "id": "386Xa5xRWTQP"
   },
   "source": [
    "## **Câu 7:** "
   ]
  },
  {
   "cell_type": "code",
   "execution_count": null,
   "metadata": {
    "id": "CMYrdhzeCGZj"
   },
   "outputs": [],
   "source": []
  },
  {
   "cell_type": "code",
   "execution_count": null,
   "metadata": {
    "id": "m9MavrFboMVG"
   },
   "outputs": [],
   "source": []
  },
  {
   "cell_type": "code",
   "execution_count": null,
   "metadata": {
    "id": "4IoiKGJwoMXy"
   },
   "outputs": [],
   "source": []
  },
  {
   "cell_type": "markdown",
   "metadata": {
    "id": "hqW7voSZWTU6"
   },
   "source": [
    "## **Câu 8:** "
   ]
  },
  {
   "cell_type": "code",
   "execution_count": null,
   "metadata": {
    "id": "YHTJpoqCoQPM"
   },
   "outputs": [],
   "source": []
  },
  {
   "cell_type": "code",
   "execution_count": null,
   "metadata": {
    "id": "PrjIMi6DoQR8"
   },
   "outputs": [],
   "source": []
  }
 ],
 "metadata": {
  "colab": {
   "collapsed_sections": [],
   "name": "Assignment 04 - Nhóm 03.ipynb",
   "provenance": [],
   "toc_visible": true
  },
  "kernelspec": {
   "display_name": "Python 3 (ipykernel)",
   "language": "python",
   "name": "python3"
  },
  "language_info": {
   "codemirror_mode": {
    "name": "ipython",
    "version": 3
   },
   "file_extension": ".py",
   "mimetype": "text/x-python",
   "name": "python",
   "nbconvert_exporter": "python",
   "pygments_lexer": "ipython3",
   "version": "3.8.13"
  }
 },
 "nbformat": 4,
 "nbformat_minor": 1
}

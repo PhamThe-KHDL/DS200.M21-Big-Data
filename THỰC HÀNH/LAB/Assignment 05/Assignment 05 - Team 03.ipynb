{
  "cells": [
    {
      "cell_type": "markdown",
      "metadata": {
        "id": "V11tiprMtAWA"
      },
      "source": [
        "**Thành Viên: Phạm Đức Thể, Trần Triệu Vũ, Võ Minh Trí**\n",
        "\n",
        "**MSSV: 19522253, 19522539, 19522396**\n",
        "\n",
        "**Lớp: DS200.M21**\n",
        "\n",
        "**Nội Dung: [Bài tập Kaggle 1](https://www.kaggle.com/competitions/uit-2021-2022-kaggle-assignment-1)**\n",
        "\n",
        "**[Dataset](https://drive.google.com/drive/folders/1rMbbd5wsoTQI5YjYDglIQegayRwimYrH?usp=sharing)**\n",
        "\n",
        "**Ngày: 19/05/2022** \n",
        "\n",
        "[![Open In Colab](https://colab.research.google.com/assets/colab-badge.svg)](https://colab.research.google.com/drive/1Fg383c5rLwx5TWuTmC9PPZA0bkqg5UtA?usp=sharing)"
      ]
    },
    {
      "cell_type": "markdown",
      "metadata": {
        "id": "C5PruyWuWFUN"
      },
      "source": [
        "# **Big Data - UIT DS200 Kaggle Assignment 5**"
      ]
    },
    {
      "cell_type": "markdown",
      "metadata": {
        "id": "atEuesrX1gry"
      },
      "source": [
        "## **Import Library**"
      ]
    },
    {
      "cell_type": "code",
      "execution_count": null,
      "metadata": {
        "colab": {
          "base_uri": "https://localhost:8080/"
        },
        "id": "pKRJrT4rfL4v",
        "outputId": "193bd93a-695b-4af7-ef07-d84953e2abe9"
      },
      "outputs": [
        {
          "output_type": "stream",
          "name": "stdout",
          "text": [
            "Looking in indexes: https://pypi.org/simple, https://us-python.pkg.dev/colab-wheels/public/simple/\n",
            "Collecting pyspark==3.0.1\n",
            "  Downloading pyspark-3.0.1.tar.gz (204.2 MB)\n",
            "\u001b[K     |████████████████████████████████| 204.2 MB 35 kB/s \n",
            "\u001b[?25hCollecting py4j==0.10.9\n",
            "  Downloading py4j-0.10.9-py2.py3-none-any.whl (198 kB)\n",
            "\u001b[K     |████████████████████████████████| 198 kB 57.8 MB/s \n",
            "\u001b[?25hBuilding wheels for collected packages: pyspark\n",
            "  Building wheel for pyspark (setup.py) ... \u001b[?25l\u001b[?25hdone\n",
            "  Created wheel for pyspark: filename=pyspark-3.0.1-py2.py3-none-any.whl size=204612243 sha256=6712edd9e557c91e12575ce446f5624b9d7f1d288156138f705c2db8f835674a\n",
            "  Stored in directory: /root/.cache/pip/wheels/5e/34/fa/b37b5cef503fc5148b478b2495043ba61b079120b7ff379f9b\n",
            "Successfully built pyspark\n",
            "Installing collected packages: py4j, pyspark\n",
            "Successfully installed py4j-0.10.9 pyspark-3.0.1\n"
          ]
        }
      ],
      "source": [
        "!pip install pyspark==3.0.1"
      ]
    },
    {
      "cell_type": "code",
      "execution_count": null,
      "metadata": {
        "colab": {
          "base_uri": "https://localhost:8080/",
          "height": 224
        },
        "id": "grQqXOIa1nck",
        "outputId": "2c8dc2b1-7d82-49cb-a6de-b475effcec34"
      },
      "outputs": [
        {
          "output_type": "execute_result",
          "data": {
            "text/plain": [
              "<pyspark.sql.session.SparkSession at 0x7fdef58e6a50>"
            ],
            "text/html": [
              "\n",
              "            <div>\n",
              "                <p><b>SparkSession - in-memory</b></p>\n",
              "                \n",
              "        <div>\n",
              "            <p><b>SparkContext</b></p>\n",
              "\n",
              "            <p><a href=\"http://4ae24ddc8956:4040\">Spark UI</a></p>\n",
              "\n",
              "            <dl>\n",
              "              <dt>Version</dt>\n",
              "                <dd><code>v3.0.1</code></dd>\n",
              "              <dt>Master</dt>\n",
              "                <dd><code>local[*]</code></dd>\n",
              "              <dt>AppName</dt>\n",
              "                <dd><code>BigDataAssignment5</code></dd>\n",
              "            </dl>\n",
              "        </div>\n",
              "        \n",
              "            </div>\n",
              "        "
            ]
          },
          "metadata": {},
          "execution_count": 2
        }
      ],
      "source": [
        "import numpy as np\n",
        "import pandas\n",
        "import time\n",
        "\n",
        "from pyspark.sql import SparkSession\n",
        "from pyspark.sql import functions as f\n",
        "from pyspark.ml.recommendation import ALS\n",
        "from pyspark.ml.evaluation import RegressionEvaluator\n",
        "from pyspark.ml.tuning import CrossValidator, ParamGridBuilder\n",
        "from pprint import pprint\n",
        "\n",
        "spark = SparkSession.builder.appName('BigDataAssignment5').getOrCreate()\n",
        "spark"
      ]
    },
    {
      "cell_type": "markdown",
      "metadata": {
        "id": "rd4of2D31xEH"
      },
      "source": [
        "## **Read Data**"
      ]
    },
    {
      "cell_type": "code",
      "execution_count": null,
      "metadata": {
        "id": "UcRJS6Iq17vG"
      },
      "outputs": [],
      "source": [
        "PATH = '/content/drive/MyDrive/TÀI LIỆU HỌC TẬP ĐẠI HỌC 2019-2023/NĂM 3 2021-2022/HỌC KỲ 2 2021 - 2022/DS200.M21 - PHÂN TÍCH DỮ LIỆU LỚN/THỰC HÀNH/LAB/Assignment05 - 19 05 2022/Dataset/'"
      ]
    },
    {
      "cell_type": "markdown",
      "metadata": {
        "id": "yw56TCAo4Ecu"
      },
      "source": [
        "### genome_scores"
      ]
    },
    {
      "cell_type": "code",
      "execution_count": null,
      "metadata": {
        "colab": {
          "base_uri": "https://localhost:8080/"
        },
        "id": "wvmu9JMP10qb",
        "outputId": "fdb3ab7d-4be9-4a2c-9362-fa4df4d0a19c"
      },
      "outputs": [
        {
          "output_type": "stream",
          "name": "stdout",
          "text": [
            "root\n",
            " |-- tagId: integer (nullable = true)\n",
            " |-- movieId: integer (nullable = true)\n",
            " |-- relevance: double (nullable = true)\n",
            "\n",
            "+-----+-------+--------------------+\n",
            "|tagId|movieId|           relevance|\n",
            "+-----+-------+--------------------+\n",
            "|    1|  49910|0.023749999999999993|\n",
            "|    2|  49910|0.022749999999999992|\n",
            "|    3|  49910|0.030000000000000027|\n",
            "|    4|  49910| 0.03199999999999997|\n",
            "|    5|  49910| 0.13474999999999998|\n",
            "|    6|  49910| 0.07324999999999998|\n",
            "|    7|  49910|0.059250000000000025|\n",
            "|    8|  49910| 0.07650000000000001|\n",
            "|    9|  49910|             0.03125|\n",
            "|   10|  49910|0.017249999999999988|\n",
            "|   11|  49910|0.032999999999999974|\n",
            "|   12|  49910| 0.01974999999999999|\n",
            "|   13|  49910|0.058750000000000024|\n",
            "|   14|  49910|0.014249999999999985|\n",
            "|   17|  49910|0.010749999999999982|\n",
            "|   18|  49910|             0.09825|\n",
            "|   19|  49910|               0.118|\n",
            "|   20|  49910|             0.09425|\n",
            "|   21|  49910|              0.3005|\n",
            "|   22|  49910| 0.30000000000000004|\n",
            "+-----+-------+--------------------+\n",
            "only showing top 20 rows\n",
            "\n",
            "+-------+------------------+------------------+--------------------+\n",
            "|summary|             tagId|           movieId|           relevance|\n",
            "+-------+------------------+------------------+--------------------+\n",
            "|  count|           4036708|           4036708|             4036708|\n",
            "|   mean|  562.485604606526|101493.65745998967| 0.12163288903977622|\n",
            "| stddev|325.71670224957705| 34668.18429648831|  0.1615898317657026|\n",
            "|    min|                 1|             49910|2.499999999999724...|\n",
            "|    25%|               279|             72762| 0.02400000000000002|\n",
            "|    50%|               558|             95744|0.057999999999999996|\n",
            "|    75%|               848|            120853| 0.14800000000000002|\n",
            "|    max|              1128|            187595|                 1.0|\n",
            "+-------+------------------+------------------+--------------------+\n",
            "\n"
          ]
        }
      ],
      "source": [
        "genome_scores = spark.read.csv(path=PATH+'genome_scores.csv',\n",
        "                              sep=',', header=True, quote='\"',\n",
        "                              schema='tagId INT, movieId INT, relevance DOUBLE').cache()\n",
        "\n",
        "genome_scores.printSchema()\n",
        "genome_scores.show()\n",
        "genome_scores.summary().show()"
      ]
    },
    {
      "cell_type": "markdown",
      "metadata": {
        "id": "h7WtrVJu4HRD"
      },
      "source": [
        "### genome_tags"
      ]
    },
    {
      "cell_type": "code",
      "execution_count": null,
      "metadata": {
        "colab": {
          "base_uri": "https://localhost:8080/"
        },
        "id": "eL7icofQ10vo",
        "outputId": "d0a64fee-34eb-423c-d42f-6eceb8fb4216"
      },
      "outputs": [
        {
          "output_type": "stream",
          "name": "stdout",
          "text": [
            "root\n",
            " |-- tag: string (nullable = true)\n",
            " |-- tagId: integer (nullable = true)\n",
            "\n",
            "+------------------+-----+\n",
            "|               tag|tagId|\n",
            "+------------------+-----+\n",
            "|             1970s|    8|\n",
            "|             anime|   65|\n",
            "|               art|   75|\n",
            "|            biting|  137|\n",
            "|        creativity|  266|\n",
            "|intelligent sci-fi|  552|\n",
            "|    love triangles|  615|\n",
            "|           lyrical|  618|\n",
            "|             oscar|  745|\n",
            "|            poetry|  790|\n",
            "|            travel| 1042|\n",
            "|            absurd|   18|\n",
            "|      dark fantasy|  287|\n",
            "|     depp & burton|  295|\n",
            "|      life & death|  601|\n",
            "|             mafia|  622|\n",
            "|             scifi|  890|\n",
            "|            sequel|  901|\n",
            "|        television| 1019|\n",
            "|              70mm|   12|\n",
            "+------------------+-----+\n",
            "only showing top 20 rows\n",
            "\n",
            "+-------+------------------+-----------------+\n",
            "|summary|               tag|            tagId|\n",
            "+-------+------------------+-----------------+\n",
            "|  count|              1042|             1042|\n",
            "|   mean|               5.0| 562.485604606526|\n",
            "| stddev|2.8284271247461903|325.8730684745687|\n",
            "|    min|               007|                1|\n",
            "|    25%|               3.0|              279|\n",
            "|    50%|               3.0|              557|\n",
            "|    75%|               7.0|              848|\n",
            "|    max|           zombies|             1128|\n",
            "+-------+------------------+-----------------+\n",
            "\n"
          ]
        }
      ],
      "source": [
        "genome_tags = spark.read.csv(path=PATH+'genome_tags.csv',\n",
        "                             sep=',', header=True, quote='\"',\n",
        "                             schema='tag STRING, tagId INT').cache()\n",
        "\n",
        "genome_tags.printSchema()\n",
        "genome_tags.show()\n",
        "genome_tags.summary().show()"
      ]
    },
    {
      "cell_type": "markdown",
      "metadata": {
        "id": "i__Sh5rZ4JPC"
      },
      "source": [
        "### movies"
      ]
    },
    {
      "cell_type": "code",
      "execution_count": null,
      "metadata": {
        "colab": {
          "base_uri": "https://localhost:8080/"
        },
        "id": "jaLfuWWo2Vpt",
        "outputId": "858d102a-8788-444e-8d41-247d61722bd3"
      },
      "outputs": [
        {
          "output_type": "stream",
          "name": "stdout",
          "text": [
            "root\n",
            " |-- movieId: integer (nullable = true)\n",
            " |-- title: string (nullable = true)\n",
            " |-- genres: string (nullable = true)\n",
            " |-- year: integer (nullable = true)\n",
            "\n",
            "+-------+--------------------+--------------------+----+\n",
            "|movieId|               title|              genres|year|\n",
            "+-------+--------------------+--------------------+----+\n",
            "|  49910|     Freedom Writers|           ['Drama']|2007|\n",
            "|  50149|Happily N'Ever After|['Animation', 'Ch...|2007|\n",
            "|  50151|   Home of the Brave|['Action', 'Drama...|2007|\n",
            "|  50153|Code Name: The Cl...|['Action', 'Comed...|2007|\n",
            "|  50158|      Stomp the Yard|['Drama', 'Musical']|2007|\n",
            "|  50162|Arthur and the In...|['Action', 'Child...|2007|\n",
            "|  50440|            Primeval|['Horror', 'Thril...|2007|\n",
            "|  50442|           Alpha Dog|  ['Crime', 'Drama']|2007|\n",
            "|  50445|        Hitcher, The|['Action', 'Horro...|2007|\n",
            "|  50601|Bridge to Terabithia|['Adventure', 'Ch...|2007|\n",
            "|  50685|            Waitress|['Comedy', 'Drama...|2007|\n",
            "|  50796| Blood and Chocolate|['Drama', 'Fantas...|2007|\n",
            "|  50798|          Epic Movie|['Adventure', 'Co...|2007|\n",
            "|  50800|     Messengers, The|['Drama', 'Horror...|2007|\n",
            "|  50802|   Because I Said So|['Comedy', 'Drama...|2007|\n",
            "|  50804|     Hannibal Rising|['Drama', 'Horror...|2007|\n",
            "|  50806|              Norbit|['Comedy', 'Roman...|2007|\n",
            "|  50872|         Ratatouille|['Animation', 'Ch...|2007|\n",
            "|  50923|Astronaut Farmer,...|           ['Drama']|2007|\n",
            "|  51077|         Ghost Rider|['Action', 'Fanta...|2007|\n",
            "+-------+--------------------+--------------------+----+\n",
            "only showing top 20 rows\n",
            "\n",
            "+-------+------------------+--------------------+--------------------+------------------+\n",
            "|summary|           movieId|               title|              genres|              year|\n",
            "+-------+------------------+--------------------+--------------------+------------------+\n",
            "|  count|             22399|               22399|               22399|             22399|\n",
            "|   mean|139012.23983213535|  1787.7666666666667|                null|2012.5472565739542|\n",
            "| stddev|  37828.3869131079|   6555.233334027562|                null|3.1937028469603046|\n",
            "|    min|             49910|\"\"\"How Viktor \"\"\"...|['(no genres list...|              2007|\n",
            "|    25%|            108248|                21.0|                null|              2010|\n",
            "|    50%|            144440|                99.0|                null|              2013|\n",
            "|    75%|            171027|              1944.0|                null|              2015|\n",
            "|    max|            193886|            줄탁동시|         ['Western']|              2018|\n",
            "+-------+------------------+--------------------+--------------------+------------------+\n",
            "\n"
          ]
        }
      ],
      "source": [
        "movies = spark.read.csv(path=PATH+'movies.csv',\n",
        "                              sep=',', header=True, quote='\"',\n",
        "                              schema='movieId INT, title STRING, genres STRING, year INT').cache()\n",
        "\n",
        "movies.printSchema()\n",
        "movies.show()\n",
        "movies.summary().show()"
      ]
    },
    {
      "cell_type": "markdown",
      "metadata": {
        "id": "pz_mKLxb4LQQ"
      },
      "source": [
        "### ratings"
      ]
    },
    {
      "cell_type": "code",
      "execution_count": null,
      "metadata": {
        "colab": {
          "base_uri": "https://localhost:8080/"
        },
        "id": "PhJP6phH2VwC",
        "outputId": "9ba393c9-bb6b-4288-a8cd-7db85a763b79"
      },
      "outputs": [
        {
          "output_type": "stream",
          "name": "stdout",
          "text": [
            "root\n",
            " |-- userId: integer (nullable = true)\n",
            " |-- movieId: integer (nullable = true)\n",
            " |-- rating: double (nullable = true)\n",
            " |-- timestamp: timestamp (nullable = true)\n",
            "\n",
            "+------+-------+------+-------------------+\n",
            "|userId|movieId|rating|          timestamp|\n",
            "+------+-------+------+-------------------+\n",
            "|   471|  57669|   3.5|2018-01-28 16:04:30|\n",
            "|   471|  58295|   3.5|2018-01-28 16:12:54|\n",
            "|   471|  58803|   3.0|2018-01-28 16:00:30|\n",
            "|   471|  59315|   3.0|2018-01-28 15:55:59|\n",
            "|   471|  59369|   3.0|2018-01-28 16:19:04|\n",
            "|   471|  60069|   4.0|2018-01-28 16:04:29|\n",
            "|   471|  60074|   3.5|2018-01-28 15:49:43|\n",
            "|   471|  60684|   3.0|2018-01-28 15:58:58|\n",
            "|   471|  61323|   3.5|2018-01-28 16:04:18|\n",
            "|   471|  64614|   4.5|2018-01-28 16:04:16|\n",
            "|   471|  64622|   3.0|2018-01-28 16:22:03|\n",
            "|   471|  64716|   3.5|2018-01-28 16:12:10|\n",
            "|   471|  64957|   3.5|2018-01-28 15:58:31|\n",
            "|   471|  65682|   2.0|2018-01-28 15:58:28|\n",
            "|   471|  68157|   4.0|2018-01-28 15:52:16|\n",
            "|   471|  68319|   2.5|2018-01-28 15:49:49|\n",
            "|   471|  69122|   3.0|2018-01-28 15:59:14|\n",
            "|   471|  69757|   3.5|2018-01-28 16:03:14|\n",
            "|   471|  69844|   3.0|2018-01-28 15:52:18|\n",
            "|   471|  70286|   2.5|2018-01-28 16:22:00|\n",
            "+------+-------+------+-------------------+\n",
            "only showing top 20 rows\n",
            "\n",
            "+-------+------------------+------------------+------------------+\n",
            "|summary|            userId|           movieId|            rating|\n",
            "+-------+------------------+------------------+------------------+\n",
            "|  count|           1859015|           1859015|           1859015|\n",
            "|   mean|142939.21841512845|100848.59191184578| 3.372552400061323|\n",
            "| stddev| 81887.23673171863|31536.322237868993|1.0333187273374387|\n",
            "|    min|                81|             53207|               0.5|\n",
            "|    25%|             71164|             76251|               3.0|\n",
            "|    50%|            143453|             95167|               3.5|\n",
            "|    75%|            213254|            115216|               4.0|\n",
            "|    max|            283183|            193886|               5.0|\n",
            "+-------+------------------+------------------+------------------+\n",
            "\n"
          ]
        }
      ],
      "source": [
        "ratings = spark.read.csv(path=PATH+'ratings.csv',\n",
        "                              sep=',', header=True, quote='\"',\n",
        "                              schema='userId INT, movieId INT, rating DOUBLE, timestamp INT') \\\n",
        ".withColumn('timestamp', f.to_timestamp(f.from_unixtime('timestamp'))).cache()\n",
        "\n",
        "ratings.printSchema()\n",
        "ratings.show()\n",
        "ratings.summary().show()"
      ]
    },
    {
      "cell_type": "markdown",
      "metadata": {
        "id": "raMGLiVS4OuO"
      },
      "source": [
        "### tags"
      ]
    },
    {
      "cell_type": "code",
      "execution_count": null,
      "metadata": {
        "colab": {
          "base_uri": "https://localhost:8080/"
        },
        "id": "T62eM-oR2Vy4",
        "outputId": "cfcfcb27-fd99-41de-8ec7-9de538ad4231"
      },
      "outputs": [
        {
          "output_type": "stream",
          "name": "stdout",
          "text": [
            "root\n",
            " |-- userId: integer (nullable = true)\n",
            " |-- movieId: integer (nullable = true)\n",
            " |-- tag: string (nullable = true)\n",
            " |-- timestamp: timestamp (nullable = true)\n",
            "\n",
            "+------+-------+--------------------+-------------------+\n",
            "|userId|movieId|                 tag|          timestamp|\n",
            "+------+-------+--------------------+-------------------+\n",
            "|   719| 160980|          flashbacks|2017-04-11 14:18:51|\n",
            "|   719| 160980|           realistic|2017-04-11 14:18:55|\n",
            "|   719| 160980|           Tom Hanks|2017-04-11 14:18:59|\n",
            "|  1089|  77561|         Don Cheadle|2018-08-22 00:49:33|\n",
            "|  1089|  77561|              Marvel|2018-08-22 00:49:38|\n",
            "|  1089|  77561|                 MCU|2018-08-22 00:49:42|\n",
            "|  1089|  77561|       Mickey Rourke|2018-08-22 00:49:31|\n",
            "|  1089|  77561|   Robert Downey Jr.|2018-08-22 00:49:24|\n",
            "|  1089|  77561|   Samuel L. Jackson|2018-08-22 00:49:35|\n",
            "|  1089|  77561|  Scarlett Johansson|2018-08-22 00:49:26|\n",
            "|  1089|  77561|              sci-fi|2018-08-22 00:49:28|\n",
            "|  1089|  77561|           superhero|2018-08-22 00:49:36|\n",
            "|  1089|  77561|        The Avengers|2018-08-22 00:49:43|\n",
            "|  1781|  69574|difficulties duri...|2009-11-19 18:01:50|\n",
            "|  1781|  69574|learning to accep...|2009-11-19 18:02:08|\n",
            "|  1781|  69574|      surprise twist|2009-11-19 18:02:33|\n",
            "|  2294| 113238|     character study|2018-04-28 23:14:43|\n",
            "|  4970|  68954|           adventure|2017-03-25 02:22:58|\n",
            "|  4970|  68954|               funny|2017-03-25 02:23:20|\n",
            "|  4970|  68954|     Pixar animation|2017-03-25 02:22:51|\n",
            "+------+-------+--------------------+-------------------+\n",
            "only showing top 20 rows\n",
            "\n",
            "+-------+------------------+------------------+--------------------+\n",
            "|summary|            userId|           movieId|                 tag|\n",
            "+-------+------------------+------------------+--------------------+\n",
            "|  count|            338498|            338498|              338498|\n",
            "|   mean|132453.96431884382|101150.30878764424|   828.2473684210527|\n",
            "| stddev| 80756.29997383061|36193.640529335746|   978.9034328105997|\n",
            "|    min|                14|             49910|\"\"\"\"\"\"\"Jack black...|\n",
            "|    25%|             63786|             71899|                 3.0|\n",
            "|    50%|            128610|             94896|                 3.0|\n",
            "|    75%|            195892|            118082|              2015.0|\n",
            "|    max|            283206|            193761|                难看|\n",
            "+-------+------------------+------------------+--------------------+\n",
            "\n"
          ]
        }
      ],
      "source": [
        "tags = spark.read.csv(path=PATH+'tags.csv',\n",
        "                              sep=',', header=True, quote='\"',\n",
        "                              schema='userId INT, movieId INT, tag STRING, timestamp INT') \\\n",
        ".withColumn('timestamp', f.to_timestamp(f.from_unixtime('timestamp'))).cache()\n",
        "\n",
        "tags.printSchema()\n",
        "tags.show()\n",
        "tags.summary().show()"
      ]
    },
    {
      "cell_type": "markdown",
      "metadata": {
        "id": "58osCSf34Q0z"
      },
      "source": [
        "### test"
      ]
    },
    {
      "cell_type": "code",
      "execution_count": null,
      "metadata": {
        "colab": {
          "base_uri": "https://localhost:8080/"
        },
        "id": "H4nD_7wk2V2L",
        "outputId": "8777dacd-7633-4115-9565-de8f0990cfb9"
      },
      "outputs": [
        {
          "output_type": "stream",
          "name": "stdout",
          "text": [
            "root\n",
            " |-- ratingId: integer (nullable = true)\n",
            " |-- userId: integer (nullable = true)\n",
            " |-- movieId: integer (nullable = true)\n",
            "\n",
            "+--------+------+-------+\n",
            "|ratingId|userId|movieId|\n",
            "+--------+------+-------+\n",
            "|       0|   471|  57368|\n",
            "|       1|   471|  58559|\n",
            "|       2|   471|  68954|\n",
            "|       3|   471|  76093|\n",
            "|       4|   471|  81591|\n",
            "|       5|   471|  96821|\n",
            "|       6|   471|  97921|\n",
            "|       7|   471| 106920|\n",
            "|       8|   471| 122916|\n",
            "|       9|   471| 134130|\n",
            "|      10|   471| 164179|\n",
            "|      11|  6658|  59615|\n",
            "|      12|  6658|  76251|\n",
            "|      13|  6658|  79702|\n",
            "|      14|  6658|  85342|\n",
            "|      15|  6658|  86332|\n",
            "|      16|  6658|  90746|\n",
            "|      17|  6658|  94959|\n",
            "|      18|  6658|  96079|\n",
            "|      19|  6658| 102051|\n",
            "+--------+------+-------+\n",
            "only showing top 20 rows\n",
            "\n",
            "+-------+---------------+------------------+------------------+\n",
            "|summary|       ratingId|            userId|           movieId|\n",
            "+-------+---------------+------------------+------------------+\n",
            "|  count|         228750|            228750|            228750|\n",
            "|   mean|       114374.5|142781.80834972678|  98323.3834010929|\n",
            "| stddev|66034.581375973| 81774.85414485916|32118.974396812304|\n",
            "|    min|              0|                15|             49910|\n",
            "|    25%|          57187|             71277|             72641|\n",
            "|    50%|         114356|            143719|             92509|\n",
            "|    75%|         171542|            212781|            113378|\n",
            "|    max|         228749|            283219|            193882|\n",
            "+-------+---------------+------------------+------------------+\n",
            "\n"
          ]
        }
      ],
      "source": [
        "test = spark.read.csv(path=PATH+'test.csv',\n",
        "                              sep=',', header=True, quote='\"',\n",
        "                              schema='ratingId INT, userId INT, movieId INT').cache()\n",
        "\n",
        "test.printSchema()\n",
        "test.show()\n",
        "test.summary().show()"
      ]
    },
    {
      "cell_type": "markdown",
      "metadata": {
        "id": "lDxVsnNP4SxM"
      },
      "source": [
        "### sampleSolutions"
      ]
    },
    {
      "cell_type": "code",
      "execution_count": null,
      "metadata": {
        "colab": {
          "base_uri": "https://localhost:8080/"
        },
        "id": "IygumMCt2V5Z",
        "outputId": "7d6be7c9-5b7b-45c5-8ee8-afb1cea8c141"
      },
      "outputs": [
        {
          "output_type": "stream",
          "name": "stdout",
          "text": [
            "root\n",
            " |-- ratingId: integer (nullable = true)\n",
            " |-- rating: double (nullable = true)\n",
            "\n",
            "+--------+------+\n",
            "|ratingId|rating|\n",
            "+--------+------+\n",
            "|       0|   3.5|\n",
            "|       1|   4.5|\n",
            "|       2|   3.5|\n",
            "|       3|   3.0|\n",
            "|       4|   5.0|\n",
            "|       5|   4.5|\n",
            "|       6|   4.5|\n",
            "|       7|   0.5|\n",
            "|       8|   4.5|\n",
            "|       9|   1.0|\n",
            "|      10|   1.0|\n",
            "|      11|   0.5|\n",
            "|      12|   3.0|\n",
            "|      13|   1.0|\n",
            "|      14|   3.5|\n",
            "|      15|   2.0|\n",
            "|      16|   3.5|\n",
            "|      17|   4.5|\n",
            "|      18|   5.0|\n",
            "|      19|   1.5|\n",
            "+--------+------+\n",
            "only showing top 20 rows\n",
            "\n",
            "+-------+---------------+------------------+\n",
            "|summary|       ratingId|            rating|\n",
            "+-------+---------------+------------------+\n",
            "|  count|         228750|            228750|\n",
            "|   mean|       114374.5|2.7478142076502734|\n",
            "| stddev|66034.581375973|1.4350336968691324|\n",
            "|    min|              0|               0.5|\n",
            "|    25%|          57187|               1.5|\n",
            "|    50%|         114356|               2.5|\n",
            "|    75%|         171542|               4.0|\n",
            "|    max|         228749|               5.0|\n",
            "+-------+---------------+------------------+\n",
            "\n"
          ]
        }
      ],
      "source": [
        "sampleSolutions = spark.read.csv(path=PATH+'sampleSolutions.csv',\n",
        "                              sep=',', header=True, quote='\"',\n",
        "                              schema='ratingId INT, rating DOUBLE').cache()\n",
        "\n",
        "sampleSolutions.printSchema()\n",
        "sampleSolutions.show()\n",
        "sampleSolutions.summary().show()"
      ]
    },
    {
      "cell_type": "markdown",
      "metadata": {
        "id": "4o8uB24A3rlM"
      },
      "source": [
        "## **Build Recommendation Model**"
      ]
    },
    {
      "cell_type": "code",
      "execution_count": null,
      "metadata": {
        "colab": {
          "base_uri": "https://localhost:8080/"
        },
        "id": "qvni7d1d2V8l",
        "outputId": "d0e394f2-235f-4b3b-b741-a3eec7fc2f90"
      },
      "outputs": [
        {
          "output_type": "stream",
          "name": "stdout",
          "text": [
            "+------+-------+------+\n",
            "|userId|movieId|rating|\n",
            "+------+-------+------+\n",
            "|   471|  57669|   3.5|\n",
            "|   471|  58295|   3.5|\n",
            "|   471|  58803|   3.0|\n",
            "|   471|  59315|   3.0|\n",
            "|   471|  59369|   3.0|\n",
            "|   471|  60069|   4.0|\n",
            "|   471|  60074|   3.5|\n",
            "|   471|  60684|   3.0|\n",
            "|   471|  61323|   3.5|\n",
            "|   471|  64614|   4.5|\n",
            "|   471|  64622|   3.0|\n",
            "|   471|  64716|   3.5|\n",
            "|   471|  64957|   3.5|\n",
            "|   471|  65682|   2.0|\n",
            "|   471|  68157|   4.0|\n",
            "|   471|  68319|   2.5|\n",
            "|   471|  69122|   3.0|\n",
            "|   471|  69757|   3.5|\n",
            "|   471|  69844|   3.0|\n",
            "|   471|  70286|   2.5|\n",
            "+------+-------+------+\n",
            "only showing top 20 rows\n",
            "\n"
          ]
        },
        {
          "output_type": "execute_result",
          "data": {
            "text/plain": [
              "1859015"
            ]
          },
          "metadata": {},
          "execution_count": 11
        }
      ],
      "source": [
        "training_data = ratings.select('userId', 'movieId', 'rating')\n",
        "training_data.show()\n",
        "training_data.count()"
      ]
    },
    {
      "cell_type": "code",
      "execution_count": null,
      "metadata": {
        "id": "X2d5fFlN2WAK"
      },
      "outputs": [],
      "source": [
        "als = ALS(userCol='userId', \n",
        "          itemCol='movieId', \n",
        "          ratingCol='rating',\n",
        "          maxIter = 25,\n",
        "          rank = 200,\n",
        "          regParam = 0.0497,\n",
        "          # coldStartStrategy='drop',\n",
        "          implicitPrefs=False)"
      ]
    },
    {
      "cell_type": "code",
      "execution_count": null,
      "metadata": {
        "id": "gjigKjdQ2WDr"
      },
      "outputs": [],
      "source": [
        "evaluator = RegressionEvaluator(metricName='rmse', \n",
        "                                labelCol='rating', \n",
        "                                predictionCol='prediction')"
      ]
    },
    {
      "cell_type": "code",
      "execution_count": null,
      "metadata": {
        "colab": {
          "base_uri": "https://localhost:8080/"
        },
        "id": "SGx_br7N2WGW",
        "outputId": "c51ef9dc-d010-491f-d41a-9b573221941c"
      },
      "outputs": [
        {
          "output_type": "stream",
          "name": "stdout",
          "text": [
            "Completed: 48.83780017693837 minute\n"
          ]
        }
      ],
      "source": [
        "start = time.time()\n",
        "model = als.fit(training_data)\n",
        "end = time.time()\n",
        "print(f'Completed: {(end-start)/60} minute')"
      ]
    },
    {
      "cell_type": "code",
      "execution_count": null,
      "metadata": {
        "id": "NLN4YmiVaTW3",
        "colab": {
          "base_uri": "https://localhost:8080/"
        },
        "outputId": "188a4856-9068-4e77-e5f0-7befae127b85"
      },
      "outputs": [
        {
          "output_type": "stream",
          "name": "stdout",
          "text": [
            "+------+-------+------+----------+\n",
            "|userId|movieId|rating|prediction|\n",
            "+------+-------+------+----------+\n",
            "|141903|  57370|   1.0| 1.8362172|\n",
            "| 60702|  57370|   3.5|  3.467981|\n",
            "|278022|  57370|   4.0| 3.3394425|\n",
            "| 37046|  57370|   3.0| 2.8648062|\n",
            "| 87439|  57370|   4.0|  3.821837|\n",
            "| 63413|  57370|   4.0| 3.3372738|\n",
            "|137652|  57370|   3.0| 2.4689443|\n",
            "|240801|  57370|   2.5| 2.6483066|\n",
            "|172271|  57370|   3.0| 2.9801223|\n",
            "|173071|  57370|   3.0| 2.5658326|\n",
            "|262786|  57370|   3.5|  3.470858|\n",
            "|180933|  57370|   0.5|  2.172019|\n",
            "|258878|  57370|   0.5| 1.4940329|\n",
            "|193493|  57370|   2.0| 1.9941074|\n",
            "|108517|  57370|   1.5| 1.8325514|\n",
            "|198851|  57370|   3.0| 2.6974838|\n",
            "| 57343|  57370|   4.5|  4.061445|\n",
            "|  3144|  57370|   2.5| 2.9912598|\n",
            "| 71955|  57370|   3.0|  2.730238|\n",
            "|161754|  57370|   2.5| 2.4273937|\n",
            "+------+-------+------+----------+\n",
            "only showing top 20 rows\n",
            "\n",
            "RMSE: 0.5309489471585769\n"
          ]
        }
      ],
      "source": [
        "predictions = model.transform(training_data)\n",
        "predictions.show()\n",
        "\n",
        "rmse = evaluator.evaluate(predictions.na.drop())\n",
        "print(f'RMSE: {rmse}')"
      ]
    },
    {
      "cell_type": "markdown",
      "metadata": {
        "id": "g6JEWF_Y-tM8"
      },
      "source": [
        "## **Prediction**"
      ]
    },
    {
      "cell_type": "markdown",
      "metadata": {
        "id": "wzigoRMBQ1fU"
      },
      "source": [
        "### Prediction on Test"
      ]
    },
    {
      "cell_type": "code",
      "execution_count": null,
      "metadata": {
        "cellView": "code",
        "id": "3zwD1nli2WMd",
        "colab": {
          "base_uri": "https://localhost:8080/"
        },
        "outputId": "78fbfe29-d7bf-40d8-f43e-44cc80692f29"
      },
      "outputs": [
        {
          "output_type": "stream",
          "name": "stdout",
          "text": [
            "+--------+------+-------+------+\n",
            "|ratingId|userId|movieId|rating|\n",
            "+--------+------+-------+------+\n",
            "|  220163| 50223|  54190|   NaN|\n",
            "|  221700| 92794|  54190|   NaN|\n",
            "|  221819| 95467|  54190|   NaN|\n",
            "|  224882|179209|  54190|   NaN|\n",
            "|  224731|174785|  54190|   NaN|\n",
            "|  224658|173071|  54190|   NaN|\n",
            "|  220350| 55668|  54190|   NaN|\n",
            "|  222674|117633|  54190|   NaN|\n",
            "|  218638|  6606|  54190|   NaN|\n",
            "|  223978|153759|  54190|   NaN|\n",
            "|  218708|  8646|  54190|   NaN|\n",
            "|  219755| 39145|  54190|   NaN|\n",
            "|  226467|220799|  54190|   NaN|\n",
            "|  222976|125606|  54190|   NaN|\n",
            "|  226212|212863|  54190|   NaN|\n",
            "|  223980|153781|  54190|   NaN|\n",
            "|  226067|209147|  54190|   NaN|\n",
            "|  227523|250921|  54190|   NaN|\n",
            "|  224699|173949|  54190|   NaN|\n",
            "|  218483|  2232|  54190|   NaN|\n",
            "+--------+------+-------+------+\n",
            "only showing top 20 rows\n",
            "\n"
          ]
        },
        {
          "output_type": "execute_result",
          "data": {
            "text/plain": [
              "228750"
            ]
          },
          "metadata": {},
          "execution_count": 16
        }
      ],
      "source": [
        "pred = model.transform(test).withColumnRenamed(\"prediction\",\"rating\")\n",
        "pred.show()\n",
        "pred.count()"
      ]
    },
    {
      "cell_type": "markdown",
      "metadata": {
        "id": "eMDhzai7Q9KT"
      },
      "source": [
        "### Test Join"
      ]
    },
    {
      "cell_type": "code",
      "execution_count": null,
      "metadata": {
        "id": "ONX9zQPk2WPw",
        "colab": {
          "base_uri": "https://localhost:8080/"
        },
        "outputId": "edf9adac-241d-43f8-bfb6-624d61136cb6"
      },
      "outputs": [
        {
          "output_type": "stream",
          "name": "stdout",
          "text": [
            "+--------+------+-------+------------------------------------------+------+\n",
            "|ratingId|userId|movieId|genres                                    |rating|\n",
            "+--------+------+-------+------------------------------------------+------+\n",
            "|220163  |50223 |54190  |['Drama', 'Fantasy', 'Musical', 'Romance']|NaN   |\n",
            "|221700  |92794 |54190  |['Drama', 'Fantasy', 'Musical', 'Romance']|NaN   |\n",
            "|221819  |95467 |54190  |['Drama', 'Fantasy', 'Musical', 'Romance']|NaN   |\n",
            "|224882  |179209|54190  |['Drama', 'Fantasy', 'Musical', 'Romance']|NaN   |\n",
            "|224731  |174785|54190  |['Drama', 'Fantasy', 'Musical', 'Romance']|NaN   |\n",
            "|224658  |173071|54190  |['Drama', 'Fantasy', 'Musical', 'Romance']|NaN   |\n",
            "|220350  |55668 |54190  |['Drama', 'Fantasy', 'Musical', 'Romance']|NaN   |\n",
            "|222674  |117633|54190  |['Drama', 'Fantasy', 'Musical', 'Romance']|NaN   |\n",
            "|218638  |6606  |54190  |['Drama', 'Fantasy', 'Musical', 'Romance']|NaN   |\n",
            "|223978  |153759|54190  |['Drama', 'Fantasy', 'Musical', 'Romance']|NaN   |\n",
            "|218708  |8646  |54190  |['Drama', 'Fantasy', 'Musical', 'Romance']|NaN   |\n",
            "|219755  |39145 |54190  |['Drama', 'Fantasy', 'Musical', 'Romance']|NaN   |\n",
            "|226467  |220799|54190  |['Drama', 'Fantasy', 'Musical', 'Romance']|NaN   |\n",
            "|222976  |125606|54190  |['Drama', 'Fantasy', 'Musical', 'Romance']|NaN   |\n",
            "|226212  |212863|54190  |['Drama', 'Fantasy', 'Musical', 'Romance']|NaN   |\n",
            "|223980  |153781|54190  |['Drama', 'Fantasy', 'Musical', 'Romance']|NaN   |\n",
            "|226067  |209147|54190  |['Drama', 'Fantasy', 'Musical', 'Romance']|NaN   |\n",
            "|227523  |250921|54190  |['Drama', 'Fantasy', 'Musical', 'Romance']|NaN   |\n",
            "|224699  |173949|54190  |['Drama', 'Fantasy', 'Musical', 'Romance']|NaN   |\n",
            "|218483  |2232  |54190  |['Drama', 'Fantasy', 'Musical', 'Romance']|NaN   |\n",
            "+--------+------+-------+------------------------------------------+------+\n",
            "only showing top 20 rows\n",
            "\n"
          ]
        },
        {
          "output_type": "execute_result",
          "data": {
            "text/plain": [
              "228750"
            ]
          },
          "metadata": {},
          "execution_count": 17
        }
      ],
      "source": [
        "genres_pred = pred.join(movies,\n",
        "                        on = \"movieId\",\n",
        "                        how = \"left_outer\").select(\"ratingId\",\"userId\",\"movieId\",\"genres\",\"rating\")\n",
        "\n",
        "genres_pred.show(truncate=False)\n",
        "genres_pred.count()"
      ]
    },
    {
      "cell_type": "code",
      "execution_count": null,
      "metadata": {
        "id": "RAq4jSMA2WS3",
        "colab": {
          "base_uri": "https://localhost:8080/"
        },
        "outputId": "f3179022-621c-4927-8b2b-3e45468e6a22"
      },
      "outputs": [
        {
          "output_type": "stream",
          "name": "stdout",
          "text": [
            "+--------+------+-------+----+------+\n",
            "|ratingId|userId|movieId| tag|rating|\n",
            "+--------+------+-------+----+------+\n",
            "|  220163| 50223|  54190|null|   NaN|\n",
            "|  221700| 92794|  54190|null|   NaN|\n",
            "|  221819| 95467|  54190|null|   NaN|\n",
            "|  224882|179209|  54190|null|   NaN|\n",
            "|  224731|174785|  54190|null|   NaN|\n",
            "|  224658|173071|  54190|null|   NaN|\n",
            "|  220350| 55668|  54190|null|   NaN|\n",
            "|  222674|117633|  54190|null|   NaN|\n",
            "|  218638|  6606|  54190|null|   NaN|\n",
            "|  223978|153759|  54190|null|   NaN|\n",
            "|  218708|  8646|  54190|null|   NaN|\n",
            "|  219755| 39145|  54190|null|   NaN|\n",
            "|  226467|220799|  54190|null|   NaN|\n",
            "|  222976|125606|  54190|null|   NaN|\n",
            "|  226212|212863|  54190|null|   NaN|\n",
            "|  223980|153781|  54190|null|   NaN|\n",
            "|  226067|209147|  54190|null|   NaN|\n",
            "|  227523|250921|  54190|null|   NaN|\n",
            "|  224699|173949|  54190|null|   NaN|\n",
            "|  218483|  2232|  54190|null|   NaN|\n",
            "+--------+------+-------+----+------+\n",
            "only showing top 20 rows\n",
            "\n"
          ]
        },
        {
          "output_type": "execute_result",
          "data": {
            "text/plain": [
              "247729"
            ]
          },
          "metadata": {},
          "execution_count": 19
        }
      ],
      "source": [
        "tag_pred = pred.join(tags,\n",
        "                     on = [\"userId\",\"movieId\"],\n",
        "                     how = \"left_outer\").select(\"ratingId\",\"userId\",\"movieId\",\"tag\",\"rating\")\n",
        "tag_pred.show()\n",
        "tag_pred.count()"
      ]
    },
    {
      "cell_type": "markdown",
      "metadata": {
        "id": "JHM__NZYRCHb"
      },
      "source": [
        "### Train Join"
      ]
    },
    {
      "cell_type": "code",
      "execution_count": null,
      "metadata": {
        "id": "hLuI355z101y",
        "colab": {
          "base_uri": "https://localhost:8080/"
        },
        "outputId": "c02226cb-3c67-4e98-f1ed-ce678470b858"
      },
      "outputs": [
        {
          "output_type": "stream",
          "name": "stdout",
          "text": [
            "+------+-------+--------------------+------+\n",
            "|userId|movieId|              genres|rating|\n",
            "+------+-------+--------------------+------+\n",
            "|   471|  57669|['Comedy', 'Crime...|   3.5|\n",
            "|   471|  58295|['Action', 'Crime...|   3.5|\n",
            "|   471|  58803|['Crime', 'Drama'...|   3.0|\n",
            "|   471|  59315|['Action', 'Adven...|   3.0|\n",
            "|   471|  59369|['Action', 'Crime...|   3.0|\n",
            "|   471|  60069|['Adventure', 'An...|   4.0|\n",
            "|   471|  60074|['Action', 'Adven...|   3.5|\n",
            "|   471|  60684|['Action', 'Drama...|   3.0|\n",
            "|   471|  61323|['Comedy', 'Crime...|   3.5|\n",
            "|   471|  64614|  ['Crime', 'Drama']|   4.5|\n",
            "|   471|  64622|['Drama', 'Romance']|   3.0|\n",
            "|   471|  64716|           ['Drama']|   3.5|\n",
            "|   471|  64957|['Drama', 'Fantas...|   3.5|\n",
            "|   471|  65682|['Action', 'Fanta...|   2.0|\n",
            "|   471|  68157|['Action', 'Drama...|   4.0|\n",
            "|   471|  68319|['Action', 'Sci-F...|   2.5|\n",
            "|   471|  69122| ['Comedy', 'Crime']|   3.0|\n",
            "|   471|  69757|['Comedy', 'Drama...|   3.5|\n",
            "|   471|  69844|['Adventure', 'Fa...|   3.0|\n",
            "|   471|  70286|['Mystery', 'Sci-...|   2.5|\n",
            "+------+-------+--------------------+------+\n",
            "only showing top 20 rows\n",
            "\n"
          ]
        },
        {
          "output_type": "execute_result",
          "data": {
            "text/plain": [
              "1859015"
            ]
          },
          "metadata": {},
          "execution_count": 20
        }
      ],
      "source": [
        "genres_train = training_data.join(movies,\n",
        "                                  on = \"movieId\",\n",
        "                                  how = \"left_outer\").select(\"userId\",\"movieId\",\"genres\",\"rating\")\n",
        "\n",
        "genres_train.show()\n",
        "genres_train.count()"
      ]
    },
    {
      "cell_type": "code",
      "execution_count": null,
      "metadata": {
        "id": "E_ne6ygJQvtr",
        "colab": {
          "base_uri": "https://localhost:8080/"
        },
        "outputId": "4c505452-a367-4f7c-fd6e-aacdeaad3659"
      },
      "outputs": [
        {
          "output_type": "stream",
          "name": "stdout",
          "text": [
            "+------+-------+----+------+\n",
            "|userId|movieId| tag|rating|\n",
            "+------+-------+----+------+\n",
            "|   471|  57669|null|   3.5|\n",
            "|   471|  58295|null|   3.5|\n",
            "|   471|  58803|null|   3.0|\n",
            "|   471|  59315|null|   3.0|\n",
            "|   471|  59369|null|   3.0|\n",
            "|   471|  60069|null|   4.0|\n",
            "|   471|  60074|null|   3.5|\n",
            "|   471|  60684|null|   3.0|\n",
            "|   471|  61323|null|   3.5|\n",
            "|   471|  64614|null|   4.5|\n",
            "|   471|  64622|null|   3.0|\n",
            "|   471|  64716|null|   3.5|\n",
            "|   471|  64957|null|   3.5|\n",
            "|   471|  65682|null|   2.0|\n",
            "|   471|  68157|null|   4.0|\n",
            "|   471|  68319|null|   2.5|\n",
            "|   471|  69122|null|   3.0|\n",
            "|   471|  69757|null|   3.5|\n",
            "|   471|  69844|null|   3.0|\n",
            "|   471|  70286|null|   2.5|\n",
            "+------+-------+----+------+\n",
            "only showing top 20 rows\n",
            "\n"
          ]
        },
        {
          "output_type": "execute_result",
          "data": {
            "text/plain": [
              "2023827"
            ]
          },
          "metadata": {},
          "execution_count": 21
        }
      ],
      "source": [
        "tag_train = training_data.join(tags,\n",
        "                               [\"userId\",\"movieId\"],\n",
        "                               how = \"left_outer\").select(\"userId\",\"movieId\",\"tag\",\"rating\")\n",
        "\n",
        "tag_train.show()\n",
        "tag_train.count()"
      ]
    },
    {
      "cell_type": "code",
      "execution_count": null,
      "metadata": {
        "id": "8vE7sP2PQvwI",
        "colab": {
          "base_uri": "https://localhost:8080/"
        },
        "outputId": "3b847f93-cd55-446e-bd90-8dc875feef4e"
      },
      "outputs": [
        {
          "output_type": "stream",
          "name": "stdout",
          "text": [
            "+--------------------+-------+------------------+\n",
            "|                 tag|movieId|        tag_rating|\n",
            "+--------------------+-------+------------------+\n",
            "|     Natalie Portman|  58154| 3.269230769230769|\n",
            "|   behind-the-scenes| 109153|               4.5|\n",
            "|           narration| 179337|               3.5|\n",
            "|     Jake Gyllenhaal|  78105|3.1818181818181817|\n",
            "|oscar (best suppo...|  99114|               4.5|\n",
            "|     Nicholas Sparks| 100527|               1.0|\n",
            "|           superhero| 103772|3.0454545454545454|\n",
            "|            wormhole| 109487| 4.232142857142857|\n",
            "|           overrated|  69757|              2.85|\n",
            "|        Winona Ryder|  81591|             3.875|\n",
            "|          Simplistic|  89904|               4.0|\n",
            "|      twists & turns| 101864|3.7758620689655173|\n",
            "|        Hugh Jackman| 104879| 4.157894736842105|\n",
            "|  Strong female lead| 182715|3.5526315789473686|\n",
            "|        great acting|  88125|              4.75|\n",
            "|   music documentary|  96662|               0.5|\n",
            "|      cinematography| 112183|             4.125|\n",
            "|characters with i...| 112852| 3.933333333333333|\n",
            "|        twist ending| 168250| 4.152777777777778|\n",
            "|          historisch|  58293|               3.5|\n",
            "+--------------------+-------+------------------+\n",
            "only showing top 20 rows\n",
            "\n"
          ]
        },
        {
          "output_type": "execute_result",
          "data": {
            "text/plain": [
              "78822"
            ]
          },
          "metadata": {},
          "execution_count": 22
        }
      ],
      "source": [
        "tag_rating = tag_train.filter(f.col(\"tag\").isNotNull()).groupby(\"tag\",\"movieId\").agg(f.mean(f.col(\"rating\")).alias(\"tag_rating\"))\n",
        "\n",
        "tag_rating.show()\n",
        "tag_rating.count()"
      ]
    },
    {
      "cell_type": "code",
      "execution_count": null,
      "metadata": {
        "id": "vR2zwxexQv4Y",
        "colab": {
          "base_uri": "https://localhost:8080/"
        },
        "outputId": "fb48b58a-a4b3-4e7e-f641-946ab0a7f198"
      },
      "outputs": [
        {
          "output_type": "stream",
          "name": "stdout",
          "text": [
            "+---------+------+------------------+\n",
            "|   genres|userId|     genres_rating|\n",
            "+---------+------+------------------+\n",
            "|  Romance| 19553|3.3333333333333335|\n",
            "|Adventure| 40335|3.3620689655172415|\n",
            "| Children| 64822|3.5833333333333335|\n",
            "|  Romance|131213|              3.15|\n",
            "|  Fantasy|245857|         3.3515625|\n",
            "|    Drama| 21598| 3.267605633802817|\n",
            "|     IMAX| 36655| 3.484848484848485|\n",
            "|  Mystery| 65905| 4.038461538461538|\n",
            "|Film-Noir| 86672|               3.0|\n",
            "|Animation|154927|               3.5|\n",
            "|    Crime|213468| 4.333333333333333|\n",
            "|  Fantasy|282203| 2.847826086956522|\n",
            "|    Crime|112032| 3.336734693877551|\n",
            "|  Musical|  2025|3.8666666666666667|\n",
            "|Film-Noir|  8911|              2.25|\n",
            "|  Mystery| 48623|              3.25|\n",
            "|      War|117375|               4.5|\n",
            "| Children|251641| 4.607142857142857|\n",
            "|   Sci-Fi|102780| 3.760869565217391|\n",
            "| Children|262754|              3.25|\n",
            "+---------+------+------------------+\n",
            "only showing top 20 rows\n",
            "\n"
          ]
        },
        {
          "output_type": "execute_result",
          "data": {
            "text/plain": [
              "161235"
            ]
          },
          "metadata": {},
          "execution_count": 23
        }
      ],
      "source": [
        "genres_rating = genres_train.withColumn(\"genres\",f.regexp_replace(\"genres\",\"\\[|\\]|\\'\",\"\"))\\\n",
        ".withColumn(\"genres\",f.split(\"genres\",\", \"))\\\n",
        ".withColumn(\"genres\",f.explode(\"genres\"))\\\n",
        ".groupby(\"genres\",\"userId\").agg(f.mean(f.col(\"rating\")).alias(\"genres_rating\"))\n",
        "\n",
        "genres_rating.show()\n",
        "genres_rating.count()"
      ]
    },
    {
      "cell_type": "markdown",
      "metadata": {
        "id": "JZwKBBHqSJLS"
      },
      "source": [
        "### Train Join Test"
      ]
    },
    {
      "cell_type": "markdown",
      "metadata": {
        "id": "IhtuN96XyWAE"
      },
      "source": [
        "Nối tag_rating_pred với movie tạo genres_pred"
      ]
    },
    {
      "cell_type": "code",
      "execution_count": null,
      "metadata": {
        "id": "AfDxqIejQv7q",
        "colab": {
          "base_uri": "https://localhost:8080/"
        },
        "outputId": "d7d1603a-998b-4e86-d887-8e88711df142"
      },
      "outputs": [
        {
          "output_type": "stream",
          "name": "stdout",
          "text": [
            "+--------+------+-------+--------------------+------+\n",
            "|ratingId|userId|movieId|              genres|rating|\n",
            "+--------+------+-------+--------------------+------+\n",
            "|  220163| 50223|  54190|['Drama', 'Fantas...|   NaN|\n",
            "|  221700| 92794|  54190|['Drama', 'Fantas...|   NaN|\n",
            "|  221819| 95467|  54190|['Drama', 'Fantas...|   NaN|\n",
            "|  224882|179209|  54190|['Drama', 'Fantas...|   NaN|\n",
            "|  224731|174785|  54190|['Drama', 'Fantas...|   NaN|\n",
            "|  224658|173071|  54190|['Drama', 'Fantas...|   NaN|\n",
            "|  220350| 55668|  54190|['Drama', 'Fantas...|   NaN|\n",
            "|  222674|117633|  54190|['Drama', 'Fantas...|   NaN|\n",
            "|  218638|  6606|  54190|['Drama', 'Fantas...|   NaN|\n",
            "|  223978|153759|  54190|['Drama', 'Fantas...|   NaN|\n",
            "|  218708|  8646|  54190|['Drama', 'Fantas...|   NaN|\n",
            "|  219755| 39145|  54190|['Drama', 'Fantas...|   NaN|\n",
            "|  226467|220799|  54190|['Drama', 'Fantas...|   NaN|\n",
            "|  222976|125606|  54190|['Drama', 'Fantas...|   NaN|\n",
            "|  226212|212863|  54190|['Drama', 'Fantas...|   NaN|\n",
            "|  223980|153781|  54190|['Drama', 'Fantas...|   NaN|\n",
            "|  226067|209147|  54190|['Drama', 'Fantas...|   NaN|\n",
            "|  227523|250921|  54190|['Drama', 'Fantas...|   NaN|\n",
            "|  224699|173949|  54190|['Drama', 'Fantas...|   NaN|\n",
            "|  218483|  2232|  54190|['Drama', 'Fantas...|   NaN|\n",
            "+--------+------+-------+--------------------+------+\n",
            "only showing top 20 rows\n",
            "\n"
          ]
        },
        {
          "output_type": "execute_result",
          "data": {
            "text/plain": [
              "228750"
            ]
          },
          "metadata": {},
          "execution_count": 24
        }
      ],
      "source": [
        "#Tach genres nhỏ ra\n",
        "## Đầu tiên phải fill nan ở genres để genres split không mất dữ liệu\n",
        "genres_pred = genres_pred.na.fill(\"NaN\")\n",
        "\n",
        "genres_pred.show()\n",
        "genres_pred.count()"
      ]
    },
    {
      "cell_type": "code",
      "execution_count": null,
      "metadata": {
        "id": "T_cChLxaytrc",
        "colab": {
          "base_uri": "https://localhost:8080/"
        },
        "outputId": "04debe4a-64f3-4885-a148-86fc9a48523e"
      },
      "outputs": [
        {
          "output_type": "stream",
          "name": "stdout",
          "text": [
            "+--------+------+-------+-------+------+\n",
            "|ratingId|userId|movieId| genres|rating|\n",
            "+--------+------+-------+-------+------+\n",
            "|  220163| 50223|  54190|  Drama|   NaN|\n",
            "|  220163| 50223|  54190|Fantasy|   NaN|\n",
            "|  220163| 50223|  54190|Musical|   NaN|\n",
            "|  220163| 50223|  54190|Romance|   NaN|\n",
            "|  221700| 92794|  54190|  Drama|   NaN|\n",
            "|  221700| 92794|  54190|Fantasy|   NaN|\n",
            "|  221700| 92794|  54190|Musical|   NaN|\n",
            "|  221700| 92794|  54190|Romance|   NaN|\n",
            "|  221819| 95467|  54190|  Drama|   NaN|\n",
            "|  221819| 95467|  54190|Fantasy|   NaN|\n",
            "|  221819| 95467|  54190|Musical|   NaN|\n",
            "|  221819| 95467|  54190|Romance|   NaN|\n",
            "|  224882|179209|  54190|  Drama|   NaN|\n",
            "|  224882|179209|  54190|Fantasy|   NaN|\n",
            "|  224882|179209|  54190|Musical|   NaN|\n",
            "|  224882|179209|  54190|Romance|   NaN|\n",
            "|  224731|174785|  54190|  Drama|   NaN|\n",
            "|  224731|174785|  54190|Fantasy|   NaN|\n",
            "|  224731|174785|  54190|Musical|   NaN|\n",
            "|  224731|174785|  54190|Romance|   NaN|\n",
            "+--------+------+-------+-------+------+\n",
            "only showing top 20 rows\n",
            "\n"
          ]
        },
        {
          "output_type": "execute_result",
          "data": {
            "text/plain": [
              "645703"
            ]
          },
          "metadata": {},
          "execution_count": 25
        }
      ],
      "source": [
        "genres_pred = genres_pred.withColumn(\"genres\",f.regexp_replace(\"genres\",\"\\[|\\]|\\'\",\"\")) \\\n",
        ".withColumn(\"genres\",f.split(\"genres\",\", \"))\\\n",
        ".withColumn(\"genres\",f.explode(\"genres\"))\\\n",
        "\n",
        "genres_pred.show()\n",
        "genres_pred.count()"
      ]
    },
    {
      "cell_type": "markdown",
      "metadata": {
        "id": "pXu_eyGyyZM7"
      },
      "source": [
        "Thực hiện fill \"NaN\" cho rating giống ở Tag"
      ]
    },
    {
      "cell_type": "code",
      "execution_count": null,
      "metadata": {
        "id": "hqNIn6r2VHbq",
        "colab": {
          "base_uri": "https://localhost:8080/"
        },
        "outputId": "9da1bfc9-4104-4bc2-d50f-f365a956152f"
      },
      "outputs": [
        {
          "output_type": "stream",
          "name": "stdout",
          "text": [
            "+------------------+------+--------+-------+---------+------------------+\n",
            "|            genres|userId|ratingId|movieId|   rating|     genres_rating|\n",
            "+------------------+------+--------+-------+---------+------------------+\n",
            "|(no genres listed)| 23389|  187587| 147750|3.5815082|3.8333333333333335|\n",
            "|(no genres listed)| 67220|   48078| 183909|3.2660663|               2.5|\n",
            "|(no genres listed)| 81924|  146429| 180543|1.2763509|1.7142857142857142|\n",
            "|            Action|  3631|    5664| 112171|2.5438163|2.8658536585365852|\n",
            "|            Action|  3631|    5659|  91976|2.4974258|2.8658536585365852|\n",
            "|            Action|  3631|    5646|  62849|3.0459816|2.8658536585365852|\n",
            "|            Action|  3631|    5654|  87192|2.5735466|2.8658536585365852|\n",
            "|            Action|  3631|    5649|  73268|2.3232372|2.8658536585365852|\n",
            "|            Action|  9328|  209049|  71535|      NaN|              null|\n",
            "|            Action| 22192|  207108| 122904|      NaN|              null|\n",
            "|            Action| 25435|  174634|  91529|3.0075717| 3.107142857142857|\n",
            "|            Action| 25556|  209525| 111360|      NaN|              null|\n",
            "|            Action| 26613|  211333| 108932|      NaN|              null|\n",
            "|            Action| 29635|  219411|  51077|      NaN|              null|\n",
            "|            Action| 33549|   54141| 122882|3.5553195|              3.25|\n",
            "|            Action| 33549|   54138|  91529|3.7499795|              3.25|\n",
            "|            Action| 33549|   54143| 143355| 2.740993|              3.25|\n",
            "|            Action| 33549|   54140| 115149|3.2792513|              3.25|\n",
            "|            Action| 33979|  212122|  94780|      NaN|              null|\n",
            "|            Action| 44600|   93808| 106487|4.1509566| 4.113636363636363|\n",
            "+------------------+------+--------+-------+---------+------------------+\n",
            "only showing top 20 rows\n",
            "\n"
          ]
        },
        {
          "output_type": "execute_result",
          "data": {
            "text/plain": [
              "645703"
            ]
          },
          "metadata": {},
          "execution_count": 26
        }
      ],
      "source": [
        "genres_rating_pred = genres_pred.join(genres_rating,\n",
        "                                      on = [\"genres\",\"userId\"],\n",
        "                                      how = \"left_outer\")\n",
        "\n",
        "genres_rating_pred.show()\n",
        "genres_rating_pred.count()"
      ]
    },
    {
      "cell_type": "code",
      "execution_count": null,
      "metadata": {
        "id": "Tprm518UQv_V",
        "colab": {
          "base_uri": "https://localhost:8080/"
        },
        "outputId": "7d93b5dd-bdba-4e92-88a4-a62205a4c550"
      },
      "outputs": [
        {
          "output_type": "stream",
          "name": "stdout",
          "text": [
            "+------------------+------+--------+-------+------------------+------------------+\n",
            "|            genres|userId|ratingId|movieId|            rating|     genres_rating|\n",
            "+------------------+------+--------+-------+------------------+------------------+\n",
            "|(no genres listed)| 23389|  187587| 147750| 3.581508159637451|3.8333333333333335|\n",
            "|(no genres listed)| 67220|   48078| 183909| 3.266066312789917|               2.5|\n",
            "|(no genres listed)| 81924|  146429| 180543|1.2763508558273315|1.7142857142857142|\n",
            "|            Action|  3631|    5664| 112171| 2.543816328048706|2.8658536585365852|\n",
            "|            Action|  3631|    5659|  91976|2.4974257946014404|2.8658536585365852|\n",
            "|            Action|  3631|    5646|  62849|3.0459816455841064|2.8658536585365852|\n",
            "|            Action|  3631|    5654|  87192|2.5735466480255127|2.8658536585365852|\n",
            "|            Action|  3631|    5649|  73268| 2.323237180709839|2.8658536585365852|\n",
            "|            Action|  9328|  209049|  71535|               NaN|              null|\n",
            "|            Action| 22192|  207108| 122904|               NaN|              null|\n",
            "|            Action| 25435|  174634|  91529|3.0075716972351074| 3.107142857142857|\n",
            "|            Action| 25556|  209525| 111360|               NaN|              null|\n",
            "|            Action| 26613|  211333| 108932|               NaN|              null|\n",
            "|            Action| 29635|  219411|  51077|               NaN|              null|\n",
            "|            Action| 33549|   54141| 122882|3.5553195476531982|              3.25|\n",
            "|            Action| 33549|   54138|  91529|3.7499794960021973|              3.25|\n",
            "|            Action| 33549|   54143| 143355| 2.740993022918701|              3.25|\n",
            "|            Action| 33549|   54140| 115149|3.2792513370513916|              3.25|\n",
            "|            Action| 33979|  212122|  94780|               NaN|              null|\n",
            "|            Action| 44600|   93808| 106487| 4.150956630706787| 4.113636363636363|\n",
            "+------------------+------+--------+-------+------------------+------------------+\n",
            "only showing top 20 rows\n",
            "\n"
          ]
        },
        {
          "output_type": "execute_result",
          "data": {
            "text/plain": [
              "645703"
            ]
          },
          "metadata": {},
          "execution_count": 27
        }
      ],
      "source": [
        "genres_rating_pred = genres_rating_pred.withColumn(\"rating\",\n",
        "                                                   f.when((f.col(\"rating\") == \"NaN\")&(f.col(\"genres_rating\").isNotNull()),\n",
        "                                                          genres_rating_pred.genres_rating).otherwise(genres_rating_pred[\"rating\"]))\n",
        "\n",
        "genres_rating_pred.show()\n",
        "genres_rating_pred.count()"
      ]
    },
    {
      "cell_type": "markdown",
      "metadata": {
        "id": "d6Q0LhDXye4_"
      },
      "source": [
        "Tag\n",
        "(1 userId cùng xem 1 movie có thể có 2 tag)"
      ]
    },
    {
      "cell_type": "code",
      "execution_count": null,
      "metadata": {
        "id": "uTtMqQnEQwCa",
        "colab": {
          "base_uri": "https://localhost:8080/"
        },
        "outputId": "cf46c5ef-1334-4e62-bb90-cd8057b4b568"
      },
      "outputs": [
        {
          "output_type": "stream",
          "name": "stdout",
          "text": [
            "+--------+------+-------+----+------------------+\n",
            "|ratingId|userId|movieId| tag|            rating|\n",
            "+--------+------+-------+----+------------------+\n",
            "|  187587| 23389| 147750|null| 3.581508159637451|\n",
            "|   48078| 67220| 183909|null| 3.266066312789917|\n",
            "|  146429| 81924| 180543|null|1.2763508558273315|\n",
            "|    5664|  3631| 112171|null| 2.543816328048706|\n",
            "|    5659|  3631|  91976|null|2.4974257946014404|\n",
            "|    5646|  3631|  62849|null|3.0459816455841064|\n",
            "|    5654|  3631|  87192|null|2.5735466480255127|\n",
            "|    5649|  3631|  73268|null| 2.323237180709839|\n",
            "|  209049|  9328|  71535|null|               NaN|\n",
            "|  207108| 22192| 122904|null|               NaN|\n",
            "|  174634| 25435|  91529|null|3.0075716972351074|\n",
            "|  209525| 25556| 111360|null|               NaN|\n",
            "|  211333| 26613| 108932|null|               NaN|\n",
            "|  219411| 29635|  51077|null|               NaN|\n",
            "|   54141| 33549| 122882|null|3.5553195476531982|\n",
            "|   54138| 33549|  91529|null|3.7499794960021973|\n",
            "|   54143| 33549| 143355|null| 2.740993022918701|\n",
            "|   54140| 33549| 115149|null|3.2792513370513916|\n",
            "|  212122| 33979|  94780|null|               NaN|\n",
            "|   93808| 44600| 106487|null| 4.150956630706787|\n",
            "+--------+------+-------+----+------------------+\n",
            "only showing top 20 rows\n",
            "\n"
          ]
        },
        {
          "output_type": "execute_result",
          "data": {
            "text/plain": [
              "699110"
            ]
          },
          "metadata": {},
          "execution_count": 28
        }
      ],
      "source": [
        "tag_pred = genres_rating_pred.join(tags,\n",
        "                                   on = [\"userId\",\"movieId\"],\n",
        "                                   how = \"left_outer\").select(\"ratingId\",\"userId\",\"movieId\",\"tag\",\"rating\")\n",
        "tag_pred.show()\n",
        "tag_pred.count()"
      ]
    },
    {
      "cell_type": "code",
      "execution_count": null,
      "metadata": {
        "id": "NyHtfHPdVrLx",
        "colab": {
          "base_uri": "https://localhost:8080/"
        },
        "outputId": "19584dd8-e241-436d-cde4-78534c710ccb"
      },
      "outputs": [
        {
          "output_type": "stream",
          "name": "stdout",
          "text": [
            "+----+-------+--------+------+------------------+----------+\n",
            "| tag|movieId|ratingId|userId|            rating|tag_rating|\n",
            "+----+-------+--------+------+------------------+----------+\n",
            "|null|  54190|  226552|223046|               NaN|      null|\n",
            "|null|  54190|  222674|117633| 4.466666666666667|      null|\n",
            "|null|  54190|  220350| 55668|               NaN|      null|\n",
            "|null|  54190|  228230|270101|               NaN|      null|\n",
            "|null|  54190|  219520| 32492|               NaN|      null|\n",
            "|null|  54190|  226446|220102|               NaN|      null|\n",
            "|null|  54190|  222903|123537|3.6785714285714284|      null|\n",
            "|null|  54190|  226152|211432|               NaN|      null|\n",
            "|null|  54190|  226101|209976|               NaN|      null|\n",
            "|null|  54190|  227523|250921|               NaN|      null|\n",
            "|null|  54190|  218491|  2440| 3.388888888888889|      null|\n",
            "|null|  54190|  223137|129869|               NaN|      null|\n",
            "|null|  54190|  226446|220102|               NaN|      null|\n",
            "|null|  54190|  224882|179209|               NaN|      null|\n",
            "|null|  54190|  222649|117113| 3.142857142857143|      null|\n",
            "|null|  54190|  220350| 55668|               NaN|      null|\n",
            "|null|  54190|  218870| 13792|               NaN|      null|\n",
            "|null|  54190|  226101|209976|               NaN|      null|\n",
            "|null|  54190|  222976|125606|               NaN|      null|\n",
            "|null|  54190|  223249|133330| 3.097315436241611|      null|\n",
            "+----+-------+--------+------+------------------+----------+\n",
            "only showing top 20 rows\n",
            "\n"
          ]
        },
        {
          "output_type": "execute_result",
          "data": {
            "text/plain": [
              "699110"
            ]
          },
          "metadata": {},
          "execution_count": 29
        }
      ],
      "source": [
        "tag_rating_pred = tag_pred.join(tag_rating,\n",
        "                                on = [\"tag\",\"movieId\"],\n",
        "                                how = \"left_outer\")\n",
        "tag_rating_pred.show()\n",
        "tag_rating_pred.count()"
      ]
    },
    {
      "cell_type": "code",
      "execution_count": null,
      "metadata": {
        "id": "0RIRQFXHVrTw",
        "colab": {
          "base_uri": "https://localhost:8080/"
        },
        "outputId": "f84cb870-2a7b-4d2e-e2ef-a2fabfe812d4"
      },
      "outputs": [
        {
          "output_type": "stream",
          "name": "stdout",
          "text": [
            "+----+-------+--------+------+------------------+----------+\n",
            "| tag|movieId|ratingId|userId|            rating|tag_rating|\n",
            "+----+-------+--------+------+------------------+----------+\n",
            "|null|  54190|  226552|223046|               NaN|      null|\n",
            "|null|  54190|  222674|117633| 4.466666666666667|      null|\n",
            "|null|  54190|  220350| 55668|               NaN|      null|\n",
            "|null|  54190|  228230|270101|               NaN|      null|\n",
            "|null|  54190|  219520| 32492|               NaN|      null|\n",
            "|null|  54190|  226446|220102|               NaN|      null|\n",
            "|null|  54190|  222903|123537|3.6785714285714284|      null|\n",
            "|null|  54190|  226152|211432|               NaN|      null|\n",
            "|null|  54190|  226101|209976|               NaN|      null|\n",
            "|null|  54190|  227523|250921|               NaN|      null|\n",
            "|null|  54190|  218491|  2440| 3.388888888888889|      null|\n",
            "|null|  54190|  223137|129869|               NaN|      null|\n",
            "|null|  54190|  226446|220102|               NaN|      null|\n",
            "|null|  54190|  224882|179209|               NaN|      null|\n",
            "|null|  54190|  222649|117113| 3.142857142857143|      null|\n",
            "|null|  54190|  220350| 55668|               NaN|      null|\n",
            "|null|  54190|  218870| 13792|               NaN|      null|\n",
            "|null|  54190|  226101|209976|               NaN|      null|\n",
            "|null|  54190|  222976|125606|               NaN|      null|\n",
            "|null|  54190|  223249|133330| 3.097315436241611|      null|\n",
            "+----+-------+--------+------+------------------+----------+\n",
            "only showing top 20 rows\n",
            "\n"
          ]
        },
        {
          "output_type": "execute_result",
          "data": {
            "text/plain": [
              "699110"
            ]
          },
          "metadata": {},
          "execution_count": 30
        }
      ],
      "source": [
        "tag_rating_pred = tag_rating_pred.withColumn(\"rating\",\n",
        "                                             f.when((f.col(\"rating\") == \"NaN\")&(f.col(\"tag_rating\").isNotNull()),\n",
        "                                                    tag_rating_pred.tag_rating).otherwise(tag_rating_pred[\"rating\"]))\n",
        "tag_rating_pred.show()\n",
        "tag_rating_pred.count()"
      ]
    },
    {
      "cell_type": "code",
      "execution_count": null,
      "metadata": {
        "id": "os9iovnnVrPH",
        "colab": {
          "base_uri": "https://localhost:8080/"
        },
        "outputId": "d757d523-e547-4764-fdb6-77e6d7070d49"
      },
      "outputs": [
        {
          "output_type": "stream",
          "name": "stdout",
          "text": [
            "+------+------------------+\n",
            "|userId|       user_rating|\n",
            "+------+------------------+\n",
            "|   471| 3.276595744680851|\n",
            "|  6658|3.4692307692307693|\n",
            "| 19553|3.6908212560386473|\n",
            "| 28088|3.5485436893203883|\n",
            "| 40335| 3.141509433962264|\n",
            "| 41946|3.0422535211267605|\n",
            "| 42834|             3.536|\n",
            "| 48254|3.3812154696132595|\n",
            "| 53634|            3.6125|\n",
            "| 53691|             3.465|\n",
            "| 54190| 3.566744730679157|\n",
            "| 57984|         4.3515625|\n",
            "| 64121|              3.47|\n",
            "| 64822| 3.934285714285714|\n",
            "| 70097|2.7945205479452055|\n",
            "| 74166| 3.986842105263158|\n",
            "| 78113| 2.974264705882353|\n",
            "| 95940| 3.327294685990338|\n",
            "|120988|3.2882882882882885|\n",
            "|121763| 1.962686567164179|\n",
            "+------+------------------+\n",
            "only showing top 20 rows\n",
            "\n"
          ]
        },
        {
          "output_type": "execute_result",
          "data": {
            "text/plain": [
              "8870"
            ]
          },
          "metadata": {},
          "execution_count": 31
        }
      ],
      "source": [
        "#Tinh trung binh rating theo tung nhom userId\n",
        "user_rating = training_data.groupby(\"userId\").agg(f.mean(f.col(\"rating\")).alias(\"user_rating\"))\n",
        "user_rating.show()\n",
        "user_rating.count()"
      ]
    },
    {
      "cell_type": "code",
      "execution_count": null,
      "metadata": {
        "id": "Hlw0Wm1KWESW",
        "colab": {
          "base_uri": "https://localhost:8080/"
        },
        "outputId": "78e0a128-7a5d-4b92-db38-cdae773b05c2"
      },
      "outputs": [
        {
          "output_type": "stream",
          "name": "stdout",
          "text": [
            "+------+----+-------+--------+------------------+----------+-----------------+\n",
            "|userId| tag|movieId|ratingId|            rating|tag_rating|      user_rating|\n",
            "+------+----+-------+--------+------------------+----------+-----------------+\n",
            "|   471|null|  68954|       2| 3.521733522415161|      null|3.276595744680851|\n",
            "|   471|null|  68954|       2| 3.521733522415161|      null|3.276595744680851|\n",
            "|   471|null|  68954|       2| 3.521733522415161|      null|3.276595744680851|\n",
            "|   471|null|  68954|       2| 3.521733522415161|      null|3.276595744680851|\n",
            "|   471|null|  58559|       1|3.5132784843444824|      null|3.276595744680851|\n",
            "|   471|null|  58559|       1|3.5132784843444824|      null|3.276595744680851|\n",
            "|   471|null|  58559|       1|3.5132784843444824|      null|3.276595744680851|\n",
            "|   471|null|  58559|       1|3.5132784843444824|      null|3.276595744680851|\n",
            "|   471|null| 106920|       7| 3.145341157913208|      null|3.276595744680851|\n",
            "|   471|null| 106920|       7| 3.145341157913208|      null|3.276595744680851|\n",
            "|   471|null| 106920|       7| 3.145341157913208|      null|3.276595744680851|\n",
            "|   471|null|  57368|       0| 2.688645601272583|      null|3.276595744680851|\n",
            "|   471|null|  57368|       0| 2.688645601272583|      null|3.276595744680851|\n",
            "|   471|null|  57368|       0| 2.688645601272583|      null|3.276595744680851|\n",
            "|   471|null|  57368|       0| 2.688645601272583|      null|3.276595744680851|\n",
            "|   471|null| 164179|      10| 3.518944263458252|      null|3.276595744680851|\n",
            "|   471|null|  97921|       6| 3.298774242401123|      null|3.276595744680851|\n",
            "|   471|null|  97921|       6| 3.298774242401123|      null|3.276595744680851|\n",
            "|   471|null|  76093|       3| 3.292022228240967|      null|3.276595744680851|\n",
            "|   471|null|  76093|       3| 3.292022228240967|      null|3.276595744680851|\n",
            "+------+----+-------+--------+------------------+----------+-----------------+\n",
            "only showing top 20 rows\n",
            "\n"
          ]
        },
        {
          "output_type": "execute_result",
          "data": {
            "text/plain": [
              "699110"
            ]
          },
          "metadata": {},
          "execution_count": 32
        }
      ],
      "source": [
        "user_rating_pred = tag_rating_pred.join(user_rating,on = \"userId\",how = \"left_outer\")\n",
        "user_rating_pred.show()\n",
        "user_rating_pred.count()"
      ]
    },
    {
      "cell_type": "code",
      "execution_count": null,
      "metadata": {
        "id": "73szkGqHVrYM",
        "colab": {
          "base_uri": "https://localhost:8080/"
        },
        "outputId": "faa78d32-5d3a-4dd7-9a0a-c61e0dfb98ce"
      },
      "outputs": [
        {
          "output_type": "stream",
          "name": "stdout",
          "text": [
            "+------+----+-------+--------+------------------+----------+-----------------+\n",
            "|userId| tag|movieId|ratingId|            rating|tag_rating|      user_rating|\n",
            "+------+----+-------+--------+------------------+----------+-----------------+\n",
            "|   471|null|  68954|       2| 3.521733522415161|      null|3.276595744680851|\n",
            "|   471|null|  68954|       2| 3.521733522415161|      null|3.276595744680851|\n",
            "|   471|null|  68954|       2| 3.521733522415161|      null|3.276595744680851|\n",
            "|   471|null|  68954|       2| 3.521733522415161|      null|3.276595744680851|\n",
            "|   471|null|  58559|       1|3.5132784843444824|      null|3.276595744680851|\n",
            "|   471|null|  58559|       1|3.5132784843444824|      null|3.276595744680851|\n",
            "|   471|null|  58559|       1|3.5132784843444824|      null|3.276595744680851|\n",
            "|   471|null|  58559|       1|3.5132784843444824|      null|3.276595744680851|\n",
            "|   471|null| 106920|       7| 3.145341157913208|      null|3.276595744680851|\n",
            "|   471|null| 106920|       7| 3.145341157913208|      null|3.276595744680851|\n",
            "|   471|null| 106920|       7| 3.145341157913208|      null|3.276595744680851|\n",
            "|   471|null|  57368|       0| 2.688645601272583|      null|3.276595744680851|\n",
            "|   471|null|  57368|       0| 2.688645601272583|      null|3.276595744680851|\n",
            "|   471|null|  57368|       0| 2.688645601272583|      null|3.276595744680851|\n",
            "|   471|null|  57368|       0| 2.688645601272583|      null|3.276595744680851|\n",
            "|   471|null| 164179|      10| 3.518944263458252|      null|3.276595744680851|\n",
            "|   471|null|  97921|       6| 3.298774242401123|      null|3.276595744680851|\n",
            "|   471|null|  97921|       6| 3.298774242401123|      null|3.276595744680851|\n",
            "|   471|null|  76093|       3| 3.292022228240967|      null|3.276595744680851|\n",
            "|   471|null|  76093|       3| 3.292022228240967|      null|3.276595744680851|\n",
            "+------+----+-------+--------+------------------+----------+-----------------+\n",
            "only showing top 20 rows\n",
            "\n"
          ]
        },
        {
          "output_type": "execute_result",
          "data": {
            "text/plain": [
              "699110"
            ]
          },
          "metadata": {},
          "execution_count": 33
        }
      ],
      "source": [
        "user_rating_pred = user_rating_pred.withColumn(\"rating\",\n",
        "                                               f.when((f.col(\"rating\") == \"NaN\")&(f.col(\"user_rating\").isNotNull()),\n",
        "                                                      user_rating_pred.user_rating).otherwise(user_rating_pred[\"rating\"]))\n",
        "user_rating_pred.show()\n",
        "user_rating_pred.count()"
      ]
    },
    {
      "cell_type": "code",
      "execution_count": null,
      "metadata": {
        "id": "vIZtJIHPVrc4",
        "colab": {
          "base_uri": "https://localhost:8080/"
        },
        "outputId": "3701a770-2be9-4a07-a130-a792f0e47ad7"
      },
      "outputs": [
        {
          "output_type": "stream",
          "name": "stdout",
          "text": [
            "+-------+------------------+\n",
            "|movieId|      movie_rating|\n",
            "+-------+------------------+\n",
            "|  96488| 3.934192672998643|\n",
            "|  68135|2.9404104183109707|\n",
            "| 139747|3.5134228187919465|\n",
            "| 160563|3.0233208955223883|\n",
            "|  96853|2.8333333333333335|\n",
            "| 175197| 2.701570680628272|\n",
            "|  76143| 3.413793103448276|\n",
            "| 176073|3.1923076923076925|\n",
            "| 141422| 3.388535031847134|\n",
            "|  57370|2.7837837837837838|\n",
            "| 166558|3.1666666666666665|\n",
            "| 109800|3.5416666666666665|\n",
            "| 156017|3.2222222222222223|\n",
            "| 133153|               2.4|\n",
            "| 124861| 3.840909090909091|\n",
            "|  96469|3.3846153846153846|\n",
            "| 162260|               4.0|\n",
            "| 162296|               2.0|\n",
            "|  97186|3.6578947368421053|\n",
            "|  99817|               3.7|\n",
            "+-------+------------------+\n",
            "only showing top 20 rows\n",
            "\n"
          ]
        },
        {
          "output_type": "execute_result",
          "data": {
            "text/plain": [
              "19332"
            ]
          },
          "metadata": {},
          "execution_count": 34
        }
      ],
      "source": [
        "#Tinh trung binh rating theo tung nhom movieId\n",
        "movie_rating = training_data.groupby(\"movieId\").agg(f.mean(f.col(\"rating\")).alias(\"movie_rating\"))\n",
        "movie_rating.show()\n",
        "movie_rating.count()"
      ]
    },
    {
      "cell_type": "code",
      "execution_count": null,
      "metadata": {
        "id": "arJsWG37Vrkz",
        "colab": {
          "base_uri": "https://localhost:8080/"
        },
        "outputId": "78777754-cd45-452f-8e9b-35ad0f228aff"
      },
      "outputs": [
        {
          "output_type": "stream",
          "name": "stdout",
          "text": [
            "+-------+------+----+--------+------------------+----------+------------------+------------+\n",
            "|movieId|userId| tag|ratingId|            rating|tag_rating|       user_rating|movie_rating|\n",
            "+-------+------+----+--------+------------------+----------+------------------+------------+\n",
            "|  54190| 50223|null|  220163|               NaN|      null|              null|        null|\n",
            "|  54190| 50223|null|  220163|               NaN|      null|              null|        null|\n",
            "|  54190| 50223|null|  220163|               NaN|      null|              null|        null|\n",
            "|  54190| 50223|null|  220163|               NaN|      null|              null|        null|\n",
            "|  54190| 92794|null|  221700|2.9444444444444446|      null|2.7404580152671754|        null|\n",
            "|  54190| 92794|null|  221700|             2.625|      null|2.7404580152671754|        null|\n",
            "|  54190| 92794|null|  221700| 2.888059701492537|      null|2.7404580152671754|        null|\n",
            "|  54190| 92794|null|  221700|               3.0|      null|2.7404580152671754|        null|\n",
            "|  54190| 95467|null|  221819|               NaN|      null|              null|        null|\n",
            "|  54190| 95467|null|  221819|               NaN|      null|              null|        null|\n",
            "|  54190| 95467|null|  221819|               NaN|      null|              null|        null|\n",
            "|  54190| 95467|null|  221819|               NaN|      null|              null|        null|\n",
            "|  54190|179209|null|  224882|               NaN|      null|              null|        null|\n",
            "|  54190|179209|null|  224882|               NaN|      null|              null|        null|\n",
            "|  54190|179209|null|  224882|               NaN|      null|              null|        null|\n",
            "|  54190|179209|null|  224882|               NaN|      null|              null|        null|\n",
            "|  54190|174785|null|  224731|               NaN|      null|              null|        null|\n",
            "|  54190|174785|null|  224731|               NaN|      null|              null|        null|\n",
            "|  54190|174785|null|  224731|               NaN|      null|              null|        null|\n",
            "|  54190|174785|null|  224731|               NaN|      null|              null|        null|\n",
            "+-------+------+----+--------+------------------+----------+------------------+------------+\n",
            "only showing top 20 rows\n",
            "\n"
          ]
        },
        {
          "output_type": "execute_result",
          "data": {
            "text/plain": [
              "699110"
            ]
          },
          "metadata": {},
          "execution_count": 35
        }
      ],
      "source": [
        "movie_rating_pred = user_rating_pred.join(movie_rating,on = \"movieId\",how = \"left_outer\")\n",
        "movie_rating_pred.show()\n",
        "movie_rating_pred.count()"
      ]
    },
    {
      "cell_type": "code",
      "execution_count": null,
      "metadata": {
        "id": "ed_40_uAVroE",
        "colab": {
          "base_uri": "https://localhost:8080/"
        },
        "outputId": "f8c571ea-17be-4b47-95cf-7b159dcbe74d"
      },
      "outputs": [
        {
          "output_type": "stream",
          "name": "stdout",
          "text": [
            "+-------+------+----+--------+------------------+----------+------------------+------------+\n",
            "|movieId|userId| tag|ratingId|            rating|tag_rating|       user_rating|movie_rating|\n",
            "+-------+------+----+--------+------------------+----------+------------------+------------+\n",
            "|  54190| 50223|null|  220163|               NaN|      null|              null|        null|\n",
            "|  54190| 50223|null|  220163|               NaN|      null|              null|        null|\n",
            "|  54190| 50223|null|  220163|               NaN|      null|              null|        null|\n",
            "|  54190| 50223|null|  220163|               NaN|      null|              null|        null|\n",
            "|  54190| 92794|null|  221700|2.9444444444444446|      null|2.7404580152671754|        null|\n",
            "|  54190| 92794|null|  221700|             2.625|      null|2.7404580152671754|        null|\n",
            "|  54190| 92794|null|  221700| 2.888059701492537|      null|2.7404580152671754|        null|\n",
            "|  54190| 92794|null|  221700|               3.0|      null|2.7404580152671754|        null|\n",
            "|  54190| 95467|null|  221819|               NaN|      null|              null|        null|\n",
            "|  54190| 95467|null|  221819|               NaN|      null|              null|        null|\n",
            "|  54190| 95467|null|  221819|               NaN|      null|              null|        null|\n",
            "|  54190| 95467|null|  221819|               NaN|      null|              null|        null|\n",
            "|  54190|179209|null|  224882|               NaN|      null|              null|        null|\n",
            "|  54190|179209|null|  224882|               NaN|      null|              null|        null|\n",
            "|  54190|179209|null|  224882|               NaN|      null|              null|        null|\n",
            "|  54190|179209|null|  224882|               NaN|      null|              null|        null|\n",
            "|  54190|174785|null|  224731|               NaN|      null|              null|        null|\n",
            "|  54190|174785|null|  224731|               NaN|      null|              null|        null|\n",
            "|  54190|174785|null|  224731|               NaN|      null|              null|        null|\n",
            "|  54190|174785|null|  224731|               NaN|      null|              null|        null|\n",
            "+-------+------+----+--------+------------------+----------+------------------+------------+\n",
            "only showing top 20 rows\n",
            "\n"
          ]
        },
        {
          "output_type": "execute_result",
          "data": {
            "text/plain": [
              "699110"
            ]
          },
          "metadata": {},
          "execution_count": 36
        }
      ],
      "source": [
        "movie_rating_pred = movie_rating_pred.withColumn(\"rating\",\n",
        "                                                 f.when((f.col(\"rating\") == \"NaN\")&(f.col(\"movie_rating\").isNotNull()),\n",
        "                                                        movie_rating_pred.movie_rating).otherwise(movie_rating_pred[\"rating\"]))\n",
        "movie_rating_pred.show()\n",
        "movie_rating_pred.count()"
      ]
    },
    {
      "cell_type": "code",
      "execution_count": null,
      "metadata": {
        "id": "TvQs6roqVrhU",
        "colab": {
          "base_uri": "https://localhost:8080/"
        },
        "outputId": "4bf0d1b1-fac1-49e7-8e78-d405aa39bd22"
      },
      "outputs": [
        {
          "output_type": "stream",
          "name": "stdout",
          "text": [
            "+--------+------------------+\n",
            "|ratingId|            rating|\n",
            "+--------+------------------+\n",
            "|   31035| 2.546381711959839|\n",
            "|   55155| 4.131705284118652|\n",
            "|   97419| 3.672532081604004|\n",
            "|   10817|3.2172927856445312|\n",
            "|   87120| 3.880873203277588|\n",
            "|   15619|2.4686973094940186|\n",
            "|   59355|2.5683367252349854|\n",
            "|  197890|1.7258273363113403|\n",
            "|  126373|3.5900206565856934|\n",
            "|  156017|3.5659642219543457|\n",
            "|   29285| 2.999251127243042|\n",
            "|  103357|0.8804675340652466|\n",
            "|  175197| 3.885437250137329|\n",
            "|  138920|2.9416871070861816|\n",
            "|  227152|3.6265120967741935|\n",
            "|    3175| 3.464491605758667|\n",
            "|   31528| 3.300706624984741|\n",
            "|   94950| 2.678312301635742|\n",
            "|  195367| 2.931645154953003|\n",
            "|   20924|1.9416104555130005|\n",
            "+--------+------------------+\n",
            "only showing top 20 rows\n",
            "\n"
          ]
        },
        {
          "output_type": "execute_result",
          "data": {
            "text/plain": [
              "228750"
            ]
          },
          "metadata": {},
          "execution_count": 37
        }
      ],
      "source": [
        "final = movie_rating_pred.groupby(\"ratingId\").agg(f.mean(f.col(\"rating\")).alias(\"rating\"))\n",
        "final.show()\n",
        "final.count()"
      ]
    },
    {
      "cell_type": "markdown",
      "metadata": {
        "id": "4kVJzaWaZEpw"
      },
      "source": [
        "### Final Result"
      ]
    },
    {
      "cell_type": "code",
      "execution_count": null,
      "metadata": {
        "id": "sjcIHLv6Vrrj",
        "colab": {
          "base_uri": "https://localhost:8080/"
        },
        "outputId": "f7929f33-c5ba-486e-ee73-e21970fef557"
      },
      "outputs": [
        {
          "output_type": "stream",
          "name": "stdout",
          "text": [
            "3.4625665115147357\n"
          ]
        }
      ],
      "source": [
        "mean = training_data.groupby(\"userId\").agg(f.mean(f.col(\"rating\")).alias(\"rating\")).agg({\"rating\":\"mean\"}).collect()[0][\"avg(rating)\"]\n",
        "print(mean)"
      ]
    },
    {
      "cell_type": "code",
      "execution_count": null,
      "metadata": {
        "id": "9nYbME4fVrvR",
        "colab": {
          "base_uri": "https://localhost:8080/"
        },
        "outputId": "6e52392e-225e-4c6b-ecec-13d5e32cddf5"
      },
      "outputs": [
        {
          "output_type": "stream",
          "name": "stdout",
          "text": [
            "2.9625665115147357\n"
          ]
        }
      ],
      "source": [
        "random = np.random.choice(np.arange(mean-1,mean+1,0.5))\n",
        "print(random)"
      ]
    },
    {
      "cell_type": "code",
      "execution_count": null,
      "metadata": {
        "id": "lGqIV3ucVryw",
        "colab": {
          "base_uri": "https://localhost:8080/"
        },
        "outputId": "5ef81659-67cf-4251-9e4c-3e7fd02b30f4"
      },
      "outputs": [
        {
          "output_type": "stream",
          "name": "stdout",
          "text": [
            "+--------+------------------+\n",
            "|ratingId|            rating|\n",
            "+--------+------------------+\n",
            "|   31035| 2.546381711959839|\n",
            "|   55155| 4.131705284118652|\n",
            "|   97419| 3.672532081604004|\n",
            "|   10817|3.2172927856445312|\n",
            "|   87120| 3.880873203277588|\n",
            "|   15619|2.4686973094940186|\n",
            "|   59355|2.5683367252349854|\n",
            "|  197890|1.7258273363113403|\n",
            "|  126373|3.5900206565856934|\n",
            "|  156017|3.5659642219543457|\n",
            "|   29285| 2.999251127243042|\n",
            "|  103357|0.8804675340652466|\n",
            "|  175197| 3.885437250137329|\n",
            "|  138920|2.9416871070861816|\n",
            "|  227152|3.6265120967741935|\n",
            "|    3175| 3.464491605758667|\n",
            "|   31528| 3.300706624984741|\n",
            "|   94950| 2.678312301635742|\n",
            "|  195367| 2.931645154953003|\n",
            "|   20924|1.9416104555130005|\n",
            "+--------+------------------+\n",
            "only showing top 20 rows\n",
            "\n"
          ]
        },
        {
          "output_type": "execute_result",
          "data": {
            "text/plain": [
              "228750"
            ]
          },
          "metadata": {},
          "execution_count": 40
        }
      ],
      "source": [
        "final = final.withColumn(\"rating\",\n",
        "                         f.when(final[\"rating\"] < 0, 0.0).when(f.col(\"rating\") == \"NaN\",mean).otherwise(final[\"rating\"]))\n",
        "final.show()\n",
        "final.count()"
      ]
    },
    {
      "cell_type": "code",
      "execution_count": null,
      "metadata": {
        "id": "id8Tss8HVr2a"
      },
      "outputs": [],
      "source": [
        "final_df = final.toPandas()\n",
        "def Scale(df):\n",
        "    for i in range(df.shape[0]):\n",
        "        j = df.iloc[i,1]\n",
        "        k = int(j)\n",
        "        if (j-k) < 0.25:\n",
        "            df.iloc[i,1] = k\n",
        "        else:\n",
        "            if (j-k) < 0.75:\n",
        "                df.iloc[i,1] = k + 0.5\n",
        "            else:\n",
        "                df.iloc[i,1] = k + 1\n",
        "    return df\n",
        "#final_df = Scale(final_df)\n",
        "final_df.loc[final_df.rating > 5.0,\"rating\"] = 5.0"
      ]
    },
    {
      "cell_type": "code",
      "execution_count": null,
      "metadata": {
        "id": "_LCK9hk5Vr6c"
      },
      "outputs": [],
      "source": [
        "final_df.to_csv(\"submission.csv\",index = 0, header = True)"
      ]
    },
    {
      "cell_type": "code",
      "execution_count": null,
      "metadata": {
        "id": "rjlsBD4HVr92",
        "colab": {
          "base_uri": "https://localhost:8080/",
          "height": 488
        },
        "outputId": "0a812c5a-1c3f-4632-cde2-9d881d40a91b"
      },
      "outputs": [
        {
          "output_type": "execute_result",
          "data": {
            "text/plain": [
              "        ratingId    rating\n",
              "0          31035  2.546382\n",
              "1          55155  4.131705\n",
              "2          97419  3.672532\n",
              "3          10817  3.217293\n",
              "4          87120  3.880873\n",
              "...          ...       ...\n",
              "228745    195486  3.877161\n",
              "228746    227123  3.462567\n",
              "228747     82180  3.416496\n",
              "228748    143190  4.332587\n",
              "228749    132142  2.715725\n",
              "\n",
              "[228750 rows x 2 columns]"
            ],
            "text/html": [
              "\n",
              "  <div id=\"df-24d3659c-a85a-40b2-80d3-5690403011b4\">\n",
              "    <div class=\"colab-df-container\">\n",
              "      <div>\n",
              "<style scoped>\n",
              "    .dataframe tbody tr th:only-of-type {\n",
              "        vertical-align: middle;\n",
              "    }\n",
              "\n",
              "    .dataframe tbody tr th {\n",
              "        vertical-align: top;\n",
              "    }\n",
              "\n",
              "    .dataframe thead th {\n",
              "        text-align: right;\n",
              "    }\n",
              "</style>\n",
              "<table border=\"1\" class=\"dataframe\">\n",
              "  <thead>\n",
              "    <tr style=\"text-align: right;\">\n",
              "      <th></th>\n",
              "      <th>ratingId</th>\n",
              "      <th>rating</th>\n",
              "    </tr>\n",
              "  </thead>\n",
              "  <tbody>\n",
              "    <tr>\n",
              "      <th>0</th>\n",
              "      <td>31035</td>\n",
              "      <td>2.546382</td>\n",
              "    </tr>\n",
              "    <tr>\n",
              "      <th>1</th>\n",
              "      <td>55155</td>\n",
              "      <td>4.131705</td>\n",
              "    </tr>\n",
              "    <tr>\n",
              "      <th>2</th>\n",
              "      <td>97419</td>\n",
              "      <td>3.672532</td>\n",
              "    </tr>\n",
              "    <tr>\n",
              "      <th>3</th>\n",
              "      <td>10817</td>\n",
              "      <td>3.217293</td>\n",
              "    </tr>\n",
              "    <tr>\n",
              "      <th>4</th>\n",
              "      <td>87120</td>\n",
              "      <td>3.880873</td>\n",
              "    </tr>\n",
              "    <tr>\n",
              "      <th>...</th>\n",
              "      <td>...</td>\n",
              "      <td>...</td>\n",
              "    </tr>\n",
              "    <tr>\n",
              "      <th>228745</th>\n",
              "      <td>195486</td>\n",
              "      <td>3.877161</td>\n",
              "    </tr>\n",
              "    <tr>\n",
              "      <th>228746</th>\n",
              "      <td>227123</td>\n",
              "      <td>3.462567</td>\n",
              "    </tr>\n",
              "    <tr>\n",
              "      <th>228747</th>\n",
              "      <td>82180</td>\n",
              "      <td>3.416496</td>\n",
              "    </tr>\n",
              "    <tr>\n",
              "      <th>228748</th>\n",
              "      <td>143190</td>\n",
              "      <td>4.332587</td>\n",
              "    </tr>\n",
              "    <tr>\n",
              "      <th>228749</th>\n",
              "      <td>132142</td>\n",
              "      <td>2.715725</td>\n",
              "    </tr>\n",
              "  </tbody>\n",
              "</table>\n",
              "<p>228750 rows × 2 columns</p>\n",
              "</div>\n",
              "      <button class=\"colab-df-convert\" onclick=\"convertToInteractive('df-24d3659c-a85a-40b2-80d3-5690403011b4')\"\n",
              "              title=\"Convert this dataframe to an interactive table.\"\n",
              "              style=\"display:none;\">\n",
              "        \n",
              "  <svg xmlns=\"http://www.w3.org/2000/svg\" height=\"24px\"viewBox=\"0 0 24 24\"\n",
              "       width=\"24px\">\n",
              "    <path d=\"M0 0h24v24H0V0z\" fill=\"none\"/>\n",
              "    <path d=\"M18.56 5.44l.94 2.06.94-2.06 2.06-.94-2.06-.94-.94-2.06-.94 2.06-2.06.94zm-11 1L8.5 8.5l.94-2.06 2.06-.94-2.06-.94L8.5 2.5l-.94 2.06-2.06.94zm10 10l.94 2.06.94-2.06 2.06-.94-2.06-.94-.94-2.06-.94 2.06-2.06.94z\"/><path d=\"M17.41 7.96l-1.37-1.37c-.4-.4-.92-.59-1.43-.59-.52 0-1.04.2-1.43.59L10.3 9.45l-7.72 7.72c-.78.78-.78 2.05 0 2.83L4 21.41c.39.39.9.59 1.41.59.51 0 1.02-.2 1.41-.59l7.78-7.78 2.81-2.81c.8-.78.8-2.07 0-2.86zM5.41 20L4 18.59l7.72-7.72 1.47 1.35L5.41 20z\"/>\n",
              "  </svg>\n",
              "      </button>\n",
              "      \n",
              "  <style>\n",
              "    .colab-df-container {\n",
              "      display:flex;\n",
              "      flex-wrap:wrap;\n",
              "      gap: 12px;\n",
              "    }\n",
              "\n",
              "    .colab-df-convert {\n",
              "      background-color: #E8F0FE;\n",
              "      border: none;\n",
              "      border-radius: 50%;\n",
              "      cursor: pointer;\n",
              "      display: none;\n",
              "      fill: #1967D2;\n",
              "      height: 32px;\n",
              "      padding: 0 0 0 0;\n",
              "      width: 32px;\n",
              "    }\n",
              "\n",
              "    .colab-df-convert:hover {\n",
              "      background-color: #E2EBFA;\n",
              "      box-shadow: 0px 1px 2px rgba(60, 64, 67, 0.3), 0px 1px 3px 1px rgba(60, 64, 67, 0.15);\n",
              "      fill: #174EA6;\n",
              "    }\n",
              "\n",
              "    [theme=dark] .colab-df-convert {\n",
              "      background-color: #3B4455;\n",
              "      fill: #D2E3FC;\n",
              "    }\n",
              "\n",
              "    [theme=dark] .colab-df-convert:hover {\n",
              "      background-color: #434B5C;\n",
              "      box-shadow: 0px 1px 3px 1px rgba(0, 0, 0, 0.15);\n",
              "      filter: drop-shadow(0px 1px 2px rgba(0, 0, 0, 0.3));\n",
              "      fill: #FFFFFF;\n",
              "    }\n",
              "  </style>\n",
              "\n",
              "      <script>\n",
              "        const buttonEl =\n",
              "          document.querySelector('#df-24d3659c-a85a-40b2-80d3-5690403011b4 button.colab-df-convert');\n",
              "        buttonEl.style.display =\n",
              "          google.colab.kernel.accessAllowed ? 'block' : 'none';\n",
              "\n",
              "        async function convertToInteractive(key) {\n",
              "          const element = document.querySelector('#df-24d3659c-a85a-40b2-80d3-5690403011b4');\n",
              "          const dataTable =\n",
              "            await google.colab.kernel.invokeFunction('convertToInteractive',\n",
              "                                                     [key], {});\n",
              "          if (!dataTable) return;\n",
              "\n",
              "          const docLinkHtml = 'Like what you see? Visit the ' +\n",
              "            '<a target=\"_blank\" href=https://colab.research.google.com/notebooks/data_table.ipynb>data table notebook</a>'\n",
              "            + ' to learn more about interactive tables.';\n",
              "          element.innerHTML = '';\n",
              "          dataTable['output_type'] = 'display_data';\n",
              "          await google.colab.output.renderOutput(dataTable, element);\n",
              "          const docLink = document.createElement('div');\n",
              "          docLink.innerHTML = docLinkHtml;\n",
              "          element.appendChild(docLink);\n",
              "        }\n",
              "      </script>\n",
              "    </div>\n",
              "  </div>\n",
              "  "
            ]
          },
          "metadata": {},
          "execution_count": 43
        }
      ],
      "source": [
        "final_df"
      ]
    },
    {
      "cell_type": "code",
      "execution_count": null,
      "metadata": {
        "id": "uE8Kqk32QwF1"
      },
      "outputs": [],
      "source": [
        ""
      ]
    },
    {
      "cell_type": "code",
      "execution_count": null,
      "metadata": {
        "id": "ho8D8Isq104b"
      },
      "outputs": [],
      "source": [
        ""
      ]
    }
  ],
  "metadata": {
    "colab": {
      "collapsed_sections": [
        "atEuesrX1gry",
        "rd4of2D31xEH",
        "raMGLiVS4OuO",
        "58osCSf34Q0z",
        "lDxVsnNP4SxM"
      ],
      "name": "Assignment 05 - Team 03.ipynb",
      "toc_visible": true,
      "provenance": []
    },
    "kernelspec": {
      "display_name": "Python 3",
      "name": "python3"
    },
    "language_info": {
      "name": "python"
    }
  },
  "nbformat": 4,
  "nbformat_minor": 0
}